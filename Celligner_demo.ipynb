{
 "cells": [
  {
   "cell_type": "code",
   "execution_count": 2,
   "metadata": {
    "ExecuteTime": {
     "end_time": "2021-09-15T21:24:31.129593Z",
     "start_time": "2021-09-15T21:24:09.017888Z"
    }
   },
   "outputs": [
    {
     "name": "stderr",
     "output_type": "stream",
     "text": [
      "/home/jeremie/miniconda3/lib/python3.7/site-packages/sklearn/utils/deprecation.py:143: FutureWarning: The sklearn.linear_model.base module is  deprecated in version 0.22 and will be removed in version 0.24. The corresponding classes / functions should instead be imported from sklearn.linear_model. Anything that cannot be imported from sklearn.linear_model is now part of the private API.\n",
      "  warnings.warn(message, FutureWarning)\n"
     ]
    },
    {
     "ename": "ImportError",
     "evalue": "cannot import name 'Parallel' from 'sklearn.utils' (/home/jeremie/miniconda3/lib/python3.7/site-packages/sklearn/utils/__init__.py)",
     "output_type": "error",
     "traceback": [
      "\u001b[0;31m----------------------------------------------------\u001b[0m",
      "\u001b[0;31mImportError\u001b[0m        Traceback (most recent call last)",
      "\u001b[0;32m<ipython-input-2-f1b0af324fff>\u001b[0m in \u001b[0;36m<module>\u001b[0;34m\u001b[0m\n\u001b[1;32m      2\u001b[0m \u001b[0;34m\u001b[0m\u001b[0m\n\u001b[1;32m      3\u001b[0m \u001b[0;32mfrom\u001b[0m \u001b[0mtaigapy\u001b[0m \u001b[0;32mimport\u001b[0m \u001b[0mTaigaClient\u001b[0m\u001b[0;34m\u001b[0m\u001b[0;34m\u001b[0m\u001b[0m\n\u001b[0;32m----> 4\u001b[0;31m \u001b[0;32mfrom\u001b[0m \u001b[0mcelligner\u001b[0m \u001b[0;32mimport\u001b[0m \u001b[0mCelligner\u001b[0m\u001b[0;34m\u001b[0m\u001b[0;34m\u001b[0m\u001b[0m\n\u001b[0m\u001b[1;32m      5\u001b[0m \u001b[0mtc\u001b[0m \u001b[0;34m=\u001b[0m \u001b[0mTaigaClient\u001b[0m\u001b[0;34m(\u001b[0m\u001b[0;34m)\u001b[0m\u001b[0;34m\u001b[0m\u001b[0;34m\u001b[0m\u001b[0m\n\u001b[1;32m      6\u001b[0m \u001b[0;32mfrom\u001b[0m \u001b[0mbokeh\u001b[0m\u001b[0;34m.\u001b[0m\u001b[0mplotting\u001b[0m \u001b[0;32mimport\u001b[0m \u001b[0moutput_notebook\u001b[0m\u001b[0;34m\u001b[0m\u001b[0;34m\u001b[0m\u001b[0m\n",
      "\u001b[0;32m~/celligner/celligner/__init__.py\u001b[0m in \u001b[0;36m<module>\u001b[0;34m\u001b[0m\n\u001b[1;32m      1\u001b[0m \u001b[0;31m# Celligner\u001b[0m\u001b[0;34m\u001b[0m\u001b[0;34m\u001b[0m\u001b[0;34m\u001b[0m\u001b[0m\n\u001b[1;32m      2\u001b[0m \u001b[0;32mfrom\u001b[0m \u001b[0msklearn\u001b[0m\u001b[0;34m.\u001b[0m\u001b[0mlinear_model\u001b[0m\u001b[0;34m.\u001b[0m\u001b[0mbase\u001b[0m \u001b[0;32mimport\u001b[0m \u001b[0mmake_dataset\u001b[0m\u001b[0;34m\u001b[0m\u001b[0;34m\u001b[0m\u001b[0m\n\u001b[0;32m----> 3\u001b[0;31m \u001b[0;32mfrom\u001b[0m \u001b[0msklearn\u001b[0m\u001b[0;34m.\u001b[0m\u001b[0mutils\u001b[0m \u001b[0;32mimport\u001b[0m \u001b[0mParallel\u001b[0m\u001b[0;34m\u001b[0m\u001b[0;34m\u001b[0m\u001b[0m\n\u001b[0m\u001b[1;32m      4\u001b[0m \u001b[0;32mfrom\u001b[0m \u001b[0mcelligner\u001b[0m\u001b[0;34m.\u001b[0m\u001b[0mparams\u001b[0m \u001b[0;32mimport\u001b[0m \u001b[0;34m*\u001b[0m\u001b[0;34m\u001b[0m\u001b[0;34m\u001b[0m\u001b[0m\n\u001b[1;32m      5\u001b[0m \u001b[0;32mfrom\u001b[0m \u001b[0mgenepy\u001b[0m\u001b[0;34m.\u001b[0m\u001b[0mutils\u001b[0m \u001b[0;32mimport\u001b[0m \u001b[0mhelper\u001b[0m \u001b[0;32mas\u001b[0m \u001b[0mh\u001b[0m\u001b[0;34m\u001b[0m\u001b[0;34m\u001b[0m\u001b[0m\n",
      "\u001b[0;31mImportError\u001b[0m: cannot import name 'Parallel' from 'sklearn.utils' (/home/jeremie/miniconda3/lib/python3.7/site-packages/sklearn/utils/__init__.py)"
     ]
    }
   ],
   "source": [
    "from genepy.utils import helper as h\n",
    "\n",
    "from taigapy import TaigaClient\n",
    "from celligner import Celligner\n",
    "tc = TaigaClient()\n",
    "from bokeh.plotting import output_notebook\n",
    "from depmapomics import tracker as track\n",
    "#autoreload\n",
    "%load_ext autoreload\n",
    "%autoreload 2\n",
    "output_notebook()"
   ]
  },
  {
   "cell_type": "code",
   "execution_count": null,
   "metadata": {
    "ExecuteTime": {
     "end_time": "2021-09-15T21:24:31.138145Z",
     "start_time": "2021-09-15T21:24:17.232Z"
    }
   },
   "outputs": [],
   "source": [
    "# load from taiga public (figshare link)\n",
    "# load internal expression,\n",
    "CCLE_expression = tc.get(name='internal-21q3-fe4c',\n",
    "                         file='CCLE_expression_full')  # https://depmap.org/portal/download/\n",
    "# load  TCGA expression\n",
    "# this dataset was generated from  ,using this script: \n",
    "TCGA_expression = tc.get(name='celligner-input-9827',\n",
    "                         file='tumor_expression')"
   ]
  },
  {
   "cell_type": "code",
   "execution_count": null,
   "metadata": {
    "ExecuteTime": {
     "end_time": "2021-09-15T21:24:31.141116Z",
     "start_time": "2021-09-15T21:24:18.148Z"
    }
   },
   "outputs": [],
   "source": [
    "# subset gene names to ensembl ids only\n",
    "CCLE_expression = CCLE_expression[CCLE_expression.columns[:-92]]\n",
    "CCLE_expression.columns = list(map(lambda x: x.split(\n",
    "    ' (')[1][:-1] if ' (' in x else x, CCLE_expression.columns))\n",
    "\n",
    "common = set(CCLE_expression.columns).intersection(\n",
    "    set(TCGA_expression.columns))\n",
    "CCLE_expression = CCLE_expression[list(common)]\n",
    "TCGA_expression = TCGA_expression[list(common)]"
   ]
  },
  {
   "cell_type": "code",
   "execution_count": null,
   "metadata": {
    "ExecuteTime": {
     "end_time": "2021-09-15T21:24:31.134816Z",
     "start_time": "2021-09-15T21:24:13.229Z"
    }
   },
   "outputs": [],
   "source": [
    "# loading annotations\n",
    "CCLE_annotation = track.getTracker()\n",
    "TCGA_annotation = tc.get(name='celligner-input-9827',\n",
    "                         file='tumor_annotations')"
   ]
  },
  {
   "cell_type": "code",
   "execution_count": null,
   "metadata": {},
   "outputs": [],
   "source": [
    "# transforming annotations"
   ]
  },
  {
   "cell_type": "code",
   "execution_count": 39,
   "metadata": {
    "ExecuteTime": {
     "end_time": "2021-09-02T00:14:58.860462Z",
     "start_time": "2021-09-02T00:14:10.896931Z"
    },
    "scrolled": true
   },
   "outputs": [
    {
     "name": "stdout",
     "output_type": "stream",
     "text": [
      "fetching gene names from biomart cache\n",
      "using only usefull genes\n",
      "looking at 500 samples.\n",
      "found 29593 common genes\n",
      "creating a fit dataset..\n",
      "reducing dimensionality...\n",
      "clustering...\n"
     ]
    },
    {
     "data": {
      "text/html": [
       "\n",
       "\n",
       "\n",
       "\n",
       "\n",
       "\n",
       "  <div class=\"bk-root\" id=\"fb34602d-773e-4ae5-b5f1-ab6a312c009e\" data-root-id=\"4652\"></div>\n"
      ]
     },
     "metadata": {},
     "output_type": "display_data"
    },
    {
     "data": {
      "application/javascript": [
       "(function(root) {\n",
       "  function embed_document(root) {\n",
       "    \n",
       "  var docs_json = {\"e90feeca-e73f-4ad0-aa73-45633e3c475a\":{\"defs\":[],\"roots\":{\"references\":[{\"attributes\":{\"below\":[{\"id\":\"4663\"}],\"center\":[{\"id\":\"4666\"},{\"id\":\"4670\"}],\"left\":[{\"id\":\"4667\"}],\"output_backend\":\"svg\",\"renderers\":[{\"id\":\"4704\"}],\"title\":{\"id\":\"4653\"},\"toolbar\":{\"id\":\"4687\"},\"x_range\":{\"id\":\"4655\"},\"x_scale\":{\"id\":\"4659\"},\"y_range\":{\"id\":\"4657\"},\"y_scale\":{\"id\":\"4661\"}},\"id\":\"4652\",\"subtype\":\"Figure\",\"type\":\"Plot\"},{\"attributes\":{\"callback\":null,\"tooltips\":[[\"(x,y)\",\"(@x, @y)\"],[\"label\",\"@labels\"]]},\"id\":\"4671\",\"type\":\"HoverTool\"},{\"attributes\":{},\"id\":\"4672\",\"type\":\"CrosshairTool\"},{\"attributes\":{},\"id\":\"4903\",\"type\":\"BasicTickFormatter\"},{\"attributes\":{},\"id\":\"4673\",\"type\":\"PanTool\"},{\"attributes\":{\"text\":\"SNN clusters\"},\"id\":\"4653\",\"type\":\"Title\"},{\"attributes\":{},\"id\":\"4904\",\"type\":\"AllLabels\"},{\"attributes\":{},\"id\":\"4674\",\"type\":\"WheelZoomTool\"},{\"attributes\":{},\"id\":\"4655\",\"type\":\"DataRange1d\"},{\"attributes\":{},\"id\":\"4675\",\"type\":\"ZoomInTool\"},{\"attributes\":{},\"id\":\"4657\",\"type\":\"DataRange1d\"},{\"attributes\":{},\"id\":\"4676\",\"type\":\"ZoomOutTool\"},{\"attributes\":{},\"id\":\"4659\",\"type\":\"LinearScale\"},{\"attributes\":{\"overlay\":{\"id\":\"4685\"}},\"id\":\"4677\",\"type\":\"BoxZoomTool\"},{\"attributes\":{},\"id\":\"4661\",\"type\":\"LinearScale\"},{\"attributes\":{},\"id\":\"4678\",\"type\":\"UndoTool\"},{\"attributes\":{\"fill_alpha\":{\"value\":0.1},\"fill_color\":{\"field\":\"fill_color\"},\"line_alpha\":{\"value\":0.1},\"line_color\":{\"field\":\"fill_color\"},\"line_width\":{\"value\":0},\"radius\":{\"field\":\"radius\"},\"x\":{\"field\":\"x\"},\"y\":{\"field\":\"y\"}},\"id\":\"4703\",\"type\":\"Circle\"},{\"attributes\":{\"axis_label\":\"UMAP1\",\"formatter\":{\"id\":\"4903\"},\"major_label_policy\":{\"id\":\"4904\"},\"ticker\":{\"id\":\"4664\"}},\"id\":\"4663\",\"type\":\"LinearAxis\"},{\"attributes\":{},\"id\":\"4679\",\"type\":\"RedoTool\"},{\"attributes\":{},\"id\":\"4664\",\"type\":\"BasicTicker\"},{\"attributes\":{},\"id\":\"4680\",\"type\":\"ResetTool\"},{\"attributes\":{\"axis\":{\"id\":\"4663\"},\"ticker\":null},\"id\":\"4666\",\"type\":\"Grid\"},{\"attributes\":{},\"id\":\"4681\",\"type\":\"SaveTool\"},{\"attributes\":{\"data\":{\"fill_alpha\":[0.8,0.8,0.8,0.8,0.8,0.8,0.8,0.8,0.8,0.8,0.8,0.8,0.8,0.8,0.8,0.8,0.8,0.8,0.8,0.8,0.8,0.8,0.8,0.8,0.8,0.8,0.8,0.8,0.8,0.8,0.8,0.8,0.8,0.8,0.8,0.8,0.8,0.8,0.8,0.8,0.8,0.8,0.8,0.8,0.8,0.8,0.8,0.8,0.8,0.8,0.8,0.8,0.8,0.8,0.8,0.8,0.8,0.8,0.8,0.8,0.8,0.8,0.8,0.8,0.8,0.8,0.8,0.8,0.8,0.8,0.8,0.8,0.8,0.8,0.8,0.8,0.8,0.8,0.8,0.8,0.8,0.8,0.8,0.8,0.8,0.8,0.8,0.8,0.8,0.8,0.8,0.8,0.8,0.8,0.8,0.8,0.8,0.8,0.8,0.8,0.8,0.8,0.8,0.8,0.8,0.8,0.8,0.8,0.8,0.8,0.8,0.8,0.8,0.8,0.8,0.8,0.8,0.8,0.8,0.8,0.8,0.8,0.8,0.8,0.8,0.8,0.8,0.8,0.8,0.8,0.8,0.8,0.8,0.8,0.8,0.8,0.8,0.8,0.8,0.8,0.8,0.8,0.8,0.8,0.8,0.8,0.8,0.8,0.8,0.8,0.8,0.8,0.8,0.8,0.8,0.8,0.8,0.8,0.8,0.8,0.8,0.8,0.8,0.8,0.8,0.8,0.8,0.8,0.8,0.8,0.8,0.8,0.8,0.8,0.8,0.8,0.8,0.8,0.8,0.8,0.8,0.8,0.8,0.8,0.8,0.8,0.8,0.8,0.8,0.8,0.8,0.8,0.8,0.8,0.8,0.8,0.8,0.8,0.8,0.8,0.8,0.8,0.8,0.8,0.8,0.8,0.8,0.8,0.8,0.8,0.8,0.8,0.8,0.8,0.8,0.8,0.8,0.8,0.8,0.8,0.8,0.8,0.8,0.8,0.8,0.8,0.8,0.8,0.8,0.8,0.8,0.8,0.8,0.8,0.8,0.8,0.8,0.8,0.8,0.8,0.8,0.8,0.8,0.8,0.8,0.8,0.8,0.8,0.8,0.8,0.8,0.8,0.8,0.8,0.8,0.8,0.8,0.8,0.8,0.8,0.8,0.8,0.8,0.8,0.8,0.8,0.8,0.8,0.8,0.8,0.8,0.8,0.8,0.8,0.8,0.8,0.8,0.8,0.8,0.8,0.8,0.8,0.8,0.8,0.8,0.8,0.8,0.8,0.8,0.8,0.8,0.8,0.8,0.8,0.8,0.8,0.8,0.8,0.8,0.8,0.8,0.8,0.8,0.8,0.8,0.8,0.8,0.8,0.8,0.8,0.8,0.8,0.8,0.8,0.8,0.8,0.8,0.8,0.8,0.8,0.8,0.8,0.8,0.8,0.8,0.8,0.8,0.8,0.8,0.8,0.8,0.8,0.8,0.8,0.8,0.8,0.8,0.8,0.8,0.8,0.8,0.8,0.8,0.8,0.8,0.8,0.8,0.8,0.8,0.8,0.8,0.8,0.8,0.8,0.8,0.8,0.8,0.8,0.8,0.8,0.8,0.8,0.8,0.8,0.8,0.8,0.8,0.8,0.8,0.8,0.8,0.8,0.8,0.8,0.8,0.8,0.8,0.8,0.8,0.8,0.8,0.8,0.8,0.8,0.8,0.8,0.8,0.8,0.8,0.8,0.8,0.8,0.8,0.8,0.8,0.8,0.8,0.8,0.8,0.8,0.8,0.8,0.8,0.8,0.8,0.8,0.8,0.8,0.8,0.8,0.8,0.8,0.8,0.8,0.8,0.8,0.8,0.8,0.8,0.8,0.8,0.8,0.8,0.8,0.8,0.8,0.8,0.8,0.8,0.8,0.8,0.8,0.8,0.8,0.8,0.8,0.8,0.8,0.8,0.8,0.8,0.8,0.8,0.8,0.8,0.8,0.8,0.8,0.8,0.8,0.8,0.8,0.8,0.8,0.8,0.8,0.8,0.8,0.8,0.8,0.8,0.8,0.8,0.8,0.8,0.8,0.8,0.8,0.8,0.8,0.8,0.8,0.8,0.8,0.8,0.8,0.8,0.8,0.8,0.8,0.8,0.8,0.8,0.8,0.8,0.8,0.8,0.8,0.8,0.8,0.8,0.8,0.8,0.8,0.8,0.8,0.8,0.8,0.8,0.8],\"fill_color\":[\"#440154\",\"#208F8C\",\"#440154\",\"#208F8C\",\"#440154\",\"#208F8C\",\"#440154\",\"#208F8C\",\"#208F8C\",\"#208F8C\",\"#208F8C\",\"#208F8C\",\"#208F8C\",\"#208F8C\",\"#208F8C\",\"#208F8C\",\"#208F8C\",\"#208F8C\",\"#208F8C\",\"#208F8C\",\"#208F8C\",\"#208F8C\",\"#208F8C\",\"#208F8C\",\"#208F8C\",\"#208F8C\",\"#208F8C\",\"#208F8C\",\"#208F8C\",\"#208F8C\",\"#208F8C\",\"#208F8C\",\"#208F8C\",\"#208F8C\",\"#208F8C\",\"#208F8C\",\"#440154\",\"#208F8C\",\"#208F8C\",\"#440154\",\"#208F8C\",\"#208F8C\",\"#208F8C\",\"#208F8C\",\"#440154\",\"#208F8C\",\"#440154\",\"#440154\",\"#208F8C\",\"#208F8C\",\"#208F8C\",\"#208F8C\",\"#440154\",\"#208F8C\",\"#208F8C\",\"#208F8C\",\"#208F8C\",\"#440154\",\"#FDE724\",\"#440154\",\"#440154\",\"#208F8C\",\"#208F8C\",\"#208F8C\",\"#440154\",\"#208F8C\",\"#440154\",\"#208F8C\",\"#440154\",\"#440154\",\"#208F8C\",\"#208F8C\",\"#208F8C\",\"#440154\",\"#208F8C\",\"#440154\",\"#440154\",\"#208F8C\",\"#440154\",\"#208F8C\",\"#440154\",\"#208F8C\",\"#208F8C\",\"#208F8C\",\"#440154\",\"#440154\",\"#208F8C\",\"#208F8C\",\"#208F8C\",\"#208F8C\",\"#440154\",\"#440154\",\"#208F8C\",\"#208F8C\",\"#208F8C\",\"#208F8C\",\"#440154\",\"#440154\",\"#208F8C\",\"#440154\",\"#440154\",\"#440154\",\"#440154\",\"#440154\",\"#208F8C\",\"#208F8C\",\"#208F8C\",\"#208F8C\",\"#208F8C\",\"#208F8C\",\"#440154\",\"#208F8C\",\"#440154\",\"#208F8C\",\"#208F8C\",\"#208F8C\",\"#440154\",\"#208F8C\",\"#208F8C\",\"#440154\",\"#440154\",\"#208F8C\",\"#208F8C\",\"#208F8C\",\"#440154\",\"#208F8C\",\"#440154\",\"#208F8C\",\"#208F8C\",\"#208F8C\",\"#208F8C\",\"#208F8C\",\"#440154\",\"#208F8C\",\"#440154\",\"#440154\",\"#208F8C\",\"#208F8C\",\"#208F8C\",\"#208F8C\",\"#208F8C\",\"#440154\",\"#208F8C\",\"#208F8C\",\"#208F8C\",\"#208F8C\",\"#208F8C\",\"#208F8C\",\"#440154\",\"#208F8C\",\"#208F8C\",\"#440154\",\"#208F8C\",\"#440154\",\"#208F8C\",\"#208F8C\",\"#208F8C\",\"#208F8C\",\"#208F8C\",\"#208F8C\",\"#208F8C\",\"#208F8C\",\"#208F8C\",\"#208F8C\",\"#208F8C\",\"#208F8C\",\"#208F8C\",\"#208F8C\",\"#208F8C\",\"#440154\",\"#208F8C\",\"#440154\",\"#440154\",\"#208F8C\",\"#208F8C\",\"#208F8C\",\"#208F8C\",\"#440154\",\"#208F8C\",\"#440154\",\"#208F8C\",\"#440154\",\"#208F8C\",\"#208F8C\",\"#208F8C\",\"#440154\",\"#208F8C\",\"#208F8C\",\"#208F8C\",\"#208F8C\",\"#208F8C\",\"#440154\",\"#208F8C\",\"#208F8C\",\"#440154\",\"#208F8C\",\"#440154\",\"#440154\",\"#208F8C\",\"#440154\",\"#208F8C\",\"#440154\",\"#208F8C\",\"#440154\",\"#FDE724\",\"#440154\",\"#208F8C\",\"#440154\",\"#208F8C\",\"#208F8C\",\"#440154\",\"#208F8C\",\"#440154\",\"#208F8C\",\"#440154\",\"#208F8C\",\"#208F8C\",\"#208F8C\",\"#440154\",\"#208F8C\",\"#440154\",\"#208F8C\",\"#440154\",\"#440154\",\"#208F8C\",\"#208F8C\",\"#440154\",\"#208F8C\",\"#208F8C\",\"#440154\",\"#208F8C\",\"#440154\",\"#208F8C\",\"#440154\",\"#208F8C\",\"#208F8C\",\"#440154\",\"#440154\",\"#208F8C\",\"#208F8C\",\"#440154\",\"#440154\",\"#208F8C\",\"#440154\",\"#208F8C\",\"#208F8C\",\"#208F8C\",\"#208F8C\",\"#208F8C\",\"#208F8C\",\"#440154\",\"#208F8C\",\"#208F8C\",\"#208F8C\",\"#440154\",\"#208F8C\",\"#208F8C\",\"#208F8C\",\"#208F8C\",\"#208F8C\",\"#208F8C\",\"#440154\",\"#208F8C\",\"#440154\",\"#208F8C\",\"#208F8C\",\"#208F8C\",\"#208F8C\",\"#208F8C\",\"#208F8C\",\"#208F8C\",\"#FDE724\",\"#208F8C\",\"#440154\",\"#440154\",\"#208F8C\",\"#208F8C\",\"#208F8C\",\"#440154\",\"#208F8C\",\"#440154\",\"#208F8C\",\"#208F8C\",\"#208F8C\",\"#208F8C\",\"#208F8C\",\"#208F8C\",\"#208F8C\",\"#440154\",\"#208F8C\",\"#208F8C\",\"#440154\",\"#440154\",\"#440154\",\"#440154\",\"#440154\",\"#208F8C\",\"#208F8C\",\"#208F8C\",\"#208F8C\",\"#208F8C\",\"#440154\",\"#208F8C\",\"#440154\",\"#208F8C\",\"#208F8C\",\"#208F8C\",\"#208F8C\",\"#208F8C\",\"#208F8C\",\"#440154\",\"#208F8C\",\"#208F8C\",\"#208F8C\",\"#208F8C\",\"#208F8C\",\"#208F8C\",\"#208F8C\",\"#208F8C\",\"#208F8C\",\"#440154\",\"#440154\",\"#208F8C\",\"#208F8C\",\"#208F8C\",\"#440154\",\"#208F8C\",\"#208F8C\",\"#208F8C\",\"#208F8C\",\"#440154\",\"#440154\",\"#208F8C\",\"#208F8C\",\"#208F8C\",\"#440154\",\"#208F8C\",\"#440154\",\"#208F8C\",\"#208F8C\",\"#440154\",\"#208F8C\",\"#440154\",\"#208F8C\",\"#208F8C\",\"#208F8C\",\"#208F8C\",\"#440154\",\"#208F8C\",\"#208F8C\",\"#208F8C\",\"#208F8C\",\"#208F8C\",\"#208F8C\",\"#440154\",\"#440154\",\"#208F8C\",\"#440154\",\"#208F8C\",\"#208F8C\",\"#208F8C\",\"#208F8C\",\"#208F8C\",\"#208F8C\",\"#440154\",\"#208F8C\",\"#208F8C\",\"#208F8C\",\"#440154\",\"#440154\",\"#208F8C\",\"#208F8C\",\"#208F8C\",\"#208F8C\",\"#208F8C\",\"#208F8C\",\"#208F8C\",\"#208F8C\",\"#208F8C\",\"#208F8C\",\"#208F8C\",\"#208F8C\",\"#440154\",\"#440154\",\"#440154\",\"#440154\",\"#208F8C\",\"#440154\",\"#208F8C\",\"#208F8C\",\"#208F8C\",\"#208F8C\",\"#440154\",\"#208F8C\",\"#440154\",\"#440154\",\"#440154\",\"#208F8C\",\"#208F8C\",\"#208F8C\",\"#208F8C\",\"#208F8C\",\"#208F8C\",\"#208F8C\",\"#208F8C\",\"#440154\",\"#440154\",\"#208F8C\",\"#208F8C\",\"#208F8C\",\"#208F8C\",\"#208F8C\",\"#208F8C\",\"#208F8C\",\"#440154\",\"#208F8C\",\"#208F8C\",\"#440154\",\"#440154\",\"#FDE724\",\"#208F8C\",\"#208F8C\",\"#440154\",\"#208F8C\",\"#208F8C\",\"#208F8C\",\"#208F8C\",\"#440154\",\"#208F8C\",\"#440154\",\"#208F8C\",\"#440154\",\"#208F8C\",\"#208F8C\",\"#440154\",\"#440154\",\"#208F8C\",\"#208F8C\",\"#440154\",\"#208F8C\",\"#208F8C\",\"#208F8C\",\"#440154\",\"#440154\",\"#208F8C\",\"#208F8C\",\"#208F8C\",\"#440154\",\"#208F8C\",\"#208F8C\",\"#208F8C\",\"#208F8C\",\"#440154\",\"#440154\",\"#440154\",\"#208F8C\",\"#208F8C\",\"#208F8C\",\"#208F8C\",\"#440154\",\"#208F8C\",\"#208F8C\",\"#208F8C\",\"#440154\",\"#208F8C\",\"#208F8C\",\"#208F8C\",\"#440154\",\"#208F8C\",\"#208F8C\",\"#440154\",\"#208F8C\",\"#208F8C\",\"#208F8C\",\"#440154\",\"#208F8C\",\"#208F8C\",\"#208F8C\",\"#440154\",\"#440154\",\"#208F8C\",\"#208F8C\",\"#208F8C\",\"#208F8C\",\"#440154\",\"#208F8C\",\"#208F8C\",\"#208F8C\",\"#208F8C\",\"#440154\",\"#208F8C\",\"#208F8C\",\"#208F8C\",\"#440154\",\"#208F8C\",\"#440154\",\"#208F8C\",\"#208F8C\",\"#208F8C\",\"#208F8C\"],\"labels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radius\":[0.1,0.1,0.1,0.1,0.1,0.1,0.1,0.1,0.1,0.1,0.1,0.1,0.1,0.1,0.1,0.1,0.1,0.1,0.1,0.1,0.1,0.1,0.1,0.1,0.1,0.1,0.1,0.1,0.1,0.1,0.1,0.1,0.1,0.1,0.1,0.1,0.1,0.1,0.1,0.1,0.1,0.1,0.1,0.1,0.1,0.1,0.1,0.1,0.1,0.1,0.1,0.1,0.1,0.1,0.1,0.1,0.1,0.1,0.1,0.1,0.1,0.1,0.1,0.1,0.1,0.1,0.1,0.1,0.1,0.1,0.1,0.1,0.1,0.1,0.1,0.1,0.1,0.1,0.1,0.1,0.1,0.1,0.1,0.1,0.1,0.1,0.1,0.1,0.1,0.1,0.1,0.1,0.1,0.1,0.1,0.1,0.1,0.1,0.1,0.1,0.1,0.1,0.1,0.1,0.1,0.1,0.1,0.1,0.1,0.1,0.1,0.1,0.1,0.1,0.1,0.1,0.1,0.1,0.1,0.1,0.1,0.1,0.1,0.1,0.1,0.1,0.1,0.1,0.1,0.1,0.1,0.1,0.1,0.1,0.1,0.1,0.1,0.1,0.1,0.1,0.1,0.1,0.1,0.1,0.1,0.1,0.1,0.1,0.1,0.1,0.1,0.1,0.1,0.1,0.1,0.1,0.1,0.1,0.1,0.1,0.1,0.1,0.1,0.1,0.1,0.1,0.1,0.1,0.1,0.1,0.1,0.1,0.1,0.1,0.1,0.1,0.1,0.1,0.1,0.1,0.1,0.1,0.1,0.1,0.1,0.1,0.1,0.1,0.1,0.1,0.1,0.1,0.1,0.1,0.1,0.1,0.1,0.1,0.1,0.1,0.1,0.1,0.1,0.1,0.1,0.1,0.1,0.1,0.1,0.1,0.1,0.1,0.1,0.1,0.1,0.1,0.1,0.1,0.1,0.1,0.1,0.1,0.1,0.1,0.1,0.1,0.1,0.1,0.1,0.1,0.1,0.1,0.1,0.1,0.1,0.1,0.1,0.1,0.1,0.1,0.1,0.1,0.1,0.1,0.1,0.1,0.1,0.1,0.1,0.1,0.1,0.1,0.1,0.1,0.1,0.1,0.1,0.1,0.1,0.1,0.1,0.1,0.1,0.1,0.1,0.1,0.1,0.1,0.1,0.1,0.1,0.1,0.1,0.1,0.1,0.1,0.1,0.1,0.1,0.1,0.1,0.1,0.1,0.1,0.1,0.1,0.1,0.1,0.1,0.1,0.1,0.1,0.1,0.1,0.1,0.1,0.1,0.1,0.1,0.1,0.1,0.1,0.1,0.1,0.1,0.1,0.1,0.1,0.1,0.1,0.1,0.1,0.1,0.1,0.1,0.1,0.1,0.1,0.1,0.1,0.1,0.1,0.1,0.1,0.1,0.1,0.1,0.1,0.1,0.1,0.1,0.1,0.1,0.1,0.1,0.1,0.1,0.1,0.1,0.1,0.1,0.1,0.1,0.1,0.1,0.1,0.1,0.1,0.1,0.1,0.1,0.1,0.1,0.1,0.1,0.1,0.1,0.1,0.1,0.1,0.1,0.1,0.1,0.1,0.1,0.1,0.1,0.1,0.1,0.1,0.1,0.1,0.1,0.1,0.1,0.1,0.1,0.1,0.1,0.1,0.1,0.1,0.1,0.1,0.1,0.1,0.1,0.1,0.1,0.1,0.1,0.1,0.1,0.1,0.1,0.1,0.1,0.1,0.1,0.1,0.1,0.1,0.1,0.1,0.1,0.1,0.1,0.1,0.1,0.1,0.1,0.1,0.1,0.1,0.1,0.1,0.1,0.1,0.1,0.1,0.1,0.1,0.1,0.1,0.1,0.1,0.1,0.1,0.1,0.1,0.1,0.1,0.1,0.1,0.1,0.1,0.1,0.1,0.1,0.1,0.1,0.1,0.1,0.1,0.1,0.1,0.1,0.1,0.1,0.1,0.1,0.1,0.1,0.1,0.1,0.1,0.1,0.1,0.1,0.1,0.1,0.1,0.1,0.1,0.1,0.1,0.1,0.1,0.1,0.1,0.1,0.1,0.1,0.1,0.1,0.1,0.1,0.1,0.1,0.1,0.1,0.1,0.1,0.1,0.1,0.1,0.1,0.1,0.1,0.1,0.1,0.1,0.1,0.1,0.1,0.1,0.1,0.1,0.1,0.1],\"x\":{\"__ndarray__\":\"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\",\"dtype\":\"float32\",\"order\":\"little\",\"shape\":[500]},\"y\":{\"__ndarray__\":\"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\",\"dtype\":\"float32\",\"order\":\"little\",\"shape\":[500]}},\"selected\":{\"id\":\"4908\"},\"selection_policy\":{\"id\":\"4909\"}},\"id\":\"4651\",\"type\":\"ColumnDataSource\"},{\"attributes\":{\"axis_label\":\"UMAP2\",\"formatter\":{\"id\":\"4900\"},\"major_label_policy\":{\"id\":\"4901\"},\"ticker\":{\"id\":\"4668\"}},\"id\":\"4667\",\"type\":\"LinearAxis\"},{\"attributes\":{\"overlay\":{\"id\":\"4684\"}},\"id\":\"4682\",\"type\":\"BoxSelectTool\"},{\"attributes\":{},\"id\":\"4668\",\"type\":\"BasicTicker\"},{\"attributes\":{\"overlay\":{\"id\":\"4686\"}},\"id\":\"4683\",\"type\":\"LassoSelectTool\"},{\"attributes\":{\"axis\":{\"id\":\"4667\"},\"dimension\":1,\"ticker\":null},\"id\":\"4670\",\"type\":\"Grid\"},{\"attributes\":{\"active_multi\":null,\"tools\":[{\"id\":\"4671\"},{\"id\":\"4672\"},{\"id\":\"4673\"},{\"id\":\"4674\"},{\"id\":\"4675\"},{\"id\":\"4676\"},{\"id\":\"4677\"},{\"id\":\"4678\"},{\"id\":\"4679\"},{\"id\":\"4680\"},{\"id\":\"4681\"},{\"id\":\"4682\"},{\"id\":\"4683\"}]},\"id\":\"4687\",\"type\":\"Toolbar\"},{\"attributes\":{\"data_source\":{\"id\":\"4651\"},\"glyph\":{\"id\":\"4702\"},\"hover_glyph\":null,\"muted_glyph\":null,\"nonselection_glyph\":{\"id\":\"4703\"},\"view\":{\"id\":\"4705\"}},\"id\":\"4704\",\"type\":\"GlyphRenderer\"},{\"attributes\":{\"bottom_units\":\"screen\",\"fill_alpha\":0.5,\"fill_color\":\"lightgrey\",\"left_units\":\"screen\",\"level\":\"overlay\",\"line_alpha\":1.0,\"line_color\":\"black\",\"line_dash\":[4,4],\"line_width\":2,\"right_units\":\"screen\",\"syncable\":false,\"top_units\":\"screen\"},\"id\":\"4685\",\"type\":\"BoxAnnotation\"},{\"attributes\":{\"fill_alpha\":{\"field\":\"fill_alpha\"},\"fill_color\":{\"field\":\"fill_color\"},\"line_color\":{\"field\":\"fill_color\"},\"line_width\":{\"value\":0},\"radius\":{\"field\":\"radius\"},\"x\":{\"field\":\"x\"},\"y\":{\"field\":\"y\"}},\"id\":\"4702\",\"type\":\"Circle\"},{\"attributes\":{\"bottom_units\":\"screen\",\"fill_alpha\":0.5,\"fill_color\":\"lightgrey\",\"left_units\":\"screen\",\"level\":\"overlay\",\"line_alpha\":1.0,\"line_color\":\"black\",\"line_dash\":[4,4],\"line_width\":2,\"right_units\":\"screen\",\"syncable\":false,\"top_units\":\"screen\"},\"id\":\"4684\",\"type\":\"BoxAnnotation\"},{\"attributes\":{},\"id\":\"4900\",\"type\":\"BasicTickFormatter\"},{\"attributes\":{\"fill_alpha\":0.5,\"fill_color\":\"lightgrey\",\"level\":\"overlay\",\"line_alpha\":1.0,\"line_color\":\"black\",\"line_dash\":[4,4],\"line_width\":2,\"syncable\":false,\"xs_units\":\"screen\",\"ys_units\":\"screen\"},\"id\":\"4686\",\"type\":\"PolyAnnotation\"},{\"attributes\":{\"source\":{\"id\":\"4651\"}},\"id\":\"4705\",\"type\":\"CDSView\"},{\"attributes\":{},\"id\":\"4901\",\"type\":\"AllLabels\"},{\"attributes\":{},\"id\":\"4908\",\"type\":\"Selection\"},{\"attributes\":{},\"id\":\"4909\",\"type\":\"UnionRenderers\"}],\"root_ids\":[\"4652\"]},\"title\":\"Bokeh Application\",\"version\":\"2.3.3\"}};\n",
       "  var render_items = [{\"docid\":\"e90feeca-e73f-4ad0-aa73-45633e3c475a\",\"root_ids\":[\"4652\"],\"roots\":{\"4652\":\"fb34602d-773e-4ae5-b5f1-ab6a312c009e\"}}];\n",
       "  root.Bokeh.embed.embed_items_notebook(docs_json, render_items);\n",
       "\n",
       "  }\n",
       "  if (root.Bokeh !== undefined) {\n",
       "    embed_document(root);\n",
       "  } else {\n",
       "    var attempts = 0;\n",
       "    var timer = setInterval(function(root) {\n",
       "      if (root.Bokeh !== undefined) {\n",
       "        clearInterval(timer);\n",
       "        embed_document(root);\n",
       "      } else {\n",
       "        attempts++;\n",
       "        if (attempts > 100) {\n",
       "          clearInterval(timer);\n",
       "          console.log(\"Bokeh: ERROR: Unable to run BokehJS code because BokehJS library is missing\");\n",
       "        }\n",
       "      }\n",
       "    }, 10, root)\n",
       "  }\n",
       "})(window);"
      ],
      "application/vnd.bokehjs_exec.v0+json": ""
     },
     "metadata": {
      "application/vnd.bokehjs_exec.v0+json": {
       "id": "4652"
      }
     },
     "output_type": "display_data"
    },
    {
     "name": "stdout",
     "output_type": "stream",
     "text": [
      "doing differential expression analysis on the clusters\n",
      "running differential expression on 3 clusters\n",
      "running limmapy on the samples\n",
      "you need to have R installed with the limma library installed\n",
      "3.2.1\n",
      "done\n"
     ]
    },
    {
     "data": {
      "text/plain": [
       "<celligner.Celligner at 0x7f5c6d7a9198>"
      ]
     },
     "execution_count": 39,
     "metadata": {},
     "output_type": "execute_result"
    }
   ],
   "source": [
    "my_alligner = Celligner(snn_kwargs={\"neighbor_num\": 30, \"min_shared_neighbor_proportion\": 1/15,}, make_plots=True)\n",
    "\n",
    "my_alligner.fit(TCGA_expression, TCGA_annotation)"
   ]
  },
  {
   "cell_type": "code",
   "execution_count": 42,
   "metadata": {
    "ExecuteTime": {
     "end_time": "2021-09-02T00:27:13.973128Z",
     "start_time": "2021-09-02T00:27:05.876050Z"
    }
   },
   "outputs": [
    {
     "name": "stdout",
     "output_type": "stream",
     "text": [
      "found 29593 common genes\n",
      "adding to predict..\n",
      "reducing dimensionality...\n",
      "clustering..\n",
      "doing differential expression analysis on the clusters..\n",
      "running differential expression on 3 clusters\n",
      "running limmapy on the samples\n",
      "you need to have R installed with the limma library installed\n",
      "3.2.1\n"
     ]
    },
    {
     "ename": "KeyboardInterrupt",
     "evalue": "",
     "output_type": "error",
     "traceback": [
      "\u001b[0;31m------------------------------------------------------------------------\u001b[0m",
      "\u001b[0;31mTypeError\u001b[0m                              Traceback (most recent call last)",
      "\u001b[0;32m~/miniconda3/lib/python3.7/site-packages/rpy2/rinterface_lib/sexp.py\u001b[0m in \u001b[0;36mfrom_object\u001b[0;34m(cls, obj)\u001b[0m\n\u001b[1;32m    367\u001b[0m         \u001b[0;32mtry\u001b[0m\u001b[0;34m:\u001b[0m\u001b[0;34m\u001b[0m\u001b[0;34m\u001b[0m\u001b[0m\n\u001b[0;32m--> 368\u001b[0;31m             \u001b[0mmv\u001b[0m \u001b[0;34m=\u001b[0m \u001b[0mmemoryview\u001b[0m\u001b[0;34m(\u001b[0m\u001b[0mobj\u001b[0m\u001b[0;34m)\u001b[0m\u001b[0;34m\u001b[0m\u001b[0;34m\u001b[0m\u001b[0m\n\u001b[0m\u001b[1;32m    369\u001b[0m             \u001b[0mres\u001b[0m \u001b[0;34m=\u001b[0m \u001b[0mcls\u001b[0m\u001b[0;34m.\u001b[0m\u001b[0mfrom_memoryview\u001b[0m\u001b[0;34m(\u001b[0m\u001b[0mmv\u001b[0m\u001b[0;34m)\u001b[0m\u001b[0;34m\u001b[0m\u001b[0;34m\u001b[0m\u001b[0m\n",
      "\u001b[0;31mTypeError\u001b[0m: memoryview: a bytes-like object is required, not 'tuple'",
      "\nDuring handling of the above exception, another exception occurred:\n",
      "\u001b[0;31mKeyboardInterrupt\u001b[0m                      Traceback (most recent call last)",
      "\u001b[0;32m<ipython-input-42-924c8cd20f20>\u001b[0m in \u001b[0;36m<module>\u001b[0;34m\u001b[0m\n\u001b[0;32m----> 1\u001b[0;31m \u001b[0mmy_alligner\u001b[0m\u001b[0;34m.\u001b[0m\u001b[0mpredict\u001b[0m\u001b[0;34m(\u001b[0m\u001b[0mCCLE_expression\u001b[0m\u001b[0;34m.\u001b[0m\u001b[0miloc\u001b[0m\u001b[0;34m[\u001b[0m\u001b[0;34m:\u001b[0m\u001b[0;36m200\u001b[0m\u001b[0;34m]\u001b[0m\u001b[0;34m)\u001b[0m\u001b[0;34m\u001b[0m\u001b[0;34m\u001b[0m\u001b[0m\n\u001b[0m",
      "\u001b[0;32m~/celligner/celligner/__init__.py\u001b[0m in \u001b[0;36mpredict\u001b[0;34m(self, X_pression, annotations, return_predict)\u001b[0m\n\u001b[1;32m    322\u001b[0m                                              data=self.predict_input.var(axis=1))\n\u001b[1;32m    323\u001b[0m     \u001b[0;32melse\u001b[0m\u001b[0;34m:\u001b[0m\u001b[0;34m\u001b[0m\u001b[0;34m\u001b[0m\u001b[0m\n\u001b[0;32m--> 324\u001b[0;31m       \u001b[0mdifferential_genes\u001b[0m \u001b[0;34m=\u001b[0m \u001b[0mrunDiffExprOnCluster\u001b[0m\u001b[0;34m(\u001b[0m\u001b[0mself\u001b[0m\u001b[0;34m.\u001b[0m\u001b[0mpredict_input\u001b[0m\u001b[0;34m,\u001b[0m \u001b[0mself\u001b[0m\u001b[0;34m.\u001b[0m\u001b[0mpredict_clusters\u001b[0m\u001b[0;34m)\u001b[0m\u001b[0;34m\u001b[0m\u001b[0;34m\u001b[0m\u001b[0m\n\u001b[0m\u001b[1;32m    325\u001b[0m       \u001b[0mdifferential_genes\u001b[0m\u001b[0;34m.\u001b[0m\u001b[0mlog2FoldChange\u001b[0m \u001b[0;34m=\u001b[0m \u001b[0mdifferential_genes\u001b[0m\u001b[0;34m.\u001b[0m\u001b[0mlog2FoldChange\u001b[0m\u001b[0;34m.\u001b[0m\u001b[0mabs\u001b[0m\u001b[0;34m(\u001b[0m\u001b[0;34m)\u001b[0m\u001b[0;34m\u001b[0m\u001b[0;34m\u001b[0m\u001b[0m\n\u001b[1;32m    326\u001b[0m       \u001b[0;31m# need enough genes to be significant\u001b[0m\u001b[0;34m\u001b[0m\u001b[0;34m\u001b[0m\u001b[0;34m\u001b[0m\u001b[0m\n",
      "\u001b[0;32m~/celligner/celligner/__init__.py\u001b[0m in \u001b[0;36mrunDiffExprOnCluster\u001b[0;34m(expression, clustered, clust_covariates, pvalue_threshold)\u001b[0m\n\u001b[1;32m     80\u001b[0m   \u001b[0;31m# running limmapy\u001b[0m\u001b[0;34m\u001b[0m\u001b[0;34m\u001b[0m\u001b[0;34m\u001b[0m\u001b[0m\n\u001b[1;32m     81\u001b[0m   \u001b[0mprint\u001b[0m\u001b[0;34m(\u001b[0m\u001b[0;34m\"running limmapy on the samples\"\u001b[0m\u001b[0;34m)\u001b[0m\u001b[0;34m\u001b[0m\u001b[0;34m\u001b[0m\u001b[0m\n\u001b[0;32m---> 82\u001b[0;31m   res = limma.limmapy().lmFit(data, design_matrix).eBayes(trend=False).topTable(\n\u001b[0m\u001b[1;32m     83\u001b[0m       number=1_000_000_000,).iloc[:,len(clusts):]\n\u001b[1;32m     84\u001b[0m   \u001b[0;32mreturn\u001b[0m \u001b[0mres\u001b[0m\u001b[0;34m.\u001b[0m\u001b[0msort_values\u001b[0m\u001b[0;34m(\u001b[0m\u001b[0mby\u001b[0m\u001b[0;34m=\u001b[0m\u001b[0;34m'F'\u001b[0m\u001b[0;34m)\u001b[0m\u001b[0;34m\u001b[0m\u001b[0;34m\u001b[0m\u001b[0m\n",
      "\u001b[0;32m~/celligner/celligner/limma.py\u001b[0m in \u001b[0;36mlmFit\u001b[0;34m(self, count_matrix, design_matrix, **kwargs)\u001b[0m\n\u001b[1;32m     50\u001b[0m     \"\"\"\n\u001b[1;32m     51\u001b[0m     \u001b[0;32mwith\u001b[0m \u001b[0mlocalconverter\u001b[0m\u001b[0;34m(\u001b[0m\u001b[0mro\u001b[0m\u001b[0;34m.\u001b[0m\u001b[0mdefault_converter\u001b[0m \u001b[0;34m+\u001b[0m \u001b[0mpandas2ri\u001b[0m\u001b[0;34m.\u001b[0m\u001b[0mconverter\u001b[0m\u001b[0;34m)\u001b[0m\u001b[0;34m:\u001b[0m\u001b[0;34m\u001b[0m\u001b[0;34m\u001b[0m\u001b[0m\n\u001b[0;32m---> 52\u001b[0;31m       \u001b[0mcount_matrix\u001b[0m \u001b[0;34m=\u001b[0m \u001b[0mpandas2ri\u001b[0m\u001b[0;34m.\u001b[0m\u001b[0mpy2rpy\u001b[0m\u001b[0;34m(\u001b[0m\u001b[0mcount_matrix\u001b[0m\u001b[0;34m.\u001b[0m\u001b[0mastype\u001b[0m\u001b[0;34m(\u001b[0m\u001b[0mint\u001b[0m\u001b[0;34m)\u001b[0m\u001b[0;34m)\u001b[0m\u001b[0;34m\u001b[0m\u001b[0;34m\u001b[0m\u001b[0m\n\u001b[0m\u001b[1;32m     53\u001b[0m       \u001b[0mdesign_matrix\u001b[0m \u001b[0;34m=\u001b[0m \u001b[0mpandas2ri\u001b[0m\u001b[0;34m.\u001b[0m\u001b[0mpy2rpy\u001b[0m\u001b[0;34m(\u001b[0m\u001b[0mdesign_matrix\u001b[0m\u001b[0;34m.\u001b[0m\u001b[0mastype\u001b[0m\u001b[0;34m(\u001b[0m\u001b[0mint\u001b[0m\u001b[0;34m)\u001b[0m\u001b[0;34m)\u001b[0m\u001b[0;34m\u001b[0m\u001b[0;34m\u001b[0m\u001b[0m\n\u001b[1;32m     54\u001b[0m     \u001b[0mself\u001b[0m\u001b[0;34m.\u001b[0m\u001b[0mfit\u001b[0m \u001b[0;34m=\u001b[0m \u001b[0mlimma\u001b[0m\u001b[0;34m.\u001b[0m\u001b[0mlmFit\u001b[0m\u001b[0;34m(\u001b[0m\u001b[0mcount_matrix\u001b[0m\u001b[0;34m,\u001b[0m \u001b[0mdesign_matrix\u001b[0m\u001b[0;34m,\u001b[0m \u001b[0;34m**\u001b[0m\u001b[0mkwargs\u001b[0m\u001b[0;34m)\u001b[0m\u001b[0;34m\u001b[0m\u001b[0;34m\u001b[0m\u001b[0m\n",
      "\u001b[0;32m~/miniconda3/lib/python3.7/functools.py\u001b[0m in \u001b[0;36mwrapper\u001b[0;34m(*args, **kw)\u001b[0m\n\u001b[1;32m    825\u001b[0m                             '1 positional argument')\n\u001b[1;32m    826\u001b[0m \u001b[0;34m\u001b[0m\u001b[0m\n\u001b[0;32m--> 827\u001b[0;31m         \u001b[0;32mreturn\u001b[0m \u001b[0mdispatch\u001b[0m\u001b[0;34m(\u001b[0m\u001b[0margs\u001b[0m\u001b[0;34m[\u001b[0m\u001b[0;36m0\u001b[0m\u001b[0;34m]\u001b[0m\u001b[0;34m.\u001b[0m\u001b[0m__class__\u001b[0m\u001b[0;34m)\u001b[0m\u001b[0;34m(\u001b[0m\u001b[0;34m*\u001b[0m\u001b[0margs\u001b[0m\u001b[0;34m,\u001b[0m \u001b[0;34m**\u001b[0m\u001b[0mkw\u001b[0m\u001b[0;34m)\u001b[0m\u001b[0;34m\u001b[0m\u001b[0;34m\u001b[0m\u001b[0m\n\u001b[0m\u001b[1;32m    828\u001b[0m \u001b[0;34m\u001b[0m\u001b[0m\n\u001b[1;32m    829\u001b[0m     \u001b[0mfuncname\u001b[0m \u001b[0;34m=\u001b[0m \u001b[0mgetattr\u001b[0m\u001b[0;34m(\u001b[0m\u001b[0mfunc\u001b[0m\u001b[0;34m,\u001b[0m \u001b[0;34m'__name__'\u001b[0m\u001b[0;34m,\u001b[0m \u001b[0;34m'singledispatch function'\u001b[0m\u001b[0;34m)\u001b[0m\u001b[0;34m\u001b[0m\u001b[0;34m\u001b[0m\u001b[0m\n",
      "\u001b[0;32m~/miniconda3/lib/python3.7/site-packages/rpy2/robjects/pandas2ri.py\u001b[0m in \u001b[0;36mpy2rpy_pandasdataframe\u001b[0;34m(obj)\u001b[0m\n\u001b[1;32m     53\u001b[0m     \u001b[0;32mfor\u001b[0m \u001b[0mname\u001b[0m\u001b[0;34m,\u001b[0m \u001b[0mvalues\u001b[0m \u001b[0;32min\u001b[0m \u001b[0mobj\u001b[0m\u001b[0;34m.\u001b[0m\u001b[0miteritems\u001b[0m\u001b[0;34m(\u001b[0m\u001b[0;34m)\u001b[0m\u001b[0;34m:\u001b[0m\u001b[0;34m\u001b[0m\u001b[0;34m\u001b[0m\u001b[0m\n\u001b[1;32m     54\u001b[0m         \u001b[0;32mtry\u001b[0m\u001b[0;34m:\u001b[0m\u001b[0;34m\u001b[0m\u001b[0;34m\u001b[0m\u001b[0m\n\u001b[0;32m---> 55\u001b[0;31m             \u001b[0mod\u001b[0m\u001b[0;34m[\u001b[0m\u001b[0mname\u001b[0m\u001b[0;34m]\u001b[0m \u001b[0;34m=\u001b[0m \u001b[0mconversion\u001b[0m\u001b[0;34m.\u001b[0m\u001b[0mpy2rpy\u001b[0m\u001b[0;34m(\u001b[0m\u001b[0mvalues\u001b[0m\u001b[0;34m)\u001b[0m\u001b[0;34m\u001b[0m\u001b[0;34m\u001b[0m\u001b[0m\n\u001b[0m\u001b[1;32m     56\u001b[0m         \u001b[0;32mexcept\u001b[0m \u001b[0mException\u001b[0m \u001b[0;32mas\u001b[0m \u001b[0me\u001b[0m\u001b[0;34m:\u001b[0m\u001b[0;34m\u001b[0m\u001b[0;34m\u001b[0m\u001b[0m\n\u001b[1;32m     57\u001b[0m             warnings.warn('Error while trying to convert '\n",
      "\u001b[0;32m~/miniconda3/lib/python3.7/functools.py\u001b[0m in \u001b[0;36mwrapper\u001b[0;34m(*args, **kw)\u001b[0m\n\u001b[1;32m    825\u001b[0m                             '1 positional argument')\n\u001b[1;32m    826\u001b[0m \u001b[0;34m\u001b[0m\u001b[0m\n\u001b[0;32m--> 827\u001b[0;31m         \u001b[0;32mreturn\u001b[0m \u001b[0mdispatch\u001b[0m\u001b[0;34m(\u001b[0m\u001b[0margs\u001b[0m\u001b[0;34m[\u001b[0m\u001b[0;36m0\u001b[0m\u001b[0;34m]\u001b[0m\u001b[0;34m.\u001b[0m\u001b[0m__class__\u001b[0m\u001b[0;34m)\u001b[0m\u001b[0;34m(\u001b[0m\u001b[0;34m*\u001b[0m\u001b[0margs\u001b[0m\u001b[0;34m,\u001b[0m \u001b[0;34m**\u001b[0m\u001b[0mkw\u001b[0m\u001b[0;34m)\u001b[0m\u001b[0;34m\u001b[0m\u001b[0;34m\u001b[0m\u001b[0m\n\u001b[0m\u001b[1;32m    828\u001b[0m \u001b[0;34m\u001b[0m\u001b[0m\n\u001b[1;32m    829\u001b[0m     \u001b[0mfuncname\u001b[0m \u001b[0;34m=\u001b[0m \u001b[0mgetattr\u001b[0m\u001b[0;34m(\u001b[0m\u001b[0mfunc\u001b[0m\u001b[0;34m,\u001b[0m \u001b[0;34m'__name__'\u001b[0m\u001b[0;34m,\u001b[0m \u001b[0;34m'singledispatch function'\u001b[0m\u001b[0;34m)\u001b[0m\u001b[0;34m\u001b[0m\u001b[0;34m\u001b[0m\u001b[0m\n",
      "\u001b[0;32m~/miniconda3/lib/python3.7/site-packages/rpy2/robjects/pandas2ri.py\u001b[0m in \u001b[0;36mpy2rpy_pandasseries\u001b[0;34m(obj)\u001b[0m\n\u001b[1;32m    163\u001b[0m     \u001b[0;32mif\u001b[0m \u001b[0mobj\u001b[0m\u001b[0;34m.\u001b[0m\u001b[0mndim\u001b[0m \u001b[0;34m==\u001b[0m \u001b[0;36m1\u001b[0m\u001b[0;34m:\u001b[0m\u001b[0;34m\u001b[0m\u001b[0;34m\u001b[0m\u001b[0m\n\u001b[1;32m    164\u001b[0m         res.do_slot_assign('names',\n\u001b[0;32m--> 165\u001b[0;31m                            StrVector(tuple(str(x) for x in obj.index)))\n\u001b[0m\u001b[1;32m    166\u001b[0m     \u001b[0;32melse\u001b[0m\u001b[0;34m:\u001b[0m\u001b[0;34m\u001b[0m\u001b[0;34m\u001b[0m\u001b[0m\n\u001b[1;32m    167\u001b[0m         res.do_slot_assign('dimnames',\n",
      "\u001b[0;32m~/miniconda3/lib/python3.7/site-packages/rpy2/robjects/vectors.py\u001b[0m in \u001b[0;36m__init__\u001b[0;34m(self, obj)\u001b[0m\n\u001b[1;32m    382\u001b[0m \u001b[0;34m\u001b[0m\u001b[0m\n\u001b[1;32m    383\u001b[0m     \u001b[0;32mdef\u001b[0m \u001b[0m__init__\u001b[0m\u001b[0;34m(\u001b[0m\u001b[0mself\u001b[0m\u001b[0;34m,\u001b[0m \u001b[0mobj\u001b[0m\u001b[0;34m)\u001b[0m\u001b[0;34m:\u001b[0m\u001b[0;34m\u001b[0m\u001b[0;34m\u001b[0m\u001b[0m\n\u001b[0;32m--> 384\u001b[0;31m         \u001b[0msuper\u001b[0m\u001b[0;34m(\u001b[0m\u001b[0;34m)\u001b[0m\u001b[0;34m.\u001b[0m\u001b[0m__init__\u001b[0m\u001b[0;34m(\u001b[0m\u001b[0mobj\u001b[0m\u001b[0;34m)\u001b[0m\u001b[0;34m\u001b[0m\u001b[0;34m\u001b[0m\u001b[0m\n\u001b[0m\u001b[1;32m    385\u001b[0m         \u001b[0mself\u001b[0m\u001b[0;34m.\u001b[0m\u001b[0m_add_rops\u001b[0m\u001b[0;34m(\u001b[0m\u001b[0;34m)\u001b[0m\u001b[0;34m\u001b[0m\u001b[0;34m\u001b[0m\u001b[0m\n\u001b[1;32m    386\u001b[0m \u001b[0;34m\u001b[0m\u001b[0m\n",
      "\u001b[0;32m~/miniconda3/lib/python3.7/site-packages/rpy2/rinterface_lib/sexp.py\u001b[0m in \u001b[0;36m__init__\u001b[0;34m(self, obj)\u001b[0m\n\u001b[1;32m    286\u001b[0m             \u001b[0msuper\u001b[0m\u001b[0;34m(\u001b[0m\u001b[0;34m)\u001b[0m\u001b[0;34m.\u001b[0m\u001b[0m__init__\u001b[0m\u001b[0;34m(\u001b[0m\u001b[0mobj\u001b[0m\u001b[0;34m)\u001b[0m\u001b[0;34m\u001b[0m\u001b[0;34m\u001b[0m\u001b[0m\n\u001b[1;32m    287\u001b[0m         \u001b[0;32melif\u001b[0m \u001b[0misinstance\u001b[0m\u001b[0;34m(\u001b[0m\u001b[0mobj\u001b[0m\u001b[0;34m,\u001b[0m \u001b[0mcollections\u001b[0m\u001b[0;34m.\u001b[0m\u001b[0mabc\u001b[0m\u001b[0;34m.\u001b[0m\u001b[0mSized\u001b[0m\u001b[0;34m)\u001b[0m\u001b[0;34m:\u001b[0m\u001b[0;34m\u001b[0m\u001b[0;34m\u001b[0m\u001b[0m\n\u001b[0;32m--> 288\u001b[0;31m             \u001b[0msuper\u001b[0m\u001b[0;34m(\u001b[0m\u001b[0;34m)\u001b[0m\u001b[0;34m.\u001b[0m\u001b[0m__init__\u001b[0m\u001b[0;34m(\u001b[0m\u001b[0mtype\u001b[0m\u001b[0;34m(\u001b[0m\u001b[0mself\u001b[0m\u001b[0;34m)\u001b[0m\u001b[0;34m.\u001b[0m\u001b[0mfrom_object\u001b[0m\u001b[0;34m(\u001b[0m\u001b[0mobj\u001b[0m\u001b[0;34m)\u001b[0m\u001b[0;34m.\u001b[0m\u001b[0m__sexp__\u001b[0m\u001b[0;34m)\u001b[0m\u001b[0;34m\u001b[0m\u001b[0;34m\u001b[0m\u001b[0m\n\u001b[0m\u001b[1;32m    289\u001b[0m         \u001b[0;32melse\u001b[0m\u001b[0;34m:\u001b[0m\u001b[0;34m\u001b[0m\u001b[0;34m\u001b[0m\u001b[0m\n\u001b[1;32m    290\u001b[0m             raise TypeError('The constructor must be called '\n",
      "\u001b[0;32m~/miniconda3/lib/python3.7/site-packages/rpy2/rinterface_lib/sexp.py\u001b[0m in \u001b[0;36mfrom_object\u001b[0;34m(cls, obj)\u001b[0m\n\u001b[1;32m    370\u001b[0m         \u001b[0;32mexcept\u001b[0m \u001b[0;34m(\u001b[0m\u001b[0mTypeError\u001b[0m\u001b[0;34m,\u001b[0m \u001b[0mValueError\u001b[0m\u001b[0;34m)\u001b[0m\u001b[0;34m:\u001b[0m\u001b[0;34m\u001b[0m\u001b[0;34m\u001b[0m\u001b[0m\n\u001b[1;32m    371\u001b[0m             \u001b[0;32mtry\u001b[0m\u001b[0;34m:\u001b[0m\u001b[0;34m\u001b[0m\u001b[0;34m\u001b[0m\u001b[0m\n\u001b[0;32m--> 372\u001b[0;31m                 \u001b[0mres\u001b[0m \u001b[0;34m=\u001b[0m \u001b[0mcls\u001b[0m\u001b[0;34m.\u001b[0m\u001b[0mfrom_iterable\u001b[0m\u001b[0;34m(\u001b[0m\u001b[0mobj\u001b[0m\u001b[0;34m)\u001b[0m\u001b[0;34m\u001b[0m\u001b[0;34m\u001b[0m\u001b[0m\n\u001b[0m\u001b[1;32m    373\u001b[0m             \u001b[0;32mexcept\u001b[0m \u001b[0mValueError\u001b[0m\u001b[0;34m:\u001b[0m\u001b[0;34m\u001b[0m\u001b[0;34m\u001b[0m\u001b[0m\n\u001b[1;32m    374\u001b[0m                 msg = ('The class methods from_memoryview() and '\n",
      "\u001b[0;32m~/miniconda3/lib/python3.7/site-packages/rpy2/rinterface_lib/conversion.py\u001b[0m in \u001b[0;36m_\u001b[0;34m(*args, **kwargs)\u001b[0m\n\u001b[1;32m     38\u001b[0m \u001b[0;32mdef\u001b[0m \u001b[0m_cdata_res_to_rinterface\u001b[0m\u001b[0;34m(\u001b[0m\u001b[0mfunction\u001b[0m\u001b[0;34m)\u001b[0m\u001b[0;34m:\u001b[0m\u001b[0;34m\u001b[0m\u001b[0;34m\u001b[0m\u001b[0m\n\u001b[1;32m     39\u001b[0m     \u001b[0;32mdef\u001b[0m \u001b[0m_\u001b[0m\u001b[0;34m(\u001b[0m\u001b[0;34m*\u001b[0m\u001b[0margs\u001b[0m\u001b[0;34m,\u001b[0m \u001b[0;34m**\u001b[0m\u001b[0mkwargs\u001b[0m\u001b[0;34m)\u001b[0m\u001b[0;34m:\u001b[0m\u001b[0;34m\u001b[0m\u001b[0;34m\u001b[0m\u001b[0m\n\u001b[0;32m---> 40\u001b[0;31m         \u001b[0mcdata\u001b[0m \u001b[0;34m=\u001b[0m \u001b[0mfunction\u001b[0m\u001b[0;34m(\u001b[0m\u001b[0;34m*\u001b[0m\u001b[0margs\u001b[0m\u001b[0;34m,\u001b[0m \u001b[0;34m**\u001b[0m\u001b[0mkwargs\u001b[0m\u001b[0;34m)\u001b[0m\u001b[0;34m\u001b[0m\u001b[0;34m\u001b[0m\u001b[0m\n\u001b[0m\u001b[1;32m     41\u001b[0m         \u001b[0;31m# TODO: test cdata is of the expected CType\u001b[0m\u001b[0;34m\u001b[0m\u001b[0;34m\u001b[0m\u001b[0;34m\u001b[0m\u001b[0m\n\u001b[1;32m     42\u001b[0m         \u001b[0;32mreturn\u001b[0m \u001b[0m_cdata_to_rinterface\u001b[0m\u001b[0;34m(\u001b[0m\u001b[0mcdata\u001b[0m\u001b[0;34m)\u001b[0m\u001b[0;34m\u001b[0m\u001b[0;34m\u001b[0m\u001b[0m\n",
      "\u001b[0;32m~/miniconda3/lib/python3.7/site-packages/rpy2/rinterface_lib/sexp.py\u001b[0m in \u001b[0;36mfrom_iterable\u001b[0;34m(cls, iterable, populate_func)\u001b[0m\n\u001b[1;32m    317\u001b[0m             \u001b[0;32mif\u001b[0m \u001b[0mpopulate_func\u001b[0m \u001b[0;32mis\u001b[0m \u001b[0;32mNone\u001b[0m\u001b[0;34m:\u001b[0m\u001b[0;34m\u001b[0m\u001b[0;34m\u001b[0m\u001b[0m\n\u001b[1;32m    318\u001b[0m                 cls._populate_r_vector(iterable,\n\u001b[0;32m--> 319\u001b[0;31m                                        r_vector)\n\u001b[0m\u001b[1;32m    320\u001b[0m             \u001b[0;32melse\u001b[0m\u001b[0;34m:\u001b[0m\u001b[0;34m\u001b[0m\u001b[0;34m\u001b[0m\u001b[0m\n\u001b[1;32m    321\u001b[0m                 \u001b[0mpopulate_func\u001b[0m\u001b[0;34m(\u001b[0m\u001b[0miterable\u001b[0m\u001b[0;34m,\u001b[0m \u001b[0mr_vector\u001b[0m\u001b[0;34m)\u001b[0m\u001b[0;34m\u001b[0m\u001b[0;34m\u001b[0m\u001b[0m\n",
      "\u001b[0;32m~/miniconda3/lib/python3.7/site-packages/rpy2/rinterface_lib/sexp.py\u001b[0m in \u001b[0;36m_populate_r_vector\u001b[0;34m(cls, iterable, r_vector)\u001b[0m\n\u001b[1;32m    300\u001b[0m                                   \u001b[0mr_vector\u001b[0m\u001b[0;34m,\u001b[0m\u001b[0;34m\u001b[0m\u001b[0;34m\u001b[0m\u001b[0m\n\u001b[1;32m    301\u001b[0m                                   \u001b[0mcls\u001b[0m\u001b[0;34m.\u001b[0m\u001b[0m_R_SET_VECTOR_ELT\u001b[0m\u001b[0;34m,\u001b[0m\u001b[0;34m\u001b[0m\u001b[0;34m\u001b[0m\u001b[0m\n\u001b[0;32m--> 302\u001b[0;31m                                   cls._CAST_IN)\n\u001b[0m\u001b[1;32m    303\u001b[0m \u001b[0;34m\u001b[0m\u001b[0m\n\u001b[1;32m    304\u001b[0m     \u001b[0;34m@\u001b[0m\u001b[0mclassmethod\u001b[0m\u001b[0;34m\u001b[0m\u001b[0;34m\u001b[0m\u001b[0m\n",
      "\u001b[0;32m~/miniconda3/lib/python3.7/site-packages/rpy2/rinterface_lib/sexp.py\u001b[0m in \u001b[0;36m_populate_r_vector\u001b[0;34m(iterable, r_vector, set_elt, cast_value)\u001b[0m\n\u001b[1;32m    237\u001b[0m \u001b[0;32mdef\u001b[0m \u001b[0m_populate_r_vector\u001b[0m\u001b[0;34m(\u001b[0m\u001b[0miterable\u001b[0m\u001b[0;34m,\u001b[0m \u001b[0mr_vector\u001b[0m\u001b[0;34m,\u001b[0m \u001b[0mset_elt\u001b[0m\u001b[0;34m,\u001b[0m \u001b[0mcast_value\u001b[0m\u001b[0;34m)\u001b[0m\u001b[0;34m:\u001b[0m\u001b[0;34m\u001b[0m\u001b[0;34m\u001b[0m\u001b[0m\n\u001b[1;32m    238\u001b[0m     \u001b[0;32mfor\u001b[0m \u001b[0mi\u001b[0m\u001b[0;34m,\u001b[0m \u001b[0mv\u001b[0m \u001b[0;32min\u001b[0m \u001b[0menumerate\u001b[0m\u001b[0;34m(\u001b[0m\u001b[0miterable\u001b[0m\u001b[0;34m)\u001b[0m\u001b[0;34m:\u001b[0m\u001b[0;34m\u001b[0m\u001b[0;34m\u001b[0m\u001b[0m\n\u001b[0;32m--> 239\u001b[0;31m         \u001b[0mset_elt\u001b[0m\u001b[0;34m(\u001b[0m\u001b[0mr_vector\u001b[0m\u001b[0;34m,\u001b[0m \u001b[0mi\u001b[0m\u001b[0;34m,\u001b[0m \u001b[0mcast_value\u001b[0m\u001b[0;34m(\u001b[0m\u001b[0mv\u001b[0m\u001b[0;34m)\u001b[0m\u001b[0;34m)\u001b[0m\u001b[0;34m\u001b[0m\u001b[0;34m\u001b[0m\u001b[0m\n\u001b[0m\u001b[1;32m    240\u001b[0m \u001b[0;34m\u001b[0m\u001b[0m\n\u001b[1;32m    241\u001b[0m \u001b[0;34m\u001b[0m\u001b[0m\n",
      "\u001b[0;32m~/miniconda3/lib/python3.7/site-packages/rpy2/rinterface_lib/sexp.py\u001b[0m in \u001b[0;36m_as_charsxp_cdata\u001b[0;34m(x)\u001b[0m\n\u001b[1;32m    430\u001b[0m         \u001b[0;32mreturn\u001b[0m \u001b[0mx\u001b[0m\u001b[0;34m.\u001b[0m\u001b[0m__sexp__\u001b[0m\u001b[0;34m.\u001b[0m\u001b[0m_cdata\u001b[0m\u001b[0;34m\u001b[0m\u001b[0;34m\u001b[0m\u001b[0m\n\u001b[1;32m    431\u001b[0m     \u001b[0;32melse\u001b[0m\u001b[0;34m:\u001b[0m\u001b[0;34m\u001b[0m\u001b[0;34m\u001b[0m\u001b[0m\n\u001b[0;32m--> 432\u001b[0;31m         \u001b[0;32mreturn\u001b[0m \u001b[0mconversion\u001b[0m\u001b[0;34m.\u001b[0m\u001b[0m_str_to_charsxp\u001b[0m\u001b[0;34m(\u001b[0m\u001b[0mx\u001b[0m\u001b[0;34m)\u001b[0m\u001b[0;34m\u001b[0m\u001b[0;34m\u001b[0m\u001b[0m\n\u001b[0m\u001b[1;32m    433\u001b[0m \u001b[0;34m\u001b[0m\u001b[0m\n\u001b[1;32m    434\u001b[0m \u001b[0;34m\u001b[0m\u001b[0m\n",
      "\u001b[0;32m~/miniconda3/lib/python3.7/site-packages/rpy2/rinterface_lib/conversion.py\u001b[0m in \u001b[0;36m_str_to_charsxp\u001b[0;34m(val)\u001b[0m\n\u001b[1;32m    133\u001b[0m         \u001b[0ms\u001b[0m \u001b[0;34m=\u001b[0m \u001b[0mrlib\u001b[0m\u001b[0;34m.\u001b[0m\u001b[0mR_NaString\u001b[0m\u001b[0;34m\u001b[0m\u001b[0;34m\u001b[0m\u001b[0m\n\u001b[1;32m    134\u001b[0m     \u001b[0;32melse\u001b[0m\u001b[0;34m:\u001b[0m\u001b[0;34m\u001b[0m\u001b[0;34m\u001b[0m\u001b[0m\n\u001b[0;32m--> 135\u001b[0;31m         \u001b[0mcchar\u001b[0m \u001b[0;34m=\u001b[0m \u001b[0m_str_to_cchar\u001b[0m\u001b[0;34m(\u001b[0m\u001b[0mval\u001b[0m\u001b[0;34m)\u001b[0m\u001b[0;34m\u001b[0m\u001b[0;34m\u001b[0m\u001b[0m\n\u001b[0m\u001b[1;32m    136\u001b[0m         \u001b[0ms\u001b[0m \u001b[0;34m=\u001b[0m \u001b[0mrlib\u001b[0m\u001b[0;34m.\u001b[0m\u001b[0mRf_mkCharCE\u001b[0m\u001b[0;34m(\u001b[0m\u001b[0mcchar\u001b[0m\u001b[0;34m,\u001b[0m \u001b[0m_CE_DEFAULT_VALUE\u001b[0m\u001b[0;34m)\u001b[0m\u001b[0;34m\u001b[0m\u001b[0;34m\u001b[0m\u001b[0m\n\u001b[1;32m    137\u001b[0m     \u001b[0;32mreturn\u001b[0m \u001b[0ms\u001b[0m\u001b[0;34m\u001b[0m\u001b[0;34m\u001b[0m\u001b[0m\n",
      "\u001b[0;32m~/miniconda3/lib/python3.7/site-packages/rpy2/rinterface_lib/conversion.py\u001b[0m in \u001b[0;36m_str_to_cchar\u001b[0;34m(s, encoding)\u001b[0m\n\u001b[1;32m    112\u001b[0m \u001b[0;32mdef\u001b[0m \u001b[0m_str_to_cchar\u001b[0m\u001b[0;34m(\u001b[0m\u001b[0ms\u001b[0m\u001b[0;34m:\u001b[0m \u001b[0mstr\u001b[0m\u001b[0;34m,\u001b[0m \u001b[0mencoding\u001b[0m\u001b[0;34m:\u001b[0m \u001b[0mstr\u001b[0m \u001b[0;34m=\u001b[0m \u001b[0;34m'utf-8'\u001b[0m\u001b[0;34m)\u001b[0m\u001b[0;34m:\u001b[0m\u001b[0;34m\u001b[0m\u001b[0;34m\u001b[0m\u001b[0m\n\u001b[1;32m    113\u001b[0m     \u001b[0;31m# TODO: use isStrinb and installTrChar\u001b[0m\u001b[0;34m\u001b[0m\u001b[0;34m\u001b[0m\u001b[0;34m\u001b[0m\u001b[0m\n\u001b[0;32m--> 114\u001b[0;31m     \u001b[0mb\u001b[0m \u001b[0;34m=\u001b[0m \u001b[0ms\u001b[0m\u001b[0;34m.\u001b[0m\u001b[0mencode\u001b[0m\u001b[0;34m(\u001b[0m\u001b[0mencoding\u001b[0m\u001b[0;34m)\u001b[0m\u001b[0;34m\u001b[0m\u001b[0;34m\u001b[0m\u001b[0m\n\u001b[0m\u001b[1;32m    115\u001b[0m     \u001b[0;32mreturn\u001b[0m \u001b[0mffi\u001b[0m\u001b[0;34m.\u001b[0m\u001b[0mnew\u001b[0m\u001b[0;34m(\u001b[0m\u001b[0;34m'char[]'\u001b[0m\u001b[0;34m,\u001b[0m \u001b[0mb\u001b[0m\u001b[0;34m)\u001b[0m\u001b[0;34m\u001b[0m\u001b[0;34m\u001b[0m\u001b[0m\n\u001b[1;32m    116\u001b[0m \u001b[0;34m\u001b[0m\u001b[0m\n",
      "\u001b[0;31mKeyboardInterrupt\u001b[0m: "
     ]
    }
   ],
   "source": [
    "my_alligner.transform(CCLE_expression, CCLE_annotation)"
   ]
  },
  {
   "cell_type": "code",
   "execution_count": null,
   "metadata": {},
   "outputs": [],
   "source": [
    "my_alligner.save('temp/demo/')"
   ]
  },
  {
   "cell_type": "code",
   "execution_count": null,
   "metadata": {},
   "outputs": [],
   "source": [
    "my_alligner.plot()"
   ]
  }
 ],
 "metadata": {
  "kernelspec": {
   "display_name": "Python 3",
   "language": "python",
   "name": "python3"
  },
  "language_info": {
   "codemirror_mode": {
    "name": "ipython",
    "version": 3
   },
   "file_extension": ".py",
   "mimetype": "text/x-python",
   "name": "python",
   "nbconvert_exporter": "python",
   "pygments_lexer": "ipython3",
   "version": "3.7.3"
  },
  "latex_envs": {
   "LaTeX_envs_menu_present": true,
   "autoclose": false,
   "autocomplete": true,
   "bibliofile": "biblio.bib",
   "cite_by": "apalike",
   "current_citInitial": 1,
   "eqLabelWithNumbers": true,
   "eqNumInitial": 1,
   "hotkeys": {
    "equation": "Ctrl-E",
    "itemize": "Ctrl-I"
   },
   "labels_anchors": false,
   "latex_user_defs": false,
   "report_style_numbering": false,
   "user_envs_cfg": false
  },
  "toc": {
   "base_numbering": 1,
   "nav_menu": {},
   "number_sections": true,
   "sideBar": true,
   "skip_h1_title": false,
   "title_cell": "Table of Contents",
   "title_sidebar": "Contents",
   "toc_cell": false,
   "toc_position": {},
   "toc_section_display": true,
   "toc_window_display": false
  },
  "varInspector": {
   "cols": {
    "lenName": 16,
    "lenType": 16,
    "lenVar": 40
   },
   "kernels_config": {
    "python": {
     "delete_cmd_postfix": "",
     "delete_cmd_prefix": "del ",
     "library": "var_list.py",
     "varRefreshCmd": "print(var_dic_list())"
    },
    "r": {
     "delete_cmd_postfix": ") ",
     "delete_cmd_prefix": "rm(",
     "library": "var_list.r",
     "varRefreshCmd": "cat(var_dic_list()) "
    }
   },
   "types_to_exclude": [
    "module",
    "function",
    "builtin_function_or_method",
    "instance",
    "_Feature"
   ],
   "window_display": false
  }
 },
 "nbformat": 4,
 "nbformat_minor": 2
}
