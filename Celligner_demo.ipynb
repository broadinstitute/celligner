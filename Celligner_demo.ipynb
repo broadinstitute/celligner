{
 "cells": [
  {
   "cell_type": "code",
   "execution_count": 1,
   "metadata": {
    "ExecuteTime": {
     "end_time": "2021-09-16T13:32:25.411022Z",
     "start_time": "2021-09-16T13:32:06.407144Z"
    }
   },
   "outputs": [
    {
     "name": "stderr",
     "output_type": "stream",
     "text": [
      "/home/jeremie/miniconda3/lib/python3.7/site-packages/rpy2/robjects/pandas2ri.py:14: FutureWarning: pandas.core.index is deprecated and will be removed in a future version.  The public classes are available in the top-level namespace.\n",
      "  from pandas.core.index import Index as PandasIndex\n",
      "/home/jeremie/miniconda3/lib/python3.7/site-packages/mnnpy/utils.py:14: NumbaWarning: \u001b[1m\n",
      "Compilation is falling back to object mode WITH looplifting enabled because Function \"l2_norm\" failed type inference due to: \u001b[1m\u001b[1m\u001b[1mNo implementation of function Function(<function norm at 0x7fed882e1b70>) found for signature:\n",
      " \n",
      " >>> norm(x=array(float32, 2d, A), axis=Literal[int](1))\n",
      " \n",
      "There are 2 candidate implementations:\n",
      "\u001b[1m  - Of which 2 did not match due to:\n",
      "  Overload in function 'norm_impl': File: numba/np/linalg.py: Line 2352.\n",
      "    With argument(s): '(x=array(float32, 2d, A), axis=int64)':\u001b[0m\n",
      "\u001b[1m   Rejected as the implementation raised a specific error:\n",
      "     TypeError: norm_impl() got an unexpected keyword argument 'x'\u001b[0m\n",
      "  raised from /home/jeremie/miniconda3/lib/python3.7/site-packages/numba/core/typing/templates.py:722\n",
      "\u001b[0m\n",
      "\u001b[0m\u001b[1mDuring: resolving callee type: Function(<function norm at 0x7fed882e1b70>)\u001b[0m\n",
      "\u001b[0m\u001b[1mDuring: typing of call at /home/jeremie/miniconda3/lib/python3.7/site-packages/mnnpy/utils.py (16)\n",
      "\u001b[0m\n",
      "\u001b[1m\n",
      "File \"../miniconda3/lib/python3.7/site-packages/mnnpy/utils.py\", line 16:\u001b[0m\n",
      "\u001b[1mdef l2_norm(in_matrix):\n",
      "\u001b[1m    return np.linalg.norm(x=in_matrix, axis=1)\n",
      "\u001b[0m    \u001b[1m^\u001b[0m\u001b[0m\n",
      "\u001b[0m\n",
      "  @jit(float32[:](float32[:, :]), nogil=True)\n",
      "/home/jeremie/miniconda3/lib/python3.7/site-packages/numba/core/object_mode_passes.py:152: NumbaWarning: \u001b[1mFunction \"l2_norm\" was compiled in object mode without forceobj=True.\n",
      "\u001b[1m\n",
      "File \"../miniconda3/lib/python3.7/site-packages/mnnpy/utils.py\", line 15:\u001b[0m\n",
      "\u001b[1m@jit(float32[:](float32[:, :]), nogil=True)\n",
      "\u001b[1mdef l2_norm(in_matrix):\n",
      "\u001b[0m\u001b[1m^\u001b[0m\u001b[0m\n",
      "\u001b[0m\n",
      "  state.func_ir.loc))\n",
      "/home/jeremie/miniconda3/lib/python3.7/site-packages/numba/core/object_mode_passes.py:162: NumbaDeprecationWarning: \u001b[1m\n",
      "Fall-back from the nopython compilation path to the object mode compilation path has been detected, this is deprecated behaviour.\n",
      "\n",
      "For more information visit https://numba.pydata.org/numba-doc/latest/reference/deprecation.html#deprecation-of-object-mode-fall-back-behaviour-when-using-jit\n",
      "\u001b[1m\n",
      "File \"../miniconda3/lib/python3.7/site-packages/mnnpy/utils.py\", line 15:\u001b[0m\n",
      "\u001b[1m@jit(float32[:](float32[:, :]), nogil=True)\n",
      "\u001b[1mdef l2_norm(in_matrix):\n",
      "\u001b[0m\u001b[1m^\u001b[0m\u001b[0m\n",
      "\u001b[0m\n",
      "  state.func_ir.loc))\n",
      "/home/jeremie/miniconda3/lib/python3.7/site-packages/mnnpy/utils.py:14: NumbaWarning: \u001b[1mCode running in object mode won't allow parallel execution despite nogil=True.\u001b[0m\n",
      "  @jit(float32[:](float32[:, :]), nogil=True)\n",
      "/home/jeremie/miniconda3/lib/python3.7/site-packages/mnnpy/utils.py:29: NumbaPerformanceWarning: \u001b[1m\u001b[1mnp.dot() is faster on contiguous arrays, called on (array(float32, 1d, A), array(float32, 1d, A))\u001b[0m\u001b[0m\n",
      "  dist[i, j] = np.dot(m[i], n[j])\n",
      "/home/jeremie/miniconda3/lib/python3.7/site-packages/mnnpy/utils.py:88: NumbaWarning: \u001b[1m\n",
      "Compilation is falling back to object mode WITH looplifting enabled because Function \"find_mutual_nn\" failed type inference due to: \u001b[1mUntyped global name 'cKDTree':\u001b[0m \u001b[1m\u001b[1mCannot determine Numba type of <class 'type'>\u001b[0m\n",
      "\u001b[1m\n",
      "File \"../miniconda3/lib/python3.7/site-packages/mnnpy/utils.py\", line 90:\u001b[0m\n",
      "\u001b[1mdef find_mutual_nn(data1, data2, k1, k2, n_jobs):\n",
      "\u001b[1m    k_index_1 = cKDTree(data1).query(x=data2, k=k1, n_jobs=n_jobs)[1]\n",
      "\u001b[0m    \u001b[1m^\u001b[0m\u001b[0m\n",
      "\u001b[0m\u001b[0m\n",
      "  @jit((float32[:, :], float32[:, :], int8, int8, int8))\n",
      "/home/jeremie/miniconda3/lib/python3.7/site-packages/mnnpy/utils.py:88: NumbaWarning: \u001b[1m\n",
      "Compilation is falling back to object mode WITHOUT looplifting enabled because Function \"find_mutual_nn\" failed type inference due to: \u001b[1mUntyped global name 'cKDTree':\u001b[0m \u001b[1m\u001b[1mCannot determine Numba type of <class 'type'>\u001b[0m\n",
      "\u001b[1m\n",
      "File \"../miniconda3/lib/python3.7/site-packages/mnnpy/utils.py\", line 90:\u001b[0m\n",
      "\u001b[1mdef find_mutual_nn(data1, data2, k1, k2, n_jobs):\n",
      "\u001b[1m    k_index_1 = cKDTree(data1).query(x=data2, k=k1, n_jobs=n_jobs)[1]\n",
      "\u001b[0m    \u001b[1m^\u001b[0m\u001b[0m\n",
      "\u001b[0m\u001b[0m\n",
      "  @jit((float32[:, :], float32[:, :], int8, int8, int8))\n",
      "/home/jeremie/miniconda3/lib/python3.7/site-packages/numba/core/object_mode_passes.py:152: NumbaWarning: \u001b[1mFunction \"find_mutual_nn\" was compiled in object mode without forceobj=True, but has lifted loops.\n",
      "\u001b[1m\n",
      "File \"../miniconda3/lib/python3.7/site-packages/mnnpy/utils.py\", line 90:\u001b[0m\n",
      "\u001b[1mdef find_mutual_nn(data1, data2, k1, k2, n_jobs):\n",
      "\u001b[1m    k_index_1 = cKDTree(data1).query(x=data2, k=k1, n_jobs=n_jobs)[1]\n",
      "\u001b[0m    \u001b[1m^\u001b[0m\u001b[0m\n",
      "\u001b[0m\n",
      "  state.func_ir.loc))\n",
      "/home/jeremie/miniconda3/lib/python3.7/site-packages/numba/core/object_mode_passes.py:162: NumbaDeprecationWarning: \u001b[1m\n",
      "Fall-back from the nopython compilation path to the object mode compilation path has been detected, this is deprecated behaviour.\n",
      "\n",
      "For more information visit https://numba.pydata.org/numba-doc/latest/reference/deprecation.html#deprecation-of-object-mode-fall-back-behaviour-when-using-jit\n",
      "\u001b[1m\n",
      "File \"../miniconda3/lib/python3.7/site-packages/mnnpy/utils.py\", line 90:\u001b[0m\n",
      "\u001b[1mdef find_mutual_nn(data1, data2, k1, k2, n_jobs):\n",
      "\u001b[1m    k_index_1 = cKDTree(data1).query(x=data2, k=k1, n_jobs=n_jobs)[1]\n",
      "\u001b[0m    \u001b[1m^\u001b[0m\u001b[0m\n",
      "\u001b[0m\n",
      "  state.func_ir.loc))\n",
      "/home/jeremie/miniconda3/lib/python3.7/site-packages/mnnpy/utils.py:102: NumbaWarning: \u001b[1m\n",
      "Compilation is falling back to object mode WITH looplifting enabled because Function \"compute_correction\" failed type inference due to: \u001b[1m\u001b[1m\u001b[1mNo implementation of function Function(<function unique at 0x7fed8804c510>) found for signature:\n",
      " \n",
      " >>> unique(array(int32, 1d, A), return_counts=Literal[bool](True))\n",
      " \n",
      "There are 2 candidate implementations:\n",
      "\u001b[1m  - Of which 2 did not match due to:\n",
      "  Overload in function 'np_unique': File: numba/np/arrayobj.py: Line 1915.\n",
      "    With argument(s): '(array(int32, 1d, A), return_counts=bool)':\u001b[0m\n",
      "\u001b[1m   Rejected as the implementation raised a specific error:\n",
      "     TypeError: np_unique() got an unexpected keyword argument 'return_counts'\u001b[0m\n",
      "  raised from /home/jeremie/miniconda3/lib/python3.7/site-packages/numba/core/typing/templates.py:722\n",
      "\u001b[0m\n",
      "\u001b[0m\u001b[1mDuring: resolving callee type: Function(<function unique at 0x7fed8804c510>)\u001b[0m\n",
      "\u001b[0m\u001b[1mDuring: typing of call at /home/jeremie/miniconda3/lib/python3.7/site-packages/mnnpy/utils.py (105)\n",
      "\u001b[0m\n",
      "\u001b[1m\n",
      "File \"../miniconda3/lib/python3.7/site-packages/mnnpy/utils.py\", line 105:\u001b[0m\n",
      "\u001b[1mdef compute_correction(data1, data2, mnn1, mnn2, data2_or_raw2, sigma):\n",
      "    <source elided>\n",
      "    vect = data1[mnn1] - data2[mnn2]\n",
      "\u001b[1m    mnn_index, mnn_count = np.unique(mnn2, return_counts=True)\n",
      "\u001b[0m    \u001b[1m^\u001b[0m\u001b[0m\n",
      "\u001b[0m\n",
      "  @jit(float32[:, :](float32[:, :], float32[:, :], int32[:], int32[:], float32[:, :], float32))\n",
      "/home/jeremie/miniconda3/lib/python3.7/site-packages/mnnpy/utils.py:102: NumbaWarning: \u001b[1m\n",
      "Compilation is falling back to object mode WITHOUT looplifting enabled because Function \"compute_correction\" failed type inference due to: \u001b[1m\u001b[1mCannot determine Numba type of <class 'numba.core.dispatcher.LiftedLoop'>\u001b[0m\n",
      "\u001b[1m\n",
      "File \"../miniconda3/lib/python3.7/site-packages/mnnpy/utils.py\", line 107:\u001b[0m\n",
      "\u001b[1mdef compute_correction(data1, data2, mnn1, mnn2, data2_or_raw2, sigma):\n",
      "    <source elided>\n",
      "    vect_reduced = np.zeros((data2.shape[0], vect.shape[1]), dtype=np.float32)\n",
      "\u001b[1m    for index, ve in zip(mnn2, vect):\n",
      "\u001b[0m    \u001b[1m^\u001b[0m\u001b[0m\n",
      "\u001b[0m\u001b[0m\n",
      "  @jit(float32[:, :](float32[:, :], float32[:, :], int32[:], int32[:], float32[:, :], float32))\n",
      "/home/jeremie/miniconda3/lib/python3.7/site-packages/numba/core/object_mode_passes.py:152: NumbaWarning: \u001b[1mFunction \"compute_correction\" was compiled in object mode without forceobj=True, but has lifted loops.\n",
      "\u001b[1m\n",
      "File \"../miniconda3/lib/python3.7/site-packages/mnnpy/utils.py\", line 104:\u001b[0m\n",
      "\u001b[1mdef compute_correction(data1, data2, mnn1, mnn2, data2_or_raw2, sigma):\n",
      "\u001b[1m    vect = data1[mnn1] - data2[mnn2]\n",
      "\u001b[0m    \u001b[1m^\u001b[0m\u001b[0m\n",
      "\u001b[0m\n",
      "  state.func_ir.loc))\n",
      "/home/jeremie/miniconda3/lib/python3.7/site-packages/numba/core/object_mode_passes.py:162: NumbaDeprecationWarning: \u001b[1m\n",
      "Fall-back from the nopython compilation path to the object mode compilation path has been detected, this is deprecated behaviour.\n",
      "\n",
      "For more information visit https://numba.pydata.org/numba-doc/latest/reference/deprecation.html#deprecation-of-object-mode-fall-back-behaviour-when-using-jit\n",
      "\u001b[1m\n",
      "File \"../miniconda3/lib/python3.7/site-packages/mnnpy/utils.py\", line 104:\u001b[0m\n",
      "\u001b[1mdef compute_correction(data1, data2, mnn1, mnn2, data2_or_raw2, sigma):\n",
      "\u001b[1m    vect = data1[mnn1] - data2[mnn2]\n",
      "\u001b[0m    \u001b[1m^\u001b[0m\u001b[0m\n",
      "\u001b[0m\n",
      "  state.func_ir.loc))\n"
     ]
    },
    {
     "name": "stderr",
     "output_type": "stream",
     "text": [
      "/home/jeremie/miniconda3/lib/python3.7/site-packages/mnnpy/utils.py:199: NumbaWarning: \u001b[1m\n",
      "Compilation is falling back to object mode WITH looplifting enabled because Function \"adjust_s_variance\" failed type inference due to: \u001b[1mNameError: name 'sq_dist_to_line' is not defined\u001b[0m\u001b[0m\n",
      "  @jit(float32(float32[:, :], float32[:, :], float32[:], float32[:], float32), nogil=True)\n",
      "/home/jeremie/miniconda3/lib/python3.7/site-packages/mnnpy/utils.py:199: NumbaWarning: \u001b[1m\n",
      "Compilation is falling back to object mode WITHOUT looplifting enabled because Function \"adjust_s_variance\" failed type inference due to: \u001b[1m\u001b[1mCannot determine Numba type of <class 'numba.core.dispatcher.LiftedLoop'>\u001b[0m\n",
      "\u001b[1m\n",
      "File \"../miniconda3/lib/python3.7/site-packages/mnnpy/utils.py\", line 207:\u001b[0m\n",
      "\u001b[1mdef adjust_s_variance(data1, data2, curcell, curvect, sigma):\n",
      "    <source elided>\n",
      "    totalprob2 = 0.\n",
      "\u001b[1m    for samecell in data2:\n",
      "\u001b[0m    \u001b[1m^\u001b[0m\u001b[0m\n",
      "\u001b[0m\u001b[0m\n",
      "  @jit(float32(float32[:, :], float32[:, :], float32[:], float32[:], float32), nogil=True)\n",
      "/home/jeremie/miniconda3/lib/python3.7/site-packages/numba/core/object_mode_passes.py:152: NumbaWarning: \u001b[1mFunction \"adjust_s_variance\" was compiled in object mode without forceobj=True, but has lifted loops.\n",
      "\u001b[1m\n",
      "File \"../miniconda3/lib/python3.7/site-packages/mnnpy/utils.py\", line 201:\u001b[0m\n",
      "\u001b[1mdef adjust_s_variance(data1, data2, curcell, curvect, sigma):\n",
      "\u001b[1m    distance1 = np.zeros((data1.shape[0], 2), dtype=np.float32)\n",
      "\u001b[0m    \u001b[1m^\u001b[0m\u001b[0m\n",
      "\u001b[0m\n",
      "  state.func_ir.loc))\n",
      "/home/jeremie/miniconda3/lib/python3.7/site-packages/numba/core/object_mode_passes.py:162: NumbaDeprecationWarning: \u001b[1m\n",
      "Fall-back from the nopython compilation path to the object mode compilation path has been detected, this is deprecated behaviour.\n",
      "\n",
      "For more information visit https://numba.pydata.org/numba-doc/latest/reference/deprecation.html#deprecation-of-object-mode-fall-back-behaviour-when-using-jit\n",
      "\u001b[1m\n",
      "File \"../miniconda3/lib/python3.7/site-packages/mnnpy/utils.py\", line 201:\u001b[0m\n",
      "\u001b[1mdef adjust_s_variance(data1, data2, curcell, curvect, sigma):\n",
      "\u001b[1m    distance1 = np.zeros((data1.shape[0], 2), dtype=np.float32)\n",
      "\u001b[0m    \u001b[1m^\u001b[0m\u001b[0m\n",
      "\u001b[0m\n",
      "  state.func_ir.loc))\n",
      "/home/jeremie/miniconda3/lib/python3.7/site-packages/mnnpy/utils.py:199: NumbaWarning: \u001b[1mCode running in object mode won't allow parallel execution despite nogil=True.\u001b[0m\n",
      "  @jit(float32(float32[:, :], float32[:, :], float32[:], float32[:], float32), nogil=True)\n",
      "/home/jeremie/miniconda3/lib/python3.7/site-packages/mnnpy/utils.py:238: NumbaPerformanceWarning: \u001b[1m\u001b[1mnp.dot() is faster on contiguous arrays, called on (array(float32, 1d, C), array(float32, 1d, A))\u001b[0m\u001b[0m\n",
      "  scale = np.dot(working, grad)\n"
     ]
    },
    {
     "data": {
      "text/html": [
       "\n",
       "    <div class=\"bk-root\">\n",
       "        <a href=\"https://bokeh.org\" target=\"_blank\" class=\"bk-logo bk-logo-small bk-logo-notebook\"></a>\n",
       "        <span id=\"1002\">Loading BokehJS ...</span>\n",
       "    </div>"
      ]
     },
     "metadata": {},
     "output_type": "display_data"
    },
    {
     "data": {
      "application/javascript": [
       "\n",
       "(function(root) {\n",
       "  function now() {\n",
       "    return new Date();\n",
       "  }\n",
       "\n",
       "  var force = true;\n",
       "\n",
       "  if (typeof root._bokeh_onload_callbacks === \"undefined\" || force === true) {\n",
       "    root._bokeh_onload_callbacks = [];\n",
       "    root._bokeh_is_loading = undefined;\n",
       "  }\n",
       "\n",
       "  var JS_MIME_TYPE = 'application/javascript';\n",
       "  var HTML_MIME_TYPE = 'text/html';\n",
       "  var EXEC_MIME_TYPE = 'application/vnd.bokehjs_exec.v0+json';\n",
       "  var CLASS_NAME = 'output_bokeh rendered_html';\n",
       "\n",
       "  /**\n",
       "   * Render data to the DOM node\n",
       "   */\n",
       "  function render(props, node) {\n",
       "    var script = document.createElement(\"script\");\n",
       "    node.appendChild(script);\n",
       "  }\n",
       "\n",
       "  /**\n",
       "   * Handle when an output is cleared or removed\n",
       "   */\n",
       "  function handleClearOutput(event, handle) {\n",
       "    var cell = handle.cell;\n",
       "\n",
       "    var id = cell.output_area._bokeh_element_id;\n",
       "    var server_id = cell.output_area._bokeh_server_id;\n",
       "    // Clean up Bokeh references\n",
       "    if (id != null && id in Bokeh.index) {\n",
       "      Bokeh.index[id].model.document.clear();\n",
       "      delete Bokeh.index[id];\n",
       "    }\n",
       "\n",
       "    if (server_id !== undefined) {\n",
       "      // Clean up Bokeh references\n",
       "      var cmd = \"from bokeh.io.state import curstate; print(curstate().uuid_to_server['\" + server_id + \"'].get_sessions()[0].document.roots[0]._id)\";\n",
       "      cell.notebook.kernel.execute(cmd, {\n",
       "        iopub: {\n",
       "          output: function(msg) {\n",
       "            var id = msg.content.text.trim();\n",
       "            if (id in Bokeh.index) {\n",
       "              Bokeh.index[id].model.document.clear();\n",
       "              delete Bokeh.index[id];\n",
       "            }\n",
       "          }\n",
       "        }\n",
       "      });\n",
       "      // Destroy server and session\n",
       "      var cmd = \"import bokeh.io.notebook as ion; ion.destroy_server('\" + server_id + \"')\";\n",
       "      cell.notebook.kernel.execute(cmd);\n",
       "    }\n",
       "  }\n",
       "\n",
       "  /**\n",
       "   * Handle when a new output is added\n",
       "   */\n",
       "  function handleAddOutput(event, handle) {\n",
       "    var output_area = handle.output_area;\n",
       "    var output = handle.output;\n",
       "\n",
       "    // limit handleAddOutput to display_data with EXEC_MIME_TYPE content only\n",
       "    if ((output.output_type != \"display_data\") || (!Object.prototype.hasOwnProperty.call(output.data, EXEC_MIME_TYPE))) {\n",
       "      return\n",
       "    }\n",
       "\n",
       "    var toinsert = output_area.element.find(\".\" + CLASS_NAME.split(' ')[0]);\n",
       "\n",
       "    if (output.metadata[EXEC_MIME_TYPE][\"id\"] !== undefined) {\n",
       "      toinsert[toinsert.length - 1].firstChild.textContent = output.data[JS_MIME_TYPE];\n",
       "      // store reference to embed id on output_area\n",
       "      output_area._bokeh_element_id = output.metadata[EXEC_MIME_TYPE][\"id\"];\n",
       "    }\n",
       "    if (output.metadata[EXEC_MIME_TYPE][\"server_id\"] !== undefined) {\n",
       "      var bk_div = document.createElement(\"div\");\n",
       "      bk_div.innerHTML = output.data[HTML_MIME_TYPE];\n",
       "      var script_attrs = bk_div.children[0].attributes;\n",
       "      for (var i = 0; i < script_attrs.length; i++) {\n",
       "        toinsert[toinsert.length - 1].firstChild.setAttribute(script_attrs[i].name, script_attrs[i].value);\n",
       "        toinsert[toinsert.length - 1].firstChild.textContent = bk_div.children[0].textContent\n",
       "      }\n",
       "      // store reference to server id on output_area\n",
       "      output_area._bokeh_server_id = output.metadata[EXEC_MIME_TYPE][\"server_id\"];\n",
       "    }\n",
       "  }\n",
       "\n",
       "  function register_renderer(events, OutputArea) {\n",
       "\n",
       "    function append_mime(data, metadata, element) {\n",
       "      // create a DOM node to render to\n",
       "      var toinsert = this.create_output_subarea(\n",
       "        metadata,\n",
       "        CLASS_NAME,\n",
       "        EXEC_MIME_TYPE\n",
       "      );\n",
       "      this.keyboard_manager.register_events(toinsert);\n",
       "      // Render to node\n",
       "      var props = {data: data, metadata: metadata[EXEC_MIME_TYPE]};\n",
       "      render(props, toinsert[toinsert.length - 1]);\n",
       "      element.append(toinsert);\n",
       "      return toinsert\n",
       "    }\n",
       "\n",
       "    /* Handle when an output is cleared or removed */\n",
       "    events.on('clear_output.CodeCell', handleClearOutput);\n",
       "    events.on('delete.Cell', handleClearOutput);\n",
       "\n",
       "    /* Handle when a new output is added */\n",
       "    events.on('output_added.OutputArea', handleAddOutput);\n",
       "\n",
       "    /**\n",
       "     * Register the mime type and append_mime function with output_area\n",
       "     */\n",
       "    OutputArea.prototype.register_mime_type(EXEC_MIME_TYPE, append_mime, {\n",
       "      /* Is output safe? */\n",
       "      safe: true,\n",
       "      /* Index of renderer in `output_area.display_order` */\n",
       "      index: 0\n",
       "    });\n",
       "  }\n",
       "\n",
       "  // register the mime type if in Jupyter Notebook environment and previously unregistered\n",
       "  if (root.Jupyter !== undefined) {\n",
       "    var events = require('base/js/events');\n",
       "    var OutputArea = require('notebook/js/outputarea').OutputArea;\n",
       "\n",
       "    if (OutputArea.prototype.mime_types().indexOf(EXEC_MIME_TYPE) == -1) {\n",
       "      register_renderer(events, OutputArea);\n",
       "    }\n",
       "  }\n",
       "\n",
       "  \n",
       "  if (typeof (root._bokeh_timeout) === \"undefined\" || force === true) {\n",
       "    root._bokeh_timeout = Date.now() + 5000;\n",
       "    root._bokeh_failed_load = false;\n",
       "  }\n",
       "\n",
       "  var NB_LOAD_WARNING = {'data': {'text/html':\n",
       "     \"<div style='background-color: #fdd'>\\n\"+\n",
       "     \"<p>\\n\"+\n",
       "     \"BokehJS does not appear to have successfully loaded. If loading BokehJS from CDN, this \\n\"+\n",
       "     \"may be due to a slow or bad network connection. Possible fixes:\\n\"+\n",
       "     \"</p>\\n\"+\n",
       "     \"<ul>\\n\"+\n",
       "     \"<li>re-rerun `output_notebook()` to attempt to load from CDN again, or</li>\\n\"+\n",
       "     \"<li>use INLINE resources instead, as so:</li>\\n\"+\n",
       "     \"</ul>\\n\"+\n",
       "     \"<code>\\n\"+\n",
       "     \"from bokeh.resources import INLINE\\n\"+\n",
       "     \"output_notebook(resources=INLINE)\\n\"+\n",
       "     \"</code>\\n\"+\n",
       "     \"</div>\"}};\n",
       "\n",
       "  function display_loaded() {\n",
       "    var el = document.getElementById(\"1002\");\n",
       "    if (el != null) {\n",
       "      el.textContent = \"BokehJS is loading...\";\n",
       "    }\n",
       "    if (root.Bokeh !== undefined) {\n",
       "      if (el != null) {\n",
       "        el.textContent = \"BokehJS \" + root.Bokeh.version + \" successfully loaded.\";\n",
       "      }\n",
       "    } else if (Date.now() < root._bokeh_timeout) {\n",
       "      setTimeout(display_loaded, 100)\n",
       "    }\n",
       "  }\n",
       "\n",
       "\n",
       "  function run_callbacks() {\n",
       "    try {\n",
       "      root._bokeh_onload_callbacks.forEach(function(callback) {\n",
       "        if (callback != null)\n",
       "          callback();\n",
       "      });\n",
       "    } finally {\n",
       "      delete root._bokeh_onload_callbacks\n",
       "    }\n",
       "    console.debug(\"Bokeh: all callbacks have finished\");\n",
       "  }\n",
       "\n",
       "  function load_libs(css_urls, js_urls, callback) {\n",
       "    if (css_urls == null) css_urls = [];\n",
       "    if (js_urls == null) js_urls = [];\n",
       "\n",
       "    root._bokeh_onload_callbacks.push(callback);\n",
       "    if (root._bokeh_is_loading > 0) {\n",
       "      console.debug(\"Bokeh: BokehJS is being loaded, scheduling callback at\", now());\n",
       "      return null;\n",
       "    }\n",
       "    if (js_urls == null || js_urls.length === 0) {\n",
       "      run_callbacks();\n",
       "      return null;\n",
       "    }\n",
       "    console.debug(\"Bokeh: BokehJS not loaded, scheduling load and callback at\", now());\n",
       "    root._bokeh_is_loading = css_urls.length + js_urls.length;\n",
       "\n",
       "    function on_load() {\n",
       "      root._bokeh_is_loading--;\n",
       "      if (root._bokeh_is_loading === 0) {\n",
       "        console.debug(\"Bokeh: all BokehJS libraries/stylesheets loaded\");\n",
       "        run_callbacks()\n",
       "      }\n",
       "    }\n",
       "\n",
       "    function on_error(url) {\n",
       "      console.error(\"failed to load \" + url);\n",
       "    }\n",
       "\n",
       "    for (let i = 0; i < css_urls.length; i++) {\n",
       "      const url = css_urls[i];\n",
       "      const element = document.createElement(\"link\");\n",
       "      element.onload = on_load;\n",
       "      element.onerror = on_error.bind(null, url);\n",
       "      element.rel = \"stylesheet\";\n",
       "      element.type = \"text/css\";\n",
       "      element.href = url;\n",
       "      console.debug(\"Bokeh: injecting link tag for BokehJS stylesheet: \", url);\n",
       "      document.body.appendChild(element);\n",
       "    }\n",
       "\n",
       "    const hashes = {\"https://cdn.bokeh.org/bokeh/release/bokeh-2.3.3.min.js\": \"dM3QQsP+wXdHg42wTqW85BjZQdLNNIXqlPw/BgKoExPmTG7ZLML4EGqLMfqHT6ON\", \"https://cdn.bokeh.org/bokeh/release/bokeh-tables-2.3.3.min.js\": \"8x57I4YuIfu8XyZfFo0XVr2WAT8EK4rh/uDe3wF7YuW2FNUSNEpJbsPaB1nJ2fz2\", \"https://cdn.bokeh.org/bokeh/release/bokeh-widgets-2.3.3.min.js\": \"3QTqdz9LyAm2i0sG5XTePsHec3UHWwVsrOL68SYRoAXsafvfAyqtQ+h440+qIBhS\"};\n",
       "\n",
       "    for (let i = 0; i < js_urls.length; i++) {\n",
       "      const url = js_urls[i];\n",
       "      const element = document.createElement('script');\n",
       "      element.onload = on_load;\n",
       "      element.onerror = on_error.bind(null, url);\n",
       "      element.async = false;\n",
       "      element.src = url;\n",
       "      if (url in hashes) {\n",
       "        element.crossOrigin = \"anonymous\";\n",
       "        element.integrity = \"sha384-\" + hashes[url];\n",
       "      }\n",
       "      console.debug(\"Bokeh: injecting script tag for BokehJS library: \", url);\n",
       "      document.head.appendChild(element);\n",
       "    }\n",
       "  };\n",
       "\n",
       "  function inject_raw_css(css) {\n",
       "    const element = document.createElement(\"style\");\n",
       "    element.appendChild(document.createTextNode(css));\n",
       "    document.body.appendChild(element);\n",
       "  }\n",
       "\n",
       "  \n",
       "  var js_urls = [\"https://cdn.bokeh.org/bokeh/release/bokeh-2.3.3.min.js\", \"https://cdn.bokeh.org/bokeh/release/bokeh-widgets-2.3.3.min.js\", \"https://cdn.bokeh.org/bokeh/release/bokeh-tables-2.3.3.min.js\"];\n",
       "  var css_urls = [];\n",
       "  \n",
       "\n",
       "  var inline_js = [\n",
       "    function(Bokeh) {\n",
       "      Bokeh.set_log_level(\"info\");\n",
       "    },\n",
       "    function(Bokeh) {\n",
       "    \n",
       "    \n",
       "    }\n",
       "  ];\n",
       "\n",
       "  function run_inline_js() {\n",
       "    \n",
       "    if (root.Bokeh !== undefined || force === true) {\n",
       "      \n",
       "    for (var i = 0; i < inline_js.length; i++) {\n",
       "      inline_js[i].call(root, root.Bokeh);\n",
       "    }\n",
       "    if (force === true) {\n",
       "        display_loaded();\n",
       "      }} else if (Date.now() < root._bokeh_timeout) {\n",
       "      setTimeout(run_inline_js, 100);\n",
       "    } else if (!root._bokeh_failed_load) {\n",
       "      console.log(\"Bokeh: BokehJS failed to load within specified timeout.\");\n",
       "      root._bokeh_failed_load = true;\n",
       "    } else if (force !== true) {\n",
       "      var cell = $(document.getElementById(\"1002\")).parents('.cell').data().cell;\n",
       "      cell.output_area.append_execute_result(NB_LOAD_WARNING)\n",
       "    }\n",
       "\n",
       "  }\n",
       "\n",
       "  if (root._bokeh_is_loading === 0) {\n",
       "    console.debug(\"Bokeh: BokehJS loaded, going straight to plotting\");\n",
       "    run_inline_js();\n",
       "  } else {\n",
       "    load_libs(css_urls, js_urls, function() {\n",
       "      console.debug(\"Bokeh: BokehJS plotting callback run at\", now());\n",
       "      run_inline_js();\n",
       "    });\n",
       "  }\n",
       "}(window));"
      ],
      "application/vnd.bokehjs_load.v0+json": "\n(function(root) {\n  function now() {\n    return new Date();\n  }\n\n  var force = true;\n\n  if (typeof root._bokeh_onload_callbacks === \"undefined\" || force === true) {\n    root._bokeh_onload_callbacks = [];\n    root._bokeh_is_loading = undefined;\n  }\n\n  \n\n  \n  if (typeof (root._bokeh_timeout) === \"undefined\" || force === true) {\n    root._bokeh_timeout = Date.now() + 5000;\n    root._bokeh_failed_load = false;\n  }\n\n  var NB_LOAD_WARNING = {'data': {'text/html':\n     \"<div style='background-color: #fdd'>\\n\"+\n     \"<p>\\n\"+\n     \"BokehJS does not appear to have successfully loaded. If loading BokehJS from CDN, this \\n\"+\n     \"may be due to a slow or bad network connection. Possible fixes:\\n\"+\n     \"</p>\\n\"+\n     \"<ul>\\n\"+\n     \"<li>re-rerun `output_notebook()` to attempt to load from CDN again, or</li>\\n\"+\n     \"<li>use INLINE resources instead, as so:</li>\\n\"+\n     \"</ul>\\n\"+\n     \"<code>\\n\"+\n     \"from bokeh.resources import INLINE\\n\"+\n     \"output_notebook(resources=INLINE)\\n\"+\n     \"</code>\\n\"+\n     \"</div>\"}};\n\n  function display_loaded() {\n    var el = document.getElementById(\"1002\");\n    if (el != null) {\n      el.textContent = \"BokehJS is loading...\";\n    }\n    if (root.Bokeh !== undefined) {\n      if (el != null) {\n        el.textContent = \"BokehJS \" + root.Bokeh.version + \" successfully loaded.\";\n      }\n    } else if (Date.now() < root._bokeh_timeout) {\n      setTimeout(display_loaded, 100)\n    }\n  }\n\n\n  function run_callbacks() {\n    try {\n      root._bokeh_onload_callbacks.forEach(function(callback) {\n        if (callback != null)\n          callback();\n      });\n    } finally {\n      delete root._bokeh_onload_callbacks\n    }\n    console.debug(\"Bokeh: all callbacks have finished\");\n  }\n\n  function load_libs(css_urls, js_urls, callback) {\n    if (css_urls == null) css_urls = [];\n    if (js_urls == null) js_urls = [];\n\n    root._bokeh_onload_callbacks.push(callback);\n    if (root._bokeh_is_loading > 0) {\n      console.debug(\"Bokeh: BokehJS is being loaded, scheduling callback at\", now());\n      return null;\n    }\n    if (js_urls == null || js_urls.length === 0) {\n      run_callbacks();\n      return null;\n    }\n    console.debug(\"Bokeh: BokehJS not loaded, scheduling load and callback at\", now());\n    root._bokeh_is_loading = css_urls.length + js_urls.length;\n\n    function on_load() {\n      root._bokeh_is_loading--;\n      if (root._bokeh_is_loading === 0) {\n        console.debug(\"Bokeh: all BokehJS libraries/stylesheets loaded\");\n        run_callbacks()\n      }\n    }\n\n    function on_error(url) {\n      console.error(\"failed to load \" + url);\n    }\n\n    for (let i = 0; i < css_urls.length; i++) {\n      const url = css_urls[i];\n      const element = document.createElement(\"link\");\n      element.onload = on_load;\n      element.onerror = on_error.bind(null, url);\n      element.rel = \"stylesheet\";\n      element.type = \"text/css\";\n      element.href = url;\n      console.debug(\"Bokeh: injecting link tag for BokehJS stylesheet: \", url);\n      document.body.appendChild(element);\n    }\n\n    const hashes = {\"https://cdn.bokeh.org/bokeh/release/bokeh-2.3.3.min.js\": \"dM3QQsP+wXdHg42wTqW85BjZQdLNNIXqlPw/BgKoExPmTG7ZLML4EGqLMfqHT6ON\", \"https://cdn.bokeh.org/bokeh/release/bokeh-tables-2.3.3.min.js\": \"8x57I4YuIfu8XyZfFo0XVr2WAT8EK4rh/uDe3wF7YuW2FNUSNEpJbsPaB1nJ2fz2\", \"https://cdn.bokeh.org/bokeh/release/bokeh-widgets-2.3.3.min.js\": \"3QTqdz9LyAm2i0sG5XTePsHec3UHWwVsrOL68SYRoAXsafvfAyqtQ+h440+qIBhS\"};\n\n    for (let i = 0; i < js_urls.length; i++) {\n      const url = js_urls[i];\n      const element = document.createElement('script');\n      element.onload = on_load;\n      element.onerror = on_error.bind(null, url);\n      element.async = false;\n      element.src = url;\n      if (url in hashes) {\n        element.crossOrigin = \"anonymous\";\n        element.integrity = \"sha384-\" + hashes[url];\n      }\n      console.debug(\"Bokeh: injecting script tag for BokehJS library: \", url);\n      document.head.appendChild(element);\n    }\n  };\n\n  function inject_raw_css(css) {\n    const element = document.createElement(\"style\");\n    element.appendChild(document.createTextNode(css));\n    document.body.appendChild(element);\n  }\n\n  \n  var js_urls = [\"https://cdn.bokeh.org/bokeh/release/bokeh-2.3.3.min.js\", \"https://cdn.bokeh.org/bokeh/release/bokeh-widgets-2.3.3.min.js\", \"https://cdn.bokeh.org/bokeh/release/bokeh-tables-2.3.3.min.js\"];\n  var css_urls = [];\n  \n\n  var inline_js = [\n    function(Bokeh) {\n      Bokeh.set_log_level(\"info\");\n    },\n    function(Bokeh) {\n    \n    \n    }\n  ];\n\n  function run_inline_js() {\n    \n    if (root.Bokeh !== undefined || force === true) {\n      \n    for (var i = 0; i < inline_js.length; i++) {\n      inline_js[i].call(root, root.Bokeh);\n    }\n    if (force === true) {\n        display_loaded();\n      }} else if (Date.now() < root._bokeh_timeout) {\n      setTimeout(run_inline_js, 100);\n    } else if (!root._bokeh_failed_load) {\n      console.log(\"Bokeh: BokehJS failed to load within specified timeout.\");\n      root._bokeh_failed_load = true;\n    } else if (force !== true) {\n      var cell = $(document.getElementById(\"1002\")).parents('.cell').data().cell;\n      cell.output_area.append_execute_result(NB_LOAD_WARNING)\n    }\n\n  }\n\n  if (root._bokeh_is_loading === 0) {\n    console.debug(\"Bokeh: BokehJS loaded, going straight to plotting\");\n    run_inline_js();\n  } else {\n    load_libs(css_urls, js_urls, function() {\n      console.debug(\"Bokeh: BokehJS plotting callback run at\", now());\n      run_inline_js();\n    });\n  }\n}(window));"
     },
     "metadata": {},
     "output_type": "display_data"
    }
   ],
   "source": [
    "from genepy.utils import helper as h\n",
    "\n",
    "from taigapy import TaigaClient\n",
    "from celligner import Celligner\n",
    "tc = TaigaClient()\n",
    "from bokeh.plotting import output_notebook\n",
    "from depmapomics import tracker as track\n",
    "#autoreload\n",
    "%load_ext autoreload\n",
    "%autoreload 2\n",
    "output_notebook()"
   ]
  },
  {
   "cell_type": "code",
   "execution_count": 5,
   "metadata": {
    "ExecuteTime": {
     "end_time": "2021-09-16T13:44:59.653381Z",
     "start_time": "2021-09-16T13:44:54.385229Z"
    }
   },
   "outputs": [
    {
     "name": "stdout",
     "output_type": "stream",
     "text": [
      "No dataset version provided. Using version 16.\n",
      "No dataset version provided. Using version 1.\n"
     ]
    }
   ],
   "source": [
    "# load from taiga public (figshare link)\n",
    "# load internal expression,\n",
    "CCLE_expression = tc.get(name='internal-21q3-fe4c',\n",
    "                         file='CCLE_expression_full')  # https://depmap.org/portal/download/\n",
    "# load  TCGA expression\n",
    "# this dataset was generated from  ,using this script: \n",
    "# caan be found here:\n",
    "TCGA_expression = tc.get(name='celligner-input-9827',\n",
    "                         file='tumor_expression')"
   ]
  },
  {
   "cell_type": "code",
   "execution_count": 43,
   "metadata": {
    "ExecuteTime": {
     "end_time": "2021-09-16T14:09:38.962193Z",
     "start_time": "2021-09-16T14:09:36.281042Z"
    }
   },
   "outputs": [],
   "source": [
    "# subset gene names to ensembl ids only\n",
    "CCLE_expression = CCLE_expression[CCLE_expression.columns[:-92]]\n",
    "CCLE_expression.columns = list(map(lambda x: x.split(\n",
    "    ' (')[1][:-1] if ' (' in x else x, CCLE_expression.columns))\n",
    "\n",
    "common = set(CCLE_expression.columns).intersection(\n",
    "    set(TCGA_expression.columns))\n",
    "CCLE_expression = CCLE_expression[list(common)]\n",
    "TCGA_expression = TCGA_expression[list(common)]"
   ]
  },
  {
   "cell_type": "code",
   "execution_count": 31,
   "metadata": {
    "ExecuteTime": {
     "end_time": "2021-09-16T14:00:47.961361Z",
     "start_time": "2021-09-16T14:00:45.026858Z"
    }
   },
   "outputs": [
    {
     "name": "stdout",
     "output_type": "stream",
     "text": [
      "No dataset version provided. Using version 1.\n"
     ]
    }
   ],
   "source": [
    "# loading annotations\n",
    "CCLE_annotation = track.getTracker() # the function uses pygsheets to load this: https://docs.google.com/spreadsheets/d/1Pgb5fIClGnErEqzxpU7qqX6ULpGTDjvzWwDN8XUJKIY/edit#gid=746987867 \n",
    "TCGA_annotation = tc.get(name='celligner-input-9827',\n",
    "                         file='tumor_annotations') # generated manually, found also here: "
   ]
  },
  {
   "cell_type": "code",
   "execution_count": 32,
   "metadata": {
    "ExecuteTime": {
     "end_time": "2021-09-16T14:00:49.273139Z",
     "start_time": "2021-09-16T14:00:49.215730Z"
    }
   },
   "outputs": [],
   "source": [
    "# transforming annotations\n",
    "CCLE_annotation = CCLE_annotation.drop_duplicates('arxspan_id').set_index(\"arxspan_id\")\n",
    "CCLE_annotation = CCLE_annotation.loc[CCLE_expression.index, [\"origin\", 'subtype']].rename(columns={\"origin\": \"tissue_type\", \"subtype\": 'disease_type'})\n",
    "CCLE_annotation[\"cell_type\"] = \"cancer cell line\"\n",
    "\n",
    "TCGA_annotation = TCGA_annotation.set_index(\"sampleID\").loc[TCGA_expression.index,[\"lineage\",\n",
    "\"subtype\"]].rename({\"lineage\":\"tissue_type\", \"subtype\": 'disease_type'})\n",
    "TCGA_annotation['cell_type'] = \"tumor sample\""
   ]
  },
  {
   "cell_type": "code",
   "execution_count": 35,
   "metadata": {
    "ExecuteTime": {
     "end_time": "2021-09-16T14:01:03.621628Z",
     "start_time": "2021-09-16T14:01:03.588941Z"
    }
   },
   "outputs": [
    {
     "ename": "SyntaxError",
     "evalue": "invalid syntax (<ipython-input-35-d0d98637db54>, line 1)",
     "output_type": "error",
     "traceback": [
      "\u001b[0;36m  File \u001b[0;32m\"<ipython-input-35-d0d98637db54>\"\u001b[0;36m, line \u001b[0;32m1\u001b[0m\n\u001b[0;31m    TCGA_expression.index TCGA_annotation.index\u001b[0m\n\u001b[0m                                        ^\u001b[0m\n\u001b[0;31mSyntaxError\u001b[0m\u001b[0;31m:\u001b[0m invalid syntax\n"
     ]
    }
   ],
   "source": [
    "TCGA_expression.index TCGA_annotation.index"
   ]
  },
  {
   "cell_type": "code",
   "execution_count": 39,
   "metadata": {
    "ExecuteTime": {
     "end_time": "2021-09-16T14:03:55.265109Z",
     "start_time": "2021-09-16T14:02:14.792658Z"
    },
    "scrolled": true
   },
   "outputs": [
    {
     "name": "stdout",
     "output_type": "stream",
     "text": [
      "fetching gene names from biomart cache\n",
      "using only usefull genes\n",
      "looking at 800 samples.\n",
      "found 33980 common genes\n",
      "creating a fit dataset..\n",
      "reducing dimensionality...\n",
      "clustering...\n"
     ]
    },
    {
     "data": {
      "text/html": [
       "\n",
       "\n",
       "\n",
       "\n",
       "\n",
       "\n",
       "  <div class=\"bk-root\" id=\"5afaa91e-e0c4-47a3-843e-fc174d5481df\" data-root-id=\"1004\"></div>\n"
      ]
     },
     "metadata": {},
     "output_type": "display_data"
    },
    {
     "data": {
      "application/javascript": [
       "(function(root) {\n",
       "  function embed_document(root) {\n",
       "    \n",
       "  var docs_json = {\"1b81e2a3-5093-43bc-a41b-2070fd0700ec\":{\"defs\":[],\"roots\":{\"references\":[{\"attributes\":{\"below\":[{\"id\":\"1015\"}],\"center\":[{\"id\":\"1018\"},{\"id\":\"1022\"}],\"left\":[{\"id\":\"1019\"}],\"output_backend\":\"svg\",\"renderers\":[{\"id\":\"1056\"}],\"title\":{\"id\":\"1005\"},\"toolbar\":{\"id\":\"1039\"},\"x_range\":{\"id\":\"1007\"},\"x_scale\":{\"id\":\"1011\"},\"y_range\":{\"id\":\"1009\"},\"y_scale\":{\"id\":\"1013\"}},\"id\":\"1004\",\"subtype\":\"Figure\",\"type\":\"Plot\"},{\"attributes\":{\"axis_label\":\"UMAP2\",\"formatter\":{\"id\":\"1060\"},\"major_label_policy\":{\"id\":\"1059\"},\"ticker\":{\"id\":\"1020\"}},\"id\":\"1019\",\"type\":\"LinearAxis\"},{\"attributes\":{\"overlay\":{\"id\":\"1036\"}},\"id\":\"1034\",\"type\":\"BoxSelectTool\"},{\"attributes\":{\"callback\":null,\"tooltips\":[[\"(x,y)\",\"(@x, @y)\"],[\"label\",\"@labels\"]]},\"id\":\"1023\",\"type\":\"HoverTool\"},{\"attributes\":{\"axis_label\":\"UMAP1\",\"formatter\":{\"id\":\"1063\"},\"major_label_policy\":{\"id\":\"1062\"},\"ticker\":{\"id\":\"1016\"}},\"id\":\"1015\",\"type\":\"LinearAxis\"},{\"attributes\":{\"overlay\":{\"id\":\"1038\"}},\"id\":\"1035\",\"type\":\"LassoSelectTool\"},{\"attributes\":{\"bottom_units\":\"screen\",\"fill_alpha\":0.5,\"fill_color\":\"lightgrey\",\"left_units\":\"screen\",\"level\":\"overlay\",\"line_alpha\":1.0,\"line_color\":\"black\",\"line_dash\":[4,4],\"line_width\":2,\"right_units\":\"screen\",\"syncable\":false,\"top_units\":\"screen\"},\"id\":\"1037\",\"type\":\"BoxAnnotation\"},{\"attributes\":{},\"id\":\"1024\",\"type\":\"CrosshairTool\"},{\"attributes\":{},\"id\":\"1009\",\"type\":\"DataRange1d\"},{\"attributes\":{\"axis\":{\"id\":\"1015\"},\"ticker\":null},\"id\":\"1018\",\"type\":\"Grid\"},{\"attributes\":{\"active_multi\":null,\"tools\":[{\"id\":\"1023\"},{\"id\":\"1024\"},{\"id\":\"1025\"},{\"id\":\"1026\"},{\"id\":\"1027\"},{\"id\":\"1028\"},{\"id\":\"1029\"},{\"id\":\"1030\"},{\"id\":\"1031\"},{\"id\":\"1032\"},{\"id\":\"1033\"},{\"id\":\"1034\"},{\"id\":\"1035\"}]},\"id\":\"1039\",\"type\":\"Toolbar\"},{\"attributes\":{\"axis\":{\"id\":\"1019\"},\"dimension\":1,\"ticker\":null},\"id\":\"1022\",\"type\":\"Grid\"},{\"attributes\":{\"bottom_units\":\"screen\",\"fill_alpha\":0.5,\"fill_color\":\"lightgrey\",\"left_units\":\"screen\",\"level\":\"overlay\",\"line_alpha\":1.0,\"line_color\":\"black\",\"line_dash\":[4,4],\"line_width\":2,\"right_units\":\"screen\",\"syncable\":false,\"top_units\":\"screen\"},\"id\":\"1036\",\"type\":\"BoxAnnotation\"},{\"attributes\":{\"fill_alpha\":{\"field\":\"fill_alpha\"},\"fill_color\":{\"field\":\"fill_color\"},\"line_color\":{\"field\":\"fill_color\"},\"line_width\":{\"value\":0},\"radius\":{\"field\":\"radius\"},\"x\":{\"field\":\"x\"},\"y\":{\"field\":\"y\"}},\"id\":\"1054\",\"type\":\"Circle\"},{\"attributes\":{\"fill_alpha\":{\"value\":0.1},\"fill_color\":{\"field\":\"fill_color\"},\"line_alpha\":{\"value\":0.1},\"line_color\":{\"field\":\"fill_color\"},\"line_width\":{\"value\":0},\"radius\":{\"field\":\"radius\"},\"x\":{\"field\":\"x\"},\"y\":{\"field\":\"y\"}},\"id\":\"1055\",\"type\":\"Circle\"},{\"attributes\":{\"fill_alpha\":0.5,\"fill_color\":\"lightgrey\",\"level\":\"overlay\",\"line_alpha\":1.0,\"line_color\":\"black\",\"line_dash\":[4,4],\"line_width\":2,\"syncable\":false,\"xs_units\":\"screen\",\"ys_units\":\"screen\"},\"id\":\"1038\",\"type\":\"PolyAnnotation\"},{\"attributes\":{},\"id\":\"1026\",\"type\":\"WheelZoomTool\"},{\"attributes\":{\"data_source\":{\"id\":\"1003\"},\"glyph\":{\"id\":\"1054\"},\"hover_glyph\":null,\"muted_glyph\":null,\"nonselection_glyph\":{\"id\":\"1055\"},\"view\":{\"id\":\"1057\"}},\"id\":\"1056\",\"type\":\"GlyphRenderer\"},{\"attributes\":{},\"id\":\"1027\",\"type\":\"ZoomInTool\"},{\"attributes\":{},\"id\":\"1013\",\"type\":\"LinearScale\"},{\"attributes\":{},\"id\":\"1020\",\"type\":\"BasicTicker\"},{\"attributes\":{},\"id\":\"1011\",\"type\":\"LinearScale\"},{\"attributes\":{},\"id\":\"1007\",\"type\":\"DataRange1d\"},{\"attributes\":{},\"id\":\"1028\",\"type\":\"ZoomOutTool\"},{\"attributes\":{},\"id\":\"1062\",\"type\":\"AllLabels\"},{\"attributes\":{\"data\":{\"fill_alpha\":[0.8,0.8,0.8,0.8,0.8,0.8,0.8,0.8,0.8,0.8,0.8,0.8,0.8,0.8,0.8,0.8,0.8,0.8,0.8,0.8,0.8,0.8,0.8,0.8,0.8,0.8,0.8,0.8,0.8,0.8,0.8,0.8,0.8,0.8,0.8,0.8,0.8,0.8,0.8,0.8,0.8,0.8,0.8,0.8,0.8,0.8,0.8,0.8,0.8,0.8,0.8,0.8,0.8,0.8,0.8,0.8,0.8,0.8,0.8,0.8,0.8,0.8,0.8,0.8,0.8,0.8,0.8,0.8,0.8,0.8,0.8,0.8,0.8,0.8,0.8,0.8,0.8,0.8,0.8,0.8,0.8,0.8,0.8,0.8,0.8,0.8,0.8,0.8,0.8,0.8,0.8,0.8,0.8,0.8,0.8,0.8,0.8,0.8,0.8,0.8,0.8,0.8,0.8,0.8,0.8,0.8,0.8,0.8,0.8,0.8,0.8,0.8,0.8,0.8,0.8,0.8,0.8,0.8,0.8,0.8,0.8,0.8,0.8,0.8,0.8,0.8,0.8,0.8,0.8,0.8,0.8,0.8,0.8,0.8,0.8,0.8,0.8,0.8,0.8,0.8,0.8,0.8,0.8,0.8,0.8,0.8,0.8,0.8,0.8,0.8,0.8,0.8,0.8,0.8,0.8,0.8,0.8,0.8,0.8,0.8,0.8,0.8,0.8,0.8,0.8,0.8,0.8,0.8,0.8,0.8,0.8,0.8,0.8,0.8,0.8,0.8,0.8,0.8,0.8,0.8,0.8,0.8,0.8,0.8,0.8,0.8,0.8,0.8,0.8,0.8,0.8,0.8,0.8,0.8,0.8,0.8,0.8,0.8,0.8,0.8,0.8,0.8,0.8,0.8,0.8,0.8,0.8,0.8,0.8,0.8,0.8,0.8,0.8,0.8,0.8,0.8,0.8,0.8,0.8,0.8,0.8,0.8,0.8,0.8,0.8,0.8,0.8,0.8,0.8,0.8,0.8,0.8,0.8,0.8,0.8,0.8,0.8,0.8,0.8,0.8,0.8,0.8,0.8,0.8,0.8,0.8,0.8,0.8,0.8,0.8,0.8,0.8,0.8,0.8,0.8,0.8,0.8,0.8,0.8,0.8,0.8,0.8,0.8,0.8,0.8,0.8,0.8,0.8,0.8,0.8,0.8,0.8,0.8,0.8,0.8,0.8,0.8,0.8,0.8,0.8,0.8,0.8,0.8,0.8,0.8,0.8,0.8,0.8,0.8,0.8,0.8,0.8,0.8,0.8,0.8,0.8,0.8,0.8,0.8,0.8,0.8,0.8,0.8,0.8,0.8,0.8,0.8,0.8,0.8,0.8,0.8,0.8,0.8,0.8,0.8,0.8,0.8,0.8,0.8,0.8,0.8,0.8,0.8,0.8,0.8,0.8,0.8,0.8,0.8,0.8,0.8,0.8,0.8,0.8,0.8,0.8,0.8,0.8,0.8,0.8,0.8,0.8,0.8,0.8,0.8,0.8,0.8,0.8,0.8,0.8,0.8,0.8,0.8,0.8,0.8,0.8,0.8,0.8,0.8,0.8,0.8,0.8,0.8,0.8,0.8,0.8,0.8,0.8,0.8,0.8,0.8,0.8,0.8,0.8,0.8,0.8,0.8,0.8,0.8,0.8,0.8,0.8,0.8,0.8,0.8,0.8,0.8,0.8,0.8,0.8,0.8,0.8,0.8,0.8,0.8,0.8,0.8,0.8,0.8,0.8,0.8,0.8,0.8,0.8,0.8,0.8,0.8,0.8,0.8,0.8,0.8,0.8,0.8,0.8,0.8,0.8,0.8,0.8,0.8,0.8,0.8,0.8,0.8,0.8,0.8,0.8,0.8,0.8,0.8,0.8,0.8,0.8,0.8,0.8,0.8,0.8,0.8,0.8,0.8,0.8,0.8,0.8,0.8,0.8,0.8,0.8,0.8,0.8,0.8,0.8,0.8,0.8,0.8,0.8,0.8,0.8,0.8,0.8,0.8,0.8,0.8,0.8,0.8,0.8,0.8,0.8,0.8,0.8,0.8,0.8,0.8,0.8,0.8,0.8,0.8,0.8,0.8,0.8,0.8,0.8,0.8,0.8,0.8,0.8,0.8,0.8,0.8,0.8,0.8,0.8,0.8,0.8,0.8,0.8,0.8,0.8,0.8,0.8,0.8,0.8,0.8,0.8,0.8,0.8,0.8,0.8,0.8,0.8,0.8,0.8,0.8,0.8,0.8,0.8,0.8,0.8,0.8,0.8,0.8,0.8,0.8,0.8,0.8,0.8,0.8,0.8,0.8,0.8,0.8,0.8,0.8,0.8,0.8,0.8,0.8,0.8,0.8,0.8,0.8,0.8,0.8,0.8,0.8,0.8,0.8,0.8,0.8,0.8,0.8,0.8,0.8,0.8,0.8,0.8,0.8,0.8,0.8,0.8,0.8,0.8,0.8,0.8,0.8,0.8,0.8,0.8,0.8,0.8,0.8,0.8,0.8,0.8,0.8,0.8,0.8,0.8,0.8,0.8,0.8,0.8,0.8,0.8,0.8,0.8,0.8,0.8,0.8,0.8,0.8,0.8,0.8,0.8,0.8,0.8,0.8,0.8,0.8,0.8,0.8,0.8,0.8,0.8,0.8,0.8,0.8,0.8,0.8,0.8,0.8,0.8,0.8,0.8,0.8,0.8,0.8,0.8,0.8,0.8,0.8,0.8,0.8,0.8,0.8,0.8,0.8,0.8,0.8,0.8,0.8,0.8,0.8,0.8,0.8,0.8,0.8,0.8,0.8,0.8,0.8,0.8,0.8,0.8,0.8,0.8,0.8,0.8,0.8,0.8,0.8,0.8,0.8,0.8,0.8,0.8,0.8,0.8,0.8,0.8,0.8,0.8,0.8,0.8,0.8,0.8,0.8,0.8,0.8,0.8,0.8,0.8,0.8,0.8,0.8,0.8,0.8,0.8,0.8,0.8,0.8,0.8,0.8,0.8,0.8,0.8,0.8,0.8,0.8,0.8,0.8,0.8,0.8,0.8,0.8,0.8,0.8,0.8,0.8,0.8,0.8,0.8,0.8,0.8,0.8,0.8,0.8,0.8,0.8,0.8,0.8,0.8,0.8,0.8,0.8,0.8,0.8,0.8,0.8,0.8,0.8,0.8,0.8,0.8,0.8,0.8,0.8,0.8,0.8,0.8,0.8,0.8,0.8,0.8,0.8,0.8,0.8,0.8,0.8,0.8,0.8,0.8,0.8,0.8,0.8,0.8,0.8,0.8,0.8,0.8,0.8,0.8,0.8,0.8,0.8,0.8,0.8,0.8,0.8,0.8,0.8,0.8,0.8,0.8,0.8,0.8,0.8,0.8,0.8,0.8,0.8,0.8,0.8,0.8,0.8,0.8,0.8,0.8,0.8,0.8,0.8,0.8,0.8,0.8,0.8,0.8,0.8,0.8,0.8,0.8,0.8,0.8,0.8,0.8,0.8,0.8,0.8,0.8,0.8,0.8,0.8,0.8],\"fill_color\":[\"#440154\",\"#443982\",\"#30678D\",\"#443982\",\"#440154\",\"#208F8C\",\"#30678D\",\"#208F8C\",\"#208F8C\",\"#443982\",\"#443982\",\"#443982\",\"#208F8C\",\"#208F8C\",\"#443982\",\"#208F8C\",\"#208F8C\",\"#443982\",\"#443982\",\"#443982\",\"#208F8C\",\"#443982\",\"#443982\",\"#443982\",\"#443982\",\"#208F8C\",\"#208F8C\",\"#FDE724\",\"#443982\",\"#208F8C\",\"#443982\",\"#208F8C\",\"#208F8C\",\"#208F8C\",\"#443982\",\"#443982\",\"#30678D\",\"#208F8C\",\"#208F8C\",\"#440154\",\"#443982\",\"#208F8C\",\"#443982\",\"#443982\",\"#440154\",\"#208F8C\",\"#440154\",\"#30678D\",\"#208F8C\",\"#208F8C\",\"#443982\",\"#443982\",\"#30678D\",\"#208F8C\",\"#208F8C\",\"#FDE724\",\"#443982\",\"#30678D\",\"#FDE724\",\"#30678D\",\"#30678D\",\"#208F8C\",\"#208F8C\",\"#208F8C\",\"#443982\",\"#443982\",\"#440154\",\"#443982\",\"#30678D\",\"#443982\",\"#208F8C\",\"#443982\",\"#208F8C\",\"#30678D\",\"#208F8C\",\"#30678D\",\"#30678D\",\"#35B778\",\"#30678D\",\"#35B778\",\"#30678D\",\"#443982\",\"#208F8C\",\"#208F8C\",\"#30678D\",\"#443982\",\"#208F8C\",\"#208F8C\",\"#208F8C\",\"#208F8C\",\"#30678D\",\"#30678D\",\"#208F8C\",\"#443982\",\"#443982\",\"#208F8C\",\"#30678D\",\"#30678D\",\"#208F8C\",\"#440154\",\"#30678D\",\"#30678D\",\"#440154\",\"#30678D\",\"#30678D\",\"#443982\",\"#443982\",\"#443982\",\"#208F8C\",\"#208F8C\",\"#30678D\",\"#443982\",\"#30678D\",\"#208F8C\",\"#208F8C\",\"#443982\",\"#30678D\",\"#208F8C\",\"#443982\",\"#30678D\",\"#30678D\",\"#208F8C\",\"#208F8C\",\"#443982\",\"#440154\",\"#443982\",\"#440154\",\"#443982\",\"#208F8C\",\"#443982\",\"#443982\",\"#208F8C\",\"#30678D\",\"#443982\",\"#440154\",\"#443982\",\"#443982\",\"#208F8C\",\"#208F8C\",\"#208F8C\",\"#443982\",\"#30678D\",\"#443982\",\"#208F8C\",\"#208F8C\",\"#443982\",\"#208F8C\",\"#208F8C\",\"#30678D\",\"#8DD644\",\"#208F8C\",\"#30678D\",\"#208F8C\",\"#30678D\",\"#443982\",\"#208F8C\",\"#208F8C\",\"#443982\",\"#208F8C\",\"#443982\",\"#208F8C\",\"#443982\",\"#443982\",\"#443982\",\"#8DD644\",\"#208F8C\",\"#443982\",\"#443982\",\"#443982\",\"#FDE724\",\"#208F8C\",\"#440154\",\"#440154\",\"#208F8C\",\"#443982\",\"#443982\",\"#208F8C\",\"#30678D\",\"#208F8C\",\"#30678D\",\"#443982\",\"#30678D\",\"#443982\",\"#208F8C\",\"#208F8C\",\"#30678D\",\"#208F8C\",\"#208F8C\",\"#208F8C\",\"#208F8C\",\"#208F8C\",\"#440154\",\"#8DD644\",\"#8DD644\",\"#440154\",\"#208F8C\",\"#30678D\",\"#30678D\",\"#208F8C\",\"#30678D\",\"#443982\",\"#440154\",\"#8DD644\",\"#30678D\",\"#443982\",\"#30678D\",\"#208F8C\",\"#30678D\",\"#443982\",\"#443982\",\"#30678D\",\"#443982\",\"#30678D\",\"#208F8C\",\"#30678D\",\"#443982\",\"#443982\",\"#443982\",\"#30678D\",\"#443982\",\"#30678D\",\"#443982\",\"#30678D\",\"#30678D\",\"#443982\",\"#443982\",\"#30678D\",\"#208F8C\",\"#208F8C\",\"#30678D\",\"#208F8C\",\"#30678D\",\"#208F8C\",\"#440154\",\"#443982\",\"#443982\",\"#30678D\",\"#30678D\",\"#443982\",\"#8DD644\",\"#443982\",\"#30678D\",\"#208F8C\",\"#440154\",\"#443982\",\"#443982\",\"#443982\",\"#443982\",\"#443982\",\"#443982\",\"#440154\",\"#8DD644\",\"#8DD644\",\"#208F8C\",\"#30678D\",\"#443982\",\"#208F8C\",\"#443982\",\"#208F8C\",\"#208F8C\",\"#208F8C\",\"#440154\",\"#208F8C\",\"#30678D\",\"#208F8C\",\"#208F8C\",\"#208F8C\",\"#443982\",\"#443982\",\"#443982\",\"#443982\",\"#443982\",\"#208F8C\",\"#30678D\",\"#440154\",\"#8DD644\",\"#208F8C\",\"#208F8C\",\"#30678D\",\"#208F8C\",\"#440154\",\"#443982\",\"#208F8C\",\"#443982\",\"#443982\",\"#443982\",\"#443982\",\"#443982\",\"#443982\",\"#208F8C\",\"#208F8C\",\"#440154\",\"#440154\",\"#30678D\",\"#30678D\",\"#30678D\",\"#443982\",\"#208F8C\",\"#443982\",\"#443982\",\"#443982\",\"#440154\",\"#443982\",\"#440154\",\"#443982\",\"#443982\",\"#208F8C\",\"#208F8C\",\"#443982\",\"#443982\",\"#30678D\",\"#208F8C\",\"#443982\",\"#8DD644\",\"#208F8C\",\"#208F8C\",\"#208F8C\",\"#443982\",\"#208F8C\",\"#443982\",\"#30678D\",\"#30678D\",\"#208F8C\",\"#208F8C\",\"#208F8C\",\"#440154\",\"#443982\",\"#8DD644\",\"#208F8C\",\"#443982\",\"#30678D\",\"#30678D\",\"#443982\",\"#443982\",\"#443982\",\"#30678D\",\"#208F8C\",\"#30678D\",\"#208F8C\",\"#443982\",\"#30678D\",\"#208F8C\",\"#440154\",\"#443982\",\"#443982\",\"#208F8C\",\"#208F8C\",\"#440154\",\"#208F8C\",\"#208F8C\",\"#208F8C\",\"#208F8C\",\"#208F8C\",\"#443982\",\"#30678D\",\"#30678D\",\"#443982\",\"#30678D\",\"#208F8C\",\"#443982\",\"#208F8C\",\"#443982\",\"#208F8C\",\"#208F8C\",\"#30678D\",\"#443982\",\"#443982\",\"#443982\",\"#440154\",\"#30678D\",\"#443982\",\"#443982\",\"#443982\",\"#443982\",\"#208F8C\",\"#208F8C\",\"#208F8C\",\"#443982\",\"#208F8C\",\"#208F8C\",\"#208F8C\",\"#443982\",\"#30678D\",\"#30678D\",\"#440154\",\"#30678D\",\"#208F8C\",\"#30678D\",\"#443982\",\"#443982\",\"#208F8C\",\"#FDE724\",\"#30678D\",\"#208F8C\",\"#30678D\",\"#440154\",\"#30678D\",\"#443982\",\"#443982\",\"#8DD644\",\"#443982\",\"#208F8C\",\"#208F8C\",\"#443982\",\"#443982\",\"#440154\",\"#30678D\",\"#208F8C\",\"#208F8C\",\"#208F8C\",\"#443982\",\"#208F8C\",\"#443982\",\"#443982\",\"#440154\",\"#208F8C\",\"#443982\",\"#440154\",\"#443982\",\"#443982\",\"#208F8C\",\"#443982\",\"#440154\",\"#8DD644\",\"#443982\",\"#8DD644\",\"#208F8C\",\"#440154\",\"#443982\",\"#30678D\",\"#443982\",\"#30678D\",\"#208F8C\",\"#208F8C\",\"#30678D\",\"#30678D\",\"#208F8C\",\"#443982\",\"#FDE724\",\"#443982\",\"#443982\",\"#443982\",\"#30678D\",\"#30678D\",\"#443982\",\"#443982\",\"#8DD644\",\"#440154\",\"#443982\",\"#443982\",\"#FDE724\",\"#208F8C\",\"#FDE724\",\"#30678D\",\"#30678D\",\"#443982\",\"#208F8C\",\"#FDE724\",\"#8DD644\",\"#30678D\",\"#208F8C\",\"#443982\",\"#443982\",\"#30678D\",\"#443982\",\"#443982\",\"#443982\",\"#440154\",\"#208F8C\",\"#208F8C\",\"#30678D\",\"#443982\",\"#443982\",\"#443982\",\"#30678D\",\"#208F8C\",\"#208F8C\",\"#208F8C\",\"#443982\",\"#30678D\",\"#208F8C\",\"#443982\",\"#208F8C\",\"#443982\",\"#30678D\",\"#443982\",\"#443982\",\"#208F8C\",\"#8DD644\",\"#30678D\",\"#8DD644\",\"#208F8C\",\"#443982\",\"#30678D\",\"#208F8C\",\"#30678D\",\"#443982\",\"#208F8C\",\"#8DD644\",\"#443982\",\"#443982\",\"#208F8C\",\"#443982\",\"#440154\",\"#443982\",\"#440154\",\"#443982\",\"#443982\",\"#440154\",\"#30678D\",\"#208F8C\",\"#30678D\",\"#443982\",\"#208F8C\",\"#443982\",\"#208F8C\",\"#30678D\",\"#208F8C\",\"#440154\",\"#208F8C\",\"#30678D\",\"#30678D\",\"#443982\",\"#30678D\",\"#443982\",\"#30678D\",\"#443982\",\"#440154\",\"#208F8C\",\"#30678D\",\"#443982\",\"#30678D\",\"#443982\",\"#208F8C\",\"#443982\",\"#30678D\",\"#8DD644\",\"#208F8C\",\"#208F8C\",\"#30678D\",\"#440154\",\"#443982\",\"#30678D\",\"#443982\",\"#208F8C\",\"#30678D\",\"#208F8C\",\"#30678D\",\"#30678D\",\"#30678D\",\"#30678D\",\"#443982\",\"#208F8C\",\"#443982\",\"#208F8C\",\"#208F8C\",\"#208F8C\",\"#30678D\",\"#30678D\",\"#30678D\",\"#443982\",\"#443982\",\"#440154\",\"#208F8C\",\"#208F8C\",\"#208F8C\",\"#443982\",\"#443982\",\"#FDE724\",\"#8DD644\",\"#443982\",\"#8DD644\",\"#30678D\",\"#443982\",\"#443982\",\"#30678D\",\"#8DD644\",\"#35B778\",\"#443982\",\"#443982\",\"#30678D\",\"#208F8C\",\"#30678D\",\"#443982\",\"#208F8C\",\"#443982\",\"#30678D\",\"#208F8C\",\"#443982\",\"#440154\",\"#30678D\",\"#208F8C\",\"#30678D\",\"#208F8C\",\"#FDE724\",\"#30678D\",\"#208F8C\",\"#443982\",\"#208F8C\",\"#208F8C\",\"#208F8C\",\"#30678D\",\"#30678D\",\"#30678D\",\"#440154\",\"#208F8C\",\"#208F8C\",\"#208F8C\",\"#208F8C\",\"#208F8C\",\"#208F8C\",\"#443982\",\"#443982\",\"#208F8C\",\"#30678D\",\"#440154\",\"#443982\",\"#443982\",\"#443982\",\"#8DD644\",\"#208F8C\",\"#443982\",\"#443982\",\"#443982\",\"#30678D\",\"#443982\",\"#443982\",\"#208F8C\",\"#30678D\",\"#443982\",\"#208F8C\",\"#30678D\",\"#443982\",\"#443982\",\"#443982\",\"#208F8C\",\"#208F8C\",\"#30678D\",\"#440154\",\"#208F8C\",\"#208F8C\",\"#443982\",\"#30678D\",\"#208F8C\",\"#443982\",\"#443982\",\"#30678D\",\"#208F8C\",\"#208F8C\",\"#443982\",\"#443982\",\"#208F8C\",\"#443982\",\"#443982\",\"#440154\",\"#443982\",\"#208F8C\",\"#443982\",\"#208F8C\",\"#208F8C\",\"#208F8C\",\"#208F8C\",\"#30678D\",\"#443982\",\"#30678D\",\"#30678D\",\"#443982\",\"#208F8C\",\"#443982\",\"#208F8C\",\"#443982\",\"#8DD644\",\"#443982\",\"#208F8C\",\"#443982\",\"#208F8C\",\"#443982\",\"#208F8C\",\"#443982\",\"#443982\",\"#443982\",\"#443982\",\"#30678D\",\"#443982\",\"#443982\",\"#443982\",\"#443982\",\"#443982\",\"#443982\",\"#208F8C\",\"#443982\",\"#208F8C\",\"#443982\",\"#208F8C\",\"#443982\",\"#440154\",\"#208F8C\",\"#208F8C\",\"#443982\",\"#208F8C\",\"#30678D\",\"#443982\",\"#440154\",\"#440154\",\"#30678D\",\"#440154\",\"#443982\",\"#208F8C\",\"#208F8C\",\"#440154\",\"#440154\",\"#30678D\",\"#8DD644\",\"#208F8C\",\"#443982\",\"#443982\",\"#30678D\",\"#30678D\",\"#443982\",\"#443982\",\"#30678D\",\"#443982\",\"#208F8C\",\"#443982\",\"#FDE724\",\"#30678D\",\"#443982\",\"#440154\",\"#443982\",\"#443982\",\"#30678D\",\"#208F8C\",\"#208F8C\",\"#440154\",\"#440154\",\"#440154\",\"#208F8C\",\"#30678D\",\"#30678D\",\"#30678D\",\"#30678D\",\"#30678D\",\"#30678D\",\"#30678D\",\"#30678D\",\"#30678D\",\"#443982\",\"#30678D\",\"#443982\",\"#440154\",\"#208F8C\",\"#8DD644\",\"#443982\",\"#208F8C\",\"#443982\",\"#208F8C\",\"#208F8C\",\"#443982\",\"#443982\",\"#208F8C\",\"#30678D\",\"#208F8C\",\"#30678D\",\"#443982\",\"#30678D\",\"#208F8C\",\"#443982\",\"#30678D\",\"#443982\",\"#30678D\",\"#30678D\",\"#443982\",\"#8DD644\",\"#30678D\",\"#208F8C\",\"#443982\",\"#30678D\",\"#208F8C\",\"#8DD644\",\"#440154\",\"#443982\",\"#30678D\",\"#8DD644\",\"#208F8C\",\"#208F8C\",\"#443982\",\"#8DD644\",\"#8DD644\",\"#208F8C\",\"#208F8C\",\"#208F8C\",\"#8DD644\",\"#208F8C\",\"#443982\",\"#443982\",\"#443982\",\"#443982\",\"#30678D\",\"#208F8C\",\"#440154\"],\"labels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radius\":[0.1,0.1,0.1,0.1,0.1,0.1,0.1,0.1,0.1,0.1,0.1,0.1,0.1,0.1,0.1,0.1,0.1,0.1,0.1,0.1,0.1,0.1,0.1,0.1,0.1,0.1,0.1,0.1,0.1,0.1,0.1,0.1,0.1,0.1,0.1,0.1,0.1,0.1,0.1,0.1,0.1,0.1,0.1,0.1,0.1,0.1,0.1,0.1,0.1,0.1,0.1,0.1,0.1,0.1,0.1,0.1,0.1,0.1,0.1,0.1,0.1,0.1,0.1,0.1,0.1,0.1,0.1,0.1,0.1,0.1,0.1,0.1,0.1,0.1,0.1,0.1,0.1,0.1,0.1,0.1,0.1,0.1,0.1,0.1,0.1,0.1,0.1,0.1,0.1,0.1,0.1,0.1,0.1,0.1,0.1,0.1,0.1,0.1,0.1,0.1,0.1,0.1,0.1,0.1,0.1,0.1,0.1,0.1,0.1,0.1,0.1,0.1,0.1,0.1,0.1,0.1,0.1,0.1,0.1,0.1,0.1,0.1,0.1,0.1,0.1,0.1,0.1,0.1,0.1,0.1,0.1,0.1,0.1,0.1,0.1,0.1,0.1,0.1,0.1,0.1,0.1,0.1,0.1,0.1,0.1,0.1,0.1,0.1,0.1,0.1,0.1,0.1,0.1,0.1,0.1,0.1,0.1,0.1,0.1,0.1,0.1,0.1,0.1,0.1,0.1,0.1,0.1,0.1,0.1,0.1,0.1,0.1,0.1,0.1,0.1,0.1,0.1,0.1,0.1,0.1,0.1,0.1,0.1,0.1,0.1,0.1,0.1,0.1,0.1,0.1,0.1,0.1,0.1,0.1,0.1,0.1,0.1,0.1,0.1,0.1,0.1,0.1,0.1,0.1,0.1,0.1,0.1,0.1,0.1,0.1,0.1,0.1,0.1,0.1,0.1,0.1,0.1,0.1,0.1,0.1,0.1,0.1,0.1,0.1,0.1,0.1,0.1,0.1,0.1,0.1,0.1,0.1,0.1,0.1,0.1,0.1,0.1,0.1,0.1,0.1,0.1,0.1,0.1,0.1,0.1,0.1,0.1,0.1,0.1,0.1,0.1,0.1,0.1,0.1,0.1,0.1,0.1,0.1,0.1,0.1,0.1,0.1,0.1,0.1,0.1,0.1,0.1,0.1,0.1,0.1,0.1,0.1,0.1,0.1,0.1,0.1,0.1,0.1,0.1,0.1,0.1,0.1,0.1,0.1,0.1,0.1,0.1,0.1,0.1,0.1,0.1,0.1,0.1,0.1,0.1,0.1,0.1,0.1,0.1,0.1,0.1,0.1,0.1,0.1,0.1,0.1,0.1,0.1,0.1,0.1,0.1,0.1,0.1,0.1,0.1,0.1,0.1,0.1,0.1,0.1,0.1,0.1,0.1,0.1,0.1,0.1,0.1,0.1,0.1,0.1,0.1,0.1,0.1,0.1,0.1,0.1,0.1,0.1,0.1,0.1,0.1,0.1,0.1,0.1,0.1,0.1,0.1,0.1,0.1,0.1,0.1,0.1,0.1,0.1,0.1,0.1,0.1,0.1,0.1,0.1,0.1,0.1,0.1,0.1,0.1,0.1,0.1,0.1,0.1,0.1,0.1,0.1,0.1,0.1,0.1,0.1,0.1,0.1,0.1,0.1,0.1,0.1,0.1,0.1,0.1,0.1,0.1,0.1,0.1,0.1,0.1,0.1,0.1,0.1,0.1,0.1,0.1,0.1,0.1,0.1,0.1,0.1,0.1,0.1,0.1,0.1,0.1,0.1,0.1,0.1,0.1,0.1,0.1,0.1,0.1,0.1,0.1,0.1,0.1,0.1,0.1,0.1,0.1,0.1,0.1,0.1,0.1,0.1,0.1,0.1,0.1,0.1,0.1,0.1,0.1,0.1,0.1,0.1,0.1,0.1,0.1,0.1,0.1,0.1,0.1,0.1,0.1,0.1,0.1,0.1,0.1,0.1,0.1,0.1,0.1,0.1,0.1,0.1,0.1,0.1,0.1,0.1,0.1,0.1,0.1,0.1,0.1,0.1,0.1,0.1,0.1,0.1,0.1,0.1,0.1,0.1,0.1,0.1,0.1,0.1,0.1,0.1,0.1,0.1,0.1,0.1,0.1,0.1,0.1,0.1,0.1,0.1,0.1,0.1,0.1,0.1,0.1,0.1,0.1,0.1,0.1,0.1,0.1,0.1,0.1,0.1,0.1,0.1,0.1,0.1,0.1,0.1,0.1,0.1,0.1,0.1,0.1,0.1,0.1,0.1,0.1,0.1,0.1,0.1,0.1,0.1,0.1,0.1,0.1,0.1,0.1,0.1,0.1,0.1,0.1,0.1,0.1,0.1,0.1,0.1,0.1,0.1,0.1,0.1,0.1,0.1,0.1,0.1,0.1,0.1,0.1,0.1,0.1,0.1,0.1,0.1,0.1,0.1,0.1,0.1,0.1,0.1,0.1,0.1,0.1,0.1,0.1,0.1,0.1,0.1,0.1,0.1,0.1,0.1,0.1,0.1,0.1,0.1,0.1,0.1,0.1,0.1,0.1,0.1,0.1,0.1,0.1,0.1,0.1,0.1,0.1,0.1,0.1,0.1,0.1,0.1,0.1,0.1,0.1,0.1,0.1,0.1,0.1,0.1,0.1,0.1,0.1,0.1,0.1,0.1,0.1,0.1,0.1,0.1,0.1,0.1,0.1,0.1,0.1,0.1,0.1,0.1,0.1,0.1,0.1,0.1,0.1,0.1,0.1,0.1,0.1,0.1,0.1,0.1,0.1,0.1,0.1,0.1,0.1,0.1,0.1,0.1,0.1,0.1,0.1,0.1,0.1,0.1,0.1,0.1,0.1,0.1,0.1,0.1,0.1,0.1,0.1,0.1,0.1,0.1,0.1,0.1,0.1,0.1,0.1,0.1,0.1,0.1,0.1,0.1,0.1,0.1,0.1,0.1,0.1,0.1,0.1,0.1,0.1,0.1,0.1,0.1,0.1,0.1,0.1,0.1,0.1,0.1,0.1,0.1,0.1,0.1,0.1,0.1,0.1,0.1,0.1,0.1,0.1,0.1,0.1,0.1,0.1,0.1,0.1,0.1,0.1,0.1,0.1,0.1,0.1,0.1,0.1,0.1,0.1,0.1,0.1,0.1,0.1,0.1,0.1,0.1,0.1,0.1,0.1,0.1,0.1,0.1,0.1,0.1,0.1,0.1,0.1,0.1,0.1,0.1,0.1,0.1,0.1,0.1,0.1,0.1,0.1,0.1,0.1,0.1,0.1,0.1,0.1,0.1,0.1,0.1,0.1,0.1,0.1,0.1,0.1,0.1,0.1,0.1,0.1,0.1,0.1,0.1,0.1,0.1,0.1,0.1,0.1,0.1,0.1,0.1,0.1,0.1,0.1,0.1,0.1,0.1,0.1,0.1,0.1,0.1,0.1,0.1,0.1,0.1,0.1,0.1,0.1,0.1,0.1,0.1,0.1,0.1,0.1,0.1,0.1,0.1,0.1,0.1],\"x\":{\"__ndarray__\":\"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\",\"dtype\":\"float32\",\"order\":\"little\",\"shape\":[800]},\"y\":{\"__ndarray__\":\"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\",\"dtype\":\"float32\",\"order\":\"little\",\"shape\":[800]}},\"selected\":{\"id\":\"1066\"},\"selection_policy\":{\"id\":\"1065\"}},\"id\":\"1003\",\"type\":\"ColumnDataSource\"},{\"attributes\":{},\"id\":\"1060\",\"type\":\"BasicTickFormatter\"},{\"attributes\":{\"text\":\"SNN clusters\"},\"id\":\"1005\",\"type\":\"Title\"},{\"attributes\":{\"overlay\":{\"id\":\"1037\"}},\"id\":\"1029\",\"type\":\"BoxZoomTool\"},{\"attributes\":{},\"id\":\"1063\",\"type\":\"BasicTickFormatter\"},{\"attributes\":{},\"id\":\"1066\",\"type\":\"Selection\"},{\"attributes\":{},\"id\":\"1030\",\"type\":\"UndoTool\"},{\"attributes\":{},\"id\":\"1065\",\"type\":\"UnionRenderers\"},{\"attributes\":{},\"id\":\"1016\",\"type\":\"BasicTicker\"},{\"attributes\":{},\"id\":\"1031\",\"type\":\"RedoTool\"},{\"attributes\":{},\"id\":\"1025\",\"type\":\"PanTool\"},{\"attributes\":{\"source\":{\"id\":\"1003\"}},\"id\":\"1057\",\"type\":\"CDSView\"},{\"attributes\":{},\"id\":\"1032\",\"type\":\"ResetTool\"},{\"attributes\":{},\"id\":\"1059\",\"type\":\"AllLabels\"},{\"attributes\":{},\"id\":\"1033\",\"type\":\"SaveTool\"}],\"root_ids\":[\"1004\"]},\"title\":\"Bokeh Application\",\"version\":\"2.3.3\"}};\n",
       "  var render_items = [{\"docid\":\"1b81e2a3-5093-43bc-a41b-2070fd0700ec\",\"root_ids\":[\"1004\"],\"roots\":{\"1004\":\"5afaa91e-e0c4-47a3-843e-fc174d5481df\"}}];\n",
       "  root.Bokeh.embed.embed_items_notebook(docs_json, render_items);\n",
       "\n",
       "  }\n",
       "  if (root.Bokeh !== undefined) {\n",
       "    embed_document(root);\n",
       "  } else {\n",
       "    var attempts = 0;\n",
       "    var timer = setInterval(function(root) {\n",
       "      if (root.Bokeh !== undefined) {\n",
       "        clearInterval(timer);\n",
       "        embed_document(root);\n",
       "      } else {\n",
       "        attempts++;\n",
       "        if (attempts > 100) {\n",
       "          clearInterval(timer);\n",
       "          console.log(\"Bokeh: ERROR: Unable to run BokehJS code because BokehJS library is missing\");\n",
       "        }\n",
       "      }\n",
       "    }, 10, root)\n",
       "  }\n",
       "})(window);"
      ],
      "application/vnd.bokehjs_exec.v0+json": ""
     },
     "metadata": {
      "application/vnd.bokehjs_exec.v0+json": {
       "id": "1004"
      }
     },
     "output_type": "display_data"
    },
    {
     "name": "stdout",
     "output_type": "stream",
     "text": [
      "doing differential expression analysis on the clusters\n",
      "running differential expression on 7 clusters\n",
      "running limmapy on the samples\n",
      "you need to have R installed with the limma library installed\n",
      "3.2.1\n",
      "done\n"
     ]
    },
    {
     "data": {
      "text/plain": [
       "<celligner.Celligner at 0x7fec429bc0f0>"
      ]
     },
     "execution_count": 39,
     "metadata": {},
     "output_type": "execute_result"
    }
   ],
   "source": [
    "my_alligner = Celligner(snn_kwargs={\"neighbor_num\": 30, \"min_shared_neighbor_proportion\": 1/15,}, make_plots=True)\n",
    "\n",
    "my_alligner.fit(TCGA_expression.iloc[:800], TCGA_annotation.iloc[:800])"
   ]
  },
  {
   "cell_type": "code",
   "execution_count": 50,
   "metadata": {
    "ExecuteTime": {
     "end_time": "2021-09-16T14:14:00.818361Z",
     "start_time": "2021-09-16T14:14:00.786698Z"
    }
   },
   "outputs": [
    {
     "data": {
      "text/plain": [
       "Index(['ENSG00000240041', 'ENSG00000206932', 'ENSG00000213700',\n",
       "       'ENSG00000157045', 'ENSG00000235595', 'ENSG00000091732',\n",
       "       'ENSG00000238001', 'ENSG00000153898', 'ENSG00000143630',\n",
       "       'ENSG00000231795',\n",
       "       ...\n",
       "       'ENSG00000050405', 'ENSG00000161642', 'ENSG00000253026',\n",
       "       'ENSG00000194717', 'ENSG00000241769', 'ENSG00000197461',\n",
       "       'ENSG00000256171', 'ENSG00000255329', 'ENSG00000104517',\n",
       "       'ENSG00000230448'],\n",
       "      dtype='object', length=33980)"
      ]
     },
     "execution_count": 50,
     "metadata": {},
     "output_type": "execute_result"
    }
   ],
   "source": [
    "my_alligner.common_genes"
   ]
  },
  {
   "cell_type": "code",
   "execution_count": 52,
   "metadata": {
    "ExecuteTime": {
     "end_time": "2021-09-16T14:25:54.329539Z",
     "start_time": "2021-09-16T14:25:54.277148Z"
    }
   },
   "outputs": [
    {
     "name": "stderr",
     "output_type": "stream",
     "text": [
      "[autoreload of celligner failed: Traceback (most recent call last):\n",
      "  File \"/home/jeremie/miniconda3/lib/python3.7/site-packages/IPython/extensions/autoreload.py\", line 245, in check\n",
      "    superreload(m, reload, self.old_objects)\n",
      "  File \"/home/jeremie/miniconda3/lib/python3.7/site-packages/IPython/extensions/autoreload.py\", line 394, in superreload\n",
      "    module = reload(module)\n",
      "  File \"/home/jeremie/miniconda3/lib/python3.7/imp.py\", line 314, in reload\n",
      "    return importlib.reload(module)\n",
      "  File \"/home/jeremie/miniconda3/lib/python3.7/importlib/__init__.py\", line 169, in reload\n",
      "    _bootstrap._exec(spec, module)\n",
      "  File \"<frozen importlib._bootstrap>\", line 630, in _exec\n",
      "  File \"<frozen importlib._bootstrap_external>\", line 724, in exec_module\n",
      "  File \"<frozen importlib._bootstrap_external>\", line 860, in get_code\n",
      "  File \"<frozen importlib._bootstrap_external>\", line 791, in source_to_code\n",
      "  File \"<frozen importlib._bootstrap>\", line 219, in _call_with_frames_removed\n",
      "  File \"/home/jeremie/celligner/celligner/__init__.py\", line 317\n",
      "    print('doing differential expression analysis on the clusters..')\n",
      "        ^\n",
      "SyntaxError: invalid syntax\n",
      "]\n"
     ]
    },
    {
     "data": {
      "text/plain": [
       "[0, 0, 0, 3]"
      ]
     },
     "execution_count": 52,
     "metadata": {},
     "output_type": "execute_result"
    }
   ],
   "source": [
    "[0]*3 + [3]*1"
   ]
  },
  {
   "cell_type": "code",
   "execution_count": 57,
   "metadata": {
    "ExecuteTime": {
     "end_time": "2021-09-16T14:29:20.244991Z",
     "start_time": "2021-09-16T14:29:20.212633Z"
    }
   },
   "outputs": [
    {
     "data": {
      "text/plain": [
       "(1600, 70)"
      ]
     },
     "execution_count": 57,
     "metadata": {},
     "output_type": "execute_result"
    }
   ],
   "source": [
    "np.vstack([my_alligner.fit_reduced,my_alligner.fit_reduced]).shape"
   ]
  },
  {
   "cell_type": "code",
   "execution_count": null,
   "metadata": {},
   "outputs": [],
   "source": [
    "centered_fit_input.loc[self.fit_clusters==val] = self.fit_input.loc[self.fit_clusters==val]\\\n",
    "        - self.fit_input.loc[self.fit_clusters==val].mean(axis=0)"
   ]
  },
  {
   "cell_type": "code",
   "execution_count": null,
   "metadata": {
    "ExecuteTime": {
     "start_time": "2021-09-17T01:53:55.697Z"
    },
    "scrolled": true
   },
   "outputs": [
    {
     "name": "stdout",
     "output_type": "stream",
     "text": [
      "looking at 800 samples.\n",
      "found 29593 common genes\n",
      "creating a transform input..\n",
      "reducing dimensionality...\n",
      "clustering..\n"
     ]
    },
    {
     "data": {
      "text/html": [
       "\n",
       "\n",
       "\n",
       "\n",
       "\n",
       "\n",
       "  <div class=\"bk-root\" id=\"f6e008ad-9325-4261-9f06-c5c8b16a1b58\" data-root-id=\"2145\"></div>\n"
      ]
     },
     "metadata": {},
     "output_type": "display_data"
    },
    {
     "data": {
      "application/javascript": [
       "(function(root) {\n",
       "  function embed_document(root) {\n",
       "    \n",
       "  var docs_json = {\"9c8fe2bb-3803-4826-877c-cc40e57bebab\":{\"defs\":[],\"roots\":{\"references\":[{\"attributes\":{\"below\":[{\"id\":\"2156\"}],\"center\":[{\"id\":\"2159\"},{\"id\":\"2163\"}],\"left\":[{\"id\":\"2160\"}],\"output_backend\":\"svg\",\"renderers\":[{\"id\":\"2197\"}],\"title\":{\"id\":\"2146\"},\"toolbar\":{\"id\":\"2180\"},\"x_range\":{\"id\":\"2148\"},\"x_scale\":{\"id\":\"2152\"},\"y_range\":{\"id\":\"2150\"},\"y_scale\":{\"id\":\"2154\"}},\"id\":\"2145\",\"subtype\":\"Figure\",\"type\":\"Plot\"},{\"attributes\":{},\"id\":\"2172\",\"type\":\"RedoTool\"},{\"attributes\":{\"callback\":null,\"tooltips\":[[\"(x,y)\",\"(@x, @y)\"],[\"label\",\"@labels\"]]},\"id\":\"2164\",\"type\":\"HoverTool\"},{\"attributes\":{\"overlay\":{\"id\":\"2177\"}},\"id\":\"2175\",\"type\":\"BoxSelectTool\"},{\"attributes\":{},\"id\":\"2288\",\"type\":\"BasicTickFormatter\"},{\"attributes\":{},\"id\":\"2152\",\"type\":\"LinearScale\"},{\"attributes\":{\"data\":{\"fill_alpha\":[0.8,0.8,0.8,0.8,0.8,0.8,0.8,0.8,0.8,0.8,0.8,0.8,0.8,0.8,0.8,0.8,0.8,0.8,0.8,0.8,0.8,0.8,0.8,0.8,0.8,0.8,0.8,0.8,0.8,0.8,0.8,0.8,0.8,0.8,0.8,0.8,0.8,0.8,0.8,0.8,0.8,0.8,0.8,0.8,0.8,0.8,0.8,0.8,0.8,0.8,0.8,0.8,0.8,0.8,0.8,0.8,0.8,0.8,0.8,0.8,0.8,0.8,0.8,0.8,0.8,0.8,0.8,0.8,0.8,0.8,0.8,0.8,0.8,0.8,0.8,0.8,0.8,0.8,0.8,0.8,0.8,0.8,0.8,0.8,0.8,0.8,0.8,0.8,0.8,0.8,0.8,0.8,0.8,0.8,0.8,0.8,0.8,0.8,0.8,0.8,0.8,0.8,0.8,0.8,0.8,0.8,0.8,0.8,0.8,0.8,0.8,0.8,0.8,0.8,0.8,0.8,0.8,0.8,0.8,0.8,0.8,0.8,0.8,0.8,0.8,0.8,0.8,0.8,0.8,0.8,0.8,0.8,0.8,0.8,0.8,0.8,0.8,0.8,0.8,0.8,0.8,0.8,0.8,0.8,0.8,0.8,0.8,0.8,0.8,0.8,0.8,0.8,0.8,0.8,0.8,0.8,0.8,0.8,0.8,0.8,0.8,0.8,0.8,0.8,0.8,0.8,0.8,0.8,0.8,0.8,0.8,0.8,0.8,0.8,0.8,0.8,0.8,0.8,0.8,0.8,0.8,0.8,0.8,0.8,0.8,0.8,0.8,0.8,0.8,0.8,0.8,0.8,0.8,0.8,0.8,0.8,0.8,0.8,0.8,0.8,0.8,0.8,0.8,0.8,0.8,0.8,0.8,0.8,0.8,0.8,0.8,0.8,0.8,0.8,0.8,0.8,0.8,0.8,0.8,0.8,0.8,0.8,0.8,0.8,0.8,0.8,0.8,0.8,0.8,0.8,0.8,0.8,0.8,0.8,0.8,0.8,0.8,0.8,0.8,0.8,0.8,0.8,0.8,0.8,0.8,0.8,0.8,0.8,0.8,0.8,0.8,0.8,0.8,0.8,0.8,0.8,0.8,0.8,0.8,0.8,0.8,0.8,0.8,0.8,0.8,0.8,0.8,0.8,0.8,0.8,0.8,0.8,0.8,0.8,0.8,0.8,0.8,0.8,0.8,0.8,0.8,0.8,0.8,0.8,0.8,0.8,0.8,0.8,0.8,0.8,0.8,0.8,0.8,0.8,0.8,0.8,0.8,0.8,0.8,0.8,0.8,0.8,0.8,0.8,0.8,0.8,0.8,0.8,0.8,0.8,0.8,0.8,0.8,0.8,0.8,0.8,0.8,0.8,0.8,0.8,0.8,0.8,0.8,0.8,0.8,0.8,0.8,0.8,0.8,0.8,0.8,0.8,0.8,0.8,0.8,0.8,0.8,0.8,0.8,0.8,0.8,0.8,0.8,0.8,0.8,0.8,0.8,0.8,0.8,0.8,0.8,0.8,0.8,0.8,0.8,0.8,0.8,0.8,0.8,0.8,0.8,0.8,0.8,0.8,0.8,0.8,0.8,0.8,0.8,0.8,0.8,0.8,0.8,0.8,0.8,0.8,0.8,0.8,0.8,0.8,0.8,0.8,0.8,0.8,0.8,0.8,0.8,0.8,0.8,0.8,0.8,0.8,0.8,0.8,0.8,0.8,0.8,0.8,0.8,0.8,0.8,0.8,0.8,0.8,0.8,0.8,0.8,0.8,0.8,0.8,0.8,0.8,0.8,0.8,0.8,0.8,0.8,0.8,0.8,0.8,0.8,0.8,0.8,0.8,0.8,0.8,0.8,0.8,0.8,0.8,0.8,0.8,0.8,0.8,0.8,0.8,0.8,0.8,0.8,0.8,0.8,0.8,0.8,0.8,0.8,0.8,0.8,0.8,0.8,0.8,0.8,0.8,0.8,0.8,0.8,0.8,0.8,0.8,0.8,0.8,0.8,0.8,0.8,0.8,0.8,0.8,0.8,0.8,0.8,0.8,0.8,0.8,0.8,0.8,0.8,0.8,0.8,0.8,0.8,0.8,0.8,0.8,0.8,0.8,0.8,0.8,0.8,0.8,0.8,0.8,0.8,0.8,0.8,0.8,0.8,0.8,0.8,0.8,0.8,0.8,0.8,0.8,0.8,0.8,0.8,0.8,0.8,0.8,0.8,0.8,0.8,0.8,0.8,0.8,0.8,0.8,0.8,0.8,0.8,0.8,0.8,0.8,0.8,0.8,0.8,0.8,0.8,0.8,0.8,0.8,0.8,0.8,0.8,0.8,0.8,0.8,0.8,0.8,0.8,0.8,0.8,0.8,0.8,0.8,0.8,0.8,0.8,0.8,0.8,0.8,0.8,0.8,0.8,0.8,0.8,0.8,0.8,0.8,0.8,0.8,0.8,0.8,0.8,0.8,0.8,0.8,0.8,0.8,0.8,0.8,0.8,0.8,0.8,0.8,0.8,0.8,0.8,0.8,0.8,0.8,0.8,0.8,0.8,0.8,0.8,0.8,0.8,0.8,0.8,0.8,0.8,0.8,0.8,0.8,0.8,0.8,0.8,0.8,0.8,0.8,0.8,0.8,0.8,0.8,0.8,0.8,0.8,0.8,0.8,0.8,0.8,0.8,0.8,0.8,0.8,0.8,0.8,0.8,0.8,0.8,0.8,0.8,0.8,0.8,0.8,0.8,0.8,0.8,0.8,0.8,0.8,0.8,0.8,0.8,0.8,0.8,0.8,0.8,0.8,0.8,0.8,0.8,0.8,0.8,0.8,0.8,0.8,0.8,0.8,0.8,0.8,0.8,0.8,0.8,0.8,0.8,0.8,0.8,0.8,0.8,0.8,0.8,0.8,0.8,0.8,0.8,0.8,0.8,0.8,0.8,0.8,0.8,0.8,0.8,0.8,0.8,0.8,0.8,0.8,0.8,0.8,0.8,0.8,0.8,0.8,0.8,0.8,0.8,0.8,0.8,0.8,0.8,0.8,0.8,0.8,0.8,0.8,0.8,0.8,0.8,0.8,0.8,0.8,0.8,0.8,0.8,0.8,0.8,0.8,0.8,0.8,0.8,0.8,0.8,0.8,0.8,0.8,0.8,0.8,0.8,0.8,0.8,0.8,0.8,0.8,0.8,0.8,0.8,0.8,0.8,0.8,0.8,0.8,0.8,0.8,0.8,0.8,0.8,0.8,0.8,0.8,0.8,0.8,0.8,0.8,0.8,0.8,0.8,0.8,0.8,0.8,0.8,0.8,0.8,0.8,0.8,0.8,0.8,0.8,0.8,0.8,0.8,0.8,0.8,0.8,0.8,0.8,0.8,0.8,0.8,0.8,0.8,0.8,0.8,0.8,0.8,0.8,0.8,0.8,0.8,0.8,0.8,0.8,0.8,0.8,0.8,0.8,0.8,0.8,0.8,0.8,0.8,0.8,0.8,0.8,0.8,0.8,0.8,0.8,0.8,0.6000000000000001,0.6000000000000001,0.6000000000000001,0.6000000000000001,0.6000000000000001,0.6000000000000001,0.6000000000000001,0.6000000000000001,0.6000000000000001,0.6000000000000001,0.6000000000000001,0.6000000000000001,0.6000000000000001,0.6000000000000001,0.6000000000000001,0.6000000000000001,0.6000000000000001,0.6000000000000001,0.6000000000000001,0.6000000000000001,0.6000000000000001,0.6000000000000001,0.6000000000000001,0.6000000000000001,0.6000000000000001,0.6000000000000001,0.6000000000000001,0.6000000000000001,0.6000000000000001,0.6000000000000001,0.6000000000000001,0.6000000000000001,0.6000000000000001,0.6000000000000001,0.6000000000000001,0.6000000000000001,0.6000000000000001,0.6000000000000001,0.6000000000000001,0.6000000000000001,0.6000000000000001,0.6000000000000001,0.6000000000000001,0.6000000000000001,0.6000000000000001,0.6000000000000001,0.6000000000000001,0.6000000000000001,0.6000000000000001,0.6000000000000001,0.6000000000000001,0.6000000000000001,0.6000000000000001,0.6000000000000001,0.6000000000000001,0.6000000000000001,0.6000000000000001,0.6000000000000001,0.6000000000000001,0.6000000000000001,0.6000000000000001,0.6000000000000001,0.6000000000000001,0.6000000000000001,0.6000000000000001,0.6000000000000001,0.6000000000000001,0.6000000000000001,0.6000000000000001,0.6000000000000001,0.6000000000000001,0.6000000000000001,0.6000000000000001,0.6000000000000001,0.6000000000000001,0.6000000000000001,0.6000000000000001,0.6000000000000001,0.6000000000000001,0.6000000000000001,0.6000000000000001,0.6000000000000001,0.6000000000000001,0.6000000000000001,0.6000000000000001,0.6000000000000001,0.6000000000000001,0.6000000000000001,0.6000000000000001,0.6000000000000001,0.6000000000000001,0.6000000000000001,0.6000000000000001,0.6000000000000001,0.6000000000000001,0.6000000000000001,0.6000000000000001,0.6000000000000001,0.6000000000000001,0.6000000000000001,0.6000000000000001,0.6000000000000001,0.6000000000000001,0.6000000000000001,0.6000000000000001,0.6000000000000001,0.6000000000000001,0.6000000000000001,0.6000000000000001,0.6000000000000001,0.6000000000000001,0.6000000000000001,0.6000000000000001,0.6000000000000001,0.6000000000000001,0.6000000000000001,0.6000000000000001,0.6000000000000001,0.6000000000000001,0.6000000000000001,0.6000000000000001,0.6000000000000001,0.6000000000000001,0.6000000000000001,0.6000000000000001,0.6000000000000001,0.6000000000000001,0.6000000000000001,0.6000000000000001,0.6000000000000001,0.6000000000000001,0.6000000000000001,0.6000000000000001,0.6000000000000001,0.6000000000000001,0.6000000000000001,0.6000000000000001,0.6000000000000001,0.6000000000000001,0.6000000000000001,0.6000000000000001,0.6000000000000001,0.6000000000000001,0.6000000000000001,0.6000000000000001,0.6000000000000001,0.6000000000000001,0.6000000000000001,0.6000000000000001,0.6000000000000001,0.6000000000000001,0.6000000000000001,0.6000000000000001,0.6000000000000001,0.6000000000000001,0.6000000000000001,0.6000000000000001,0.6000000000000001,0.6000000000000001,0.6000000000000001,0.6000000000000001,0.6000000000000001,0.6000000000000001,0.6000000000000001,0.6000000000000001,0.6000000000000001,0.6000000000000001,0.6000000000000001,0.6000000000000001,0.6000000000000001,0.6000000000000001,0.6000000000000001,0.6000000000000001,0.6000000000000001,0.6000000000000001,0.6000000000000001,0.6000000000000001,0.6000000000000001,0.6000000000000001,0.6000000000000001,0.6000000000000001,0.6000000000000001,0.6000000000000001,0.6000000000000001,0.6000000000000001,0.6000000000000001,0.6000000000000001,0.6000000000000001,0.6000000000000001,0.6000000000000001,0.6000000000000001,0.6000000000000001,0.6000000000000001,0.6000000000000001,0.6000000000000001,0.6000000000000001,0.6000000000000001,0.6000000000000001,0.6000000000000001,0.6000000000000001,0.6000000000000001,0.6000000000000001,0.6000000000000001,0.6000000000000001,0.6000000000000001,0.6000000000000001,0.6000000000000001,0.6000000000000001,0.6000000000000001,0.6000000000000001,0.6000000000000001,0.6000000000000001,0.6000000000000001,0.6000000000000001,0.6000000000000001,0.6000000000000001,0.6000000000000001,0.6000000000000001,0.6000000000000001,0.6000000000000001,0.6000000000000001,0.6000000000000001,0.6000000000000001,0.6000000000000001,0.6000000000000001,0.6000000000000001,0.6000000000000001,0.6000000000000001,0.6000000000000001,0.6000000000000001,0.6000000000000001,0.6000000000000001,0.6000000000000001,0.6000000000000001,0.6000000000000001,0.6000000000000001,0.6000000000000001,0.6000000000000001,0.6000000000000001,0.6000000000000001,0.6000000000000001,0.6000000000000001,0.6000000000000001,0.6000000000000001,0.6000000000000001,0.6000000000000001,0.6000000000000001,0.6000000000000001,0.6000000000000001,0.6000000000000001,0.6000000000000001,0.6000000000000001,0.6000000000000001,0.6000000000000001,0.6000000000000001,0.6000000000000001,0.6000000000000001,0.6000000000000001,0.6000000000000001,0.6000000000000001,0.6000000000000001,0.6000000000000001,0.6000000000000001,0.6000000000000001,0.6000000000000001,0.6000000000000001,0.6000000000000001,0.6000000000000001,0.6000000000000001,0.6000000000000001,0.6000000000000001,0.6000000000000001,0.6000000000000001,0.6000000000000001,0.6000000000000001,0.6000000000000001,0.6000000000000001,0.6000000000000001,0.6000000000000001,0.6000000000000001,0.6000000000000001,0.6000000000000001,0.6000000000000001,0.6000000000000001,0.6000000000000001,0.6000000000000001,0.6000000000000001,0.6000000000000001,0.6000000000000001,0.6000000000000001,0.6000000000000001,0.6000000000000001,0.6000000000000001,0.6000000000000001,0.6000000000000001,0.6000000000000001,0.6000000000000001,0.6000000000000001,0.6000000000000001,0.6000000000000001,0.6000000000000001,0.6000000000000001,0.6000000000000001,0.6000000000000001,0.6000000000000001,0.6000000000000001,0.6000000000000001,0.6000000000000001,0.6000000000000001,0.6000000000000001,0.6000000000000001,0.6000000000000001,0.6000000000000001,0.6000000000000001,0.6000000000000001,0.6000000000000001,0.6000000000000001,0.6000000000000001,0.6000000000000001,0.6000000000000001,0.6000000000000001,0.6000000000000001,0.6000000000000001,0.6000000000000001,0.6000000000000001,0.6000000000000001,0.6000000000000001,0.6000000000000001,0.6000000000000001,0.6000000000000001,0.6000000000000001,0.6000000000000001,0.6000000000000001,0.6000000000000001,0.6000000000000001,0.6000000000000001,0.6000000000000001,0.6000000000000001,0.6000000000000001,0.6000000000000001,0.6000000000000001,0.6000000000000001,0.6000000000000001,0.6000000000000001,0.6000000000000001,0.6000000000000001,0.6000000000000001,0.6000000000000001,0.6000000000000001,0.6000000000000001,0.6000000000000001,0.6000000000000001,0.6000000000000001,0.6000000000000001,0.6000000000000001,0.6000000000000001,0.6000000000000001,0.6000000000000001,0.6000000000000001,0.6000000000000001,0.6000000000000001,0.6000000000000001,0.6000000000000001,0.6000000000000001,0.6000000000000001,0.6000000000000001,0.6000000000000001,0.6000000000000001,0.6000000000000001,0.6000000000000001,0.6000000000000001,0.6000000000000001,0.6000000000000001,0.6000000000000001,0.6000000000000001,0.6000000000000001,0.6000000000000001,0.6000000000000001,0.6000000000000001,0.6000000000000001,0.6000000000000001,0.6000000000000001,0.6000000000000001,0.6000000000000001,0.6000000000000001,0.6000000000000001,0.6000000000000001,0.6000000000000001,0.6000000000000001,0.6000000000000001,0.6000000000000001,0.6000000000000001,0.6000000000000001,0.6000000000000001,0.6000000000000001,0.6000000000000001,0.6000000000000001,0.6000000000000001,0.6000000000000001,0.6000000000000001],\"fill_color\":[\"#440154\",\"#481E70\",\"#443982\",\"#481E70\",\"#440154\",\"#3B518A\",\"#443982\",\"#3B518A\",\"#3B518A\",\"#481E70\",\"#481E70\",\"#481E70\",\"#3B518A\",\"#3B518A\",\"#481E70\",\"#3B518A\",\"#3B518A\",\"#481E70\",\"#481E70\",\"#481E70\",\"#3B518A\",\"#481E70\",\"#481E70\",\"#481E70\",\"#481E70\",\"#3B518A\",\"#3B518A\",\"#FDE724\",\"#481E70\",\"#3B518A\",\"#481E70\",\"#3B518A\",\"#3B518A\",\"#3B518A\",\"#481E70\",\"#481E70\",\"#443982\",\"#3B518A\",\"#3B518A\",\"#440154\",\"#481E70\",\"#3B518A\",\"#481E70\",\"#481E70\",\"#440154\",\"#3B518A\",\"#440154\",\"#443982\",\"#3B518A\",\"#3B518A\",\"#481E70\",\"#481E70\",\"#443982\",\"#3B518A\",\"#3B518A\",\"#FDE724\",\"#481E70\",\"#443982\",\"#FDE724\",\"#443982\",\"#443982\",\"#3B518A\",\"#3B518A\",\"#3B518A\",\"#481E70\",\"#481E70\",\"#440154\",\"#481E70\",\"#443982\",\"#481E70\",\"#3B518A\",\"#481E70\",\"#3B518A\",\"#443982\",\"#3B518A\",\"#443982\",\"#443982\",\"#30678D\",\"#443982\",\"#30678D\",\"#443982\",\"#481E70\",\"#3B518A\",\"#3B518A\",\"#443982\",\"#481E70\",\"#3B518A\",\"#3B518A\",\"#3B518A\",\"#3B518A\",\"#443982\",\"#443982\",\"#3B518A\",\"#481E70\",\"#481E70\",\"#3B518A\",\"#443982\",\"#443982\",\"#3B518A\",\"#440154\",\"#443982\",\"#443982\",\"#440154\",\"#443982\",\"#443982\",\"#481E70\",\"#481E70\",\"#481E70\",\"#3B518A\",\"#3B518A\",\"#443982\",\"#481E70\",\"#443982\",\"#3B518A\",\"#3B518A\",\"#481E70\",\"#443982\",\"#3B518A\",\"#481E70\",\"#443982\",\"#443982\",\"#3B518A\",\"#3B518A\",\"#481E70\",\"#440154\",\"#481E70\",\"#440154\",\"#481E70\",\"#3B518A\",\"#481E70\",\"#481E70\",\"#3B518A\",\"#443982\",\"#481E70\",\"#440154\",\"#481E70\",\"#481E70\",\"#3B518A\",\"#3B518A\",\"#3B518A\",\"#481E70\",\"#443982\",\"#481E70\",\"#3B518A\",\"#3B518A\",\"#481E70\",\"#3B518A\",\"#3B518A\",\"#443982\",\"#287B8E\",\"#3B518A\",\"#443982\",\"#3B518A\",\"#443982\",\"#481E70\",\"#3B518A\",\"#3B518A\",\"#481E70\",\"#3B518A\",\"#481E70\",\"#3B518A\",\"#481E70\",\"#481E70\",\"#481E70\",\"#287B8E\",\"#3B518A\",\"#481E70\",\"#481E70\",\"#481E70\",\"#FDE724\",\"#3B518A\",\"#440154\",\"#440154\",\"#3B518A\",\"#481E70\",\"#481E70\",\"#3B518A\",\"#443982\",\"#3B518A\",\"#443982\",\"#481E70\",\"#443982\",\"#481E70\",\"#3B518A\",\"#3B518A\",\"#443982\",\"#3B518A\",\"#3B518A\",\"#3B518A\",\"#3B518A\",\"#3B518A\",\"#440154\",\"#287B8E\",\"#287B8E\",\"#440154\",\"#3B518A\",\"#443982\",\"#443982\",\"#3B518A\",\"#443982\",\"#481E70\",\"#440154\",\"#287B8E\",\"#443982\",\"#481E70\",\"#443982\",\"#3B518A\",\"#443982\",\"#481E70\",\"#481E70\",\"#443982\",\"#481E70\",\"#443982\",\"#3B518A\",\"#443982\",\"#481E70\",\"#481E70\",\"#481E70\",\"#443982\",\"#481E70\",\"#443982\",\"#481E70\",\"#443982\",\"#443982\",\"#481E70\",\"#481E70\",\"#443982\",\"#3B518A\",\"#3B518A\",\"#443982\",\"#3B518A\",\"#443982\",\"#3B518A\",\"#440154\",\"#481E70\",\"#481E70\",\"#443982\",\"#443982\",\"#481E70\",\"#287B8E\",\"#481E70\",\"#443982\",\"#3B518A\",\"#440154\",\"#481E70\",\"#481E70\",\"#481E70\",\"#481E70\",\"#481E70\",\"#481E70\",\"#440154\",\"#287B8E\",\"#287B8E\",\"#3B518A\",\"#443982\",\"#481E70\",\"#3B518A\",\"#481E70\",\"#3B518A\",\"#3B518A\",\"#3B518A\",\"#440154\",\"#3B518A\",\"#443982\",\"#3B518A\",\"#3B518A\",\"#3B518A\",\"#481E70\",\"#481E70\",\"#481E70\",\"#481E70\",\"#481E70\",\"#3B518A\",\"#443982\",\"#440154\",\"#287B8E\",\"#3B518A\",\"#3B518A\",\"#443982\",\"#3B518A\",\"#440154\",\"#481E70\",\"#3B518A\",\"#481E70\",\"#481E70\",\"#481E70\",\"#481E70\",\"#481E70\",\"#481E70\",\"#3B518A\",\"#3B518A\",\"#440154\",\"#440154\",\"#443982\",\"#443982\",\"#443982\",\"#481E70\",\"#3B518A\",\"#481E70\",\"#481E70\",\"#481E70\",\"#440154\",\"#481E70\",\"#440154\",\"#481E70\",\"#481E70\",\"#3B518A\",\"#3B518A\",\"#481E70\",\"#481E70\",\"#443982\",\"#3B518A\",\"#481E70\",\"#287B8E\",\"#3B518A\",\"#3B518A\",\"#3B518A\",\"#481E70\",\"#3B518A\",\"#481E70\",\"#443982\",\"#443982\",\"#3B518A\",\"#3B518A\",\"#3B518A\",\"#440154\",\"#481E70\",\"#287B8E\",\"#3B518A\",\"#481E70\",\"#443982\",\"#443982\",\"#481E70\",\"#481E70\",\"#481E70\",\"#443982\",\"#3B518A\",\"#443982\",\"#3B518A\",\"#481E70\",\"#443982\",\"#3B518A\",\"#440154\",\"#481E70\",\"#481E70\",\"#3B518A\",\"#3B518A\",\"#440154\",\"#3B518A\",\"#3B518A\",\"#3B518A\",\"#3B518A\",\"#3B518A\",\"#481E70\",\"#443982\",\"#443982\",\"#481E70\",\"#443982\",\"#3B518A\",\"#481E70\",\"#3B518A\",\"#481E70\",\"#3B518A\",\"#3B518A\",\"#443982\",\"#481E70\",\"#481E70\",\"#481E70\",\"#440154\",\"#443982\",\"#481E70\",\"#481E70\",\"#481E70\",\"#481E70\",\"#3B518A\",\"#3B518A\",\"#3B518A\",\"#481E70\",\"#3B518A\",\"#3B518A\",\"#3B518A\",\"#481E70\",\"#443982\",\"#443982\",\"#440154\",\"#443982\",\"#3B518A\",\"#443982\",\"#481E70\",\"#481E70\",\"#3B518A\",\"#FDE724\",\"#443982\",\"#3B518A\",\"#443982\",\"#440154\",\"#443982\",\"#481E70\",\"#481E70\",\"#287B8E\",\"#481E70\",\"#3B518A\",\"#3B518A\",\"#481E70\",\"#481E70\",\"#440154\",\"#443982\",\"#3B518A\",\"#3B518A\",\"#3B518A\",\"#481E70\",\"#3B518A\",\"#481E70\",\"#481E70\",\"#440154\",\"#3B518A\",\"#481E70\",\"#440154\",\"#481E70\",\"#481E70\",\"#3B518A\",\"#481E70\",\"#440154\",\"#287B8E\",\"#481E70\",\"#287B8E\",\"#3B518A\",\"#440154\",\"#481E70\",\"#443982\",\"#481E70\",\"#443982\",\"#3B518A\",\"#3B518A\",\"#443982\",\"#443982\",\"#3B518A\",\"#481E70\",\"#FDE724\",\"#481E70\",\"#481E70\",\"#481E70\",\"#443982\",\"#443982\",\"#481E70\",\"#481E70\",\"#287B8E\",\"#440154\",\"#481E70\",\"#481E70\",\"#FDE724\",\"#3B518A\",\"#FDE724\",\"#443982\",\"#443982\",\"#481E70\",\"#3B518A\",\"#FDE724\",\"#287B8E\",\"#443982\",\"#3B518A\",\"#481E70\",\"#481E70\",\"#443982\",\"#481E70\",\"#481E70\",\"#481E70\",\"#440154\",\"#3B518A\",\"#3B518A\",\"#443982\",\"#481E70\",\"#481E70\",\"#481E70\",\"#443982\",\"#3B518A\",\"#3B518A\",\"#3B518A\",\"#481E70\",\"#443982\",\"#3B518A\",\"#481E70\",\"#3B518A\",\"#481E70\",\"#443982\",\"#481E70\",\"#481E70\",\"#3B518A\",\"#287B8E\",\"#443982\",\"#287B8E\",\"#3B518A\",\"#481E70\",\"#443982\",\"#3B518A\",\"#443982\",\"#481E70\",\"#3B518A\",\"#287B8E\",\"#481E70\",\"#481E70\",\"#3B518A\",\"#481E70\",\"#440154\",\"#481E70\",\"#440154\",\"#481E70\",\"#481E70\",\"#440154\",\"#443982\",\"#3B518A\",\"#443982\",\"#481E70\",\"#3B518A\",\"#481E70\",\"#3B518A\",\"#443982\",\"#3B518A\",\"#440154\",\"#3B518A\",\"#443982\",\"#443982\",\"#481E70\",\"#443982\",\"#481E70\",\"#443982\",\"#481E70\",\"#440154\",\"#3B518A\",\"#443982\",\"#481E70\",\"#443982\",\"#481E70\",\"#3B518A\",\"#481E70\",\"#443982\",\"#287B8E\",\"#3B518A\",\"#3B518A\",\"#443982\",\"#440154\",\"#481E70\",\"#443982\",\"#481E70\",\"#3B518A\",\"#443982\",\"#3B518A\",\"#443982\",\"#443982\",\"#443982\",\"#443982\",\"#481E70\",\"#3B518A\",\"#481E70\",\"#3B518A\",\"#3B518A\",\"#3B518A\",\"#443982\",\"#443982\",\"#443982\",\"#481E70\",\"#481E70\",\"#440154\",\"#3B518A\",\"#3B518A\",\"#3B518A\",\"#481E70\",\"#481E70\",\"#FDE724\",\"#287B8E\",\"#481E70\",\"#287B8E\",\"#443982\",\"#481E70\",\"#481E70\",\"#443982\",\"#287B8E\",\"#30678D\",\"#481E70\",\"#481E70\",\"#443982\",\"#3B518A\",\"#443982\",\"#481E70\",\"#3B518A\",\"#481E70\",\"#443982\",\"#3B518A\",\"#481E70\",\"#440154\",\"#443982\",\"#3B518A\",\"#443982\",\"#3B518A\",\"#FDE724\",\"#443982\",\"#3B518A\",\"#481E70\",\"#3B518A\",\"#3B518A\",\"#3B518A\",\"#443982\",\"#443982\",\"#443982\",\"#440154\",\"#3B518A\",\"#3B518A\",\"#3B518A\",\"#3B518A\",\"#3B518A\",\"#3B518A\",\"#481E70\",\"#481E70\",\"#3B518A\",\"#443982\",\"#440154\",\"#481E70\",\"#481E70\",\"#481E70\",\"#287B8E\",\"#3B518A\",\"#481E70\",\"#481E70\",\"#481E70\",\"#443982\",\"#481E70\",\"#481E70\",\"#3B518A\",\"#443982\",\"#481E70\",\"#3B518A\",\"#443982\",\"#481E70\",\"#481E70\",\"#481E70\",\"#3B518A\",\"#3B518A\",\"#443982\",\"#440154\",\"#3B518A\",\"#3B518A\",\"#481E70\",\"#443982\",\"#3B518A\",\"#481E70\",\"#481E70\",\"#443982\",\"#3B518A\",\"#3B518A\",\"#481E70\",\"#481E70\",\"#3B518A\",\"#481E70\",\"#481E70\",\"#440154\",\"#481E70\",\"#3B518A\",\"#481E70\",\"#3B518A\",\"#3B518A\",\"#3B518A\",\"#3B518A\",\"#443982\",\"#481E70\",\"#443982\",\"#443982\",\"#481E70\",\"#3B518A\",\"#481E70\",\"#3B518A\",\"#481E70\",\"#287B8E\",\"#481E70\",\"#3B518A\",\"#481E70\",\"#3B518A\",\"#481E70\",\"#3B518A\",\"#481E70\",\"#481E70\",\"#481E70\",\"#481E70\",\"#443982\",\"#481E70\",\"#481E70\",\"#481E70\",\"#481E70\",\"#481E70\",\"#481E70\",\"#3B518A\",\"#481E70\",\"#3B518A\",\"#481E70\",\"#3B518A\",\"#481E70\",\"#440154\",\"#3B518A\",\"#3B518A\",\"#481E70\",\"#3B518A\",\"#443982\",\"#481E70\",\"#440154\",\"#440154\",\"#443982\",\"#440154\",\"#481E70\",\"#3B518A\",\"#3B518A\",\"#440154\",\"#440154\",\"#443982\",\"#287B8E\",\"#3B518A\",\"#481E70\",\"#481E70\",\"#443982\",\"#443982\",\"#481E70\",\"#481E70\",\"#443982\",\"#481E70\",\"#3B518A\",\"#481E70\",\"#FDE724\",\"#443982\",\"#481E70\",\"#440154\",\"#481E70\",\"#481E70\",\"#443982\",\"#3B518A\",\"#3B518A\",\"#440154\",\"#440154\",\"#440154\",\"#3B518A\",\"#443982\",\"#443982\",\"#443982\",\"#443982\",\"#443982\",\"#443982\",\"#443982\",\"#443982\",\"#443982\",\"#481E70\",\"#443982\",\"#481E70\",\"#440154\",\"#3B518A\",\"#287B8E\",\"#481E70\",\"#3B518A\",\"#481E70\",\"#3B518A\",\"#3B518A\",\"#481E70\",\"#481E70\",\"#3B518A\",\"#443982\",\"#3B518A\",\"#443982\",\"#481E70\",\"#443982\",\"#3B518A\",\"#481E70\",\"#443982\",\"#481E70\",\"#443982\",\"#443982\",\"#481E70\",\"#287B8E\",\"#443982\",\"#3B518A\",\"#481E70\",\"#443982\",\"#3B518A\",\"#287B8E\",\"#440154\",\"#481E70\",\"#443982\",\"#287B8E\",\"#3B518A\",\"#3B518A\",\"#481E70\",\"#287B8E\",\"#287B8E\",\"#3B518A\",\"#3B518A\",\"#3B518A\",\"#287B8E\",\"#3B518A\",\"#481E70\",\"#481E70\",\"#481E70\",\"#481E70\",\"#443982\",\"#3B518A\",\"#440154\",\"#1FA386\",\"#1FA386\",\"#1FA386\",\"#1FA386\",\"#1FA386\",\"#1FA386\",\"#1FA386\",\"#35B778\",\"#1FA386\",\"#1FA386\",\"#1FA386\",\"#1FA386\",\"#1FA386\",\"#1FA386\",\"#35B778\",\"#1FA386\",\"#1FA386\",\"#1FA386\",\"#1FA386\",\"#1FA386\",\"#1FA386\",\"#1FA386\",\"#1FA386\",\"#1FA386\",\"#1FA386\",\"#1FA386\",\"#1FA386\",\"#1FA386\",\"#1FA386\",\"#1FA386\",\"#1FA386\",\"#1FA386\",\"#1FA386\",\"#1FA386\",\"#1FA386\",\"#1FA386\",\"#35B778\",\"#1FA386\",\"#1FA386\",\"#1FA386\",\"#35B778\",\"#1FA386\",\"#1FA386\",\"#35B778\",\"#1FA386\",\"#1FA386\",\"#1FA386\",\"#1FA386\",\"#1FA386\",\"#1FA386\",\"#208F8C\",\"#1FA386\",\"#35B778\",\"#1FA386\",\"#1FA386\",\"#1FA386\",\"#1FA386\",\"#1FA386\",\"#1FA386\",\"#35B778\",\"#5BC862\",\"#1FA386\",\"#1FA386\",\"#1FA386\",\"#1FA386\",\"#1FA386\",\"#35B778\",\"#1FA386\",\"#1FA386\",\"#1FA386\",\"#1FA386\",\"#1FA386\",\"#1FA386\",\"#1FA386\",\"#1FA386\",\"#35B778\",\"#1FA386\",\"#1FA386\",\"#1FA386\",\"#1FA386\",\"#1FA386\",\"#1FA386\",\"#1FA386\",\"#35B778\",\"#1FA386\",\"#1FA386\",\"#1FA386\",\"#1FA386\",\"#1FA386\",\"#1FA386\",\"#1FA386\",\"#1FA386\",\"#1FA386\",\"#1FA386\",\"#1FA386\",\"#1FA386\",\"#1FA386\",\"#1FA386\",\"#1FA386\",\"#1FA386\",\"#1FA386\",\"#35B778\",\"#1FA386\",\"#1FA386\",\"#1FA386\",\"#1FA386\",\"#1FA386\",\"#1FA386\",\"#1FA386\",\"#1FA386\",\"#1FA386\",\"#1FA386\",\"#1FA386\",\"#1FA386\",\"#35B778\",\"#1FA386\",\"#1FA386\",\"#1FA386\",\"#1FA386\",\"#1FA386\",\"#1FA386\",\"#1FA386\",\"#1FA386\",\"#1FA386\",\"#1FA386\",\"#1FA386\",\"#1FA386\",\"#1FA386\",\"#1FA386\",\"#1FA386\",\"#35B778\",\"#35B778\",\"#1FA386\",\"#1FA386\",\"#35B778\",\"#1FA386\",\"#1FA386\",\"#1FA386\",\"#1FA386\",\"#1FA386\",\"#1FA386\",\"#1FA386\",\"#1FA386\",\"#1FA386\",\"#35B778\",\"#1FA386\",\"#35B778\",\"#1FA386\",\"#1FA386\",\"#1FA386\",\"#208F8C\",\"#35B778\",\"#1FA386\",\"#1FA386\",\"#1FA386\",\"#208F8C\",\"#1FA386\",\"#1FA386\",\"#1FA386\",\"#1FA386\",\"#1FA386\",\"#1FA386\",\"#1FA386\",\"#1FA386\",\"#1FA386\",\"#1FA386\",\"#1FA386\",\"#1FA386\",\"#35B778\",\"#35B778\",\"#1FA386\",\"#1FA386\",\"#1FA386\",\"#1FA386\",\"#1FA386\",\"#1FA386\",\"#1FA386\",\"#1FA386\",\"#1FA386\",\"#1FA386\",\"#35B778\",\"#1FA386\",\"#1FA386\",\"#1FA386\",\"#1FA386\",\"#1FA386\",\"#35B778\",\"#1FA386\",\"#1FA386\",\"#1FA386\",\"#1FA386\",\"#1FA386\",\"#1FA386\",\"#1FA386\",\"#1FA386\",\"#1FA386\",\"#1FA386\",\"#1FA386\",\"#1FA386\",\"#1FA386\",\"#1FA386\",\"#1FA386\",\"#1FA386\",\"#1FA386\",\"#35B778\",\"#1FA386\",\"#1FA386\",\"#1FA386\",\"#1FA386\",\"#35B778\",\"#1FA386\",\"#1FA386\",\"#1FA386\",\"#1FA386\",\"#1FA386\",\"#35B778\",\"#1FA386\",\"#1FA386\",\"#8DD644\",\"#35B778\",\"#35B778\",\"#1FA386\",\"#1FA386\",\"#1FA386\",\"#1FA386\",\"#35B778\",\"#35B778\",\"#1FA386\",\"#35B778\",\"#1FA386\",\"#1FA386\",\"#35B778\",\"#1FA386\",\"#1FA386\",\"#35B778\",\"#1FA386\",\"#1FA386\",\"#1FA386\",\"#1FA386\",\"#1FA386\",\"#1FA386\",\"#1FA386\",\"#1FA386\",\"#1FA386\",\"#1FA386\",\"#1FA386\",\"#1FA386\",\"#1FA386\",\"#1FA386\",\"#1FA386\",\"#1FA386\",\"#1FA386\",\"#1FA386\",\"#1FA386\",\"#1FA386\",\"#1FA386\",\"#35B778\",\"#1FA386\",\"#1FA386\",\"#1FA386\",\"#1FA386\",\"#1FA386\",\"#1FA386\",\"#1FA386\",\"#35B778\",\"#35B778\",\"#1FA386\",\"#1FA386\",\"#35B778\",\"#208F8C\",\"#1FA386\",\"#1FA386\",\"#1FA386\",\"#1FA386\",\"#35B778\",\"#1FA386\",\"#35B778\",\"#1FA386\",\"#1FA386\",\"#35B778\",\"#1FA386\",\"#1FA386\",\"#1FA386\",\"#1FA386\",\"#1FA386\",\"#1FA386\",\"#1FA386\",\"#1FA386\",\"#1FA386\",\"#1FA386\",\"#C5DF21\",\"#35B778\",\"#1FA386\",\"#1FA386\",\"#1FA386\",\"#1FA386\",\"#1FA386\",\"#1FA386\",\"#1FA386\",\"#1FA386\",\"#1FA386\",\"#35B778\",\"#1FA386\",\"#1FA386\",\"#1FA386\",\"#35B778\",\"#35B778\",\"#1FA386\",\"#1FA386\",\"#1FA386\",\"#35B778\",\"#1FA386\",\"#1FA386\",\"#1FA386\",\"#1FA386\",\"#1FA386\",\"#8DD644\",\"#1FA386\",\"#35B778\",\"#35B778\",\"#1FA386\",\"#1FA386\",\"#1FA386\",\"#C5DF21\",\"#C5DF21\",\"#1FA386\",\"#1FA386\",\"#35B778\",\"#1FA386\",\"#1FA386\",\"#1FA386\",\"#1FA386\",\"#35B778\",\"#1FA386\",\"#1FA386\",\"#1FA386\",\"#1FA386\",\"#1FA386\",\"#1FA386\",\"#1FA386\",\"#1FA386\",\"#35B778\",\"#35B778\",\"#35B778\",\"#1FA386\",\"#35B778\",\"#1FA386\",\"#1FA386\",\"#1FA386\",\"#35B778\",\"#1FA386\",\"#35B778\",\"#1FA386\",\"#1FA386\",\"#1FA386\",\"#1FA386\",\"#8DD644\",\"#1FA386\",\"#1FA386\",\"#1FA386\",\"#1FA386\",\"#1FA386\",\"#1FA386\",\"#35B778\",\"#1FA386\",\"#1FA386\",\"#1FA386\",\"#1FA386\",\"#1FA386\",\"#1FA386\",\"#35B778\",\"#1FA386\",\"#1FA386\",\"#1FA386\",\"#1FA386\",\"#1FA386\",\"#35B778\",\"#1FA386\",\"#1FA386\",\"#1FA386\",\"#1FA386\",\"#5BC862\",\"#35B778\",\"#1FA386\",\"#35B778\",\"#1FA386\",\"#1FA386\",\"#1FA386\",\"#1FA386\",\"#1FA386\",\"#1FA386\",\"#1FA386\",\"#1FA386\",\"#35B778\",\"#1FA386\",\"#1FA386\",\"#1FA386\",\"#1FA386\",\"#1FA386\",\"#1FA386\"],\"labels\":[\"fit_C0\",\"fit_C1\",\"fit_C2\",\"fit_C1\",\"fit_C0\",\"fit_C3\",\"fit_C2\",\"fit_C3\",\"fit_C3\",\"fit_C1\",\"fit_C1\",\"fit_C1\",\"fit_C3\",\"fit_C3\",\"fit_C1\",\"fit_C3\",\"fit_C3\",\"fit_C1\",\"fit_C1\",\"fit_C1\",\"fit_C3\",\"fit_C1\",\"fit_C1\",\"fit_C1\",\"fit_C1\",\"fit_C3\",\"fit_C3\",\"fit_C-1\",\"fit_C1\",\"fit_C3\",\"fit_C1\",\"fit_C3\",\"fit_C3\",\"fit_C3\",\"fit_C1\",\"fit_C1\",\"fit_C2\",\"fit_C3\",\"fit_C3\",\"fit_C0\",\"fit_C1\",\"fit_C3\",\"fit_C1\",\"fit_C1\",\"fit_C0\",\"fit_C3\",\"fit_C0\",\"fit_C2\",\"fit_C3\",\"fit_C3\",\"fit_C1\",\"fit_C1\",\"fit_C2\",\"fit_C3\",\"fit_C3\",\"fit_C-1\",\"fit_C1\",\"fit_C2\",\"fit_C-1\",\"fit_C2\",\"fit_C2\",\"fit_C3\",\"fit_C3\",\"fit_C3\",\"fit_C1\",\"fit_C1\",\"fit_C0\",\"fit_C1\",\"fit_C2\",\"fit_C1\",\"fit_C3\",\"fit_C1\",\"fit_C3\",\"fit_C2\",\"fit_C3\",\"fit_C2\",\"fit_C2\",\"fit_C4\",\"fit_C2\",\"fit_C4\",\"fit_C2\",\"fit_C1\",\"fit_C3\",\"fit_C3\",\"fit_C2\",\"fit_C1\",\"fit_C3\",\"fit_C3\",\"fit_C3\",\"fit_C3\",\"fit_C2\",\"fit_C2\",\"fit_C3\",\"fit_C1\",\"fit_C1\",\"fit_C3\",\"fit_C2\",\"fit_C2\",\"fit_C3\",\"fit_C0\",\"fit_C2\",\"fit_C2\",\"fit_C0\",\"fit_C2\",\"fit_C2\",\"fit_C1\",\"fit_C1\",\"fit_C1\",\"fit_C3\",\"fit_C3\",\"fit_C2\",\"fit_C1\",\"fit_C2\",\"fit_C3\",\"fit_C3\",\"fit_C1\",\"fit_C2\",\"fit_C3\",\"fit_C1\",\"fit_C2\",\"fit_C2\",\"fit_C3\",\"fit_C3\",\"fit_C1\",\"fit_C0\",\"fit_C1\",\"fit_C0\",\"fit_C1\",\"fit_C3\",\"fit_C1\",\"fit_C1\",\"fit_C3\",\"fit_C2\",\"fit_C1\",\"fit_C0\",\"fit_C1\",\"fit_C1\",\"fit_C3\",\"fit_C3\",\"fit_C3\",\"fit_C1\",\"fit_C2\",\"fit_C1\",\"fit_C3\",\"fit_C3\",\"fit_C1\",\"fit_C3\",\"fit_C3\",\"fit_C2\",\"fit_C5\",\"fit_C3\",\"fit_C2\",\"fit_C3\",\"fit_C2\",\"fit_C1\",\"fit_C3\",\"fit_C3\",\"fit_C1\",\"fit_C3\",\"fit_C1\",\"fit_C3\",\"fit_C1\",\"fit_C1\",\"fit_C1\",\"fit_C5\",\"fit_C3\",\"fit_C1\",\"fit_C1\",\"fit_C1\",\"fit_C-1\",\"fit_C3\",\"fit_C0\",\"fit_C0\",\"fit_C3\",\"fit_C1\",\"fit_C1\",\"fit_C3\",\"fit_C2\",\"fit_C3\",\"fit_C2\",\"fit_C1\",\"fit_C2\",\"fit_C1\",\"fit_C3\",\"fit_C3\",\"fit_C2\",\"fit_C3\",\"fit_C3\",\"fit_C3\",\"fit_C3\",\"fit_C3\",\"fit_C0\",\"fit_C5\",\"fit_C5\",\"fit_C0\",\"fit_C3\",\"fit_C2\",\"fit_C2\",\"fit_C3\",\"fit_C2\",\"fit_C1\",\"fit_C0\",\"fit_C5\",\"fit_C2\",\"fit_C1\",\"fit_C2\",\"fit_C3\",\"fit_C2\",\"fit_C1\",\"fit_C1\",\"fit_C2\",\"fit_C1\",\"fit_C2\",\"fit_C3\",\"fit_C2\",\"fit_C1\",\"fit_C1\",\"fit_C1\",\"fit_C2\",\"fit_C1\",\"fit_C2\",\"fit_C1\",\"fit_C2\",\"fit_C2\",\"fit_C1\",\"fit_C1\",\"fit_C2\",\"fit_C3\",\"fit_C3\",\"fit_C2\",\"fit_C3\",\"fit_C2\",\"fit_C3\",\"fit_C0\",\"fit_C1\",\"fit_C1\",\"fit_C2\",\"fit_C2\",\"fit_C1\",\"fit_C5\",\"fit_C1\",\"fit_C2\",\"fit_C3\",\"fit_C0\",\"fit_C1\",\"fit_C1\",\"fit_C1\",\"fit_C1\",\"fit_C1\",\"fit_C1\",\"fit_C0\",\"fit_C5\",\"fit_C5\",\"fit_C3\",\"fit_C2\",\"fit_C1\",\"fit_C3\",\"fit_C1\",\"fit_C3\",\"fit_C3\",\"fit_C3\",\"fit_C0\",\"fit_C3\",\"fit_C2\",\"fit_C3\",\"fit_C3\",\"fit_C3\",\"fit_C1\",\"fit_C1\",\"fit_C1\",\"fit_C1\",\"fit_C1\",\"fit_C3\",\"fit_C2\",\"fit_C0\",\"fit_C5\",\"fit_C3\",\"fit_C3\",\"fit_C2\",\"fit_C3\",\"fit_C0\",\"fit_C1\",\"fit_C3\",\"fit_C1\",\"fit_C1\",\"fit_C1\",\"fit_C1\",\"fit_C1\",\"fit_C1\",\"fit_C3\",\"fit_C3\",\"fit_C0\",\"fit_C0\",\"fit_C2\",\"fit_C2\",\"fit_C2\",\"fit_C1\",\"fit_C3\",\"fit_C1\",\"fit_C1\",\"fit_C1\",\"fit_C0\",\"fit_C1\",\"fit_C0\",\"fit_C1\",\"fit_C1\",\"fit_C3\",\"fit_C3\",\"fit_C1\",\"fit_C1\",\"fit_C2\",\"fit_C3\",\"fit_C1\",\"fit_C5\",\"fit_C3\",\"fit_C3\",\"fit_C3\",\"fit_C1\",\"fit_C3\",\"fit_C1\",\"fit_C2\",\"fit_C2\",\"fit_C3\",\"fit_C3\",\"fit_C3\",\"fit_C0\",\"fit_C1\",\"fit_C5\",\"fit_C3\",\"fit_C1\",\"fit_C2\",\"fit_C2\",\"fit_C1\",\"fit_C1\",\"fit_C1\",\"fit_C2\",\"fit_C3\",\"fit_C2\",\"fit_C3\",\"fit_C1\",\"fit_C2\",\"fit_C3\",\"fit_C0\",\"fit_C1\",\"fit_C1\",\"fit_C3\",\"fit_C3\",\"fit_C0\",\"fit_C3\",\"fit_C3\",\"fit_C3\",\"fit_C3\",\"fit_C3\",\"fit_C1\",\"fit_C2\",\"fit_C2\",\"fit_C1\",\"fit_C2\",\"fit_C3\",\"fit_C1\",\"fit_C3\",\"fit_C1\",\"fit_C3\",\"fit_C3\",\"fit_C2\",\"fit_C1\",\"fit_C1\",\"fit_C1\",\"fit_C0\",\"fit_C2\",\"fit_C1\",\"fit_C1\",\"fit_C1\",\"fit_C1\",\"fit_C3\",\"fit_C3\",\"fit_C3\",\"fit_C1\",\"fit_C3\",\"fit_C3\",\"fit_C3\",\"fit_C1\",\"fit_C2\",\"fit_C2\",\"fit_C0\",\"fit_C2\",\"fit_C3\",\"fit_C2\",\"fit_C1\",\"fit_C1\",\"fit_C3\",\"fit_C-1\",\"fit_C2\",\"fit_C3\",\"fit_C2\",\"fit_C0\",\"fit_C2\",\"fit_C1\",\"fit_C1\",\"fit_C5\",\"fit_C1\",\"fit_C3\",\"fit_C3\",\"fit_C1\",\"fit_C1\",\"fit_C0\",\"fit_C2\",\"fit_C3\",\"fit_C3\",\"fit_C3\",\"fit_C1\",\"fit_C3\",\"fit_C1\",\"fit_C1\",\"fit_C0\",\"fit_C3\",\"fit_C1\",\"fit_C0\",\"fit_C1\",\"fit_C1\",\"fit_C3\",\"fit_C1\",\"fit_C0\",\"fit_C5\",\"fit_C1\",\"fit_C5\",\"fit_C3\",\"fit_C0\",\"fit_C1\",\"fit_C2\",\"fit_C1\",\"fit_C2\",\"fit_C3\",\"fit_C3\",\"fit_C2\",\"fit_C2\",\"fit_C3\",\"fit_C1\",\"fit_C-1\",\"fit_C1\",\"fit_C1\",\"fit_C1\",\"fit_C2\",\"fit_C2\",\"fit_C1\",\"fit_C1\",\"fit_C5\",\"fit_C0\",\"fit_C1\",\"fit_C1\",\"fit_C-1\",\"fit_C3\",\"fit_C-1\",\"fit_C2\",\"fit_C2\",\"fit_C1\",\"fit_C3\",\"fit_C-1\",\"fit_C5\",\"fit_C2\",\"fit_C3\",\"fit_C1\",\"fit_C1\",\"fit_C2\",\"fit_C1\",\"fit_C1\",\"fit_C1\",\"fit_C0\",\"fit_C3\",\"fit_C3\",\"fit_C2\",\"fit_C1\",\"fit_C1\",\"fit_C1\",\"fit_C2\",\"fit_C3\",\"fit_C3\",\"fit_C3\",\"fit_C1\",\"fit_C2\",\"fit_C3\",\"fit_C1\",\"fit_C3\",\"fit_C1\",\"fit_C2\",\"fit_C1\",\"fit_C1\",\"fit_C3\",\"fit_C5\",\"fit_C2\",\"fit_C5\",\"fit_C3\",\"fit_C1\",\"fit_C2\",\"fit_C3\",\"fit_C2\",\"fit_C1\",\"fit_C3\",\"fit_C5\",\"fit_C1\",\"fit_C1\",\"fit_C3\",\"fit_C1\",\"fit_C0\",\"fit_C1\",\"fit_C0\",\"fit_C1\",\"fit_C1\",\"fit_C0\",\"fit_C2\",\"fit_C3\",\"fit_C2\",\"fit_C1\",\"fit_C3\",\"fit_C1\",\"fit_C3\",\"fit_C2\",\"fit_C3\",\"fit_C0\",\"fit_C3\",\"fit_C2\",\"fit_C2\",\"fit_C1\",\"fit_C2\",\"fit_C1\",\"fit_C2\",\"fit_C1\",\"fit_C0\",\"fit_C3\",\"fit_C2\",\"fit_C1\",\"fit_C2\",\"fit_C1\",\"fit_C3\",\"fit_C1\",\"fit_C2\",\"fit_C5\",\"fit_C3\",\"fit_C3\",\"fit_C2\",\"fit_C0\",\"fit_C1\",\"fit_C2\",\"fit_C1\",\"fit_C3\",\"fit_C2\",\"fit_C3\",\"fit_C2\",\"fit_C2\",\"fit_C2\",\"fit_C2\",\"fit_C1\",\"fit_C3\",\"fit_C1\",\"fit_C3\",\"fit_C3\",\"fit_C3\",\"fit_C2\",\"fit_C2\",\"fit_C2\",\"fit_C1\",\"fit_C1\",\"fit_C0\",\"fit_C3\",\"fit_C3\",\"fit_C3\",\"fit_C1\",\"fit_C1\",\"fit_C-1\",\"fit_C5\",\"fit_C1\",\"fit_C5\",\"fit_C2\",\"fit_C1\",\"fit_C1\",\"fit_C2\",\"fit_C5\",\"fit_C4\",\"fit_C1\",\"fit_C1\",\"fit_C2\",\"fit_C3\",\"fit_C2\",\"fit_C1\",\"fit_C3\",\"fit_C1\",\"fit_C2\",\"fit_C3\",\"fit_C1\",\"fit_C0\",\"fit_C2\",\"fit_C3\",\"fit_C2\",\"fit_C3\",\"fit_C-1\",\"fit_C2\",\"fit_C3\",\"fit_C1\",\"fit_C3\",\"fit_C3\",\"fit_C3\",\"fit_C2\",\"fit_C2\",\"fit_C2\",\"fit_C0\",\"fit_C3\",\"fit_C3\",\"fit_C3\",\"fit_C3\",\"fit_C3\",\"fit_C3\",\"fit_C1\",\"fit_C1\",\"fit_C3\",\"fit_C2\",\"fit_C0\",\"fit_C1\",\"fit_C1\",\"fit_C1\",\"fit_C5\",\"fit_C3\",\"fit_C1\",\"fit_C1\",\"fit_C1\",\"fit_C2\",\"fit_C1\",\"fit_C1\",\"fit_C3\",\"fit_C2\",\"fit_C1\",\"fit_C3\",\"fit_C2\",\"fit_C1\",\"fit_C1\",\"fit_C1\",\"fit_C3\",\"fit_C3\",\"fit_C2\",\"fit_C0\",\"fit_C3\",\"fit_C3\",\"fit_C1\",\"fit_C2\",\"fit_C3\",\"fit_C1\",\"fit_C1\",\"fit_C2\",\"fit_C3\",\"fit_C3\",\"fit_C1\",\"fit_C1\",\"fit_C3\",\"fit_C1\",\"fit_C1\",\"fit_C0\",\"fit_C1\",\"fit_C3\",\"fit_C1\",\"fit_C3\",\"fit_C3\",\"fit_C3\",\"fit_C3\",\"fit_C2\",\"fit_C1\",\"fit_C2\",\"fit_C2\",\"fit_C1\",\"fit_C3\",\"fit_C1\",\"fit_C3\",\"fit_C1\",\"fit_C5\",\"fit_C1\",\"fit_C3\",\"fit_C1\",\"fit_C3\",\"fit_C1\",\"fit_C3\",\"fit_C1\",\"fit_C1\",\"fit_C1\",\"fit_C1\",\"fit_C2\",\"fit_C1\",\"fit_C1\",\"fit_C1\",\"fit_C1\",\"fit_C1\",\"fit_C1\",\"fit_C3\",\"fit_C1\",\"fit_C3\",\"fit_C1\",\"fit_C3\",\"fit_C1\",\"fit_C0\",\"fit_C3\",\"fit_C3\",\"fit_C1\",\"fit_C3\",\"fit_C2\",\"fit_C1\",\"fit_C0\",\"fit_C0\",\"fit_C2\",\"fit_C0\",\"fit_C1\",\"fit_C3\",\"fit_C3\",\"fit_C0\",\"fit_C0\",\"fit_C2\",\"fit_C5\",\"fit_C3\",\"fit_C1\",\"fit_C1\",\"fit_C2\",\"fit_C2\",\"fit_C1\",\"fit_C1\",\"fit_C2\",\"fit_C1\",\"fit_C3\",\"fit_C1\",\"fit_C-1\",\"fit_C2\",\"fit_C1\",\"fit_C0\",\"fit_C1\",\"fit_C1\",\"fit_C2\",\"fit_C3\",\"fit_C3\",\"fit_C0\",\"fit_C0\",\"fit_C0\",\"fit_C3\",\"fit_C2\",\"fit_C2\",\"fit_C2\",\"fit_C2\",\"fit_C2\",\"fit_C2\",\"fit_C2\",\"fit_C2\",\"fit_C2\",\"fit_C1\",\"fit_C2\",\"fit_C1\",\"fit_C0\",\"fit_C3\",\"fit_C5\",\"fit_C1\",\"fit_C3\",\"fit_C1\",\"fit_C3\",\"fit_C3\",\"fit_C1\",\"fit_C1\",\"fit_C3\",\"fit_C2\",\"fit_C3\",\"fit_C2\",\"fit_C1\",\"fit_C2\",\"fit_C3\",\"fit_C1\",\"fit_C2\",\"fit_C1\",\"fit_C2\",\"fit_C2\",\"fit_C1\",\"fit_C5\",\"fit_C2\",\"fit_C3\",\"fit_C1\",\"fit_C2\",\"fit_C3\",\"fit_C5\",\"fit_C0\",\"fit_C1\",\"fit_C2\",\"fit_C5\",\"fit_C3\",\"fit_C3\",\"fit_C1\",\"fit_C5\",\"fit_C5\",\"fit_C3\",\"fit_C3\",\"fit_C3\",\"fit_C5\",\"fit_C3\",\"fit_C1\",\"fit_C1\",\"fit_C1\",\"fit_C1\",\"fit_C2\",\"fit_C3\",\"fit_C0\",\"transform_C0\",\"transform_C0\",\"transform_C0\",\"transform_C0\",\"transform_C0\",\"transform_C0\",\"transform_C0\",\"transform_C1\",\"transform_C0\",\"transform_C0\",\"transform_C0\",\"transform_C0\",\"transform_C0\",\"transform_C0\",\"transform_C1\",\"transform_C0\",\"transform_C0\",\"transform_C0\",\"transform_C0\",\"transform_C0\",\"transform_C0\",\"transform_C0\",\"transform_C0\",\"transform_C0\",\"transform_C0\",\"transform_C0\",\"transform_C0\",\"transform_C0\",\"transform_C0\",\"transform_C0\",\"transform_C0\",\"transform_C0\",\"transform_C0\",\"transform_C0\",\"transform_C0\",\"transform_C0\",\"transform_C1\",\"transform_C0\",\"transform_C0\",\"transform_C0\",\"transform_C1\",\"transform_C0\",\"transform_C0\",\"transform_C1\",\"transform_C0\",\"transform_C0\",\"transform_C0\",\"transform_C0\",\"transform_C0\",\"transform_C0\",\"transform_C-1\",\"transform_C0\",\"transform_C1\",\"transform_C0\",\"transform_C0\",\"transform_C0\",\"transform_C0\",\"transform_C0\",\"transform_C0\",\"transform_C1\",\"transform_C2\",\"transform_C0\",\"transform_C0\",\"transform_C0\",\"transform_C0\",\"transform_C0\",\"transform_C1\",\"transform_C0\",\"transform_C0\",\"transform_C0\",\"transform_C0\",\"transform_C0\",\"transform_C0\",\"transform_C0\",\"transform_C0\",\"transform_C1\",\"transform_C0\",\"transform_C0\",\"transform_C0\",\"transform_C0\",\"transform_C0\",\"transform_C0\",\"transform_C0\",\"transform_C1\",\"transform_C0\",\"transform_C0\",\"transform_C0\",\"transform_C0\",\"transform_C0\",\"transform_C0\",\"transform_C0\",\"transform_C0\",\"transform_C0\",\"transform_C0\",\"transform_C0\",\"transform_C0\",\"transform_C0\",\"transform_C0\",\"transform_C0\",\"transform_C0\",\"transform_C0\",\"transform_C1\",\"transform_C0\",\"transform_C0\",\"transform_C0\",\"transform_C0\",\"transform_C0\",\"transform_C0\",\"transform_C0\",\"transform_C0\",\"transform_C0\",\"transform_C0\",\"transform_C0\",\"transform_C0\",\"transform_C1\",\"transform_C0\",\"transform_C0\",\"transform_C0\",\"transform_C0\",\"transform_C0\",\"transform_C0\",\"transform_C0\",\"transform_C0\",\"transform_C0\",\"transform_C0\",\"transform_C0\",\"transform_C0\",\"transform_C0\",\"transform_C0\",\"transform_C0\",\"transform_C1\",\"transform_C1\",\"transform_C0\",\"transform_C0\",\"transform_C1\",\"transform_C0\",\"transform_C0\",\"transform_C0\",\"transform_C0\",\"transform_C0\",\"transform_C0\",\"transform_C0\",\"transform_C0\",\"transform_C0\",\"transform_C1\",\"transform_C0\",\"transform_C1\",\"transform_C0\",\"transform_C0\",\"transform_C0\",\"transform_C-1\",\"transform_C1\",\"transform_C0\",\"transform_C0\",\"transform_C0\",\"transform_C-1\",\"transform_C0\",\"transform_C0\",\"transform_C0\",\"transform_C0\",\"transform_C0\",\"transform_C0\",\"transform_C0\",\"transform_C0\",\"transform_C0\",\"transform_C0\",\"transform_C0\",\"transform_C0\",\"transform_C1\",\"transform_C1\",\"transform_C0\",\"transform_C0\",\"transform_C0\",\"transform_C0\",\"transform_C0\",\"transform_C0\",\"transform_C0\",\"transform_C0\",\"transform_C0\",\"transform_C0\",\"transform_C1\",\"transform_C0\",\"transform_C0\",\"transform_C0\",\"transform_C0\",\"transform_C0\",\"transform_C1\",\"transform_C0\",\"transform_C0\",\"transform_C0\",\"transform_C0\",\"transform_C0\",\"transform_C0\",\"transform_C0\",\"transform_C0\",\"transform_C0\",\"transform_C0\",\"transform_C0\",\"transform_C0\",\"transform_C0\",\"transform_C0\",\"transform_C0\",\"transform_C0\",\"transform_C0\",\"transform_C1\",\"transform_C0\",\"transform_C0\",\"transform_C0\",\"transform_C0\",\"transform_C1\",\"transform_C0\",\"transform_C0\",\"transform_C0\",\"transform_C0\",\"transform_C0\",\"transform_C1\",\"transform_C0\",\"transform_C0\",\"transform_C3\",\"transform_C1\",\"transform_C1\",\"transform_C0\",\"transform_C0\",\"transform_C0\",\"transform_C0\",\"transform_C1\",\"transform_C1\",\"transform_C0\",\"transform_C1\",\"transform_C0\",\"transform_C0\",\"transform_C1\",\"transform_C0\",\"transform_C0\",\"transform_C1\",\"transform_C0\",\"transform_C0\",\"transform_C0\",\"transform_C0\",\"transform_C0\",\"transform_C0\",\"transform_C0\",\"transform_C0\",\"transform_C0\",\"transform_C0\",\"transform_C0\",\"transform_C0\",\"transform_C0\",\"transform_C0\",\"transform_C0\",\"transform_C0\",\"transform_C0\",\"transform_C0\",\"transform_C0\",\"transform_C0\",\"transform_C0\",\"transform_C1\",\"transform_C0\",\"transform_C0\",\"transform_C0\",\"transform_C0\",\"transform_C0\",\"transform_C0\",\"transform_C0\",\"transform_C1\",\"transform_C1\",\"transform_C0\",\"transform_C0\",\"transform_C1\",\"transform_C-1\",\"transform_C0\",\"transform_C0\",\"transform_C0\",\"transform_C0\",\"transform_C1\",\"transform_C0\",\"transform_C1\",\"transform_C0\",\"transform_C0\",\"transform_C1\",\"transform_C0\",\"transform_C0\",\"transform_C0\",\"transform_C0\",\"transform_C0\",\"transform_C0\",\"transform_C0\",\"transform_C0\",\"transform_C0\",\"transform_C0\",\"transform_C4\",\"transform_C1\",\"transform_C0\",\"transform_C0\",\"transform_C0\",\"transform_C0\",\"transform_C0\",\"transform_C0\",\"transform_C0\",\"transform_C0\",\"transform_C0\",\"transform_C1\",\"transform_C0\",\"transform_C0\",\"transform_C0\",\"transform_C1\",\"transform_C1\",\"transform_C0\",\"transform_C0\",\"transform_C0\",\"transform_C1\",\"transform_C0\",\"transform_C0\",\"transform_C0\",\"transform_C0\",\"transform_C0\",\"transform_C3\",\"transform_C0\",\"transform_C1\",\"transform_C1\",\"transform_C0\",\"transform_C0\",\"transform_C0\",\"transform_C4\",\"transform_C4\",\"transform_C0\",\"transform_C0\",\"transform_C1\",\"transform_C0\",\"transform_C0\",\"transform_C0\",\"transform_C0\",\"transform_C1\",\"transform_C0\",\"transform_C0\",\"transform_C0\",\"transform_C0\",\"transform_C0\",\"transform_C0\",\"transform_C0\",\"transform_C0\",\"transform_C1\",\"transform_C1\",\"transform_C1\",\"transform_C0\",\"transform_C1\",\"transform_C0\",\"transform_C0\",\"transform_C0\",\"transform_C1\",\"transform_C0\",\"transform_C1\",\"transform_C0\",\"transform_C0\",\"transform_C0\",\"transform_C0\",\"transform_C3\",\"transform_C0\",\"transform_C0\",\"transform_C0\",\"transform_C0\",\"transform_C0\",\"transform_C0\",\"transform_C1\",\"transform_C0\",\"transform_C0\",\"transform_C0\",\"transform_C0\",\"transform_C0\",\"transform_C0\",\"transform_C1\",\"transform_C0\",\"transform_C0\",\"transform_C0\",\"transform_C0\",\"transform_C0\",\"transform_C1\",\"transform_C0\",\"transform_C0\",\"transform_C0\",\"transform_C0\",\"transform_C2\",\"transform_C1\",\"transform_C0\",\"transform_C1\",\"transform_C0\",\"transform_C0\",\"transform_C0\",\"transform_C0\",\"transform_C0\",\"transform_C0\",\"transform_C0\",\"transform_C0\",\"transform_C1\",\"transform_C0\",\"transform_C0\",\"transform_C0\",\"transform_C0\",\"transform_C0\",\"transform_C0\"],\"radius\":[0.1,0.1,0.1,0.1,0.1,0.1,0.1,0.1,0.1,0.1,0.1,0.1,0.1,0.1,0.1,0.1,0.1,0.1,0.1,0.1,0.1,0.1,0.1,0.1,0.1,0.1,0.1,0.1,0.1,0.1,0.1,0.1,0.1,0.1,0.1,0.1,0.1,0.1,0.1,0.1,0.1,0.1,0.1,0.1,0.1,0.1,0.1,0.1,0.1,0.1,0.1,0.1,0.1,0.1,0.1,0.1,0.1,0.1,0.1,0.1,0.1,0.1,0.1,0.1,0.1,0.1,0.1,0.1,0.1,0.1,0.1,0.1,0.1,0.1,0.1,0.1,0.1,0.1,0.1,0.1,0.1,0.1,0.1,0.1,0.1,0.1,0.1,0.1,0.1,0.1,0.1,0.1,0.1,0.1,0.1,0.1,0.1,0.1,0.1,0.1,0.1,0.1,0.1,0.1,0.1,0.1,0.1,0.1,0.1,0.1,0.1,0.1,0.1,0.1,0.1,0.1,0.1,0.1,0.1,0.1,0.1,0.1,0.1,0.1,0.1,0.1,0.1,0.1,0.1,0.1,0.1,0.1,0.1,0.1,0.1,0.1,0.1,0.1,0.1,0.1,0.1,0.1,0.1,0.1,0.1,0.1,0.1,0.1,0.1,0.1,0.1,0.1,0.1,0.1,0.1,0.1,0.1,0.1,0.1,0.1,0.1,0.1,0.1,0.1,0.1,0.1,0.1,0.1,0.1,0.1,0.1,0.1,0.1,0.1,0.1,0.1,0.1,0.1,0.1,0.1,0.1,0.1,0.1,0.1,0.1,0.1,0.1,0.1,0.1,0.1,0.1,0.1,0.1,0.1,0.1,0.1,0.1,0.1,0.1,0.1,0.1,0.1,0.1,0.1,0.1,0.1,0.1,0.1,0.1,0.1,0.1,0.1,0.1,0.1,0.1,0.1,0.1,0.1,0.1,0.1,0.1,0.1,0.1,0.1,0.1,0.1,0.1,0.1,0.1,0.1,0.1,0.1,0.1,0.1,0.1,0.1,0.1,0.1,0.1,0.1,0.1,0.1,0.1,0.1,0.1,0.1,0.1,0.1,0.1,0.1,0.1,0.1,0.1,0.1,0.1,0.1,0.1,0.1,0.1,0.1,0.1,0.1,0.1,0.1,0.1,0.1,0.1,0.1,0.1,0.1,0.1,0.1,0.1,0.1,0.1,0.1,0.1,0.1,0.1,0.1,0.1,0.1,0.1,0.1,0.1,0.1,0.1,0.1,0.1,0.1,0.1,0.1,0.1,0.1,0.1,0.1,0.1,0.1,0.1,0.1,0.1,0.1,0.1,0.1,0.1,0.1,0.1,0.1,0.1,0.1,0.1,0.1,0.1,0.1,0.1,0.1,0.1,0.1,0.1,0.1,0.1,0.1,0.1,0.1,0.1,0.1,0.1,0.1,0.1,0.1,0.1,0.1,0.1,0.1,0.1,0.1,0.1,0.1,0.1,0.1,0.1,0.1,0.1,0.1,0.1,0.1,0.1,0.1,0.1,0.1,0.1,0.1,0.1,0.1,0.1,0.1,0.1,0.1,0.1,0.1,0.1,0.1,0.1,0.1,0.1,0.1,0.1,0.1,0.1,0.1,0.1,0.1,0.1,0.1,0.1,0.1,0.1,0.1,0.1,0.1,0.1,0.1,0.1,0.1,0.1,0.1,0.1,0.1,0.1,0.1,0.1,0.1,0.1,0.1,0.1,0.1,0.1,0.1,0.1,0.1,0.1,0.1,0.1,0.1,0.1,0.1,0.1,0.1,0.1,0.1,0.1,0.1,0.1,0.1,0.1,0.1,0.1,0.1,0.1,0.1,0.1,0.1,0.1,0.1,0.1,0.1,0.1,0.1,0.1,0.1,0.1,0.1,0.1,0.1,0.1,0.1,0.1,0.1,0.1,0.1,0.1,0.1,0.1,0.1,0.1,0.1,0.1,0.1,0.1,0.1,0.1,0.1,0.1,0.1,0.1,0.1,0.1,0.1,0.1,0.1,0.1,0.1,0.1,0.1,0.1,0.1,0.1,0.1,0.1,0.1,0.1,0.1,0.1,0.1,0.1,0.1,0.1,0.1,0.1,0.1,0.1,0.1,0.1,0.1,0.1,0.1,0.1,0.1,0.1,0.1,0.1,0.1,0.1,0.1,0.1,0.1,0.1,0.1,0.1,0.1,0.1,0.1,0.1,0.1,0.1,0.1,0.1,0.1,0.1,0.1,0.1,0.1,0.1,0.1,0.1,0.1,0.1,0.1,0.1,0.1,0.1,0.1,0.1,0.1,0.1,0.1,0.1,0.1,0.1,0.1,0.1,0.1,0.1,0.1,0.1,0.1,0.1,0.1,0.1,0.1,0.1,0.1,0.1,0.1,0.1,0.1,0.1,0.1,0.1,0.1,0.1,0.1,0.1,0.1,0.1,0.1,0.1,0.1,0.1,0.1,0.1,0.1,0.1,0.1,0.1,0.1,0.1,0.1,0.1,0.1,0.1,0.1,0.1,0.1,0.1,0.1,0.1,0.1,0.1,0.1,0.1,0.1,0.1,0.1,0.1,0.1,0.1,0.1,0.1,0.1,0.1,0.1,0.1,0.1,0.1,0.1,0.1,0.1,0.1,0.1,0.1,0.1,0.1,0.1,0.1,0.1,0.1,0.1,0.1,0.1,0.1,0.1,0.1,0.1,0.1,0.1,0.1,0.1,0.1,0.1,0.1,0.1,0.1,0.1,0.1,0.1,0.1,0.1,0.1,0.1,0.1,0.1,0.1,0.1,0.1,0.1,0.1,0.1,0.1,0.1,0.1,0.1,0.1,0.1,0.1,0.1,0.1,0.1,0.1,0.1,0.1,0.1,0.1,0.1,0.1,0.1,0.1,0.1,0.1,0.1,0.1,0.1,0.1,0.1,0.1,0.1,0.1,0.1,0.1,0.1,0.1,0.1,0.1,0.1,0.1,0.1,0.1,0.1,0.1,0.1,0.1,0.1,0.1,0.1,0.1,0.1,0.1,0.1,0.1,0.1,0.1,0.1,0.1,0.1,0.1,0.1,0.1,0.1,0.1,0.1,0.1,0.1,0.1,0.1,0.1,0.1,0.1,0.1,0.1,0.1,0.1,0.1,0.1,0.1,0.1,0.1,0.1,0.1,0.1,0.1,0.1,0.1,0.1,0.1,0.1,0.1,0.1,0.1,0.1,0.1,0.1,0.1,0.1,0.1,0.1,0.1,0.1,0.1,0.1,0.1,0.1,0.1,0.1,0.1,0.1,0.1,0.1,0.1,0.1,0.1,0.1,0.1,0.1,0.1,0.1,0.1,0.1,0.1,0.1,0.1,0.1,0.1,0.1,0.1,0.1,0.1,0.1,0.1,0.1,0.1,0.1,0.1,0.1,0.1,0.1,0.1,0.1,0.1,0.1,0.1,0.1,0.1,0.1,0.1,0.1,0.1,0.1,0.1,0.1,0.1,0.1,0.1,0.1,0.1,0.1,0.1,0.1,0.1,0.1,0.1,0.05,0.05,0.05,0.05,0.05,0.05,0.05,0.05,0.05,0.05,0.05,0.05,0.05,0.05,0.05,0.05,0.05,0.05,0.05,0.05,0.05,0.05,0.05,0.05,0.05,0.05,0.05,0.05,0.05,0.05,0.05,0.05,0.05,0.05,0.05,0.05,0.05,0.05,0.05,0.05,0.05,0.05,0.05,0.05,0.05,0.05,0.05,0.05,0.05,0.05,0.05,0.05,0.05,0.05,0.05,0.05,0.05,0.05,0.05,0.05,0.05,0.05,0.05,0.05,0.05,0.05,0.05,0.05,0.05,0.05,0.05,0.05,0.05,0.05,0.05,0.05,0.05,0.05,0.05,0.05,0.05,0.05,0.05,0.05,0.05,0.05,0.05,0.05,0.05,0.05,0.05,0.05,0.05,0.05,0.05,0.05,0.05,0.05,0.05,0.05,0.05,0.05,0.05,0.05,0.05,0.05,0.05,0.05,0.05,0.05,0.05,0.05,0.05,0.05,0.05,0.05,0.05,0.05,0.05,0.05,0.05,0.05,0.05,0.05,0.05,0.05,0.05,0.05,0.05,0.05,0.05,0.05,0.05,0.05,0.05,0.05,0.05,0.05,0.05,0.05,0.05,0.05,0.05,0.05,0.05,0.05,0.05,0.05,0.05,0.05,0.05,0.05,0.05,0.05,0.05,0.05,0.05,0.05,0.05,0.05,0.05,0.05,0.05,0.05,0.05,0.05,0.05,0.05,0.05,0.05,0.05,0.05,0.05,0.05,0.05,0.05,0.05,0.05,0.05,0.05,0.05,0.05,0.05,0.05,0.05,0.05,0.05,0.05,0.05,0.05,0.05,0.05,0.05,0.05,0.05,0.05,0.05,0.05,0.05,0.05,0.05,0.05,0.05,0.05,0.05,0.05,0.05,0.05,0.05,0.05,0.05,0.05,0.05,0.05,0.05,0.05,0.05,0.05,0.05,0.05,0.05,0.05,0.05,0.05,0.05,0.05,0.05,0.05,0.05,0.05,0.05,0.05,0.05,0.05,0.05,0.05,0.05,0.05,0.05,0.05,0.05,0.05,0.05,0.05,0.05,0.05,0.05,0.05,0.05,0.05,0.05,0.05,0.05,0.05,0.05,0.05,0.05,0.05,0.05,0.05,0.05,0.05,0.05,0.05,0.05,0.05,0.05,0.05,0.05,0.05,0.05,0.05,0.05,0.05,0.05,0.05,0.05,0.05,0.05,0.05,0.05,0.05,0.05,0.05,0.05,0.05,0.05,0.05,0.05,0.05,0.05,0.05,0.05,0.05,0.05,0.05,0.05,0.05,0.05,0.05,0.05,0.05,0.05,0.05,0.05,0.05,0.05,0.05,0.05,0.05,0.05,0.05,0.05,0.05,0.05,0.05,0.05,0.05,0.05,0.05,0.05,0.05,0.05,0.05,0.05,0.05,0.05,0.05,0.05,0.05,0.05,0.05,0.05,0.05,0.05,0.05,0.05,0.05,0.05,0.05,0.05,0.05,0.05,0.05,0.05,0.05,0.05,0.05,0.05,0.05,0.05,0.05,0.05,0.05,0.05,0.05,0.05,0.05,0.05,0.05,0.05,0.05,0.05,0.05,0.05,0.05,0.05,0.05,0.05,0.05,0.05,0.05,0.05,0.05,0.05,0.05,0.05,0.05,0.05,0.05,0.05,0.05,0.05,0.05,0.05,0.05,0.05,0.05,0.05,0.05,0.05,0.05,0.05,0.05,0.05,0.05,0.05,0.05,0.05,0.05],\"x\":{\"__ndarray__\":\"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\",\"dtype\":\"float32\",\"order\":\"little\",\"shape\":[1200]},\"y\":{\"__ndarray__\":\"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\",\"dtype\":\"float32\",\"order\":\"little\",\"shape\":[1200]}},\"selected\":{\"id\":\"2291\"},\"selection_policy\":{\"id\":\"2290\"}},\"id\":\"2144\",\"type\":\"ColumnDataSource\"},{\"attributes\":{},\"id\":\"2169\",\"type\":\"ZoomOutTool\"},{\"attributes\":{\"axis_label\":\"UMAP1\",\"formatter\":{\"id\":\"2288\"},\"major_label_policy\":{\"id\":\"2287\"},\"ticker\":{\"id\":\"2157\"}},\"id\":\"2156\",\"type\":\"LinearAxis\"},{\"attributes\":{},\"id\":\"2173\",\"type\":\"ResetTool\"},{\"attributes\":{},\"id\":\"2157\",\"type\":\"BasicTicker\"},{\"attributes\":{},\"id\":\"2171\",\"type\":\"UndoTool\"},{\"attributes\":{\"source\":{\"id\":\"2144\"}},\"id\":\"2198\",\"type\":\"CDSView\"},{\"attributes\":{},\"id\":\"2291\",\"type\":\"Selection\"},{\"attributes\":{\"axis\":{\"id\":\"2156\"},\"ticker\":null},\"id\":\"2159\",\"type\":\"Grid\"},{\"attributes\":{\"fill_alpha\":{\"field\":\"fill_alpha\"},\"fill_color\":{\"field\":\"fill_color\"},\"line_color\":{\"field\":\"fill_color\"},\"line_width\":{\"value\":0},\"radius\":{\"field\":\"radius\"},\"x\":{\"field\":\"x\"},\"y\":{\"field\":\"y\"}},\"id\":\"2195\",\"type\":\"Circle\"},{\"attributes\":{},\"id\":\"2290\",\"type\":\"UnionRenderers\"},{\"attributes\":{\"text\":\"SNN clusters\"},\"id\":\"2146\",\"type\":\"Title\"},{\"attributes\":{\"active_multi\":null,\"tools\":[{\"id\":\"2164\"},{\"id\":\"2165\"},{\"id\":\"2166\"},{\"id\":\"2167\"},{\"id\":\"2168\"},{\"id\":\"2169\"},{\"id\":\"2170\"},{\"id\":\"2171\"},{\"id\":\"2172\"},{\"id\":\"2173\"},{\"id\":\"2174\"},{\"id\":\"2175\"},{\"id\":\"2176\"}]},\"id\":\"2180\",\"type\":\"Toolbar\"},{\"attributes\":{},\"id\":\"2165\",\"type\":\"CrosshairTool\"},{\"attributes\":{\"overlay\":{\"id\":\"2178\"}},\"id\":\"2170\",\"type\":\"BoxZoomTool\"},{\"attributes\":{\"bottom_units\":\"screen\",\"fill_alpha\":0.5,\"fill_color\":\"lightgrey\",\"left_units\":\"screen\",\"level\":\"overlay\",\"line_alpha\":1.0,\"line_color\":\"black\",\"line_dash\":[4,4],\"line_width\":2,\"right_units\":\"screen\",\"syncable\":false,\"top_units\":\"screen\"},\"id\":\"2178\",\"type\":\"BoxAnnotation\"},{\"attributes\":{\"bottom_units\":\"screen\",\"fill_alpha\":0.5,\"fill_color\":\"lightgrey\",\"left_units\":\"screen\",\"level\":\"overlay\",\"line_alpha\":1.0,\"line_color\":\"black\",\"line_dash\":[4,4],\"line_width\":2,\"right_units\":\"screen\",\"syncable\":false,\"top_units\":\"screen\"},\"id\":\"2177\",\"type\":\"BoxAnnotation\"},{\"attributes\":{},\"id\":\"2174\",\"type\":\"SaveTool\"},{\"attributes\":{\"data_source\":{\"id\":\"2144\"},\"glyph\":{\"id\":\"2195\"},\"hover_glyph\":null,\"muted_glyph\":null,\"nonselection_glyph\":{\"id\":\"2196\"},\"view\":{\"id\":\"2198\"}},\"id\":\"2197\",\"type\":\"GlyphRenderer\"},{\"attributes\":{},\"id\":\"2148\",\"type\":\"DataRange1d\"},{\"attributes\":{},\"id\":\"2150\",\"type\":\"DataRange1d\"},{\"attributes\":{},\"id\":\"2168\",\"type\":\"ZoomInTool\"},{\"attributes\":{},\"id\":\"2154\",\"type\":\"LinearScale\"},{\"attributes\":{},\"id\":\"2161\",\"type\":\"BasicTicker\"},{\"attributes\":{\"axis_label\":\"UMAP2\",\"formatter\":{\"id\":\"2285\"},\"major_label_policy\":{\"id\":\"2284\"},\"ticker\":{\"id\":\"2161\"}},\"id\":\"2160\",\"type\":\"LinearAxis\"},{\"attributes\":{\"overlay\":{\"id\":\"2179\"}},\"id\":\"2176\",\"type\":\"LassoSelectTool\"},{\"attributes\":{\"fill_alpha\":0.5,\"fill_color\":\"lightgrey\",\"level\":\"overlay\",\"line_alpha\":1.0,\"line_color\":\"black\",\"line_dash\":[4,4],\"line_width\":2,\"syncable\":false,\"xs_units\":\"screen\",\"ys_units\":\"screen\"},\"id\":\"2179\",\"type\":\"PolyAnnotation\"},{\"attributes\":{},\"id\":\"2166\",\"type\":\"PanTool\"},{\"attributes\":{},\"id\":\"2284\",\"type\":\"AllLabels\"},{\"attributes\":{\"fill_alpha\":{\"value\":0.1},\"fill_color\":{\"field\":\"fill_color\"},\"line_alpha\":{\"value\":0.1},\"line_color\":{\"field\":\"fill_color\"},\"line_width\":{\"value\":0},\"radius\":{\"field\":\"radius\"},\"x\":{\"field\":\"x\"},\"y\":{\"field\":\"y\"}},\"id\":\"2196\",\"type\":\"Circle\"},{\"attributes\":{},\"id\":\"2287\",\"type\":\"AllLabels\"},{\"attributes\":{\"axis\":{\"id\":\"2160\"},\"dimension\":1,\"ticker\":null},\"id\":\"2163\",\"type\":\"Grid\"},{\"attributes\":{},\"id\":\"2167\",\"type\":\"WheelZoomTool\"},{\"attributes\":{},\"id\":\"2285\",\"type\":\"BasicTickFormatter\"}],\"root_ids\":[\"2145\"]},\"title\":\"Bokeh Application\",\"version\":\"2.3.3\"}};\n",
       "  var render_items = [{\"docid\":\"9c8fe2bb-3803-4826-877c-cc40e57bebab\",\"root_ids\":[\"2145\"],\"roots\":{\"2145\":\"f6e008ad-9325-4261-9f06-c5c8b16a1b58\"}}];\n",
       "  root.Bokeh.embed.embed_items_notebook(docs_json, render_items);\n",
       "\n",
       "  }\n",
       "  if (root.Bokeh !== undefined) {\n",
       "    embed_document(root);\n",
       "  } else {\n",
       "    var attempts = 0;\n",
       "    var timer = setInterval(function(root) {\n",
       "      if (root.Bokeh !== undefined) {\n",
       "        clearInterval(timer);\n",
       "        embed_document(root);\n",
       "      } else {\n",
       "        attempts++;\n",
       "        if (attempts > 100) {\n",
       "          clearInterval(timer);\n",
       "          console.log(\"Bokeh: ERROR: Unable to run BokehJS code because BokehJS library is missing\");\n",
       "        }\n",
       "      }\n",
       "    }, 10, root)\n",
       "  }\n",
       "})(window);"
      ],
      "application/vnd.bokehjs_exec.v0+json": ""
     },
     "metadata": {
      "application/vnd.bokehjs_exec.v0+json": {
       "id": "2145"
      }
     },
     "output_type": "display_data"
    },
    {
     "name": "stdout",
     "output_type": "stream",
     "text": [
      "doing differential expression analysis on the clusters..\n",
      "running differential expression on 6 clusters\n",
      "running limmapy on the samples\n",
      "you need to have R installed with the limma library installed\n",
      "3.2.1\n",
      "there is 0.339 overlap between the fit and transform dataset in their most variable genes\n",
      "doing cPCA..\n",
      "transform\n",
      "regressing out the cPCA components..\n",
      "> /home/jeremie/celligner/celligner/__init__.py(354)transform()\n",
      "-> transformed_fit = self.fit_input - LinearRegression(fit_intercept=False).fit(\n",
      "(Pdb) l\n",
      "349  \t    # regress out the cPCA components from the data\n",
      "350  \t    print('regressing out the cPCA components..')\n",
      "351  \t    # take the residuals of the linear regression of fit_input with the cpca_loadings\n",
      "352  \t    del centered_transform_input, centered_fit_input\n",
      "353  \t    import pdb; pdb.set_trace()\n",
      "354  ->\t    transformed_fit = self.fit_input - LinearRegression(fit_intercept=False).fit(\n",
      "355  \t      cpca_loadings.T, self.transform_input.T).coef_.T\n",
      "356  \t    transformed_transform = self.transform_input - LinearRegression(fit_intercept=False).fit(\n",
      "357  \t      cpca_loadings.T, self.fit_input.T).coef_.T\n",
      "358  \t\n",
      "359  \t    # TODO: how come we take the top K genes from a transformed matrix where we removed key axes of variances?\n",
      "(Pdb) transformed_fit = self.fit_input - LinearRegression(fit_intercept=False).fit(       cpca_loadings.T, self.transform_input.T).coef_.T\n",
      "*** ValueError: Found input variables with inconsistent numbers of samples: [1000, 29593]\n",
      "(Pdb) transformed_fit = self.fit_input - LinearRegression(fit_intercept=False).fit(       cpca_loadings, self.transform_input.T).coef_.T\n",
      "*** ValueError: Found input variables with inconsistent numbers of samples: [4, 29593]\n",
      "(Pdb) cpca_loadings.shape\n",
      "(4, 1000)\n",
      "(Pdb) LinearRegression(fit_intercept=False).fit(       cpca_loadings, self.transform_input).coef_.T\n",
      "*** ValueError: Found input variables with inconsistent numbers of samples: [4, 400]\n",
      "(Pdb) LinearRegression(fit_intercept=False).fit(       cpca_loadings.T, self.transform_input)\n",
      "*** ValueError: Found input variables with inconsistent numbers of samples: [1000, 400]\n",
      "(Pdb) LinearRegression(fit_intercept=False).fit(       cpca_loadings.T, self.transform_input.T)\n",
      "*** ValueError: Found input variables with inconsistent numbers of samples: [1000, 29593]\n",
      "(Pdb) cpca_loadings.shape\n",
      "(4, 1000)\n"
     ]
    }
   ],
   "source": [
    "my_alligner.transform(CCLE_expression.iloc[:400], CCLE_annotation.iloc[:400])"
   ]
  },
  {
   "cell_type": "code",
   "execution_count": null,
   "metadata": {},
   "outputs": [],
   "source": [
    "my_alligner.save('temp/demo/')"
   ]
  },
  {
   "cell_type": "code",
   "execution_count": null,
   "metadata": {},
   "outputs": [],
   "source": [
    "my_alligner.plot()"
   ]
  }
 ],
 "metadata": {
  "kernelspec": {
   "display_name": "Python 3",
   "language": "python",
   "name": "python3"
  },
  "latex_envs": {
   "LaTeX_envs_menu_present": true,
   "autoclose": false,
   "autocomplete": true,
   "bibliofile": "biblio.bib",
   "cite_by": "apalike",
   "current_citInitial": 1,
   "eqLabelWithNumbers": true,
   "eqNumInitial": 1,
   "hotkeys": {
    "equation": "Ctrl-E",
    "itemize": "Ctrl-I"
   },
   "labels_anchors": false,
   "latex_user_defs": false,
   "report_style_numbering": false,
   "user_envs_cfg": false
  },
  "toc": {
   "base_numbering": 1,
   "nav_menu": {},
   "number_sections": true,
   "sideBar": true,
   "skip_h1_title": false,
   "title_cell": "Table of Contents",
   "title_sidebar": "Contents",
   "toc_cell": false,
   "toc_position": {},
   "toc_section_display": true,
   "toc_window_display": false
  },
  "varInspector": {
   "cols": {
    "lenName": 16,
    "lenType": 16,
    "lenVar": 40
   },
   "kernels_config": {
    "python": {
     "delete_cmd_postfix": "",
     "delete_cmd_prefix": "del ",
     "library": "var_list.py",
     "varRefreshCmd": "print(var_dic_list())"
    },
    "r": {
     "delete_cmd_postfix": ") ",
     "delete_cmd_prefix": "rm(",
     "library": "var_list.r",
     "varRefreshCmd": "cat(var_dic_list()) "
    }
   },
   "types_to_exclude": [
    "module",
    "function",
    "builtin_function_or_method",
    "instance",
    "_Feature"
   ],
   "window_display": false
  }
 },
 "nbformat": 4,
 "nbformat_minor": 2
}
