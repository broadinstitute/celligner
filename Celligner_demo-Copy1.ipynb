{
 "cells": [
  {
   "cell_type": "code",
   "execution_count": 11,
   "metadata": {
    "ExecuteTime": {
     "end_time": "2021-09-17T21:30:05.308937Z",
     "start_time": "2021-09-17T21:30:05.279282Z"
    }
   },
   "outputs": [],
   "source": [
    "from scanpy.tl import louvain, leiden\n",
    "from scanpy.pp import neighbors\n",
    "from anndata import AnnData"
   ]
  },
  {
   "cell_type": "code",
   "execution_count": 14,
   "metadata": {
    "ExecuteTime": {
     "end_time": "2021-09-17T21:30:36.582450Z",
     "start_time": "2021-09-17T21:30:36.395328Z"
    }
   },
   "outputs": [],
   "source": [
    "ann = AnnData(CCLE_expression)"
   ]
  },
  {
   "cell_type": "code",
   "execution_count": 30,
   "metadata": {
    "ExecuteTime": {
     "end_time": "2021-09-17T21:43:02.121583Z",
     "start_time": "2021-09-17T21:43:02.065459Z"
    }
   },
   "outputs": [
    {
     "data": {
      "text/html": [
       "<div>\n",
       "<style scoped>\n",
       "    .dataframe tbody tr th:only-of-type {\n",
       "        vertical-align: middle;\n",
       "    }\n",
       "\n",
       "    .dataframe tbody tr th {\n",
       "        vertical-align: top;\n",
       "    }\n",
       "\n",
       "    .dataframe thead th {\n",
       "        text-align: right;\n",
       "    }\n",
       "</style>\n",
       "<table border=\"1\" class=\"dataframe\">\n",
       "  <thead>\n",
       "    <tr style=\"text-align: right;\">\n",
       "      <th></th>\n",
       "      <th>TSPAN6 (ENSG00000000003)</th>\n",
       "      <th>TNMD (ENSG00000000005)</th>\n",
       "      <th>DPM1 (ENSG00000000419)</th>\n",
       "      <th>SCYL3 (ENSG00000000457)</th>\n",
       "      <th>C1orf112 (ENSG00000000460)</th>\n",
       "      <th>FGR (ENSG00000000938)</th>\n",
       "      <th>CFH (ENSG00000000971)</th>\n",
       "      <th>FUCA2 (ENSG00000001036)</th>\n",
       "      <th>GCLC (ENSG00000001084)</th>\n",
       "      <th>NFYA (ENSG00000001167)</th>\n",
       "      <th>...</th>\n",
       "      <th>ERCC-00157</th>\n",
       "      <th>ERCC-00158</th>\n",
       "      <th>ERCC-00160</th>\n",
       "      <th>ERCC-00162</th>\n",
       "      <th>ERCC-00163</th>\n",
       "      <th>ERCC-00164</th>\n",
       "      <th>ERCC-00165</th>\n",
       "      <th>ERCC-00168</th>\n",
       "      <th>ERCC-00170</th>\n",
       "      <th>ERCC-00171</th>\n",
       "    </tr>\n",
       "  </thead>\n",
       "  <tbody>\n",
       "    <tr>\n",
       "      <th>ACH-001113</th>\n",
       "      <td>4.990501</td>\n",
       "      <td>0.000000</td>\n",
       "      <td>7.273702</td>\n",
       "      <td>2.765535</td>\n",
       "      <td>4.480265</td>\n",
       "      <td>0.028569</td>\n",
       "      <td>1.269033</td>\n",
       "      <td>3.058316</td>\n",
       "      <td>6.483171</td>\n",
       "      <td>5.053980</td>\n",
       "      <td>...</td>\n",
       "      <td>0.000000</td>\n",
       "      <td>0.000000</td>\n",
       "      <td>0.150560</td>\n",
       "      <td>2.599318</td>\n",
       "      <td>0.887525</td>\n",
       "      <td>0.000000</td>\n",
       "      <td>0.650765</td>\n",
       "      <td>0.042644</td>\n",
       "      <td>0.344828</td>\n",
       "      <td>7.053872</td>\n",
       "    </tr>\n",
       "    <tr>\n",
       "      <th>ACH-001289</th>\n",
       "      <td>5.209843</td>\n",
       "      <td>0.545968</td>\n",
       "      <td>7.070604</td>\n",
       "      <td>2.538538</td>\n",
       "      <td>3.510962</td>\n",
       "      <td>0.000000</td>\n",
       "      <td>0.176323</td>\n",
       "      <td>3.836934</td>\n",
       "      <td>4.200850</td>\n",
       "      <td>3.832890</td>\n",
       "      <td>...</td>\n",
       "      <td>0.000000</td>\n",
       "      <td>0.000000</td>\n",
       "      <td>0.000000</td>\n",
       "      <td>0.000000</td>\n",
       "      <td>0.000000</td>\n",
       "      <td>0.000000</td>\n",
       "      <td>0.000000</td>\n",
       "      <td>0.000000</td>\n",
       "      <td>0.000000</td>\n",
       "      <td>0.000000</td>\n",
       "    </tr>\n",
       "    <tr>\n",
       "      <th>ACH-001339</th>\n",
       "      <td>3.779260</td>\n",
       "      <td>0.000000</td>\n",
       "      <td>7.346425</td>\n",
       "      <td>2.339137</td>\n",
       "      <td>4.254745</td>\n",
       "      <td>0.056584</td>\n",
       "      <td>1.339137</td>\n",
       "      <td>6.724241</td>\n",
       "      <td>3.671293</td>\n",
       "      <td>3.775051</td>\n",
       "      <td>...</td>\n",
       "      <td>0.286881</td>\n",
       "      <td>0.028569</td>\n",
       "      <td>0.505891</td>\n",
       "      <td>3.744161</td>\n",
       "      <td>1.669027</td>\n",
       "      <td>0.000000</td>\n",
       "      <td>1.454176</td>\n",
       "      <td>0.056584</td>\n",
       "      <td>0.757023</td>\n",
       "      <td>8.763445</td>\n",
       "    </tr>\n",
       "    <tr>\n",
       "      <th>ACH-001538</th>\n",
       "      <td>5.726831</td>\n",
       "      <td>0.000000</td>\n",
       "      <td>7.086189</td>\n",
       "      <td>2.543496</td>\n",
       "      <td>3.102658</td>\n",
       "      <td>0.000000</td>\n",
       "      <td>5.914565</td>\n",
       "      <td>6.099716</td>\n",
       "      <td>4.475733</td>\n",
       "      <td>4.294253</td>\n",
       "      <td>...</td>\n",
       "      <td>0.201634</td>\n",
       "      <td>0.070389</td>\n",
       "      <td>0.516015</td>\n",
       "      <td>3.941106</td>\n",
       "      <td>1.807355</td>\n",
       "      <td>0.028569</td>\n",
       "      <td>1.560715</td>\n",
       "      <td>0.070389</td>\n",
       "      <td>0.941106</td>\n",
       "      <td>9.021757</td>\n",
       "    </tr>\n",
       "    <tr>\n",
       "      <th>ACH-000242</th>\n",
       "      <td>7.465648</td>\n",
       "      <td>0.000000</td>\n",
       "      <td>6.435462</td>\n",
       "      <td>2.414135</td>\n",
       "      <td>3.864929</td>\n",
       "      <td>0.831877</td>\n",
       "      <td>7.198003</td>\n",
       "      <td>5.452529</td>\n",
       "      <td>7.112492</td>\n",
       "      <td>4.710944</td>\n",
       "      <td>...</td>\n",
       "      <td>0.000000</td>\n",
       "      <td>0.000000</td>\n",
       "      <td>0.000000</td>\n",
       "      <td>0.000000</td>\n",
       "      <td>0.000000</td>\n",
       "      <td>0.000000</td>\n",
       "      <td>0.000000</td>\n",
       "      <td>0.000000</td>\n",
       "      <td>0.000000</td>\n",
       "      <td>0.000000</td>\n",
       "    </tr>\n",
       "    <tr>\n",
       "      <th>...</th>\n",
       "      <td>...</td>\n",
       "      <td>...</td>\n",
       "      <td>...</td>\n",
       "      <td>...</td>\n",
       "      <td>...</td>\n",
       "      <td>...</td>\n",
       "      <td>...</td>\n",
       "      <td>...</td>\n",
       "      <td>...</td>\n",
       "      <td>...</td>\n",
       "      <td>...</td>\n",
       "      <td>...</td>\n",
       "      <td>...</td>\n",
       "      <td>...</td>\n",
       "      <td>...</td>\n",
       "      <td>...</td>\n",
       "      <td>...</td>\n",
       "      <td>...</td>\n",
       "      <td>...</td>\n",
       "      <td>...</td>\n",
       "      <td>...</td>\n",
       "    </tr>\n",
       "    <tr>\n",
       "      <th>ACH-000750</th>\n",
       "      <td>4.173128</td>\n",
       "      <td>0.000000</td>\n",
       "      <td>6.400879</td>\n",
       "      <td>1.807355</td>\n",
       "      <td>3.303050</td>\n",
       "      <td>0.014355</td>\n",
       "      <td>0.137504</td>\n",
       "      <td>4.944859</td>\n",
       "      <td>4.528571</td>\n",
       "      <td>4.383358</td>\n",
       "      <td>...</td>\n",
       "      <td>0.000000</td>\n",
       "      <td>0.000000</td>\n",
       "      <td>0.000000</td>\n",
       "      <td>0.000000</td>\n",
       "      <td>0.000000</td>\n",
       "      <td>0.000000</td>\n",
       "      <td>0.000000</td>\n",
       "      <td>0.000000</td>\n",
       "      <td>0.000000</td>\n",
       "      <td>0.000000</td>\n",
       "    </tr>\n",
       "    <tr>\n",
       "      <th>ACH-000285</th>\n",
       "      <td>0.097611</td>\n",
       "      <td>0.000000</td>\n",
       "      <td>6.428277</td>\n",
       "      <td>3.257011</td>\n",
       "      <td>4.980483</td>\n",
       "      <td>0.411426</td>\n",
       "      <td>0.124328</td>\n",
       "      <td>0.704872</td>\n",
       "      <td>4.829342</td>\n",
       "      <td>5.393348</td>\n",
       "      <td>...</td>\n",
       "      <td>0.000000</td>\n",
       "      <td>0.000000</td>\n",
       "      <td>0.000000</td>\n",
       "      <td>0.000000</td>\n",
       "      <td>0.000000</td>\n",
       "      <td>0.000000</td>\n",
       "      <td>0.000000</td>\n",
       "      <td>0.000000</td>\n",
       "      <td>0.000000</td>\n",
       "      <td>0.000000</td>\n",
       "    </tr>\n",
       "    <tr>\n",
       "      <th>ACH-001858</th>\n",
       "      <td>5.045268</td>\n",
       "      <td>0.000000</td>\n",
       "      <td>6.991749</td>\n",
       "      <td>1.807355</td>\n",
       "      <td>3.270529</td>\n",
       "      <td>0.028569</td>\n",
       "      <td>3.333424</td>\n",
       "      <td>6.819796</td>\n",
       "      <td>5.395063</td>\n",
       "      <td>3.727921</td>\n",
       "      <td>...</td>\n",
       "      <td>0.226509</td>\n",
       "      <td>0.000000</td>\n",
       "      <td>0.536053</td>\n",
       "      <td>2.965322</td>\n",
       "      <td>1.459432</td>\n",
       "      <td>0.000000</td>\n",
       "      <td>1.608809</td>\n",
       "      <td>0.042644</td>\n",
       "      <td>0.790772</td>\n",
       "      <td>8.595145</td>\n",
       "    </tr>\n",
       "    <tr>\n",
       "      <th>ACH-001997</th>\n",
       "      <td>5.805293</td>\n",
       "      <td>0.000000</td>\n",
       "      <td>7.792855</td>\n",
       "      <td>2.482848</td>\n",
       "      <td>3.903038</td>\n",
       "      <td>0.028569</td>\n",
       "      <td>4.124328</td>\n",
       "      <td>6.816600</td>\n",
       "      <td>4.458119</td>\n",
       "      <td>3.664483</td>\n",
       "      <td>...</td>\n",
       "      <td>0.201634</td>\n",
       "      <td>0.000000</td>\n",
       "      <td>0.632268</td>\n",
       "      <td>2.648465</td>\n",
       "      <td>1.531070</td>\n",
       "      <td>0.000000</td>\n",
       "      <td>1.257011</td>\n",
       "      <td>0.000000</td>\n",
       "      <td>0.367371</td>\n",
       "      <td>8.399043</td>\n",
       "    </tr>\n",
       "    <tr>\n",
       "      <th>ACH-000052</th>\n",
       "      <td>4.870858</td>\n",
       "      <td>0.000000</td>\n",
       "      <td>6.077456</td>\n",
       "      <td>2.304511</td>\n",
       "      <td>3.836934</td>\n",
       "      <td>0.201634</td>\n",
       "      <td>1.339137</td>\n",
       "      <td>3.491853</td>\n",
       "      <td>3.940167</td>\n",
       "      <td>4.621759</td>\n",
       "      <td>...</td>\n",
       "      <td>0.000000</td>\n",
       "      <td>0.000000</td>\n",
       "      <td>0.000000</td>\n",
       "      <td>0.000000</td>\n",
       "      <td>0.000000</td>\n",
       "      <td>0.000000</td>\n",
       "      <td>0.000000</td>\n",
       "      <td>0.000000</td>\n",
       "      <td>0.000000</td>\n",
       "      <td>0.000000</td>\n",
       "    </tr>\n",
       "  </tbody>\n",
       "</table>\n",
       "<p>1411 rows × 52054 columns</p>\n",
       "</div>"
      ],
      "text/plain": [
       "            TSPAN6 (ENSG00000000003)  TNMD (ENSG00000000005)  \\\n",
       "ACH-001113                  4.990501                0.000000   \n",
       "ACH-001289                  5.209843                0.545968   \n",
       "ACH-001339                  3.779260                0.000000   \n",
       "ACH-001538                  5.726831                0.000000   \n",
       "ACH-000242                  7.465648                0.000000   \n",
       "...                              ...                     ...   \n",
       "ACH-000750                  4.173128                0.000000   \n",
       "ACH-000285                  0.097611                0.000000   \n",
       "ACH-001858                  5.045268                0.000000   \n",
       "ACH-001997                  5.805293                0.000000   \n",
       "ACH-000052                  4.870858                0.000000   \n",
       "\n",
       "            DPM1 (ENSG00000000419)  SCYL3 (ENSG00000000457)  \\\n",
       "ACH-001113                7.273702                 2.765535   \n",
       "ACH-001289                7.070604                 2.538538   \n",
       "ACH-001339                7.346425                 2.339137   \n",
       "ACH-001538                7.086189                 2.543496   \n",
       "ACH-000242                6.435462                 2.414135   \n",
       "...                            ...                      ...   \n",
       "ACH-000750                6.400879                 1.807355   \n",
       "ACH-000285                6.428277                 3.257011   \n",
       "ACH-001858                6.991749                 1.807355   \n",
       "ACH-001997                7.792855                 2.482848   \n",
       "ACH-000052                6.077456                 2.304511   \n",
       "\n",
       "            C1orf112 (ENSG00000000460)  FGR (ENSG00000000938)  \\\n",
       "ACH-001113                    4.480265               0.028569   \n",
       "ACH-001289                    3.510962               0.000000   \n",
       "ACH-001339                    4.254745               0.056584   \n",
       "ACH-001538                    3.102658               0.000000   \n",
       "ACH-000242                    3.864929               0.831877   \n",
       "...                                ...                    ...   \n",
       "ACH-000750                    3.303050               0.014355   \n",
       "ACH-000285                    4.980483               0.411426   \n",
       "ACH-001858                    3.270529               0.028569   \n",
       "ACH-001997                    3.903038               0.028569   \n",
       "ACH-000052                    3.836934               0.201634   \n",
       "\n",
       "            CFH (ENSG00000000971)  FUCA2 (ENSG00000001036)  \\\n",
       "ACH-001113               1.269033                 3.058316   \n",
       "ACH-001289               0.176323                 3.836934   \n",
       "ACH-001339               1.339137                 6.724241   \n",
       "ACH-001538               5.914565                 6.099716   \n",
       "ACH-000242               7.198003                 5.452529   \n",
       "...                           ...                      ...   \n",
       "ACH-000750               0.137504                 4.944859   \n",
       "ACH-000285               0.124328                 0.704872   \n",
       "ACH-001858               3.333424                 6.819796   \n",
       "ACH-001997               4.124328                 6.816600   \n",
       "ACH-000052               1.339137                 3.491853   \n",
       "\n",
       "            GCLC (ENSG00000001084)  NFYA (ENSG00000001167)  ...  ERCC-00157  \\\n",
       "ACH-001113                6.483171                5.053980  ...    0.000000   \n",
       "ACH-001289                4.200850                3.832890  ...    0.000000   \n",
       "ACH-001339                3.671293                3.775051  ...    0.286881   \n",
       "ACH-001538                4.475733                4.294253  ...    0.201634   \n",
       "ACH-000242                7.112492                4.710944  ...    0.000000   \n",
       "...                            ...                     ...  ...         ...   \n",
       "ACH-000750                4.528571                4.383358  ...    0.000000   \n",
       "ACH-000285                4.829342                5.393348  ...    0.000000   \n",
       "ACH-001858                5.395063                3.727921  ...    0.226509   \n",
       "ACH-001997                4.458119                3.664483  ...    0.201634   \n",
       "ACH-000052                3.940167                4.621759  ...    0.000000   \n",
       "\n",
       "            ERCC-00158  ERCC-00160  ERCC-00162  ERCC-00163  ERCC-00164  \\\n",
       "ACH-001113    0.000000    0.150560    2.599318    0.887525    0.000000   \n",
       "ACH-001289    0.000000    0.000000    0.000000    0.000000    0.000000   \n",
       "ACH-001339    0.028569    0.505891    3.744161    1.669027    0.000000   \n",
       "ACH-001538    0.070389    0.516015    3.941106    1.807355    0.028569   \n",
       "ACH-000242    0.000000    0.000000    0.000000    0.000000    0.000000   \n",
       "...                ...         ...         ...         ...         ...   \n",
       "ACH-000750    0.000000    0.000000    0.000000    0.000000    0.000000   \n",
       "ACH-000285    0.000000    0.000000    0.000000    0.000000    0.000000   \n",
       "ACH-001858    0.000000    0.536053    2.965322    1.459432    0.000000   \n",
       "ACH-001997    0.000000    0.632268    2.648465    1.531070    0.000000   \n",
       "ACH-000052    0.000000    0.000000    0.000000    0.000000    0.000000   \n",
       "\n",
       "            ERCC-00165  ERCC-00168  ERCC-00170  ERCC-00171  \n",
       "ACH-001113    0.650765    0.042644    0.344828    7.053872  \n",
       "ACH-001289    0.000000    0.000000    0.000000    0.000000  \n",
       "ACH-001339    1.454176    0.056584    0.757023    8.763445  \n",
       "ACH-001538    1.560715    0.070389    0.941106    9.021757  \n",
       "ACH-000242    0.000000    0.000000    0.000000    0.000000  \n",
       "...                ...         ...         ...         ...  \n",
       "ACH-000750    0.000000    0.000000    0.000000    0.000000  \n",
       "ACH-000285    0.000000    0.000000    0.000000    0.000000  \n",
       "ACH-001858    1.608809    0.042644    0.790772    8.595145  \n",
       "ACH-001997    1.257011    0.000000    0.367371    8.399043  \n",
       "ACH-000052    0.000000    0.000000    0.000000    0.000000  \n",
       "\n",
       "[1411 rows x 52054 columns]"
      ]
     },
     "execution_count": 30,
     "metadata": {},
     "output_type": "execute_result"
    }
   ],
   "source": [
    "ann.to_df()"
   ]
  },
  {
   "cell_type": "code",
   "execution_count": 15,
   "metadata": {
    "ExecuteTime": {
     "end_time": "2021-09-17T21:30:46.928829Z",
     "start_time": "2021-09-17T21:30:40.727181Z"
    }
   },
   "outputs": [
    {
     "name": "stdout",
     "output_type": "stream",
     "text": [
      "WARNING: You’re trying to run this on 52054 dimensions of `.X`, if you really want this, set `use_rep='X'`.\n",
      "         Falling back to preprocessing with `sc.pp.pca` and default params.\n"
     ]
    }
   ],
   "source": [
    "neighbors(ann)"
   ]
  },
  {
   "cell_type": "code",
   "execution_count": 16,
   "metadata": {
    "ExecuteTime": {
     "end_time": "2021-09-17T21:30:51.172093Z",
     "start_time": "2021-09-17T21:30:51.066742Z"
    }
   },
   "outputs": [],
   "source": [
    "leiden(ann)"
   ]
  },
  {
   "cell_type": "code",
   "execution_count": 26,
   "metadata": {
    "ExecuteTime": {
     "end_time": "2021-09-17T21:33:29.298657Z",
     "start_time": "2021-09-17T21:33:29.233997Z"
    }
   },
   "outputs": [
    {
     "data": {
      "text/html": [
       "<div>\n",
       "<style scoped>\n",
       "    .dataframe tbody tr th:only-of-type {\n",
       "        vertical-align: middle;\n",
       "    }\n",
       "\n",
       "    .dataframe tbody tr th {\n",
       "        vertical-align: top;\n",
       "    }\n",
       "\n",
       "    .dataframe thead th {\n",
       "        text-align: right;\n",
       "    }\n",
       "</style>\n",
       "<table border=\"1\" class=\"dataframe\">\n",
       "  <thead>\n",
       "    <tr style=\"text-align: right;\">\n",
       "      <th></th>\n",
       "      <th>leiden</th>\n",
       "      <th>louvain</th>\n",
       "    </tr>\n",
       "  </thead>\n",
       "  <tbody>\n",
       "    <tr>\n",
       "      <th>ACH-001113</th>\n",
       "      <td>3</td>\n",
       "      <td>1</td>\n",
       "    </tr>\n",
       "    <tr>\n",
       "      <th>ACH-001289</th>\n",
       "      <td>6</td>\n",
       "      <td>6</td>\n",
       "    </tr>\n",
       "    <tr>\n",
       "      <th>ACH-001339</th>\n",
       "      <td>19</td>\n",
       "      <td>7</td>\n",
       "    </tr>\n",
       "    <tr>\n",
       "      <th>ACH-001538</th>\n",
       "      <td>1</td>\n",
       "      <td>2</td>\n",
       "    </tr>\n",
       "    <tr>\n",
       "      <th>ACH-000242</th>\n",
       "      <td>3</td>\n",
       "      <td>1</td>\n",
       "    </tr>\n",
       "    <tr>\n",
       "      <th>...</th>\n",
       "      <td>...</td>\n",
       "      <td>...</td>\n",
       "    </tr>\n",
       "    <tr>\n",
       "      <th>ACH-000750</th>\n",
       "      <td>0</td>\n",
       "      <td>0</td>\n",
       "    </tr>\n",
       "    <tr>\n",
       "      <th>ACH-000285</th>\n",
       "      <td>4</td>\n",
       "      <td>3</td>\n",
       "    </tr>\n",
       "    <tr>\n",
       "      <th>ACH-001858</th>\n",
       "      <td>5</td>\n",
       "      <td>5</td>\n",
       "    </tr>\n",
       "    <tr>\n",
       "      <th>ACH-001997</th>\n",
       "      <td>1</td>\n",
       "      <td>2</td>\n",
       "    </tr>\n",
       "    <tr>\n",
       "      <th>ACH-000052</th>\n",
       "      <td>20</td>\n",
       "      <td>15</td>\n",
       "    </tr>\n",
       "  </tbody>\n",
       "</table>\n",
       "<p>1411 rows × 2 columns</p>\n",
       "</div>"
      ],
      "text/plain": [
       "           leiden louvain\n",
       "ACH-001113      3       1\n",
       "ACH-001289      6       6\n",
       "ACH-001339     19       7\n",
       "ACH-001538      1       2\n",
       "ACH-000242      3       1\n",
       "...           ...     ...\n",
       "ACH-000750      0       0\n",
       "ACH-000285      4       3\n",
       "ACH-001858      5       5\n",
       "ACH-001997      1       2\n",
       "ACH-000052     20      15\n",
       "\n",
       "[1411 rows x 2 columns]"
      ]
     },
     "execution_count": 26,
     "metadata": {},
     "output_type": "execute_result"
    }
   ],
   "source": [
    "ann.obs"
   ]
  },
  {
   "cell_type": "code",
   "execution_count": 1,
   "metadata": {
    "ExecuteTime": {
     "end_time": "2021-09-17T19:54:21.852427Z",
     "start_time": "2021-09-17T19:53:48.115011Z"
    }
   },
   "outputs": [
    {
     "name": "stderr",
     "output_type": "stream",
     "text": [
      "/home/jeremie/celligner/celligner/mnnpy/mnnpy/utils.py:30: NumbaPerformanceWarning: \u001b[1m\u001b[1mnp.dot() is faster on contiguous arrays, called on (array(float32, 1d, A), array(float32, 1d, A))\u001b[0m\u001b[0m\n",
      "  dist[i, j] = np.dot(m[i], n[j])\n",
      "/home/jeremie/celligner/celligner/mnnpy/mnnpy/utils.py:205: NumbaPerformanceWarning: \u001b[1m\u001b[1mnp.dot() is faster on contiguous arrays, called on (array(float32, 1d, C), array(float32, 1d, A))\u001b[0m\u001b[0m\n",
      "  scale = np.dot(working, grad)\n",
      "/home/jeremie/celligner/celligner/mnnpy/mnnpy/utils.py:215: NumbaPerformanceWarning: \u001b[1m\u001b[1mnp.dot() is faster on contiguous arrays, called on (array(float32, 1d, C), array(float32, 1d, A))\u001b[0m\u001b[0m\n",
      "  curproj = np.dot(grad, curcell)\n",
      "/home/jeremie/celligner/celligner/mnnpy/mnnpy/utils.py:219: NumbaPerformanceWarning: \u001b[1m\u001b[1mnp.dot() is faster on contiguous arrays, called on (array(float32, 1d, C), array(float32, 1d, A))\u001b[0m\u001b[0m\n",
      "  sameproj = np.dot(grad, samecell)\n",
      "/home/jeremie/celligner/celligner/mnnpy/mnnpy/utils.py:229: NumbaPerformanceWarning: \u001b[1m\u001b[1mnp.dot() is faster on contiguous arrays, called on (array(float32, 1d, C), array(float32, 1d, A))\u001b[0m\u001b[0m\n",
      "  distance1[other, 0] = np.dot(grad, othercell)\n",
      "/home/jeremie/miniconda3/lib/python3.7/site-packages/rpy2/robjects/pandas2ri.py:14: FutureWarning: pandas.core.index is deprecated and will be removed in a future version.  The public classes are available in the top-level namespace.\n",
      "  from pandas.core.index import Index as PandasIndex\n"
     ]
    },
    {
     "data": {
      "text/html": [
       "\n",
       "    <div class=\"bk-root\">\n",
       "        <a href=\"https://bokeh.org\" target=\"_blank\" class=\"bk-logo bk-logo-small bk-logo-notebook\"></a>\n",
       "        <span id=\"1002\">Loading BokehJS ...</span>\n",
       "    </div>"
      ]
     },
     "metadata": {},
     "output_type": "display_data"
    },
    {
     "data": {
      "application/javascript": [
       "\n",
       "(function(root) {\n",
       "  function now() {\n",
       "    return new Date();\n",
       "  }\n",
       "\n",
       "  var force = true;\n",
       "\n",
       "  if (typeof root._bokeh_onload_callbacks === \"undefined\" || force === true) {\n",
       "    root._bokeh_onload_callbacks = [];\n",
       "    root._bokeh_is_loading = undefined;\n",
       "  }\n",
       "\n",
       "  var JS_MIME_TYPE = 'application/javascript';\n",
       "  var HTML_MIME_TYPE = 'text/html';\n",
       "  var EXEC_MIME_TYPE = 'application/vnd.bokehjs_exec.v0+json';\n",
       "  var CLASS_NAME = 'output_bokeh rendered_html';\n",
       "\n",
       "  /**\n",
       "   * Render data to the DOM node\n",
       "   */\n",
       "  function render(props, node) {\n",
       "    var script = document.createElement(\"script\");\n",
       "    node.appendChild(script);\n",
       "  }\n",
       "\n",
       "  /**\n",
       "   * Handle when an output is cleared or removed\n",
       "   */\n",
       "  function handleClearOutput(event, handle) {\n",
       "    var cell = handle.cell;\n",
       "\n",
       "    var id = cell.output_area._bokeh_element_id;\n",
       "    var server_id = cell.output_area._bokeh_server_id;\n",
       "    // Clean up Bokeh references\n",
       "    if (id != null && id in Bokeh.index) {\n",
       "      Bokeh.index[id].model.document.clear();\n",
       "      delete Bokeh.index[id];\n",
       "    }\n",
       "\n",
       "    if (server_id !== undefined) {\n",
       "      // Clean up Bokeh references\n",
       "      var cmd = \"from bokeh.io.state import curstate; print(curstate().uuid_to_server['\" + server_id + \"'].get_sessions()[0].document.roots[0]._id)\";\n",
       "      cell.notebook.kernel.execute(cmd, {\n",
       "        iopub: {\n",
       "          output: function(msg) {\n",
       "            var id = msg.content.text.trim();\n",
       "            if (id in Bokeh.index) {\n",
       "              Bokeh.index[id].model.document.clear();\n",
       "              delete Bokeh.index[id];\n",
       "            }\n",
       "          }\n",
       "        }\n",
       "      });\n",
       "      // Destroy server and session\n",
       "      var cmd = \"import bokeh.io.notebook as ion; ion.destroy_server('\" + server_id + \"')\";\n",
       "      cell.notebook.kernel.execute(cmd);\n",
       "    }\n",
       "  }\n",
       "\n",
       "  /**\n",
       "   * Handle when a new output is added\n",
       "   */\n",
       "  function handleAddOutput(event, handle) {\n",
       "    var output_area = handle.output_area;\n",
       "    var output = handle.output;\n",
       "\n",
       "    // limit handleAddOutput to display_data with EXEC_MIME_TYPE content only\n",
       "    if ((output.output_type != \"display_data\") || (!Object.prototype.hasOwnProperty.call(output.data, EXEC_MIME_TYPE))) {\n",
       "      return\n",
       "    }\n",
       "\n",
       "    var toinsert = output_area.element.find(\".\" + CLASS_NAME.split(' ')[0]);\n",
       "\n",
       "    if (output.metadata[EXEC_MIME_TYPE][\"id\"] !== undefined) {\n",
       "      toinsert[toinsert.length - 1].firstChild.textContent = output.data[JS_MIME_TYPE];\n",
       "      // store reference to embed id on output_area\n",
       "      output_area._bokeh_element_id = output.metadata[EXEC_MIME_TYPE][\"id\"];\n",
       "    }\n",
       "    if (output.metadata[EXEC_MIME_TYPE][\"server_id\"] !== undefined) {\n",
       "      var bk_div = document.createElement(\"div\");\n",
       "      bk_div.innerHTML = output.data[HTML_MIME_TYPE];\n",
       "      var script_attrs = bk_div.children[0].attributes;\n",
       "      for (var i = 0; i < script_attrs.length; i++) {\n",
       "        toinsert[toinsert.length - 1].firstChild.setAttribute(script_attrs[i].name, script_attrs[i].value);\n",
       "        toinsert[toinsert.length - 1].firstChild.textContent = bk_div.children[0].textContent\n",
       "      }\n",
       "      // store reference to server id on output_area\n",
       "      output_area._bokeh_server_id = output.metadata[EXEC_MIME_TYPE][\"server_id\"];\n",
       "    }\n",
       "  }\n",
       "\n",
       "  function register_renderer(events, OutputArea) {\n",
       "\n",
       "    function append_mime(data, metadata, element) {\n",
       "      // create a DOM node to render to\n",
       "      var toinsert = this.create_output_subarea(\n",
       "        metadata,\n",
       "        CLASS_NAME,\n",
       "        EXEC_MIME_TYPE\n",
       "      );\n",
       "      this.keyboard_manager.register_events(toinsert);\n",
       "      // Render to node\n",
       "      var props = {data: data, metadata: metadata[EXEC_MIME_TYPE]};\n",
       "      render(props, toinsert[toinsert.length - 1]);\n",
       "      element.append(toinsert);\n",
       "      return toinsert\n",
       "    }\n",
       "\n",
       "    /* Handle when an output is cleared or removed */\n",
       "    events.on('clear_output.CodeCell', handleClearOutput);\n",
       "    events.on('delete.Cell', handleClearOutput);\n",
       "\n",
       "    /* Handle when a new output is added */\n",
       "    events.on('output_added.OutputArea', handleAddOutput);\n",
       "\n",
       "    /**\n",
       "     * Register the mime type and append_mime function with output_area\n",
       "     */\n",
       "    OutputArea.prototype.register_mime_type(EXEC_MIME_TYPE, append_mime, {\n",
       "      /* Is output safe? */\n",
       "      safe: true,\n",
       "      /* Index of renderer in `output_area.display_order` */\n",
       "      index: 0\n",
       "    });\n",
       "  }\n",
       "\n",
       "  // register the mime type if in Jupyter Notebook environment and previously unregistered\n",
       "  if (root.Jupyter !== undefined) {\n",
       "    var events = require('base/js/events');\n",
       "    var OutputArea = require('notebook/js/outputarea').OutputArea;\n",
       "\n",
       "    if (OutputArea.prototype.mime_types().indexOf(EXEC_MIME_TYPE) == -1) {\n",
       "      register_renderer(events, OutputArea);\n",
       "    }\n",
       "  }\n",
       "\n",
       "  \n",
       "  if (typeof (root._bokeh_timeout) === \"undefined\" || force === true) {\n",
       "    root._bokeh_timeout = Date.now() + 5000;\n",
       "    root._bokeh_failed_load = false;\n",
       "  }\n",
       "\n",
       "  var NB_LOAD_WARNING = {'data': {'text/html':\n",
       "     \"<div style='background-color: #fdd'>\\n\"+\n",
       "     \"<p>\\n\"+\n",
       "     \"BokehJS does not appear to have successfully loaded. If loading BokehJS from CDN, this \\n\"+\n",
       "     \"may be due to a slow or bad network connection. Possible fixes:\\n\"+\n",
       "     \"</p>\\n\"+\n",
       "     \"<ul>\\n\"+\n",
       "     \"<li>re-rerun `output_notebook()` to attempt to load from CDN again, or</li>\\n\"+\n",
       "     \"<li>use INLINE resources instead, as so:</li>\\n\"+\n",
       "     \"</ul>\\n\"+\n",
       "     \"<code>\\n\"+\n",
       "     \"from bokeh.resources import INLINE\\n\"+\n",
       "     \"output_notebook(resources=INLINE)\\n\"+\n",
       "     \"</code>\\n\"+\n",
       "     \"</div>\"}};\n",
       "\n",
       "  function display_loaded() {\n",
       "    var el = document.getElementById(\"1002\");\n",
       "    if (el != null) {\n",
       "      el.textContent = \"BokehJS is loading...\";\n",
       "    }\n",
       "    if (root.Bokeh !== undefined) {\n",
       "      if (el != null) {\n",
       "        el.textContent = \"BokehJS \" + root.Bokeh.version + \" successfully loaded.\";\n",
       "      }\n",
       "    } else if (Date.now() < root._bokeh_timeout) {\n",
       "      setTimeout(display_loaded, 100)\n",
       "    }\n",
       "  }\n",
       "\n",
       "\n",
       "  function run_callbacks() {\n",
       "    try {\n",
       "      root._bokeh_onload_callbacks.forEach(function(callback) {\n",
       "        if (callback != null)\n",
       "          callback();\n",
       "      });\n",
       "    } finally {\n",
       "      delete root._bokeh_onload_callbacks\n",
       "    }\n",
       "    console.debug(\"Bokeh: all callbacks have finished\");\n",
       "  }\n",
       "\n",
       "  function load_libs(css_urls, js_urls, callback) {\n",
       "    if (css_urls == null) css_urls = [];\n",
       "    if (js_urls == null) js_urls = [];\n",
       "\n",
       "    root._bokeh_onload_callbacks.push(callback);\n",
       "    if (root._bokeh_is_loading > 0) {\n",
       "      console.debug(\"Bokeh: BokehJS is being loaded, scheduling callback at\", now());\n",
       "      return null;\n",
       "    }\n",
       "    if (js_urls == null || js_urls.length === 0) {\n",
       "      run_callbacks();\n",
       "      return null;\n",
       "    }\n",
       "    console.debug(\"Bokeh: BokehJS not loaded, scheduling load and callback at\", now());\n",
       "    root._bokeh_is_loading = css_urls.length + js_urls.length;\n",
       "\n",
       "    function on_load() {\n",
       "      root._bokeh_is_loading--;\n",
       "      if (root._bokeh_is_loading === 0) {\n",
       "        console.debug(\"Bokeh: all BokehJS libraries/stylesheets loaded\");\n",
       "        run_callbacks()\n",
       "      }\n",
       "    }\n",
       "\n",
       "    function on_error(url) {\n",
       "      console.error(\"failed to load \" + url);\n",
       "    }\n",
       "\n",
       "    for (let i = 0; i < css_urls.length; i++) {\n",
       "      const url = css_urls[i];\n",
       "      const element = document.createElement(\"link\");\n",
       "      element.onload = on_load;\n",
       "      element.onerror = on_error.bind(null, url);\n",
       "      element.rel = \"stylesheet\";\n",
       "      element.type = \"text/css\";\n",
       "      element.href = url;\n",
       "      console.debug(\"Bokeh: injecting link tag for BokehJS stylesheet: \", url);\n",
       "      document.body.appendChild(element);\n",
       "    }\n",
       "\n",
       "    const hashes = {\"https://cdn.bokeh.org/bokeh/release/bokeh-2.3.3.min.js\": \"dM3QQsP+wXdHg42wTqW85BjZQdLNNIXqlPw/BgKoExPmTG7ZLML4EGqLMfqHT6ON\", \"https://cdn.bokeh.org/bokeh/release/bokeh-tables-2.3.3.min.js\": \"8x57I4YuIfu8XyZfFo0XVr2WAT8EK4rh/uDe3wF7YuW2FNUSNEpJbsPaB1nJ2fz2\", \"https://cdn.bokeh.org/bokeh/release/bokeh-widgets-2.3.3.min.js\": \"3QTqdz9LyAm2i0sG5XTePsHec3UHWwVsrOL68SYRoAXsafvfAyqtQ+h440+qIBhS\"};\n",
       "\n",
       "    for (let i = 0; i < js_urls.length; i++) {\n",
       "      const url = js_urls[i];\n",
       "      const element = document.createElement('script');\n",
       "      element.onload = on_load;\n",
       "      element.onerror = on_error.bind(null, url);\n",
       "      element.async = false;\n",
       "      element.src = url;\n",
       "      if (url in hashes) {\n",
       "        element.crossOrigin = \"anonymous\";\n",
       "        element.integrity = \"sha384-\" + hashes[url];\n",
       "      }\n",
       "      console.debug(\"Bokeh: injecting script tag for BokehJS library: \", url);\n",
       "      document.head.appendChild(element);\n",
       "    }\n",
       "  };\n",
       "\n",
       "  function inject_raw_css(css) {\n",
       "    const element = document.createElement(\"style\");\n",
       "    element.appendChild(document.createTextNode(css));\n",
       "    document.body.appendChild(element);\n",
       "  }\n",
       "\n",
       "  \n",
       "  var js_urls = [\"https://cdn.bokeh.org/bokeh/release/bokeh-2.3.3.min.js\", \"https://cdn.bokeh.org/bokeh/release/bokeh-widgets-2.3.3.min.js\", \"https://cdn.bokeh.org/bokeh/release/bokeh-tables-2.3.3.min.js\"];\n",
       "  var css_urls = [];\n",
       "  \n",
       "\n",
       "  var inline_js = [\n",
       "    function(Bokeh) {\n",
       "      Bokeh.set_log_level(\"info\");\n",
       "    },\n",
       "    function(Bokeh) {\n",
       "    \n",
       "    \n",
       "    }\n",
       "  ];\n",
       "\n",
       "  function run_inline_js() {\n",
       "    \n",
       "    if (root.Bokeh !== undefined || force === true) {\n",
       "      \n",
       "    for (var i = 0; i < inline_js.length; i++) {\n",
       "      inline_js[i].call(root, root.Bokeh);\n",
       "    }\n",
       "    if (force === true) {\n",
       "        display_loaded();\n",
       "      }} else if (Date.now() < root._bokeh_timeout) {\n",
       "      setTimeout(run_inline_js, 100);\n",
       "    } else if (!root._bokeh_failed_load) {\n",
       "      console.log(\"Bokeh: BokehJS failed to load within specified timeout.\");\n",
       "      root._bokeh_failed_load = true;\n",
       "    } else if (force !== true) {\n",
       "      var cell = $(document.getElementById(\"1002\")).parents('.cell').data().cell;\n",
       "      cell.output_area.append_execute_result(NB_LOAD_WARNING)\n",
       "    }\n",
       "\n",
       "  }\n",
       "\n",
       "  if (root._bokeh_is_loading === 0) {\n",
       "    console.debug(\"Bokeh: BokehJS loaded, going straight to plotting\");\n",
       "    run_inline_js();\n",
       "  } else {\n",
       "    load_libs(css_urls, js_urls, function() {\n",
       "      console.debug(\"Bokeh: BokehJS plotting callback run at\", now());\n",
       "      run_inline_js();\n",
       "    });\n",
       "  }\n",
       "}(window));"
      ],
      "application/vnd.bokehjs_load.v0+json": "\n(function(root) {\n  function now() {\n    return new Date();\n  }\n\n  var force = true;\n\n  if (typeof root._bokeh_onload_callbacks === \"undefined\" || force === true) {\n    root._bokeh_onload_callbacks = [];\n    root._bokeh_is_loading = undefined;\n  }\n\n  \n\n  \n  if (typeof (root._bokeh_timeout) === \"undefined\" || force === true) {\n    root._bokeh_timeout = Date.now() + 5000;\n    root._bokeh_failed_load = false;\n  }\n\n  var NB_LOAD_WARNING = {'data': {'text/html':\n     \"<div style='background-color: #fdd'>\\n\"+\n     \"<p>\\n\"+\n     \"BokehJS does not appear to have successfully loaded. If loading BokehJS from CDN, this \\n\"+\n     \"may be due to a slow or bad network connection. Possible fixes:\\n\"+\n     \"</p>\\n\"+\n     \"<ul>\\n\"+\n     \"<li>re-rerun `output_notebook()` to attempt to load from CDN again, or</li>\\n\"+\n     \"<li>use INLINE resources instead, as so:</li>\\n\"+\n     \"</ul>\\n\"+\n     \"<code>\\n\"+\n     \"from bokeh.resources import INLINE\\n\"+\n     \"output_notebook(resources=INLINE)\\n\"+\n     \"</code>\\n\"+\n     \"</div>\"}};\n\n  function display_loaded() {\n    var el = document.getElementById(\"1002\");\n    if (el != null) {\n      el.textContent = \"BokehJS is loading...\";\n    }\n    if (root.Bokeh !== undefined) {\n      if (el != null) {\n        el.textContent = \"BokehJS \" + root.Bokeh.version + \" successfully loaded.\";\n      }\n    } else if (Date.now() < root._bokeh_timeout) {\n      setTimeout(display_loaded, 100)\n    }\n  }\n\n\n  function run_callbacks() {\n    try {\n      root._bokeh_onload_callbacks.forEach(function(callback) {\n        if (callback != null)\n          callback();\n      });\n    } finally {\n      delete root._bokeh_onload_callbacks\n    }\n    console.debug(\"Bokeh: all callbacks have finished\");\n  }\n\n  function load_libs(css_urls, js_urls, callback) {\n    if (css_urls == null) css_urls = [];\n    if (js_urls == null) js_urls = [];\n\n    root._bokeh_onload_callbacks.push(callback);\n    if (root._bokeh_is_loading > 0) {\n      console.debug(\"Bokeh: BokehJS is being loaded, scheduling callback at\", now());\n      return null;\n    }\n    if (js_urls == null || js_urls.length === 0) {\n      run_callbacks();\n      return null;\n    }\n    console.debug(\"Bokeh: BokehJS not loaded, scheduling load and callback at\", now());\n    root._bokeh_is_loading = css_urls.length + js_urls.length;\n\n    function on_load() {\n      root._bokeh_is_loading--;\n      if (root._bokeh_is_loading === 0) {\n        console.debug(\"Bokeh: all BokehJS libraries/stylesheets loaded\");\n        run_callbacks()\n      }\n    }\n\n    function on_error(url) {\n      console.error(\"failed to load \" + url);\n    }\n\n    for (let i = 0; i < css_urls.length; i++) {\n      const url = css_urls[i];\n      const element = document.createElement(\"link\");\n      element.onload = on_load;\n      element.onerror = on_error.bind(null, url);\n      element.rel = \"stylesheet\";\n      element.type = \"text/css\";\n      element.href = url;\n      console.debug(\"Bokeh: injecting link tag for BokehJS stylesheet: \", url);\n      document.body.appendChild(element);\n    }\n\n    const hashes = {\"https://cdn.bokeh.org/bokeh/release/bokeh-2.3.3.min.js\": \"dM3QQsP+wXdHg42wTqW85BjZQdLNNIXqlPw/BgKoExPmTG7ZLML4EGqLMfqHT6ON\", \"https://cdn.bokeh.org/bokeh/release/bokeh-tables-2.3.3.min.js\": \"8x57I4YuIfu8XyZfFo0XVr2WAT8EK4rh/uDe3wF7YuW2FNUSNEpJbsPaB1nJ2fz2\", \"https://cdn.bokeh.org/bokeh/release/bokeh-widgets-2.3.3.min.js\": \"3QTqdz9LyAm2i0sG5XTePsHec3UHWwVsrOL68SYRoAXsafvfAyqtQ+h440+qIBhS\"};\n\n    for (let i = 0; i < js_urls.length; i++) {\n      const url = js_urls[i];\n      const element = document.createElement('script');\n      element.onload = on_load;\n      element.onerror = on_error.bind(null, url);\n      element.async = false;\n      element.src = url;\n      if (url in hashes) {\n        element.crossOrigin = \"anonymous\";\n        element.integrity = \"sha384-\" + hashes[url];\n      }\n      console.debug(\"Bokeh: injecting script tag for BokehJS library: \", url);\n      document.head.appendChild(element);\n    }\n  };\n\n  function inject_raw_css(css) {\n    const element = document.createElement(\"style\");\n    element.appendChild(document.createTextNode(css));\n    document.body.appendChild(element);\n  }\n\n  \n  var js_urls = [\"https://cdn.bokeh.org/bokeh/release/bokeh-2.3.3.min.js\", \"https://cdn.bokeh.org/bokeh/release/bokeh-widgets-2.3.3.min.js\", \"https://cdn.bokeh.org/bokeh/release/bokeh-tables-2.3.3.min.js\"];\n  var css_urls = [];\n  \n\n  var inline_js = [\n    function(Bokeh) {\n      Bokeh.set_log_level(\"info\");\n    },\n    function(Bokeh) {\n    \n    \n    }\n  ];\n\n  function run_inline_js() {\n    \n    if (root.Bokeh !== undefined || force === true) {\n      \n    for (var i = 0; i < inline_js.length; i++) {\n      inline_js[i].call(root, root.Bokeh);\n    }\n    if (force === true) {\n        display_loaded();\n      }} else if (Date.now() < root._bokeh_timeout) {\n      setTimeout(run_inline_js, 100);\n    } else if (!root._bokeh_failed_load) {\n      console.log(\"Bokeh: BokehJS failed to load within specified timeout.\");\n      root._bokeh_failed_load = true;\n    } else if (force !== true) {\n      var cell = $(document.getElementById(\"1002\")).parents('.cell').data().cell;\n      cell.output_area.append_execute_result(NB_LOAD_WARNING)\n    }\n\n  }\n\n  if (root._bokeh_is_loading === 0) {\n    console.debug(\"Bokeh: BokehJS loaded, going straight to plotting\");\n    run_inline_js();\n  } else {\n    load_libs(css_urls, js_urls, function() {\n      console.debug(\"Bokeh: BokehJS plotting callback run at\", now());\n      run_inline_js();\n    });\n  }\n}(window));"
     },
     "metadata": {},
     "output_type": "display_data"
    }
   ],
   "source": [
    "from genepy.utils import helper as h\n",
    "\n",
    "from taigapy import TaigaClient\n",
    "from celligner import Celligner\n",
    "tc = TaigaClient()\n",
    "from bokeh.plotting import output_notebook\n",
    "from depmapomics import tracker as track\n",
    "#autoreload\n",
    "%load_ext autoreload\n",
    "%autoreload 2\n",
    "output_notebook()"
   ]
  },
  {
   "cell_type": "code",
   "execution_count": 2,
   "metadata": {
    "ExecuteTime": {
     "end_time": "2021-09-17T19:57:28.552463Z",
     "start_time": "2021-09-17T19:57:20.128875Z"
    }
   },
   "outputs": [
    {
     "name": "stdout",
     "output_type": "stream",
     "text": [
      "No dataset version provided. Using version 16.\n"
     ]
    }
   ],
   "source": [
    "# load from taiga public (figshare link)\n",
    "# load internal expression,\n",
    "CCLE_expression = tc.get(name='internal-21q3-fe4c',\n",
    "                         file='CCLE_expression_full')  # https://depmap.org/portal/download/\n",
    "# load  TCGA expression\n",
    "# this dataset was generated from  ,using this script: \n",
    "# caan be found here:\n",
    "#TCGA_expression = tc.get(name='celligner-input-9827',\n",
    "#                         file='tumor_expression')"
   ]
  },
  {
   "cell_type": "code",
   "execution_count": 43,
   "metadata": {
    "ExecuteTime": {
     "end_time": "2021-09-16T14:09:38.962193Z",
     "start_time": "2021-09-16T14:09:36.281042Z"
    }
   },
   "outputs": [],
   "source": [
    "# subset gene names to ensembl ids only\n",
    "CCLE_expression = CCLE_expression[CCLE_expression.columns[:-92]]\n",
    "CCLE_expression.columns = list(map(lambda x: x.split(\n",
    "    ' (')[1][:-1] if ' (' in x else x, CCLE_expression.columns))\n",
    "\n",
    "common = set(CCLE_expression.columns).intersection(\n",
    "    set(TCGA_expression.columns))\n",
    "CCLE_expression = CCLE_expression[list(common)]\n",
    "TCGA_expression = TCGA_expression[list(common)]"
   ]
  },
  {
   "cell_type": "code",
   "execution_count": 31,
   "metadata": {
    "ExecuteTime": {
     "end_time": "2021-09-16T14:00:47.961361Z",
     "start_time": "2021-09-16T14:00:45.026858Z"
    }
   },
   "outputs": [
    {
     "name": "stdout",
     "output_type": "stream",
     "text": [
      "No dataset version provided. Using version 1.\n"
     ]
    }
   ],
   "source": [
    "# loading annotations\n",
    "CCLE_annotation = track.getTracker() # the function uses pygsheets to load this: https://docs.google.com/spreadsheets/d/1Pgb5fIClGnErEqzxpU7qqX6ULpGTDjvzWwDN8XUJKIY/edit#gid=746987867 \n",
    "TCGA_annotation = tc.get(name='celligner-input-9827',\n",
    "                         file='tumor_annotations') # generated manually, found also here: "
   ]
  },
  {
   "cell_type": "code",
   "execution_count": 32,
   "metadata": {
    "ExecuteTime": {
     "end_time": "2021-09-16T14:00:49.273139Z",
     "start_time": "2021-09-16T14:00:49.215730Z"
    }
   },
   "outputs": [],
   "source": [
    "# transforming annotations\n",
    "CCLE_annotation = CCLE_annotation.drop_duplicates('arxspan_id').set_index(\"arxspan_id\")\n",
    "CCLE_annotation = CCLE_annotation.loc[CCLE_expression.index, [\"origin\", 'subtype']].rename(columns={\"origin\": \"tissue_type\", \"subtype\": 'disease_type'})\n",
    "CCLE_annotation[\"cell_type\"] = \"cancer cell line\"\n",
    "\n",
    "TCGA_annotation = TCGA_annotation.set_index(\"sampleID\").loc[TCGA_expression.index,[\"lineage\",\n",
    "\"subtype\"]].rename({\"lineage\":\"tissue_type\", \"subtype\": 'disease_type'})\n",
    "TCGA_annotation['cell_type'] = \"tumor sample\""
   ]
  },
  {
   "cell_type": "code",
   "execution_count": 35,
   "metadata": {
    "ExecuteTime": {
     "end_time": "2021-09-16T14:01:03.621628Z",
     "start_time": "2021-09-16T14:01:03.588941Z"
    }
   },
   "outputs": [
    {
     "ename": "SyntaxError",
     "evalue": "invalid syntax (<ipython-input-35-d0d98637db54>, line 1)",
     "output_type": "error",
     "traceback": [
      "\u001b[0;36m  File \u001b[0;32m\"<ipython-input-35-d0d98637db54>\"\u001b[0;36m, line \u001b[0;32m1\u001b[0m\n\u001b[0;31m    TCGA_expression.index TCGA_annotation.index\u001b[0m\n\u001b[0m                                        ^\u001b[0m\n\u001b[0;31mSyntaxError\u001b[0m\u001b[0;31m:\u001b[0m invalid syntax\n"
     ]
    }
   ],
   "source": [
    "TCGA_expression.index TCGA_annotation.index"
   ]
  },
  {
   "cell_type": "code",
   "execution_count": 39,
   "metadata": {
    "ExecuteTime": {
     "end_time": "2021-09-16T14:03:55.265109Z",
     "start_time": "2021-09-16T14:02:14.792658Z"
    },
    "scrolled": true
   },
   "outputs": [
    {
     "name": "stdout",
     "output_type": "stream",
     "text": [
      "fetching gene names from biomart cache\n",
      "using only usefull genes\n",
      "looking at 800 samples.\n",
      "found 33980 common genes\n",
      "creating a fit dataset..\n",
      "reducing dimensionality...\n",
      "clustering...\n"
     ]
    },
    {
     "data": {
      "text/html": [
       "\n",
       "\n",
       "\n",
       "\n",
       "\n",
       "\n",
       "  <div class=\"bk-root\" id=\"5afaa91e-e0c4-47a3-843e-fc174d5481df\" data-root-id=\"1004\"></div>\n"
      ]
     },
     "metadata": {},
     "output_type": "display_data"
    },
    {
     "data": {
      "application/javascript": [
       "(function(root) {\n",
       "  function embed_document(root) {\n",
       "    \n",
       "  var docs_json = {\"1b81e2a3-5093-43bc-a41b-2070fd0700ec\":{\"defs\":[],\"roots\":{\"references\":[{\"attributes\":{\"below\":[{\"id\":\"1015\"}],\"center\":[{\"id\":\"1018\"},{\"id\":\"1022\"}],\"left\":[{\"id\":\"1019\"}],\"output_backend\":\"svg\",\"renderers\":[{\"id\":\"1056\"}],\"title\":{\"id\":\"1005\"},\"toolbar\":{\"id\":\"1039\"},\"x_range\":{\"id\":\"1007\"},\"x_scale\":{\"id\":\"1011\"},\"y_range\":{\"id\":\"1009\"},\"y_scale\":{\"id\":\"1013\"}},\"id\":\"1004\",\"subtype\":\"Figure\",\"type\":\"Plot\"},{\"attributes\":{\"axis_label\":\"UMAP2\",\"formatter\":{\"id\":\"1060\"},\"major_label_policy\":{\"id\":\"1059\"},\"ticker\":{\"id\":\"1020\"}},\"id\":\"1019\",\"type\":\"LinearAxis\"},{\"attributes\":{\"overlay\":{\"id\":\"1036\"}},\"id\":\"1034\",\"type\":\"BoxSelectTool\"},{\"attributes\":{\"callback\":null,\"tooltips\":[[\"(x,y)\",\"(@x, @y)\"],[\"label\",\"@labels\"]]},\"id\":\"1023\",\"type\":\"HoverTool\"},{\"attributes\":{\"axis_label\":\"UMAP1\",\"formatter\":{\"id\":\"1063\"},\"major_label_policy\":{\"id\":\"1062\"},\"ticker\":{\"id\":\"1016\"}},\"id\":\"1015\",\"type\":\"LinearAxis\"},{\"attributes\":{\"overlay\":{\"id\":\"1038\"}},\"id\":\"1035\",\"type\":\"LassoSelectTool\"},{\"attributes\":{\"bottom_units\":\"screen\",\"fill_alpha\":0.5,\"fill_color\":\"lightgrey\",\"left_units\":\"screen\",\"level\":\"overlay\",\"line_alpha\":1.0,\"line_color\":\"black\",\"line_dash\":[4,4],\"line_width\":2,\"right_units\":\"screen\",\"syncable\":false,\"top_units\":\"screen\"},\"id\":\"1037\",\"type\":\"BoxAnnotation\"},{\"attributes\":{},\"id\":\"1024\",\"type\":\"CrosshairTool\"},{\"attributes\":{},\"id\":\"1009\",\"type\":\"DataRange1d\"},{\"attributes\":{\"axis\":{\"id\":\"1015\"},\"ticker\":null},\"id\":\"1018\",\"type\":\"Grid\"},{\"attributes\":{\"active_multi\":null,\"tools\":[{\"id\":\"1023\"},{\"id\":\"1024\"},{\"id\":\"1025\"},{\"id\":\"1026\"},{\"id\":\"1027\"},{\"id\":\"1028\"},{\"id\":\"1029\"},{\"id\":\"1030\"},{\"id\":\"1031\"},{\"id\":\"1032\"},{\"id\":\"1033\"},{\"id\":\"1034\"},{\"id\":\"1035\"}]},\"id\":\"1039\",\"type\":\"Toolbar\"},{\"attributes\":{\"axis\":{\"id\":\"1019\"},\"dimension\":1,\"ticker\":null},\"id\":\"1022\",\"type\":\"Grid\"},{\"attributes\":{\"bottom_units\":\"screen\",\"fill_alpha\":0.5,\"fill_color\":\"lightgrey\",\"left_units\":\"screen\",\"level\":\"overlay\",\"line_alpha\":1.0,\"line_color\":\"black\",\"line_dash\":[4,4],\"line_width\":2,\"right_units\":\"screen\",\"syncable\":false,\"top_units\":\"screen\"},\"id\":\"1036\",\"type\":\"BoxAnnotation\"},{\"attributes\":{\"fill_alpha\":{\"field\":\"fill_alpha\"},\"fill_color\":{\"field\":\"fill_color\"},\"line_color\":{\"field\":\"fill_color\"},\"line_width\":{\"value\":0},\"radius\":{\"field\":\"radius\"},\"x\":{\"field\":\"x\"},\"y\":{\"field\":\"y\"}},\"id\":\"1054\",\"type\":\"Circle\"},{\"attributes\":{\"fill_alpha\":{\"value\":0.1},\"fill_color\":{\"field\":\"fill_color\"},\"line_alpha\":{\"value\":0.1},\"line_color\":{\"field\":\"fill_color\"},\"line_width\":{\"value\":0},\"radius\":{\"field\":\"radius\"},\"x\":{\"field\":\"x\"},\"y\":{\"field\":\"y\"}},\"id\":\"1055\",\"type\":\"Circle\"},{\"attributes\":{\"fill_alpha\":0.5,\"fill_color\":\"lightgrey\",\"level\":\"overlay\",\"line_alpha\":1.0,\"line_color\":\"black\",\"line_dash\":[4,4],\"line_width\":2,\"syncable\":false,\"xs_units\":\"screen\",\"ys_units\":\"screen\"},\"id\":\"1038\",\"type\":\"PolyAnnotation\"},{\"attributes\":{},\"id\":\"1026\",\"type\":\"WheelZoomTool\"},{\"attributes\":{\"data_source\":{\"id\":\"1003\"},\"glyph\":{\"id\":\"1054\"},\"hover_glyph\":null,\"muted_glyph\":null,\"nonselection_glyph\":{\"id\":\"1055\"},\"view\":{\"id\":\"1057\"}},\"id\":\"1056\",\"type\":\"GlyphRenderer\"},{\"attributes\":{},\"id\":\"1027\",\"type\":\"ZoomInTool\"},{\"attributes\":{},\"id\":\"1013\",\"type\":\"LinearScale\"},{\"attributes\":{},\"id\":\"1020\",\"type\":\"BasicTicker\"},{\"attributes\":{},\"id\":\"1011\",\"type\":\"LinearScale\"},{\"attributes\":{},\"id\":\"1007\",\"type\":\"DataRange1d\"},{\"attributes\":{},\"id\":\"1028\",\"type\":\"ZoomOutTool\"},{\"attributes\":{},\"id\":\"1062\",\"type\":\"AllLabels\"},{\"attributes\":{\"data\":{\"fill_alpha\":[0.8,0.8,0.8,0.8,0.8,0.8,0.8,0.8,0.8,0.8,0.8,0.8,0.8,0.8,0.8,0.8,0.8,0.8,0.8,0.8,0.8,0.8,0.8,0.8,0.8,0.8,0.8,0.8,0.8,0.8,0.8,0.8,0.8,0.8,0.8,0.8,0.8,0.8,0.8,0.8,0.8,0.8,0.8,0.8,0.8,0.8,0.8,0.8,0.8,0.8,0.8,0.8,0.8,0.8,0.8,0.8,0.8,0.8,0.8,0.8,0.8,0.8,0.8,0.8,0.8,0.8,0.8,0.8,0.8,0.8,0.8,0.8,0.8,0.8,0.8,0.8,0.8,0.8,0.8,0.8,0.8,0.8,0.8,0.8,0.8,0.8,0.8,0.8,0.8,0.8,0.8,0.8,0.8,0.8,0.8,0.8,0.8,0.8,0.8,0.8,0.8,0.8,0.8,0.8,0.8,0.8,0.8,0.8,0.8,0.8,0.8,0.8,0.8,0.8,0.8,0.8,0.8,0.8,0.8,0.8,0.8,0.8,0.8,0.8,0.8,0.8,0.8,0.8,0.8,0.8,0.8,0.8,0.8,0.8,0.8,0.8,0.8,0.8,0.8,0.8,0.8,0.8,0.8,0.8,0.8,0.8,0.8,0.8,0.8,0.8,0.8,0.8,0.8,0.8,0.8,0.8,0.8,0.8,0.8,0.8,0.8,0.8,0.8,0.8,0.8,0.8,0.8,0.8,0.8,0.8,0.8,0.8,0.8,0.8,0.8,0.8,0.8,0.8,0.8,0.8,0.8,0.8,0.8,0.8,0.8,0.8,0.8,0.8,0.8,0.8,0.8,0.8,0.8,0.8,0.8,0.8,0.8,0.8,0.8,0.8,0.8,0.8,0.8,0.8,0.8,0.8,0.8,0.8,0.8,0.8,0.8,0.8,0.8,0.8,0.8,0.8,0.8,0.8,0.8,0.8,0.8,0.8,0.8,0.8,0.8,0.8,0.8,0.8,0.8,0.8,0.8,0.8,0.8,0.8,0.8,0.8,0.8,0.8,0.8,0.8,0.8,0.8,0.8,0.8,0.8,0.8,0.8,0.8,0.8,0.8,0.8,0.8,0.8,0.8,0.8,0.8,0.8,0.8,0.8,0.8,0.8,0.8,0.8,0.8,0.8,0.8,0.8,0.8,0.8,0.8,0.8,0.8,0.8,0.8,0.8,0.8,0.8,0.8,0.8,0.8,0.8,0.8,0.8,0.8,0.8,0.8,0.8,0.8,0.8,0.8,0.8,0.8,0.8,0.8,0.8,0.8,0.8,0.8,0.8,0.8,0.8,0.8,0.8,0.8,0.8,0.8,0.8,0.8,0.8,0.8,0.8,0.8,0.8,0.8,0.8,0.8,0.8,0.8,0.8,0.8,0.8,0.8,0.8,0.8,0.8,0.8,0.8,0.8,0.8,0.8,0.8,0.8,0.8,0.8,0.8,0.8,0.8,0.8,0.8,0.8,0.8,0.8,0.8,0.8,0.8,0.8,0.8,0.8,0.8,0.8,0.8,0.8,0.8,0.8,0.8,0.8,0.8,0.8,0.8,0.8,0.8,0.8,0.8,0.8,0.8,0.8,0.8,0.8,0.8,0.8,0.8,0.8,0.8,0.8,0.8,0.8,0.8,0.8,0.8,0.8,0.8,0.8,0.8,0.8,0.8,0.8,0.8,0.8,0.8,0.8,0.8,0.8,0.8,0.8,0.8,0.8,0.8,0.8,0.8,0.8,0.8,0.8,0.8,0.8,0.8,0.8,0.8,0.8,0.8,0.8,0.8,0.8,0.8,0.8,0.8,0.8,0.8,0.8,0.8,0.8,0.8,0.8,0.8,0.8,0.8,0.8,0.8,0.8,0.8,0.8,0.8,0.8,0.8,0.8,0.8,0.8,0.8,0.8,0.8,0.8,0.8,0.8,0.8,0.8,0.8,0.8,0.8,0.8,0.8,0.8,0.8,0.8,0.8,0.8,0.8,0.8,0.8,0.8,0.8,0.8,0.8,0.8,0.8,0.8,0.8,0.8,0.8,0.8,0.8,0.8,0.8,0.8,0.8,0.8,0.8,0.8,0.8,0.8,0.8,0.8,0.8,0.8,0.8,0.8,0.8,0.8,0.8,0.8,0.8,0.8,0.8,0.8,0.8,0.8,0.8,0.8,0.8,0.8,0.8,0.8,0.8,0.8,0.8,0.8,0.8,0.8,0.8,0.8,0.8,0.8,0.8,0.8,0.8,0.8,0.8,0.8,0.8,0.8,0.8,0.8,0.8,0.8,0.8,0.8,0.8,0.8,0.8,0.8,0.8,0.8,0.8,0.8,0.8,0.8,0.8,0.8,0.8,0.8,0.8,0.8,0.8,0.8,0.8,0.8,0.8,0.8,0.8,0.8,0.8,0.8,0.8,0.8,0.8,0.8,0.8,0.8,0.8,0.8,0.8,0.8,0.8,0.8,0.8,0.8,0.8,0.8,0.8,0.8,0.8,0.8,0.8,0.8,0.8,0.8,0.8,0.8,0.8,0.8,0.8,0.8,0.8,0.8,0.8,0.8,0.8,0.8,0.8,0.8,0.8,0.8,0.8,0.8,0.8,0.8,0.8,0.8,0.8,0.8,0.8,0.8,0.8,0.8,0.8,0.8,0.8,0.8,0.8,0.8,0.8,0.8,0.8,0.8,0.8,0.8,0.8,0.8,0.8,0.8,0.8,0.8,0.8,0.8,0.8,0.8,0.8,0.8,0.8,0.8,0.8,0.8,0.8,0.8,0.8,0.8,0.8,0.8,0.8,0.8,0.8,0.8,0.8,0.8,0.8,0.8,0.8,0.8,0.8,0.8,0.8,0.8,0.8,0.8,0.8,0.8,0.8,0.8,0.8,0.8,0.8,0.8,0.8,0.8,0.8,0.8,0.8,0.8,0.8,0.8,0.8,0.8,0.8,0.8,0.8,0.8,0.8,0.8,0.8,0.8,0.8,0.8,0.8,0.8,0.8,0.8,0.8,0.8,0.8,0.8,0.8,0.8,0.8,0.8,0.8,0.8,0.8,0.8,0.8,0.8,0.8,0.8,0.8,0.8,0.8,0.8,0.8,0.8,0.8,0.8,0.8,0.8,0.8,0.8,0.8,0.8,0.8,0.8,0.8,0.8,0.8,0.8,0.8,0.8,0.8,0.8,0.8,0.8,0.8,0.8,0.8,0.8,0.8,0.8,0.8,0.8,0.8,0.8,0.8,0.8,0.8,0.8,0.8,0.8,0.8,0.8,0.8,0.8,0.8,0.8,0.8,0.8,0.8,0.8,0.8,0.8,0.8,0.8,0.8,0.8,0.8,0.8,0.8,0.8,0.8,0.8,0.8,0.8,0.8,0.8,0.8,0.8,0.8,0.8,0.8,0.8,0.8,0.8,0.8,0.8,0.8,0.8,0.8,0.8,0.8,0.8,0.8,0.8,0.8,0.8,0.8,0.8,0.8,0.8,0.8,0.8,0.8,0.8,0.8,0.8,0.8,0.8],\"fill_color\":[\"#440154\",\"#443982\",\"#30678D\",\"#443982\",\"#440154\",\"#208F8C\",\"#30678D\",\"#208F8C\",\"#208F8C\",\"#443982\",\"#443982\",\"#443982\",\"#208F8C\",\"#208F8C\",\"#443982\",\"#208F8C\",\"#208F8C\",\"#443982\",\"#443982\",\"#443982\",\"#208F8C\",\"#443982\",\"#443982\",\"#443982\",\"#443982\",\"#208F8C\",\"#208F8C\",\"#FDE724\",\"#443982\",\"#208F8C\",\"#443982\",\"#208F8C\",\"#208F8C\",\"#208F8C\",\"#443982\",\"#443982\",\"#30678D\",\"#208F8C\",\"#208F8C\",\"#440154\",\"#443982\",\"#208F8C\",\"#443982\",\"#443982\",\"#440154\",\"#208F8C\",\"#440154\",\"#30678D\",\"#208F8C\",\"#208F8C\",\"#443982\",\"#443982\",\"#30678D\",\"#208F8C\",\"#208F8C\",\"#FDE724\",\"#443982\",\"#30678D\",\"#FDE724\",\"#30678D\",\"#30678D\",\"#208F8C\",\"#208F8C\",\"#208F8C\",\"#443982\",\"#443982\",\"#440154\",\"#443982\",\"#30678D\",\"#443982\",\"#208F8C\",\"#443982\",\"#208F8C\",\"#30678D\",\"#208F8C\",\"#30678D\",\"#30678D\",\"#35B778\",\"#30678D\",\"#35B778\",\"#30678D\",\"#443982\",\"#208F8C\",\"#208F8C\",\"#30678D\",\"#443982\",\"#208F8C\",\"#208F8C\",\"#208F8C\",\"#208F8C\",\"#30678D\",\"#30678D\",\"#208F8C\",\"#443982\",\"#443982\",\"#208F8C\",\"#30678D\",\"#30678D\",\"#208F8C\",\"#440154\",\"#30678D\",\"#30678D\",\"#440154\",\"#30678D\",\"#30678D\",\"#443982\",\"#443982\",\"#443982\",\"#208F8C\",\"#208F8C\",\"#30678D\",\"#443982\",\"#30678D\",\"#208F8C\",\"#208F8C\",\"#443982\",\"#30678D\",\"#208F8C\",\"#443982\",\"#30678D\",\"#30678D\",\"#208F8C\",\"#208F8C\",\"#443982\",\"#440154\",\"#443982\",\"#440154\",\"#443982\",\"#208F8C\",\"#443982\",\"#443982\",\"#208F8C\",\"#30678D\",\"#443982\",\"#440154\",\"#443982\",\"#443982\",\"#208F8C\",\"#208F8C\",\"#208F8C\",\"#443982\",\"#30678D\",\"#443982\",\"#208F8C\",\"#208F8C\",\"#443982\",\"#208F8C\",\"#208F8C\",\"#30678D\",\"#8DD644\",\"#208F8C\",\"#30678D\",\"#208F8C\",\"#30678D\",\"#443982\",\"#208F8C\",\"#208F8C\",\"#443982\",\"#208F8C\",\"#443982\",\"#208F8C\",\"#443982\",\"#443982\",\"#443982\",\"#8DD644\",\"#208F8C\",\"#443982\",\"#443982\",\"#443982\",\"#FDE724\",\"#208F8C\",\"#440154\",\"#440154\",\"#208F8C\",\"#443982\",\"#443982\",\"#208F8C\",\"#30678D\",\"#208F8C\",\"#30678D\",\"#443982\",\"#30678D\",\"#443982\",\"#208F8C\",\"#208F8C\",\"#30678D\",\"#208F8C\",\"#208F8C\",\"#208F8C\",\"#208F8C\",\"#208F8C\",\"#440154\",\"#8DD644\",\"#8DD644\",\"#440154\",\"#208F8C\",\"#30678D\",\"#30678D\",\"#208F8C\",\"#30678D\",\"#443982\",\"#440154\",\"#8DD644\",\"#30678D\",\"#443982\",\"#30678D\",\"#208F8C\",\"#30678D\",\"#443982\",\"#443982\",\"#30678D\",\"#443982\",\"#30678D\",\"#208F8C\",\"#30678D\",\"#443982\",\"#443982\",\"#443982\",\"#30678D\",\"#443982\",\"#30678D\",\"#443982\",\"#30678D\",\"#30678D\",\"#443982\",\"#443982\",\"#30678D\",\"#208F8C\",\"#208F8C\",\"#30678D\",\"#208F8C\",\"#30678D\",\"#208F8C\",\"#440154\",\"#443982\",\"#443982\",\"#30678D\",\"#30678D\",\"#443982\",\"#8DD644\",\"#443982\",\"#30678D\",\"#208F8C\",\"#440154\",\"#443982\",\"#443982\",\"#443982\",\"#443982\",\"#443982\",\"#443982\",\"#440154\",\"#8DD644\",\"#8DD644\",\"#208F8C\",\"#30678D\",\"#443982\",\"#208F8C\",\"#443982\",\"#208F8C\",\"#208F8C\",\"#208F8C\",\"#440154\",\"#208F8C\",\"#30678D\",\"#208F8C\",\"#208F8C\",\"#208F8C\",\"#443982\",\"#443982\",\"#443982\",\"#443982\",\"#443982\",\"#208F8C\",\"#30678D\",\"#440154\",\"#8DD644\",\"#208F8C\",\"#208F8C\",\"#30678D\",\"#208F8C\",\"#440154\",\"#443982\",\"#208F8C\",\"#443982\",\"#443982\",\"#443982\",\"#443982\",\"#443982\",\"#443982\",\"#208F8C\",\"#208F8C\",\"#440154\",\"#440154\",\"#30678D\",\"#30678D\",\"#30678D\",\"#443982\",\"#208F8C\",\"#443982\",\"#443982\",\"#443982\",\"#440154\",\"#443982\",\"#440154\",\"#443982\",\"#443982\",\"#208F8C\",\"#208F8C\",\"#443982\",\"#443982\",\"#30678D\",\"#208F8C\",\"#443982\",\"#8DD644\",\"#208F8C\",\"#208F8C\",\"#208F8C\",\"#443982\",\"#208F8C\",\"#443982\",\"#30678D\",\"#30678D\",\"#208F8C\",\"#208F8C\",\"#208F8C\",\"#440154\",\"#443982\",\"#8DD644\",\"#208F8C\",\"#443982\",\"#30678D\",\"#30678D\",\"#443982\",\"#443982\",\"#443982\",\"#30678D\",\"#208F8C\",\"#30678D\",\"#208F8C\",\"#443982\",\"#30678D\",\"#208F8C\",\"#440154\",\"#443982\",\"#443982\",\"#208F8C\",\"#208F8C\",\"#440154\",\"#208F8C\",\"#208F8C\",\"#208F8C\",\"#208F8C\",\"#208F8C\",\"#443982\",\"#30678D\",\"#30678D\",\"#443982\",\"#30678D\",\"#208F8C\",\"#443982\",\"#208F8C\",\"#443982\",\"#208F8C\",\"#208F8C\",\"#30678D\",\"#443982\",\"#443982\",\"#443982\",\"#440154\",\"#30678D\",\"#443982\",\"#443982\",\"#443982\",\"#443982\",\"#208F8C\",\"#208F8C\",\"#208F8C\",\"#443982\",\"#208F8C\",\"#208F8C\",\"#208F8C\",\"#443982\",\"#30678D\",\"#30678D\",\"#440154\",\"#30678D\",\"#208F8C\",\"#30678D\",\"#443982\",\"#443982\",\"#208F8C\",\"#FDE724\",\"#30678D\",\"#208F8C\",\"#30678D\",\"#440154\",\"#30678D\",\"#443982\",\"#443982\",\"#8DD644\",\"#443982\",\"#208F8C\",\"#208F8C\",\"#443982\",\"#443982\",\"#440154\",\"#30678D\",\"#208F8C\",\"#208F8C\",\"#208F8C\",\"#443982\",\"#208F8C\",\"#443982\",\"#443982\",\"#440154\",\"#208F8C\",\"#443982\",\"#440154\",\"#443982\",\"#443982\",\"#208F8C\",\"#443982\",\"#440154\",\"#8DD644\",\"#443982\",\"#8DD644\",\"#208F8C\",\"#440154\",\"#443982\",\"#30678D\",\"#443982\",\"#30678D\",\"#208F8C\",\"#208F8C\",\"#30678D\",\"#30678D\",\"#208F8C\",\"#443982\",\"#FDE724\",\"#443982\",\"#443982\",\"#443982\",\"#30678D\",\"#30678D\",\"#443982\",\"#443982\",\"#8DD644\",\"#440154\",\"#443982\",\"#443982\",\"#FDE724\",\"#208F8C\",\"#FDE724\",\"#30678D\",\"#30678D\",\"#443982\",\"#208F8C\",\"#FDE724\",\"#8DD644\",\"#30678D\",\"#208F8C\",\"#443982\",\"#443982\",\"#30678D\",\"#443982\",\"#443982\",\"#443982\",\"#440154\",\"#208F8C\",\"#208F8C\",\"#30678D\",\"#443982\",\"#443982\",\"#443982\",\"#30678D\",\"#208F8C\",\"#208F8C\",\"#208F8C\",\"#443982\",\"#30678D\",\"#208F8C\",\"#443982\",\"#208F8C\",\"#443982\",\"#30678D\",\"#443982\",\"#443982\",\"#208F8C\",\"#8DD644\",\"#30678D\",\"#8DD644\",\"#208F8C\",\"#443982\",\"#30678D\",\"#208F8C\",\"#30678D\",\"#443982\",\"#208F8C\",\"#8DD644\",\"#443982\",\"#443982\",\"#208F8C\",\"#443982\",\"#440154\",\"#443982\",\"#440154\",\"#443982\",\"#443982\",\"#440154\",\"#30678D\",\"#208F8C\",\"#30678D\",\"#443982\",\"#208F8C\",\"#443982\",\"#208F8C\",\"#30678D\",\"#208F8C\",\"#440154\",\"#208F8C\",\"#30678D\",\"#30678D\",\"#443982\",\"#30678D\",\"#443982\",\"#30678D\",\"#443982\",\"#440154\",\"#208F8C\",\"#30678D\",\"#443982\",\"#30678D\",\"#443982\",\"#208F8C\",\"#443982\",\"#30678D\",\"#8DD644\",\"#208F8C\",\"#208F8C\",\"#30678D\",\"#440154\",\"#443982\",\"#30678D\",\"#443982\",\"#208F8C\",\"#30678D\",\"#208F8C\",\"#30678D\",\"#30678D\",\"#30678D\",\"#30678D\",\"#443982\",\"#208F8C\",\"#443982\",\"#208F8C\",\"#208F8C\",\"#208F8C\",\"#30678D\",\"#30678D\",\"#30678D\",\"#443982\",\"#443982\",\"#440154\",\"#208F8C\",\"#208F8C\",\"#208F8C\",\"#443982\",\"#443982\",\"#FDE724\",\"#8DD644\",\"#443982\",\"#8DD644\",\"#30678D\",\"#443982\",\"#443982\",\"#30678D\",\"#8DD644\",\"#35B778\",\"#443982\",\"#443982\",\"#30678D\",\"#208F8C\",\"#30678D\",\"#443982\",\"#208F8C\",\"#443982\",\"#30678D\",\"#208F8C\",\"#443982\",\"#440154\",\"#30678D\",\"#208F8C\",\"#30678D\",\"#208F8C\",\"#FDE724\",\"#30678D\",\"#208F8C\",\"#443982\",\"#208F8C\",\"#208F8C\",\"#208F8C\",\"#30678D\",\"#30678D\",\"#30678D\",\"#440154\",\"#208F8C\",\"#208F8C\",\"#208F8C\",\"#208F8C\",\"#208F8C\",\"#208F8C\",\"#443982\",\"#443982\",\"#208F8C\",\"#30678D\",\"#440154\",\"#443982\",\"#443982\",\"#443982\",\"#8DD644\",\"#208F8C\",\"#443982\",\"#443982\",\"#443982\",\"#30678D\",\"#443982\",\"#443982\",\"#208F8C\",\"#30678D\",\"#443982\",\"#208F8C\",\"#30678D\",\"#443982\",\"#443982\",\"#443982\",\"#208F8C\",\"#208F8C\",\"#30678D\",\"#440154\",\"#208F8C\",\"#208F8C\",\"#443982\",\"#30678D\",\"#208F8C\",\"#443982\",\"#443982\",\"#30678D\",\"#208F8C\",\"#208F8C\",\"#443982\",\"#443982\",\"#208F8C\",\"#443982\",\"#443982\",\"#440154\",\"#443982\",\"#208F8C\",\"#443982\",\"#208F8C\",\"#208F8C\",\"#208F8C\",\"#208F8C\",\"#30678D\",\"#443982\",\"#30678D\",\"#30678D\",\"#443982\",\"#208F8C\",\"#443982\",\"#208F8C\",\"#443982\",\"#8DD644\",\"#443982\",\"#208F8C\",\"#443982\",\"#208F8C\",\"#443982\",\"#208F8C\",\"#443982\",\"#443982\",\"#443982\",\"#443982\",\"#30678D\",\"#443982\",\"#443982\",\"#443982\",\"#443982\",\"#443982\",\"#443982\",\"#208F8C\",\"#443982\",\"#208F8C\",\"#443982\",\"#208F8C\",\"#443982\",\"#440154\",\"#208F8C\",\"#208F8C\",\"#443982\",\"#208F8C\",\"#30678D\",\"#443982\",\"#440154\",\"#440154\",\"#30678D\",\"#440154\",\"#443982\",\"#208F8C\",\"#208F8C\",\"#440154\",\"#440154\",\"#30678D\",\"#8DD644\",\"#208F8C\",\"#443982\",\"#443982\",\"#30678D\",\"#30678D\",\"#443982\",\"#443982\",\"#30678D\",\"#443982\",\"#208F8C\",\"#443982\",\"#FDE724\",\"#30678D\",\"#443982\",\"#440154\",\"#443982\",\"#443982\",\"#30678D\",\"#208F8C\",\"#208F8C\",\"#440154\",\"#440154\",\"#440154\",\"#208F8C\",\"#30678D\",\"#30678D\",\"#30678D\",\"#30678D\",\"#30678D\",\"#30678D\",\"#30678D\",\"#30678D\",\"#30678D\",\"#443982\",\"#30678D\",\"#443982\",\"#440154\",\"#208F8C\",\"#8DD644\",\"#443982\",\"#208F8C\",\"#443982\",\"#208F8C\",\"#208F8C\",\"#443982\",\"#443982\",\"#208F8C\",\"#30678D\",\"#208F8C\",\"#30678D\",\"#443982\",\"#30678D\",\"#208F8C\",\"#443982\",\"#30678D\",\"#443982\",\"#30678D\",\"#30678D\",\"#443982\",\"#8DD644\",\"#30678D\",\"#208F8C\",\"#443982\",\"#30678D\",\"#208F8C\",\"#8DD644\",\"#440154\",\"#443982\",\"#30678D\",\"#8DD644\",\"#208F8C\",\"#208F8C\",\"#443982\",\"#8DD644\",\"#8DD644\",\"#208F8C\",\"#208F8C\",\"#208F8C\",\"#8DD644\",\"#208F8C\",\"#443982\",\"#443982\",\"#443982\",\"#443982\",\"#30678D\",\"#208F8C\",\"#440154\"],\"labels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radius\":[0.1,0.1,0.1,0.1,0.1,0.1,0.1,0.1,0.1,0.1,0.1,0.1,0.1,0.1,0.1,0.1,0.1,0.1,0.1,0.1,0.1,0.1,0.1,0.1,0.1,0.1,0.1,0.1,0.1,0.1,0.1,0.1,0.1,0.1,0.1,0.1,0.1,0.1,0.1,0.1,0.1,0.1,0.1,0.1,0.1,0.1,0.1,0.1,0.1,0.1,0.1,0.1,0.1,0.1,0.1,0.1,0.1,0.1,0.1,0.1,0.1,0.1,0.1,0.1,0.1,0.1,0.1,0.1,0.1,0.1,0.1,0.1,0.1,0.1,0.1,0.1,0.1,0.1,0.1,0.1,0.1,0.1,0.1,0.1,0.1,0.1,0.1,0.1,0.1,0.1,0.1,0.1,0.1,0.1,0.1,0.1,0.1,0.1,0.1,0.1,0.1,0.1,0.1,0.1,0.1,0.1,0.1,0.1,0.1,0.1,0.1,0.1,0.1,0.1,0.1,0.1,0.1,0.1,0.1,0.1,0.1,0.1,0.1,0.1,0.1,0.1,0.1,0.1,0.1,0.1,0.1,0.1,0.1,0.1,0.1,0.1,0.1,0.1,0.1,0.1,0.1,0.1,0.1,0.1,0.1,0.1,0.1,0.1,0.1,0.1,0.1,0.1,0.1,0.1,0.1,0.1,0.1,0.1,0.1,0.1,0.1,0.1,0.1,0.1,0.1,0.1,0.1,0.1,0.1,0.1,0.1,0.1,0.1,0.1,0.1,0.1,0.1,0.1,0.1,0.1,0.1,0.1,0.1,0.1,0.1,0.1,0.1,0.1,0.1,0.1,0.1,0.1,0.1,0.1,0.1,0.1,0.1,0.1,0.1,0.1,0.1,0.1,0.1,0.1,0.1,0.1,0.1,0.1,0.1,0.1,0.1,0.1,0.1,0.1,0.1,0.1,0.1,0.1,0.1,0.1,0.1,0.1,0.1,0.1,0.1,0.1,0.1,0.1,0.1,0.1,0.1,0.1,0.1,0.1,0.1,0.1,0.1,0.1,0.1,0.1,0.1,0.1,0.1,0.1,0.1,0.1,0.1,0.1,0.1,0.1,0.1,0.1,0.1,0.1,0.1,0.1,0.1,0.1,0.1,0.1,0.1,0.1,0.1,0.1,0.1,0.1,0.1,0.1,0.1,0.1,0.1,0.1,0.1,0.1,0.1,0.1,0.1,0.1,0.1,0.1,0.1,0.1,0.1,0.1,0.1,0.1,0.1,0.1,0.1,0.1,0.1,0.1,0.1,0.1,0.1,0.1,0.1,0.1,0.1,0.1,0.1,0.1,0.1,0.1,0.1,0.1,0.1,0.1,0.1,0.1,0.1,0.1,0.1,0.1,0.1,0.1,0.1,0.1,0.1,0.1,0.1,0.1,0.1,0.1,0.1,0.1,0.1,0.1,0.1,0.1,0.1,0.1,0.1,0.1,0.1,0.1,0.1,0.1,0.1,0.1,0.1,0.1,0.1,0.1,0.1,0.1,0.1,0.1,0.1,0.1,0.1,0.1,0.1,0.1,0.1,0.1,0.1,0.1,0.1,0.1,0.1,0.1,0.1,0.1,0.1,0.1,0.1,0.1,0.1,0.1,0.1,0.1,0.1,0.1,0.1,0.1,0.1,0.1,0.1,0.1,0.1,0.1,0.1,0.1,0.1,0.1,0.1,0.1,0.1,0.1,0.1,0.1,0.1,0.1,0.1,0.1,0.1,0.1,0.1,0.1,0.1,0.1,0.1,0.1,0.1,0.1,0.1,0.1,0.1,0.1,0.1,0.1,0.1,0.1,0.1,0.1,0.1,0.1,0.1,0.1,0.1,0.1,0.1,0.1,0.1,0.1,0.1,0.1,0.1,0.1,0.1,0.1,0.1,0.1,0.1,0.1,0.1,0.1,0.1,0.1,0.1,0.1,0.1,0.1,0.1,0.1,0.1,0.1,0.1,0.1,0.1,0.1,0.1,0.1,0.1,0.1,0.1,0.1,0.1,0.1,0.1,0.1,0.1,0.1,0.1,0.1,0.1,0.1,0.1,0.1,0.1,0.1,0.1,0.1,0.1,0.1,0.1,0.1,0.1,0.1,0.1,0.1,0.1,0.1,0.1,0.1,0.1,0.1,0.1,0.1,0.1,0.1,0.1,0.1,0.1,0.1,0.1,0.1,0.1,0.1,0.1,0.1,0.1,0.1,0.1,0.1,0.1,0.1,0.1,0.1,0.1,0.1,0.1,0.1,0.1,0.1,0.1,0.1,0.1,0.1,0.1,0.1,0.1,0.1,0.1,0.1,0.1,0.1,0.1,0.1,0.1,0.1,0.1,0.1,0.1,0.1,0.1,0.1,0.1,0.1,0.1,0.1,0.1,0.1,0.1,0.1,0.1,0.1,0.1,0.1,0.1,0.1,0.1,0.1,0.1,0.1,0.1,0.1,0.1,0.1,0.1,0.1,0.1,0.1,0.1,0.1,0.1,0.1,0.1,0.1,0.1,0.1,0.1,0.1,0.1,0.1,0.1,0.1,0.1,0.1,0.1,0.1,0.1,0.1,0.1,0.1,0.1,0.1,0.1,0.1,0.1,0.1,0.1,0.1,0.1,0.1,0.1,0.1,0.1,0.1,0.1,0.1,0.1,0.1,0.1,0.1,0.1,0.1,0.1,0.1,0.1,0.1,0.1,0.1,0.1,0.1,0.1,0.1,0.1,0.1,0.1,0.1,0.1,0.1,0.1,0.1,0.1,0.1,0.1,0.1,0.1,0.1,0.1,0.1,0.1,0.1,0.1,0.1,0.1,0.1,0.1,0.1,0.1,0.1,0.1,0.1,0.1,0.1,0.1,0.1,0.1,0.1,0.1,0.1,0.1,0.1,0.1,0.1,0.1,0.1,0.1,0.1,0.1,0.1,0.1,0.1,0.1,0.1,0.1,0.1,0.1,0.1,0.1,0.1,0.1,0.1,0.1,0.1,0.1,0.1,0.1,0.1,0.1,0.1,0.1,0.1,0.1,0.1,0.1,0.1,0.1,0.1,0.1,0.1,0.1,0.1,0.1,0.1,0.1,0.1,0.1,0.1,0.1,0.1,0.1,0.1,0.1,0.1,0.1,0.1,0.1,0.1,0.1,0.1,0.1,0.1,0.1,0.1,0.1,0.1,0.1,0.1,0.1,0.1,0.1,0.1,0.1,0.1,0.1,0.1,0.1,0.1,0.1,0.1,0.1,0.1,0.1,0.1,0.1,0.1,0.1,0.1,0.1,0.1,0.1,0.1,0.1,0.1,0.1,0.1,0.1,0.1,0.1,0.1,0.1,0.1,0.1,0.1,0.1,0.1,0.1,0.1,0.1,0.1,0.1,0.1,0.1,0.1,0.1,0.1,0.1,0.1,0.1,0.1,0.1,0.1,0.1,0.1,0.1,0.1,0.1,0.1,0.1,0.1,0.1,0.1,0.1,0.1,0.1,0.1,0.1,0.1,0.1,0.1,0.1,0.1,0.1,0.1,0.1,0.1],\"x\":{\"__ndarray__\":\"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\",\"dtype\":\"float32\",\"order\":\"little\",\"shape\":[800]},\"y\":{\"__ndarray__\":\"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\",\"dtype\":\"float32\",\"order\":\"little\",\"shape\":[800]}},\"selected\":{\"id\":\"1066\"},\"selection_policy\":{\"id\":\"1065\"}},\"id\":\"1003\",\"type\":\"ColumnDataSource\"},{\"attributes\":{},\"id\":\"1060\",\"type\":\"BasicTickFormatter\"},{\"attributes\":{\"text\":\"SNN clusters\"},\"id\":\"1005\",\"type\":\"Title\"},{\"attributes\":{\"overlay\":{\"id\":\"1037\"}},\"id\":\"1029\",\"type\":\"BoxZoomTool\"},{\"attributes\":{},\"id\":\"1063\",\"type\":\"BasicTickFormatter\"},{\"attributes\":{},\"id\":\"1066\",\"type\":\"Selection\"},{\"attributes\":{},\"id\":\"1030\",\"type\":\"UndoTool\"},{\"attributes\":{},\"id\":\"1065\",\"type\":\"UnionRenderers\"},{\"attributes\":{},\"id\":\"1016\",\"type\":\"BasicTicker\"},{\"attributes\":{},\"id\":\"1031\",\"type\":\"RedoTool\"},{\"attributes\":{},\"id\":\"1025\",\"type\":\"PanTool\"},{\"attributes\":{\"source\":{\"id\":\"1003\"}},\"id\":\"1057\",\"type\":\"CDSView\"},{\"attributes\":{},\"id\":\"1032\",\"type\":\"ResetTool\"},{\"attributes\":{},\"id\":\"1059\",\"type\":\"AllLabels\"},{\"attributes\":{},\"id\":\"1033\",\"type\":\"SaveTool\"}],\"root_ids\":[\"1004\"]},\"title\":\"Bokeh Application\",\"version\":\"2.3.3\"}};\n",
       "  var render_items = [{\"docid\":\"1b81e2a3-5093-43bc-a41b-2070fd0700ec\",\"root_ids\":[\"1004\"],\"roots\":{\"1004\":\"5afaa91e-e0c4-47a3-843e-fc174d5481df\"}}];\n",
       "  root.Bokeh.embed.embed_items_notebook(docs_json, render_items);\n",
       "\n",
       "  }\n",
       "  if (root.Bokeh !== undefined) {\n",
       "    embed_document(root);\n",
       "  } else {\n",
       "    var attempts = 0;\n",
       "    var timer = setInterval(function(root) {\n",
       "      if (root.Bokeh !== undefined) {\n",
       "        clearInterval(timer);\n",
       "        embed_document(root);\n",
       "      } else {\n",
       "        attempts++;\n",
       "        if (attempts > 100) {\n",
       "          clearInterval(timer);\n",
       "          console.log(\"Bokeh: ERROR: Unable to run BokehJS code because BokehJS library is missing\");\n",
       "        }\n",
       "      }\n",
       "    }, 10, root)\n",
       "  }\n",
       "})(window);"
      ],
      "application/vnd.bokehjs_exec.v0+json": ""
     },
     "metadata": {
      "application/vnd.bokehjs_exec.v0+json": {
       "id": "1004"
      }
     },
     "output_type": "display_data"
    },
    {
     "name": "stdout",
     "output_type": "stream",
     "text": [
      "doing differential expression analysis on the clusters\n",
      "running differential expression on 7 clusters\n",
      "running limmapy on the samples\n",
      "you need to have R installed with the limma library installed\n",
      "3.2.1\n",
      "done\n"
     ]
    },
    {
     "data": {
      "text/plain": [
       "<celligner.Celligner at 0x7fec429bc0f0>"
      ]
     },
     "execution_count": 39,
     "metadata": {},
     "output_type": "execute_result"
    }
   ],
   "source": [
    "my_alligner = Celligner(snn_kwargs={\"neighbor_num\": 30, \"min_shared_neighbor_proportion\": 1/15,}, make_plots=True)\n",
    "\n",
    "my_alligner.fit(TCGA_expression.iloc[:800], TCGA_annotation.iloc[:800])"
   ]
  },
  {
   "cell_type": "code",
   "execution_count": 50,
   "metadata": {
    "ExecuteTime": {
     "end_time": "2021-09-16T14:14:00.818361Z",
     "start_time": "2021-09-16T14:14:00.786698Z"
    }
   },
   "outputs": [
    {
     "data": {
      "text/plain": [
       "Index(['ENSG00000240041', 'ENSG00000206932', 'ENSG00000213700',\n",
       "       'ENSG00000157045', 'ENSG00000235595', 'ENSG00000091732',\n",
       "       'ENSG00000238001', 'ENSG00000153898', 'ENSG00000143630',\n",
       "       'ENSG00000231795',\n",
       "       ...\n",
       "       'ENSG00000050405', 'ENSG00000161642', 'ENSG00000253026',\n",
       "       'ENSG00000194717', 'ENSG00000241769', 'ENSG00000197461',\n",
       "       'ENSG00000256171', 'ENSG00000255329', 'ENSG00000104517',\n",
       "       'ENSG00000230448'],\n",
       "      dtype='object', length=33980)"
      ]
     },
     "execution_count": 50,
     "metadata": {},
     "output_type": "execute_result"
    }
   ],
   "source": [
    "my_alligner.common_genes"
   ]
  },
  {
   "cell_type": "code",
   "execution_count": 52,
   "metadata": {
    "ExecuteTime": {
     "end_time": "2021-09-16T14:25:54.329539Z",
     "start_time": "2021-09-16T14:25:54.277148Z"
    }
   },
   "outputs": [
    {
     "name": "stderr",
     "output_type": "stream",
     "text": [
      "[autoreload of celligner failed: Traceback (most recent call last):\n",
      "  File \"/home/jeremie/miniconda3/lib/python3.7/site-packages/IPython/extensions/autoreload.py\", line 245, in check\n",
      "    superreload(m, reload, self.old_objects)\n",
      "  File \"/home/jeremie/miniconda3/lib/python3.7/site-packages/IPython/extensions/autoreload.py\", line 394, in superreload\n",
      "    module = reload(module)\n",
      "  File \"/home/jeremie/miniconda3/lib/python3.7/imp.py\", line 314, in reload\n",
      "    return importlib.reload(module)\n",
      "  File \"/home/jeremie/miniconda3/lib/python3.7/importlib/__init__.py\", line 169, in reload\n",
      "    _bootstrap._exec(spec, module)\n",
      "  File \"<frozen importlib._bootstrap>\", line 630, in _exec\n",
      "  File \"<frozen importlib._bootstrap_external>\", line 724, in exec_module\n",
      "  File \"<frozen importlib._bootstrap_external>\", line 860, in get_code\n",
      "  File \"<frozen importlib._bootstrap_external>\", line 791, in source_to_code\n",
      "  File \"<frozen importlib._bootstrap>\", line 219, in _call_with_frames_removed\n",
      "  File \"/home/jeremie/celligner/celligner/__init__.py\", line 317\n",
      "    print('doing differential expression analysis on the clusters..')\n",
      "        ^\n",
      "SyntaxError: invalid syntax\n",
      "]\n"
     ]
    },
    {
     "data": {
      "text/plain": [
       "[0, 0, 0, 3]"
      ]
     },
     "execution_count": 52,
     "metadata": {},
     "output_type": "execute_result"
    }
   ],
   "source": [
    "[0]*3 + [3]*1"
   ]
  },
  {
   "cell_type": "code",
   "execution_count": 57,
   "metadata": {
    "ExecuteTime": {
     "end_time": "2021-09-16T14:29:20.244991Z",
     "start_time": "2021-09-16T14:29:20.212633Z"
    }
   },
   "outputs": [
    {
     "data": {
      "text/plain": [
       "(1600, 70)"
      ]
     },
     "execution_count": 57,
     "metadata": {},
     "output_type": "execute_result"
    }
   ],
   "source": [
    "np.vstack([my_alligner.fit_reduced,my_alligner.fit_reduced]).shape"
   ]
  },
  {
   "cell_type": "code",
   "execution_count": null,
   "metadata": {},
   "outputs": [],
   "source": [
    "centered_fit_input.loc[self.fit_clusters==val] = self.fit_input.loc[self.fit_clusters==val]\\\n",
    "        - self.fit_input.loc[self.fit_clusters==val].mean(axis=0)"
   ]
  },
  {
   "cell_type": "code",
   "execution_count": null,
   "metadata": {
    "ExecuteTime": {
     "start_time": "2021-09-16T20:59:53.264Z"
    },
    "scrolled": true
   },
   "outputs": [
    {
     "name": "stdout",
     "output_type": "stream",
     "text": [
      "looking at 800 samples.\n",
      "found 29593 common genes\n",
      "creating a transform input..\n",
      "reducing dimensionality...\n",
      "clustering..\n"
     ]
    },
    {
     "data": {
      "text/html": [
       "\n",
       "\n",
       "\n",
       "\n",
       "\n",
       "\n",
       "  <div class=\"bk-root\" id=\"b2a874b0-bc79-4ecf-a2bd-e5a6adfb49c9\" data-root-id=\"1421\"></div>\n"
      ]
     },
     "metadata": {},
     "output_type": "display_data"
    },
    {
     "data": {
      "application/javascript": [
       "(function(root) {\n",
       "  function embed_document(root) {\n",
       "    \n",
       "  var docs_json = {\"8ce37911-4f71-4ab9-80de-dfecbe1b5749\":{\"defs\":[],\"roots\":{\"references\":[{\"attributes\":{\"below\":[{\"id\":\"1432\"}],\"center\":[{\"id\":\"1435\"},{\"id\":\"1439\"}],\"left\":[{\"id\":\"1436\"}],\"output_backend\":\"svg\",\"renderers\":[{\"id\":\"1473\"}],\"title\":{\"id\":\"1422\"},\"toolbar\":{\"id\":\"1456\"},\"x_range\":{\"id\":\"1424\"},\"x_scale\":{\"id\":\"1428\"},\"y_range\":{\"id\":\"1426\"},\"y_scale\":{\"id\":\"1430\"}},\"id\":\"1421\",\"subtype\":\"Figure\",\"type\":\"Plot\"},{\"attributes\":{},\"id\":\"1428\",\"type\":\"LinearScale\"},{\"attributes\":{},\"id\":\"1518\",\"type\":\"UnionRenderers\"},{\"attributes\":{\"data\":{\"fill_alpha\":[0.8,0.8,0.8,0.8,0.8,0.8,0.8,0.8,0.8,0.8,0.8,0.8,0.8,0.8,0.8,0.8,0.8,0.8,0.8,0.8,0.8,0.8,0.8,0.8,0.8,0.8,0.8,0.8,0.8,0.8,0.8,0.8,0.8,0.8,0.8,0.8,0.8,0.8,0.8,0.8,0.8,0.8,0.8,0.8,0.8,0.8,0.8,0.8,0.8,0.8,0.8,0.8,0.8,0.8,0.8,0.8,0.8,0.8,0.8,0.8,0.8,0.8,0.8,0.8,0.8,0.8,0.8,0.8,0.8,0.8,0.8,0.8,0.8,0.8,0.8,0.8,0.8,0.8,0.8,0.8,0.8,0.8,0.8,0.8,0.8,0.8,0.8,0.8,0.8,0.8,0.8,0.8,0.8,0.8,0.8,0.8,0.8,0.8,0.8,0.8,0.8,0.8,0.8,0.8,0.8,0.8,0.8,0.8,0.8,0.8,0.8,0.8,0.8,0.8,0.8,0.8,0.8,0.8,0.8,0.8,0.8,0.8,0.8,0.8,0.8,0.8,0.8,0.8,0.8,0.8,0.8,0.8,0.8,0.8,0.8,0.8,0.8,0.8,0.8,0.8,0.8,0.8,0.8,0.8,0.8,0.8,0.8,0.8,0.8,0.8,0.8,0.8,0.8,0.8,0.8,0.8,0.8,0.8,0.8,0.8,0.8,0.8,0.8,0.8,0.8,0.8,0.8,0.8,0.8,0.8,0.8,0.8,0.8,0.8,0.8,0.8,0.8,0.8,0.8,0.8,0.8,0.8,0.8,0.8,0.8,0.8,0.8,0.8,0.8,0.8,0.8,0.8,0.8,0.8,0.8,0.8,0.8,0.8,0.8,0.8,0.8,0.8,0.8,0.8,0.8,0.8,0.8,0.8,0.8,0.8,0.8,0.8,0.8,0.8,0.8,0.8,0.8,0.8,0.8,0.8,0.8,0.8,0.8,0.8,0.8,0.8,0.8,0.8,0.8,0.8,0.8,0.8,0.8,0.8,0.8,0.8,0.8,0.8,0.8,0.8,0.8,0.8,0.8,0.8,0.8,0.8,0.8,0.8,0.8,0.8,0.8,0.8,0.8,0.8,0.8,0.8,0.8,0.8,0.8,0.8,0.8,0.8,0.8,0.8,0.8,0.8,0.8,0.8,0.8,0.8,0.8,0.8,0.8,0.8,0.8,0.8,0.8,0.8,0.8,0.8,0.8,0.8,0.8,0.8,0.8,0.8,0.8,0.8,0.8,0.8,0.8,0.8,0.8,0.8,0.8,0.8,0.8,0.8,0.8,0.8,0.8,0.8,0.8,0.8,0.8,0.8,0.8,0.8,0.8,0.8,0.8,0.8,0.8,0.8,0.8,0.8,0.8,0.8,0.8,0.8,0.8,0.8,0.8,0.8,0.8,0.8,0.8,0.8,0.8,0.8,0.8,0.8,0.8,0.8,0.8,0.8,0.8,0.8,0.8,0.8,0.8,0.8,0.8,0.8,0.8,0.8,0.8,0.8,0.8,0.8,0.8,0.8,0.8,0.8,0.8,0.8,0.8,0.8,0.8,0.8,0.8,0.8,0.8,0.8,0.8,0.8,0.8,0.8,0.8,0.8,0.8,0.8,0.8,0.8,0.8,0.8,0.8,0.8,0.8,0.8,0.8,0.8,0.8,0.8,0.8,0.8,0.8,0.8,0.8,0.8,0.8,0.8,0.8,0.8,0.8,0.8,0.8,0.8,0.8,0.8,0.8,0.8,0.8,0.8,0.8,0.8,0.8,0.8,0.8,0.8,0.8,0.8,0.8,0.8,0.8,0.8,0.8,0.8,0.8,0.8,0.8,0.8,0.8,0.8,0.8,0.8,0.8,0.8,0.8,0.8,0.8,0.8,0.8,0.8,0.8,0.8,0.8,0.8,0.8,0.8,0.8,0.8,0.8,0.8,0.8,0.8,0.8,0.8,0.8,0.8,0.8,0.8,0.8,0.8,0.8,0.8,0.8,0.8,0.8,0.8,0.8,0.8,0.8,0.8,0.8,0.8,0.8,0.8,0.8,0.8,0.8,0.8,0.8,0.8,0.8,0.8,0.8,0.8,0.8,0.8,0.8,0.8,0.8,0.8,0.8,0.8,0.8,0.8,0.8,0.8,0.8,0.8,0.8,0.8,0.8,0.8,0.8,0.8,0.8,0.8,0.8,0.8,0.8,0.8,0.8,0.8,0.8,0.8,0.8,0.8,0.8,0.8,0.8,0.8,0.8,0.8,0.8,0.8,0.8,0.8,0.8,0.8,0.8,0.8,0.8,0.8,0.8,0.8,0.8,0.8,0.8,0.8,0.8,0.8,0.8,0.8,0.8,0.8,0.8,0.8,0.8,0.8,0.8,0.8,0.8,0.8,0.8,0.8,0.8,0.8,0.8,0.8,0.8,0.8,0.8,0.8,0.8,0.8,0.8,0.8,0.8,0.8,0.8,0.8,0.8,0.8,0.8,0.8,0.8,0.8,0.8,0.8,0.8,0.8,0.8,0.8,0.8,0.8,0.8,0.8,0.8,0.8,0.8,0.8,0.8,0.8,0.8,0.8,0.8,0.8,0.8,0.8,0.8,0.8,0.8,0.8,0.8,0.8,0.8,0.8,0.8,0.8,0.8,0.8,0.8,0.8,0.8,0.8,0.8,0.8,0.8,0.8,0.8,0.8,0.8,0.8,0.8,0.8,0.8,0.8,0.8,0.8,0.8,0.8,0.8,0.8,0.8,0.8,0.8,0.8,0.8,0.8,0.8,0.8,0.8,0.8,0.8,0.8,0.8,0.8,0.8,0.8,0.8,0.8,0.8,0.8,0.8,0.8,0.8,0.8,0.8,0.8,0.8,0.8,0.8,0.8,0.8,0.8,0.8,0.8,0.8,0.8,0.8,0.8,0.8,0.8,0.8,0.8,0.8,0.8,0.8,0.8,0.8,0.8,0.8,0.8,0.8,0.8,0.8,0.8,0.8,0.8,0.8,0.8,0.8,0.8,0.8,0.8,0.8,0.8,0.8,0.8,0.8,0.8,0.8,0.8,0.8,0.8,0.8,0.8,0.8,0.8,0.8,0.8,0.8,0.8,0.8,0.8,0.8,0.8,0.8,0.8,0.8,0.8,0.8,0.8,0.8,0.8,0.8,0.8,0.8,0.8,0.8,0.8,0.8,0.8,0.8,0.8,0.8,0.8,0.8,0.8,0.8,0.8,0.8,0.8,0.8,0.8,0.8,0.8,0.8,0.8,0.8,0.8,0.8,0.8,0.8,0.8,0.8,0.8,0.8,0.8,0.8,0.8,0.8,0.8,0.8,0.8,0.8,0.8,0.8,0.8,0.8,0.8,0.8,0.8,0.8,0.8,0.8,0.8,0.8,0.8,0.8,0.8,0.8,0.8,0.8,0.8,0.8,0.8,0.8,0.8,0.8,0.8,0.8,0.8,0.8,0.8,0.8,0.8,0.8,0.8,0.8,0.8,0.8,0.8,0.8,0.8,0.8,0.8,0.6000000000000001,0.6000000000000001,0.6000000000000001,0.6000000000000001,0.6000000000000001,0.6000000000000001,0.6000000000000001,0.6000000000000001,0.6000000000000001,0.6000000000000001,0.6000000000000001,0.6000000000000001,0.6000000000000001,0.6000000000000001,0.6000000000000001,0.6000000000000001,0.6000000000000001,0.6000000000000001,0.6000000000000001,0.6000000000000001,0.6000000000000001,0.6000000000000001,0.6000000000000001,0.6000000000000001,0.6000000000000001,0.6000000000000001,0.6000000000000001,0.6000000000000001,0.6000000000000001,0.6000000000000001,0.6000000000000001,0.6000000000000001,0.6000000000000001,0.6000000000000001,0.6000000000000001,0.6000000000000001,0.6000000000000001,0.6000000000000001,0.6000000000000001,0.6000000000000001,0.6000000000000001,0.6000000000000001,0.6000000000000001,0.6000000000000001,0.6000000000000001,0.6000000000000001,0.6000000000000001,0.6000000000000001,0.6000000000000001,0.6000000000000001,0.6000000000000001,0.6000000000000001,0.6000000000000001,0.6000000000000001,0.6000000000000001,0.6000000000000001,0.6000000000000001,0.6000000000000001,0.6000000000000001,0.6000000000000001,0.6000000000000001,0.6000000000000001,0.6000000000000001,0.6000000000000001,0.6000000000000001,0.6000000000000001,0.6000000000000001,0.6000000000000001,0.6000000000000001,0.6000000000000001,0.6000000000000001,0.6000000000000001,0.6000000000000001,0.6000000000000001,0.6000000000000001,0.6000000000000001,0.6000000000000001,0.6000000000000001,0.6000000000000001,0.6000000000000001,0.6000000000000001,0.6000000000000001,0.6000000000000001,0.6000000000000001,0.6000000000000001,0.6000000000000001,0.6000000000000001,0.6000000000000001,0.6000000000000001,0.6000000000000001,0.6000000000000001,0.6000000000000001,0.6000000000000001,0.6000000000000001,0.6000000000000001,0.6000000000000001,0.6000000000000001,0.6000000000000001,0.6000000000000001,0.6000000000000001,0.6000000000000001,0.6000000000000001,0.6000000000000001,0.6000000000000001,0.6000000000000001,0.6000000000000001,0.6000000000000001,0.6000000000000001,0.6000000000000001,0.6000000000000001,0.6000000000000001,0.6000000000000001,0.6000000000000001,0.6000000000000001,0.6000000000000001,0.6000000000000001,0.6000000000000001,0.6000000000000001,0.6000000000000001,0.6000000000000001,0.6000000000000001,0.6000000000000001,0.6000000000000001,0.6000000000000001,0.6000000000000001,0.6000000000000001,0.6000000000000001,0.6000000000000001,0.6000000000000001,0.6000000000000001,0.6000000000000001,0.6000000000000001,0.6000000000000001,0.6000000000000001,0.6000000000000001,0.6000000000000001,0.6000000000000001,0.6000000000000001,0.6000000000000001,0.6000000000000001,0.6000000000000001,0.6000000000000001,0.6000000000000001,0.6000000000000001,0.6000000000000001,0.6000000000000001,0.6000000000000001,0.6000000000000001,0.6000000000000001,0.6000000000000001,0.6000000000000001,0.6000000000000001,0.6000000000000001,0.6000000000000001,0.6000000000000001,0.6000000000000001,0.6000000000000001,0.6000000000000001,0.6000000000000001,0.6000000000000001,0.6000000000000001,0.6000000000000001,0.6000000000000001,0.6000000000000001,0.6000000000000001,0.6000000000000001,0.6000000000000001,0.6000000000000001,0.6000000000000001,0.6000000000000001,0.6000000000000001,0.6000000000000001,0.6000000000000001,0.6000000000000001,0.6000000000000001,0.6000000000000001,0.6000000000000001,0.6000000000000001,0.6000000000000001,0.6000000000000001,0.6000000000000001,0.6000000000000001,0.6000000000000001,0.6000000000000001,0.6000000000000001,0.6000000000000001,0.6000000000000001,0.6000000000000001,0.6000000000000001,0.6000000000000001,0.6000000000000001,0.6000000000000001,0.6000000000000001,0.6000000000000001,0.6000000000000001,0.6000000000000001,0.6000000000000001,0.6000000000000001,0.6000000000000001,0.6000000000000001,0.6000000000000001,0.6000000000000001,0.6000000000000001,0.6000000000000001,0.6000000000000001,0.6000000000000001,0.6000000000000001,0.6000000000000001,0.6000000000000001,0.6000000000000001,0.6000000000000001,0.6000000000000001,0.6000000000000001,0.6000000000000001,0.6000000000000001,0.6000000000000001,0.6000000000000001,0.6000000000000001,0.6000000000000001,0.6000000000000001,0.6000000000000001,0.6000000000000001,0.6000000000000001,0.6000000000000001,0.6000000000000001,0.6000000000000001,0.6000000000000001,0.6000000000000001,0.6000000000000001,0.6000000000000001,0.6000000000000001,0.6000000000000001,0.6000000000000001,0.6000000000000001,0.6000000000000001,0.6000000000000001,0.6000000000000001,0.6000000000000001,0.6000000000000001,0.6000000000000001,0.6000000000000001,0.6000000000000001,0.6000000000000001,0.6000000000000001,0.6000000000000001,0.6000000000000001,0.6000000000000001,0.6000000000000001,0.6000000000000001,0.6000000000000001,0.6000000000000001,0.6000000000000001,0.6000000000000001,0.6000000000000001,0.6000000000000001,0.6000000000000001,0.6000000000000001,0.6000000000000001,0.6000000000000001,0.6000000000000001,0.6000000000000001,0.6000000000000001,0.6000000000000001,0.6000000000000001,0.6000000000000001,0.6000000000000001,0.6000000000000001,0.6000000000000001,0.6000000000000001,0.6000000000000001,0.6000000000000001,0.6000000000000001,0.6000000000000001,0.6000000000000001,0.6000000000000001,0.6000000000000001,0.6000000000000001,0.6000000000000001,0.6000000000000001,0.6000000000000001,0.6000000000000001,0.6000000000000001,0.6000000000000001,0.6000000000000001,0.6000000000000001,0.6000000000000001,0.6000000000000001,0.6000000000000001,0.6000000000000001,0.6000000000000001,0.6000000000000001,0.6000000000000001,0.6000000000000001,0.6000000000000001,0.6000000000000001,0.6000000000000001,0.6000000000000001,0.6000000000000001,0.6000000000000001,0.6000000000000001,0.6000000000000001,0.6000000000000001,0.6000000000000001,0.6000000000000001,0.6000000000000001,0.6000000000000001,0.6000000000000001,0.6000000000000001,0.6000000000000001,0.6000000000000001,0.6000000000000001,0.6000000000000001,0.6000000000000001,0.6000000000000001,0.6000000000000001,0.6000000000000001,0.6000000000000001,0.6000000000000001,0.6000000000000001,0.6000000000000001,0.6000000000000001,0.6000000000000001,0.6000000000000001,0.6000000000000001,0.6000000000000001,0.6000000000000001,0.6000000000000001,0.6000000000000001,0.6000000000000001,0.6000000000000001,0.6000000000000001,0.6000000000000001,0.6000000000000001,0.6000000000000001,0.6000000000000001,0.6000000000000001,0.6000000000000001,0.6000000000000001,0.6000000000000001,0.6000000000000001,0.6000000000000001,0.6000000000000001,0.6000000000000001,0.6000000000000001,0.6000000000000001,0.6000000000000001,0.6000000000000001,0.6000000000000001,0.6000000000000001,0.6000000000000001,0.6000000000000001,0.6000000000000001,0.6000000000000001,0.6000000000000001,0.6000000000000001,0.6000000000000001,0.6000000000000001,0.6000000000000001,0.6000000000000001,0.6000000000000001,0.6000000000000001,0.6000000000000001,0.6000000000000001,0.6000000000000001,0.6000000000000001,0.6000000000000001,0.6000000000000001,0.6000000000000001,0.6000000000000001,0.6000000000000001,0.6000000000000001,0.6000000000000001,0.6000000000000001,0.6000000000000001,0.6000000000000001,0.6000000000000001,0.6000000000000001,0.6000000000000001,0.6000000000000001,0.6000000000000001,0.6000000000000001,0.6000000000000001,0.6000000000000001,0.6000000000000001,0.6000000000000001,0.6000000000000001,0.6000000000000001,0.6000000000000001,0.6000000000000001,0.6000000000000001,0.6000000000000001,0.6000000000000001,0.6000000000000001,0.6000000000000001,0.6000000000000001,0.6000000000000001,0.6000000000000001,0.6000000000000001,0.6000000000000001,0.6000000000000001],\"fill_color\":[\"#440154\",\"#482172\",\"#423D84\",\"#482172\",\"#440154\",\"#38578C\",\"#423D84\",\"#38578C\",\"#38578C\",\"#482172\",\"#482172\",\"#482172\",\"#38578C\",\"#38578C\",\"#482172\",\"#38578C\",\"#38578C\",\"#482172\",\"#482172\",\"#482172\",\"#38578C\",\"#482172\",\"#482172\",\"#482172\",\"#482172\",\"#38578C\",\"#38578C\",\"#FDE724\",\"#482172\",\"#38578C\",\"#482172\",\"#38578C\",\"#38578C\",\"#38578C\",\"#482172\",\"#482172\",\"#423D84\",\"#38578C\",\"#38578C\",\"#440154\",\"#482172\",\"#38578C\",\"#482172\",\"#482172\",\"#440154\",\"#38578C\",\"#440154\",\"#423D84\",\"#38578C\",\"#38578C\",\"#482172\",\"#482172\",\"#423D84\",\"#38578C\",\"#38578C\",\"#FDE724\",\"#482172\",\"#423D84\",\"#FDE724\",\"#423D84\",\"#423D84\",\"#38578C\",\"#38578C\",\"#38578C\",\"#482172\",\"#482172\",\"#440154\",\"#482172\",\"#423D84\",\"#482172\",\"#38578C\",\"#482172\",\"#38578C\",\"#423D84\",\"#38578C\",\"#423D84\",\"#423D84\",\"#2D6E8E\",\"#423D84\",\"#2D6E8E\",\"#423D84\",\"#482172\",\"#38578C\",\"#38578C\",\"#423D84\",\"#482172\",\"#38578C\",\"#38578C\",\"#38578C\",\"#38578C\",\"#423D84\",\"#423D84\",\"#38578C\",\"#482172\",\"#482172\",\"#38578C\",\"#423D84\",\"#423D84\",\"#38578C\",\"#440154\",\"#423D84\",\"#423D84\",\"#440154\",\"#423D84\",\"#423D84\",\"#482172\",\"#482172\",\"#482172\",\"#38578C\",\"#38578C\",\"#423D84\",\"#482172\",\"#423D84\",\"#38578C\",\"#38578C\",\"#482172\",\"#423D84\",\"#38578C\",\"#482172\",\"#423D84\",\"#423D84\",\"#38578C\",\"#38578C\",\"#482172\",\"#440154\",\"#482172\",\"#440154\",\"#482172\",\"#38578C\",\"#482172\",\"#482172\",\"#38578C\",\"#423D84\",\"#482172\",\"#440154\",\"#482172\",\"#482172\",\"#38578C\",\"#38578C\",\"#38578C\",\"#482172\",\"#423D84\",\"#482172\",\"#38578C\",\"#38578C\",\"#482172\",\"#38578C\",\"#38578C\",\"#423D84\",\"#24848D\",\"#38578C\",\"#423D84\",\"#38578C\",\"#423D84\",\"#482172\",\"#38578C\",\"#38578C\",\"#482172\",\"#38578C\",\"#482172\",\"#38578C\",\"#482172\",\"#482172\",\"#482172\",\"#24848D\",\"#38578C\",\"#482172\",\"#482172\",\"#482172\",\"#FDE724\",\"#38578C\",\"#440154\",\"#440154\",\"#38578C\",\"#482172\",\"#482172\",\"#38578C\",\"#423D84\",\"#38578C\",\"#423D84\",\"#482172\",\"#423D84\",\"#482172\",\"#38578C\",\"#38578C\",\"#423D84\",\"#38578C\",\"#38578C\",\"#38578C\",\"#38578C\",\"#38578C\",\"#440154\",\"#24848D\",\"#24848D\",\"#440154\",\"#38578C\",\"#423D84\",\"#423D84\",\"#38578C\",\"#423D84\",\"#482172\",\"#440154\",\"#24848D\",\"#423D84\",\"#482172\",\"#423D84\",\"#38578C\",\"#423D84\",\"#482172\",\"#482172\",\"#423D84\",\"#482172\",\"#423D84\",\"#38578C\",\"#423D84\",\"#482172\",\"#482172\",\"#482172\",\"#423D84\",\"#482172\",\"#423D84\",\"#482172\",\"#423D84\",\"#423D84\",\"#482172\",\"#482172\",\"#423D84\",\"#38578C\",\"#38578C\",\"#423D84\",\"#38578C\",\"#423D84\",\"#38578C\",\"#440154\",\"#482172\",\"#482172\",\"#423D84\",\"#423D84\",\"#482172\",\"#24848D\",\"#482172\",\"#423D84\",\"#38578C\",\"#440154\",\"#482172\",\"#482172\",\"#482172\",\"#482172\",\"#482172\",\"#482172\",\"#440154\",\"#24848D\",\"#24848D\",\"#38578C\",\"#423D84\",\"#482172\",\"#38578C\",\"#482172\",\"#38578C\",\"#38578C\",\"#38578C\",\"#440154\",\"#38578C\",\"#423D84\",\"#38578C\",\"#38578C\",\"#38578C\",\"#482172\",\"#482172\",\"#482172\",\"#482172\",\"#482172\",\"#38578C\",\"#423D84\",\"#440154\",\"#24848D\",\"#38578C\",\"#38578C\",\"#423D84\",\"#38578C\",\"#440154\",\"#482172\",\"#38578C\",\"#482172\",\"#482172\",\"#482172\",\"#482172\",\"#482172\",\"#482172\",\"#38578C\",\"#38578C\",\"#440154\",\"#440154\",\"#423D84\",\"#423D84\",\"#423D84\",\"#482172\",\"#38578C\",\"#482172\",\"#482172\",\"#482172\",\"#440154\",\"#482172\",\"#440154\",\"#482172\",\"#482172\",\"#38578C\",\"#38578C\",\"#482172\",\"#482172\",\"#423D84\",\"#38578C\",\"#482172\",\"#24848D\",\"#38578C\",\"#38578C\",\"#38578C\",\"#482172\",\"#38578C\",\"#482172\",\"#423D84\",\"#423D84\",\"#38578C\",\"#38578C\",\"#38578C\",\"#440154\",\"#482172\",\"#24848D\",\"#38578C\",\"#482172\",\"#423D84\",\"#423D84\",\"#482172\",\"#482172\",\"#482172\",\"#423D84\",\"#38578C\",\"#423D84\",\"#38578C\",\"#482172\",\"#423D84\",\"#38578C\",\"#440154\",\"#482172\",\"#482172\",\"#38578C\",\"#38578C\",\"#440154\",\"#38578C\",\"#38578C\",\"#38578C\",\"#38578C\",\"#38578C\",\"#482172\",\"#423D84\",\"#423D84\",\"#482172\",\"#423D84\",\"#38578C\",\"#482172\",\"#38578C\",\"#482172\",\"#38578C\",\"#38578C\",\"#423D84\",\"#482172\",\"#482172\",\"#482172\",\"#440154\",\"#423D84\",\"#482172\",\"#482172\",\"#482172\",\"#482172\",\"#38578C\",\"#38578C\",\"#38578C\",\"#482172\",\"#38578C\",\"#38578C\",\"#38578C\",\"#482172\",\"#423D84\",\"#423D84\",\"#440154\",\"#423D84\",\"#38578C\",\"#423D84\",\"#482172\",\"#482172\",\"#38578C\",\"#FDE724\",\"#423D84\",\"#38578C\",\"#423D84\",\"#440154\",\"#423D84\",\"#482172\",\"#482172\",\"#24848D\",\"#482172\",\"#38578C\",\"#38578C\",\"#482172\",\"#482172\",\"#440154\",\"#423D84\",\"#38578C\",\"#38578C\",\"#38578C\",\"#482172\",\"#38578C\",\"#482172\",\"#482172\",\"#440154\",\"#38578C\",\"#482172\",\"#440154\",\"#482172\",\"#482172\",\"#38578C\",\"#482172\",\"#440154\",\"#24848D\",\"#482172\",\"#24848D\",\"#38578C\",\"#440154\",\"#482172\",\"#423D84\",\"#482172\",\"#423D84\",\"#38578C\",\"#38578C\",\"#423D84\",\"#423D84\",\"#38578C\",\"#482172\",\"#FDE724\",\"#482172\",\"#482172\",\"#482172\",\"#423D84\",\"#423D84\",\"#482172\",\"#482172\",\"#24848D\",\"#440154\",\"#482172\",\"#482172\",\"#FDE724\",\"#38578C\",\"#FDE724\",\"#423D84\",\"#423D84\",\"#482172\",\"#38578C\",\"#FDE724\",\"#24848D\",\"#423D84\",\"#38578C\",\"#482172\",\"#482172\",\"#423D84\",\"#482172\",\"#482172\",\"#482172\",\"#440154\",\"#38578C\",\"#38578C\",\"#423D84\",\"#482172\",\"#482172\",\"#482172\",\"#423D84\",\"#38578C\",\"#38578C\",\"#38578C\",\"#482172\",\"#423D84\",\"#38578C\",\"#482172\",\"#38578C\",\"#482172\",\"#423D84\",\"#482172\",\"#482172\",\"#38578C\",\"#24848D\",\"#423D84\",\"#24848D\",\"#38578C\",\"#482172\",\"#423D84\",\"#38578C\",\"#423D84\",\"#482172\",\"#38578C\",\"#24848D\",\"#482172\",\"#482172\",\"#38578C\",\"#482172\",\"#440154\",\"#482172\",\"#440154\",\"#482172\",\"#482172\",\"#440154\",\"#423D84\",\"#38578C\",\"#423D84\",\"#482172\",\"#38578C\",\"#482172\",\"#38578C\",\"#423D84\",\"#38578C\",\"#440154\",\"#38578C\",\"#423D84\",\"#423D84\",\"#482172\",\"#423D84\",\"#482172\",\"#423D84\",\"#482172\",\"#440154\",\"#38578C\",\"#423D84\",\"#482172\",\"#423D84\",\"#482172\",\"#38578C\",\"#482172\",\"#423D84\",\"#24848D\",\"#38578C\",\"#38578C\",\"#423D84\",\"#440154\",\"#482172\",\"#423D84\",\"#482172\",\"#38578C\",\"#423D84\",\"#38578C\",\"#423D84\",\"#423D84\",\"#423D84\",\"#423D84\",\"#482172\",\"#38578C\",\"#482172\",\"#38578C\",\"#38578C\",\"#38578C\",\"#423D84\",\"#423D84\",\"#423D84\",\"#482172\",\"#482172\",\"#440154\",\"#38578C\",\"#38578C\",\"#38578C\",\"#482172\",\"#482172\",\"#FDE724\",\"#24848D\",\"#482172\",\"#24848D\",\"#423D84\",\"#482172\",\"#482172\",\"#423D84\",\"#24848D\",\"#2D6E8E\",\"#482172\",\"#482172\",\"#423D84\",\"#38578C\",\"#423D84\",\"#482172\",\"#38578C\",\"#482172\",\"#423D84\",\"#38578C\",\"#482172\",\"#440154\",\"#423D84\",\"#38578C\",\"#423D84\",\"#38578C\",\"#FDE724\",\"#423D84\",\"#38578C\",\"#482172\",\"#38578C\",\"#38578C\",\"#38578C\",\"#423D84\",\"#423D84\",\"#423D84\",\"#440154\",\"#38578C\",\"#38578C\",\"#38578C\",\"#38578C\",\"#38578C\",\"#38578C\",\"#482172\",\"#482172\",\"#38578C\",\"#423D84\",\"#440154\",\"#482172\",\"#482172\",\"#482172\",\"#24848D\",\"#38578C\",\"#482172\",\"#482172\",\"#482172\",\"#423D84\",\"#482172\",\"#482172\",\"#38578C\",\"#423D84\",\"#482172\",\"#38578C\",\"#423D84\",\"#482172\",\"#482172\",\"#482172\",\"#38578C\",\"#38578C\",\"#423D84\",\"#440154\",\"#38578C\",\"#38578C\",\"#482172\",\"#423D84\",\"#38578C\",\"#482172\",\"#482172\",\"#423D84\",\"#38578C\",\"#38578C\",\"#482172\",\"#482172\",\"#38578C\",\"#482172\",\"#482172\",\"#440154\",\"#482172\",\"#38578C\",\"#482172\",\"#38578C\",\"#38578C\",\"#38578C\",\"#38578C\",\"#423D84\",\"#482172\",\"#423D84\",\"#423D84\",\"#482172\",\"#38578C\",\"#482172\",\"#38578C\",\"#482172\",\"#24848D\",\"#482172\",\"#38578C\",\"#482172\",\"#38578C\",\"#482172\",\"#38578C\",\"#482172\",\"#482172\",\"#482172\",\"#482172\",\"#423D84\",\"#482172\",\"#482172\",\"#482172\",\"#482172\",\"#482172\",\"#482172\",\"#38578C\",\"#482172\",\"#38578C\",\"#482172\",\"#38578C\",\"#482172\",\"#440154\",\"#38578C\",\"#38578C\",\"#482172\",\"#38578C\",\"#423D84\",\"#482172\",\"#440154\",\"#440154\",\"#423D84\",\"#440154\",\"#482172\",\"#38578C\",\"#38578C\",\"#440154\",\"#440154\",\"#423D84\",\"#24848D\",\"#38578C\",\"#482172\",\"#482172\",\"#423D84\",\"#423D84\",\"#482172\",\"#482172\",\"#423D84\",\"#482172\",\"#38578C\",\"#482172\",\"#FDE724\",\"#423D84\",\"#482172\",\"#440154\",\"#482172\",\"#482172\",\"#423D84\",\"#38578C\",\"#38578C\",\"#440154\",\"#440154\",\"#440154\",\"#38578C\",\"#423D84\",\"#423D84\",\"#423D84\",\"#423D84\",\"#423D84\",\"#423D84\",\"#423D84\",\"#423D84\",\"#423D84\",\"#482172\",\"#423D84\",\"#482172\",\"#440154\",\"#38578C\",\"#24848D\",\"#482172\",\"#38578C\",\"#482172\",\"#38578C\",\"#38578C\",\"#482172\",\"#482172\",\"#38578C\",\"#423D84\",\"#38578C\",\"#423D84\",\"#482172\",\"#423D84\",\"#38578C\",\"#482172\",\"#423D84\",\"#482172\",\"#423D84\",\"#423D84\",\"#482172\",\"#24848D\",\"#423D84\",\"#38578C\",\"#482172\",\"#423D84\",\"#38578C\",\"#24848D\",\"#440154\",\"#482172\",\"#423D84\",\"#24848D\",\"#38578C\",\"#38578C\",\"#482172\",\"#24848D\",\"#24848D\",\"#38578C\",\"#38578C\",\"#38578C\",\"#24848D\",\"#38578C\",\"#482172\",\"#482172\",\"#482172\",\"#482172\",\"#423D84\",\"#38578C\",\"#440154\",\"#2AB07E\",\"#2AB07E\",\"#2AB07E\",\"#2AB07E\",\"#2AB07E\",\"#2AB07E\",\"#2AB07E\",\"#4FC369\",\"#2AB07E\",\"#2AB07E\",\"#2AB07E\",\"#2AB07E\",\"#2AB07E\",\"#2AB07E\",\"#4FC369\",\"#2AB07E\",\"#2AB07E\",\"#2AB07E\",\"#2AB07E\",\"#2AB07E\",\"#2AB07E\",\"#2AB07E\",\"#2AB07E\",\"#2AB07E\",\"#2AB07E\",\"#2AB07E\",\"#2AB07E\",\"#2AB07E\",\"#2AB07E\",\"#2AB07E\",\"#2AB07E\",\"#2AB07E\",\"#2AB07E\",\"#2AB07E\",\"#2AB07E\",\"#2AB07E\",\"#4FC369\",\"#2AB07E\",\"#2AB07E\",\"#2AB07E\",\"#4FC369\",\"#2AB07E\",\"#1E9A89\",\"#4FC369\",\"#2AB07E\",\"#2AB07E\",\"#2AB07E\",\"#2AB07E\",\"#2AB07E\",\"#2AB07E\",\"#2AB07E\",\"#2AB07E\",\"#4FC369\",\"#2AB07E\",\"#2AB07E\",\"#2AB07E\",\"#2AB07E\",\"#2AB07E\",\"#2AB07E\",\"#4FC369\",\"#2AB07E\",\"#2AB07E\",\"#2AB07E\",\"#2AB07E\",\"#2AB07E\",\"#2AB07E\",\"#4FC369\",\"#2AB07E\",\"#2AB07E\",\"#2AB07E\",\"#2AB07E\",\"#2AB07E\",\"#2AB07E\",\"#2AB07E\",\"#2AB07E\",\"#4FC369\",\"#2AB07E\",\"#2AB07E\",\"#2AB07E\",\"#2AB07E\",\"#2AB07E\",\"#2AB07E\",\"#2AB07E\",\"#4FC369\",\"#2AB07E\",\"#2AB07E\",\"#2AB07E\",\"#2AB07E\",\"#2AB07E\",\"#2AB07E\",\"#2AB07E\",\"#2AB07E\",\"#2AB07E\",\"#2AB07E\",\"#2AB07E\",\"#2AB07E\",\"#2AB07E\",\"#2AB07E\",\"#2AB07E\",\"#2AB07E\",\"#2AB07E\",\"#4FC369\",\"#2AB07E\",\"#2AB07E\",\"#2AB07E\",\"#2AB07E\",\"#2AB07E\",\"#2AB07E\",\"#2AB07E\",\"#2AB07E\",\"#2AB07E\",\"#2AB07E\",\"#2AB07E\",\"#2AB07E\",\"#4FC369\",\"#2AB07E\",\"#2AB07E\",\"#2AB07E\",\"#2AB07E\",\"#2AB07E\",\"#2AB07E\",\"#2AB07E\",\"#2AB07E\",\"#2AB07E\",\"#2AB07E\",\"#2AB07E\",\"#2AB07E\",\"#2AB07E\",\"#2AB07E\",\"#2AB07E\",\"#4FC369\",\"#4FC369\",\"#2AB07E\",\"#2AB07E\",\"#4FC369\",\"#2AB07E\",\"#2AB07E\",\"#2AB07E\",\"#2AB07E\",\"#2AB07E\",\"#2AB07E\",\"#2AB07E\",\"#2AB07E\",\"#2AB07E\",\"#4FC369\",\"#2AB07E\",\"#4FC369\",\"#2AB07E\",\"#2AB07E\",\"#2AB07E\",\"#2AB07E\",\"#4FC369\",\"#2AB07E\",\"#2AB07E\",\"#2AB07E\",\"#1E9A89\",\"#2AB07E\",\"#2AB07E\",\"#2AB07E\",\"#2AB07E\",\"#2AB07E\",\"#2AB07E\",\"#2AB07E\",\"#2AB07E\",\"#2AB07E\",\"#2AB07E\",\"#2AB07E\",\"#2AB07E\",\"#4FC369\",\"#4FC369\",\"#2AB07E\",\"#2AB07E\",\"#2AB07E\",\"#2AB07E\",\"#2AB07E\",\"#2AB07E\",\"#2AB07E\",\"#2AB07E\",\"#2AB07E\",\"#2AB07E\",\"#4FC369\",\"#2AB07E\",\"#2AB07E\",\"#2AB07E\",\"#2AB07E\",\"#2AB07E\",\"#4FC369\",\"#2AB07E\",\"#2AB07E\",\"#2AB07E\",\"#2AB07E\",\"#2AB07E\",\"#2AB07E\",\"#2AB07E\",\"#2AB07E\",\"#2AB07E\",\"#2AB07E\",\"#2AB07E\",\"#2AB07E\",\"#2AB07E\",\"#2AB07E\",\"#2AB07E\",\"#2AB07E\",\"#2AB07E\",\"#4FC369\",\"#2AB07E\",\"#2AB07E\",\"#2AB07E\",\"#2AB07E\",\"#4FC369\",\"#2AB07E\",\"#2AB07E\",\"#2AB07E\",\"#2AB07E\",\"#2AB07E\",\"#4FC369\",\"#2AB07E\",\"#2AB07E\",\"#83D34B\",\"#4FC369\",\"#4FC369\",\"#2AB07E\",\"#2AB07E\",\"#2AB07E\",\"#1E9A89\",\"#4FC369\",\"#4FC369\",\"#2AB07E\",\"#4FC369\",\"#2AB07E\",\"#2AB07E\",\"#4FC369\",\"#2AB07E\",\"#2AB07E\",\"#4FC369\",\"#2AB07E\",\"#2AB07E\",\"#2AB07E\",\"#2AB07E\",\"#2AB07E\",\"#2AB07E\",\"#2AB07E\",\"#2AB07E\",\"#2AB07E\",\"#2AB07E\",\"#2AB07E\",\"#2AB07E\",\"#2AB07E\",\"#2AB07E\",\"#2AB07E\",\"#2AB07E\",\"#2AB07E\",\"#2AB07E\",\"#2AB07E\",\"#2AB07E\",\"#2AB07E\",\"#4FC369\",\"#2AB07E\",\"#2AB07E\",\"#2AB07E\",\"#2AB07E\",\"#2AB07E\",\"#2AB07E\",\"#2AB07E\",\"#4FC369\",\"#4FC369\",\"#2AB07E\",\"#2AB07E\",\"#4FC369\",\"#2AB07E\",\"#2AB07E\",\"#2AB07E\",\"#2AB07E\",\"#2AB07E\",\"#4FC369\",\"#2AB07E\",\"#4FC369\",\"#2AB07E\",\"#2AB07E\",\"#4FC369\",\"#2AB07E\",\"#2AB07E\",\"#2AB07E\",\"#2AB07E\",\"#2AB07E\",\"#2AB07E\",\"#2AB07E\",\"#2AB07E\",\"#2AB07E\",\"#2AB07E\",\"#BFDF24\",\"#4FC369\",\"#2AB07E\",\"#2AB07E\",\"#2AB07E\",\"#2AB07E\",\"#2AB07E\",\"#2AB07E\",\"#2AB07E\",\"#2AB07E\",\"#2AB07E\",\"#4FC369\",\"#2AB07E\",\"#2AB07E\",\"#2AB07E\",\"#4FC369\",\"#4FC369\",\"#2AB07E\",\"#2AB07E\",\"#2AB07E\",\"#4FC369\",\"#2AB07E\",\"#2AB07E\",\"#2AB07E\",\"#2AB07E\",\"#2AB07E\",\"#83D34B\",\"#2AB07E\",\"#4FC369\",\"#4FC369\",\"#2AB07E\",\"#2AB07E\",\"#2AB07E\",\"#1E9A89\",\"#BFDF24\",\"#2AB07E\",\"#2AB07E\",\"#4FC369\",\"#2AB07E\",\"#2AB07E\",\"#2AB07E\",\"#2AB07E\",\"#4FC369\",\"#2AB07E\",\"#2AB07E\",\"#2AB07E\",\"#2AB07E\",\"#2AB07E\",\"#2AB07E\",\"#2AB07E\",\"#2AB07E\",\"#4FC369\",\"#4FC369\",\"#4FC369\",\"#2AB07E\",\"#4FC369\",\"#2AB07E\",\"#2AB07E\",\"#2AB07E\",\"#4FC369\",\"#2AB07E\",\"#4FC369\",\"#2AB07E\",\"#2AB07E\",\"#2AB07E\",\"#2AB07E\",\"#83D34B\",\"#2AB07E\",\"#2AB07E\",\"#2AB07E\",\"#2AB07E\",\"#2AB07E\",\"#1E9A89\",\"#4FC369\",\"#2AB07E\",\"#2AB07E\",\"#2AB07E\",\"#2AB07E\",\"#2AB07E\",\"#2AB07E\",\"#4FC369\",\"#2AB07E\",\"#2AB07E\",\"#2AB07E\",\"#2AB07E\",\"#2AB07E\",\"#4FC369\",\"#2AB07E\",\"#2AB07E\",\"#2AB07E\",\"#2AB07E\",\"#2AB07E\",\"#4FC369\",\"#2AB07E\",\"#4FC369\",\"#2AB07E\",\"#2AB07E\",\"#2AB07E\",\"#2AB07E\",\"#2AB07E\",\"#2AB07E\",\"#2AB07E\",\"#2AB07E\",\"#4FC369\",\"#2AB07E\",\"#2AB07E\",\"#2AB07E\",\"#2AB07E\",\"#2AB07E\",\"#2AB07E\"],\"labels\":[\"fit_C0\",\"fit_C1\",\"fit_C2\",\"fit_C1\",\"fit_C0\",\"fit_C3\",\"fit_C2\",\"fit_C3\",\"fit_C3\",\"fit_C1\",\"fit_C1\",\"fit_C1\",\"fit_C3\",\"fit_C3\",\"fit_C1\",\"fit_C3\",\"fit_C3\",\"fit_C1\",\"fit_C1\",\"fit_C1\",\"fit_C3\",\"fit_C1\",\"fit_C1\",\"fit_C1\",\"fit_C1\",\"fit_C3\",\"fit_C3\",\"fit_C-1\",\"fit_C1\",\"fit_C3\",\"fit_C1\",\"fit_C3\",\"fit_C3\",\"fit_C3\",\"fit_C1\",\"fit_C1\",\"fit_C2\",\"fit_C3\",\"fit_C3\",\"fit_C0\",\"fit_C1\",\"fit_C3\",\"fit_C1\",\"fit_C1\",\"fit_C0\",\"fit_C3\",\"fit_C0\",\"fit_C2\",\"fit_C3\",\"fit_C3\",\"fit_C1\",\"fit_C1\",\"fit_C2\",\"fit_C3\",\"fit_C3\",\"fit_C-1\",\"fit_C1\",\"fit_C2\",\"fit_C-1\",\"fit_C2\",\"fit_C2\",\"fit_C3\",\"fit_C3\",\"fit_C3\",\"fit_C1\",\"fit_C1\",\"fit_C0\",\"fit_C1\",\"fit_C2\",\"fit_C1\",\"fit_C3\",\"fit_C1\",\"fit_C3\",\"fit_C2\",\"fit_C3\",\"fit_C2\",\"fit_C2\",\"fit_C4\",\"fit_C2\",\"fit_C4\",\"fit_C2\",\"fit_C1\",\"fit_C3\",\"fit_C3\",\"fit_C2\",\"fit_C1\",\"fit_C3\",\"fit_C3\",\"fit_C3\",\"fit_C3\",\"fit_C2\",\"fit_C2\",\"fit_C3\",\"fit_C1\",\"fit_C1\",\"fit_C3\",\"fit_C2\",\"fit_C2\",\"fit_C3\",\"fit_C0\",\"fit_C2\",\"fit_C2\",\"fit_C0\",\"fit_C2\",\"fit_C2\",\"fit_C1\",\"fit_C1\",\"fit_C1\",\"fit_C3\",\"fit_C3\",\"fit_C2\",\"fit_C1\",\"fit_C2\",\"fit_C3\",\"fit_C3\",\"fit_C1\",\"fit_C2\",\"fit_C3\",\"fit_C1\",\"fit_C2\",\"fit_C2\",\"fit_C3\",\"fit_C3\",\"fit_C1\",\"fit_C0\",\"fit_C1\",\"fit_C0\",\"fit_C1\",\"fit_C3\",\"fit_C1\",\"fit_C1\",\"fit_C3\",\"fit_C2\",\"fit_C1\",\"fit_C0\",\"fit_C1\",\"fit_C1\",\"fit_C3\",\"fit_C3\",\"fit_C3\",\"fit_C1\",\"fit_C2\",\"fit_C1\",\"fit_C3\",\"fit_C3\",\"fit_C1\",\"fit_C3\",\"fit_C3\",\"fit_C2\",\"fit_C5\",\"fit_C3\",\"fit_C2\",\"fit_C3\",\"fit_C2\",\"fit_C1\",\"fit_C3\",\"fit_C3\",\"fit_C1\",\"fit_C3\",\"fit_C1\",\"fit_C3\",\"fit_C1\",\"fit_C1\",\"fit_C1\",\"fit_C5\",\"fit_C3\",\"fit_C1\",\"fit_C1\",\"fit_C1\",\"fit_C-1\",\"fit_C3\",\"fit_C0\",\"fit_C0\",\"fit_C3\",\"fit_C1\",\"fit_C1\",\"fit_C3\",\"fit_C2\",\"fit_C3\",\"fit_C2\",\"fit_C1\",\"fit_C2\",\"fit_C1\",\"fit_C3\",\"fit_C3\",\"fit_C2\",\"fit_C3\",\"fit_C3\",\"fit_C3\",\"fit_C3\",\"fit_C3\",\"fit_C0\",\"fit_C5\",\"fit_C5\",\"fit_C0\",\"fit_C3\",\"fit_C2\",\"fit_C2\",\"fit_C3\",\"fit_C2\",\"fit_C1\",\"fit_C0\",\"fit_C5\",\"fit_C2\",\"fit_C1\",\"fit_C2\",\"fit_C3\",\"fit_C2\",\"fit_C1\",\"fit_C1\",\"fit_C2\",\"fit_C1\",\"fit_C2\",\"fit_C3\",\"fit_C2\",\"fit_C1\",\"fit_C1\",\"fit_C1\",\"fit_C2\",\"fit_C1\",\"fit_C2\",\"fit_C1\",\"fit_C2\",\"fit_C2\",\"fit_C1\",\"fit_C1\",\"fit_C2\",\"fit_C3\",\"fit_C3\",\"fit_C2\",\"fit_C3\",\"fit_C2\",\"fit_C3\",\"fit_C0\",\"fit_C1\",\"fit_C1\",\"fit_C2\",\"fit_C2\",\"fit_C1\",\"fit_C5\",\"fit_C1\",\"fit_C2\",\"fit_C3\",\"fit_C0\",\"fit_C1\",\"fit_C1\",\"fit_C1\",\"fit_C1\",\"fit_C1\",\"fit_C1\",\"fit_C0\",\"fit_C5\",\"fit_C5\",\"fit_C3\",\"fit_C2\",\"fit_C1\",\"fit_C3\",\"fit_C1\",\"fit_C3\",\"fit_C3\",\"fit_C3\",\"fit_C0\",\"fit_C3\",\"fit_C2\",\"fit_C3\",\"fit_C3\",\"fit_C3\",\"fit_C1\",\"fit_C1\",\"fit_C1\",\"fit_C1\",\"fit_C1\",\"fit_C3\",\"fit_C2\",\"fit_C0\",\"fit_C5\",\"fit_C3\",\"fit_C3\",\"fit_C2\",\"fit_C3\",\"fit_C0\",\"fit_C1\",\"fit_C3\",\"fit_C1\",\"fit_C1\",\"fit_C1\",\"fit_C1\",\"fit_C1\",\"fit_C1\",\"fit_C3\",\"fit_C3\",\"fit_C0\",\"fit_C0\",\"fit_C2\",\"fit_C2\",\"fit_C2\",\"fit_C1\",\"fit_C3\",\"fit_C1\",\"fit_C1\",\"fit_C1\",\"fit_C0\",\"fit_C1\",\"fit_C0\",\"fit_C1\",\"fit_C1\",\"fit_C3\",\"fit_C3\",\"fit_C1\",\"fit_C1\",\"fit_C2\",\"fit_C3\",\"fit_C1\",\"fit_C5\",\"fit_C3\",\"fit_C3\",\"fit_C3\",\"fit_C1\",\"fit_C3\",\"fit_C1\",\"fit_C2\",\"fit_C2\",\"fit_C3\",\"fit_C3\",\"fit_C3\",\"fit_C0\",\"fit_C1\",\"fit_C5\",\"fit_C3\",\"fit_C1\",\"fit_C2\",\"fit_C2\",\"fit_C1\",\"fit_C1\",\"fit_C1\",\"fit_C2\",\"fit_C3\",\"fit_C2\",\"fit_C3\",\"fit_C1\",\"fit_C2\",\"fit_C3\",\"fit_C0\",\"fit_C1\",\"fit_C1\",\"fit_C3\",\"fit_C3\",\"fit_C0\",\"fit_C3\",\"fit_C3\",\"fit_C3\",\"fit_C3\",\"fit_C3\",\"fit_C1\",\"fit_C2\",\"fit_C2\",\"fit_C1\",\"fit_C2\",\"fit_C3\",\"fit_C1\",\"fit_C3\",\"fit_C1\",\"fit_C3\",\"fit_C3\",\"fit_C2\",\"fit_C1\",\"fit_C1\",\"fit_C1\",\"fit_C0\",\"fit_C2\",\"fit_C1\",\"fit_C1\",\"fit_C1\",\"fit_C1\",\"fit_C3\",\"fit_C3\",\"fit_C3\",\"fit_C1\",\"fit_C3\",\"fit_C3\",\"fit_C3\",\"fit_C1\",\"fit_C2\",\"fit_C2\",\"fit_C0\",\"fit_C2\",\"fit_C3\",\"fit_C2\",\"fit_C1\",\"fit_C1\",\"fit_C3\",\"fit_C-1\",\"fit_C2\",\"fit_C3\",\"fit_C2\",\"fit_C0\",\"fit_C2\",\"fit_C1\",\"fit_C1\",\"fit_C5\",\"fit_C1\",\"fit_C3\",\"fit_C3\",\"fit_C1\",\"fit_C1\",\"fit_C0\",\"fit_C2\",\"fit_C3\",\"fit_C3\",\"fit_C3\",\"fit_C1\",\"fit_C3\",\"fit_C1\",\"fit_C1\",\"fit_C0\",\"fit_C3\",\"fit_C1\",\"fit_C0\",\"fit_C1\",\"fit_C1\",\"fit_C3\",\"fit_C1\",\"fit_C0\",\"fit_C5\",\"fit_C1\",\"fit_C5\",\"fit_C3\",\"fit_C0\",\"fit_C1\",\"fit_C2\",\"fit_C1\",\"fit_C2\",\"fit_C3\",\"fit_C3\",\"fit_C2\",\"fit_C2\",\"fit_C3\",\"fit_C1\",\"fit_C-1\",\"fit_C1\",\"fit_C1\",\"fit_C1\",\"fit_C2\",\"fit_C2\",\"fit_C1\",\"fit_C1\",\"fit_C5\",\"fit_C0\",\"fit_C1\",\"fit_C1\",\"fit_C-1\",\"fit_C3\",\"fit_C-1\",\"fit_C2\",\"fit_C2\",\"fit_C1\",\"fit_C3\",\"fit_C-1\",\"fit_C5\",\"fit_C2\",\"fit_C3\",\"fit_C1\",\"fit_C1\",\"fit_C2\",\"fit_C1\",\"fit_C1\",\"fit_C1\",\"fit_C0\",\"fit_C3\",\"fit_C3\",\"fit_C2\",\"fit_C1\",\"fit_C1\",\"fit_C1\",\"fit_C2\",\"fit_C3\",\"fit_C3\",\"fit_C3\",\"fit_C1\",\"fit_C2\",\"fit_C3\",\"fit_C1\",\"fit_C3\",\"fit_C1\",\"fit_C2\",\"fit_C1\",\"fit_C1\",\"fit_C3\",\"fit_C5\",\"fit_C2\",\"fit_C5\",\"fit_C3\",\"fit_C1\",\"fit_C2\",\"fit_C3\",\"fit_C2\",\"fit_C1\",\"fit_C3\",\"fit_C5\",\"fit_C1\",\"fit_C1\",\"fit_C3\",\"fit_C1\",\"fit_C0\",\"fit_C1\",\"fit_C0\",\"fit_C1\",\"fit_C1\",\"fit_C0\",\"fit_C2\",\"fit_C3\",\"fit_C2\",\"fit_C1\",\"fit_C3\",\"fit_C1\",\"fit_C3\",\"fit_C2\",\"fit_C3\",\"fit_C0\",\"fit_C3\",\"fit_C2\",\"fit_C2\",\"fit_C1\",\"fit_C2\",\"fit_C1\",\"fit_C2\",\"fit_C1\",\"fit_C0\",\"fit_C3\",\"fit_C2\",\"fit_C1\",\"fit_C2\",\"fit_C1\",\"fit_C3\",\"fit_C1\",\"fit_C2\",\"fit_C5\",\"fit_C3\",\"fit_C3\",\"fit_C2\",\"fit_C0\",\"fit_C1\",\"fit_C2\",\"fit_C1\",\"fit_C3\",\"fit_C2\",\"fit_C3\",\"fit_C2\",\"fit_C2\",\"fit_C2\",\"fit_C2\",\"fit_C1\",\"fit_C3\",\"fit_C1\",\"fit_C3\",\"fit_C3\",\"fit_C3\",\"fit_C2\",\"fit_C2\",\"fit_C2\",\"fit_C1\",\"fit_C1\",\"fit_C0\",\"fit_C3\",\"fit_C3\",\"fit_C3\",\"fit_C1\",\"fit_C1\",\"fit_C-1\",\"fit_C5\",\"fit_C1\",\"fit_C5\",\"fit_C2\",\"fit_C1\",\"fit_C1\",\"fit_C2\",\"fit_C5\",\"fit_C4\",\"fit_C1\",\"fit_C1\",\"fit_C2\",\"fit_C3\",\"fit_C2\",\"fit_C1\",\"fit_C3\",\"fit_C1\",\"fit_C2\",\"fit_C3\",\"fit_C1\",\"fit_C0\",\"fit_C2\",\"fit_C3\",\"fit_C2\",\"fit_C3\",\"fit_C-1\",\"fit_C2\",\"fit_C3\",\"fit_C1\",\"fit_C3\",\"fit_C3\",\"fit_C3\",\"fit_C2\",\"fit_C2\",\"fit_C2\",\"fit_C0\",\"fit_C3\",\"fit_C3\",\"fit_C3\",\"fit_C3\",\"fit_C3\",\"fit_C3\",\"fit_C1\",\"fit_C1\",\"fit_C3\",\"fit_C2\",\"fit_C0\",\"fit_C1\",\"fit_C1\",\"fit_C1\",\"fit_C5\",\"fit_C3\",\"fit_C1\",\"fit_C1\",\"fit_C1\",\"fit_C2\",\"fit_C1\",\"fit_C1\",\"fit_C3\",\"fit_C2\",\"fit_C1\",\"fit_C3\",\"fit_C2\",\"fit_C1\",\"fit_C1\",\"fit_C1\",\"fit_C3\",\"fit_C3\",\"fit_C2\",\"fit_C0\",\"fit_C3\",\"fit_C3\",\"fit_C1\",\"fit_C2\",\"fit_C3\",\"fit_C1\",\"fit_C1\",\"fit_C2\",\"fit_C3\",\"fit_C3\",\"fit_C1\",\"fit_C1\",\"fit_C3\",\"fit_C1\",\"fit_C1\",\"fit_C0\",\"fit_C1\",\"fit_C3\",\"fit_C1\",\"fit_C3\",\"fit_C3\",\"fit_C3\",\"fit_C3\",\"fit_C2\",\"fit_C1\",\"fit_C2\",\"fit_C2\",\"fit_C1\",\"fit_C3\",\"fit_C1\",\"fit_C3\",\"fit_C1\",\"fit_C5\",\"fit_C1\",\"fit_C3\",\"fit_C1\",\"fit_C3\",\"fit_C1\",\"fit_C3\",\"fit_C1\",\"fit_C1\",\"fit_C1\",\"fit_C1\",\"fit_C2\",\"fit_C1\",\"fit_C1\",\"fit_C1\",\"fit_C1\",\"fit_C1\",\"fit_C1\",\"fit_C3\",\"fit_C1\",\"fit_C3\",\"fit_C1\",\"fit_C3\",\"fit_C1\",\"fit_C0\",\"fit_C3\",\"fit_C3\",\"fit_C1\",\"fit_C3\",\"fit_C2\",\"fit_C1\",\"fit_C0\",\"fit_C0\",\"fit_C2\",\"fit_C0\",\"fit_C1\",\"fit_C3\",\"fit_C3\",\"fit_C0\",\"fit_C0\",\"fit_C2\",\"fit_C5\",\"fit_C3\",\"fit_C1\",\"fit_C1\",\"fit_C2\",\"fit_C2\",\"fit_C1\",\"fit_C1\",\"fit_C2\",\"fit_C1\",\"fit_C3\",\"fit_C1\",\"fit_C-1\",\"fit_C2\",\"fit_C1\",\"fit_C0\",\"fit_C1\",\"fit_C1\",\"fit_C2\",\"fit_C3\",\"fit_C3\",\"fit_C0\",\"fit_C0\",\"fit_C0\",\"fit_C3\",\"fit_C2\",\"fit_C2\",\"fit_C2\",\"fit_C2\",\"fit_C2\",\"fit_C2\",\"fit_C2\",\"fit_C2\",\"fit_C2\",\"fit_C1\",\"fit_C2\",\"fit_C1\",\"fit_C0\",\"fit_C3\",\"fit_C5\",\"fit_C1\",\"fit_C3\",\"fit_C1\",\"fit_C3\",\"fit_C3\",\"fit_C1\",\"fit_C1\",\"fit_C3\",\"fit_C2\",\"fit_C3\",\"fit_C2\",\"fit_C1\",\"fit_C2\",\"fit_C3\",\"fit_C1\",\"fit_C2\",\"fit_C1\",\"fit_C2\",\"fit_C2\",\"fit_C1\",\"fit_C5\",\"fit_C2\",\"fit_C3\",\"fit_C1\",\"fit_C2\",\"fit_C3\",\"fit_C5\",\"fit_C0\",\"fit_C1\",\"fit_C2\",\"fit_C5\",\"fit_C3\",\"fit_C3\",\"fit_C1\",\"fit_C5\",\"fit_C5\",\"fit_C3\",\"fit_C3\",\"fit_C3\",\"fit_C5\",\"fit_C3\",\"fit_C1\",\"fit_C1\",\"fit_C1\",\"fit_C1\",\"fit_C2\",\"fit_C3\",\"fit_C0\",\"transform_C0\",\"transform_C0\",\"transform_C0\",\"transform_C0\",\"transform_C0\",\"transform_C0\",\"transform_C0\",\"transform_C1\",\"transform_C0\",\"transform_C0\",\"transform_C0\",\"transform_C0\",\"transform_C0\",\"transform_C0\",\"transform_C1\",\"transform_C0\",\"transform_C0\",\"transform_C0\",\"transform_C0\",\"transform_C0\",\"transform_C0\",\"transform_C0\",\"transform_C0\",\"transform_C0\",\"transform_C0\",\"transform_C0\",\"transform_C0\",\"transform_C0\",\"transform_C0\",\"transform_C0\",\"transform_C0\",\"transform_C0\",\"transform_C0\",\"transform_C0\",\"transform_C0\",\"transform_C0\",\"transform_C1\",\"transform_C0\",\"transform_C0\",\"transform_C0\",\"transform_C1\",\"transform_C0\",\"transform_C-1\",\"transform_C1\",\"transform_C0\",\"transform_C0\",\"transform_C0\",\"transform_C0\",\"transform_C0\",\"transform_C0\",\"transform_C0\",\"transform_C0\",\"transform_C1\",\"transform_C0\",\"transform_C0\",\"transform_C0\",\"transform_C0\",\"transform_C0\",\"transform_C0\",\"transform_C1\",\"transform_C0\",\"transform_C0\",\"transform_C0\",\"transform_C0\",\"transform_C0\",\"transform_C0\",\"transform_C1\",\"transform_C0\",\"transform_C0\",\"transform_C0\",\"transform_C0\",\"transform_C0\",\"transform_C0\",\"transform_C0\",\"transform_C0\",\"transform_C1\",\"transform_C0\",\"transform_C0\",\"transform_C0\",\"transform_C0\",\"transform_C0\",\"transform_C0\",\"transform_C0\",\"transform_C1\",\"transform_C0\",\"transform_C0\",\"transform_C0\",\"transform_C0\",\"transform_C0\",\"transform_C0\",\"transform_C0\",\"transform_C0\",\"transform_C0\",\"transform_C0\",\"transform_C0\",\"transform_C0\",\"transform_C0\",\"transform_C0\",\"transform_C0\",\"transform_C0\",\"transform_C0\",\"transform_C1\",\"transform_C0\",\"transform_C0\",\"transform_C0\",\"transform_C0\",\"transform_C0\",\"transform_C0\",\"transform_C0\",\"transform_C0\",\"transform_C0\",\"transform_C0\",\"transform_C0\",\"transform_C0\",\"transform_C1\",\"transform_C0\",\"transform_C0\",\"transform_C0\",\"transform_C0\",\"transform_C0\",\"transform_C0\",\"transform_C0\",\"transform_C0\",\"transform_C0\",\"transform_C0\",\"transform_C0\",\"transform_C0\",\"transform_C0\",\"transform_C0\",\"transform_C0\",\"transform_C1\",\"transform_C1\",\"transform_C0\",\"transform_C0\",\"transform_C1\",\"transform_C0\",\"transform_C0\",\"transform_C0\",\"transform_C0\",\"transform_C0\",\"transform_C0\",\"transform_C0\",\"transform_C0\",\"transform_C0\",\"transform_C1\",\"transform_C0\",\"transform_C1\",\"transform_C0\",\"transform_C0\",\"transform_C0\",\"transform_C0\",\"transform_C1\",\"transform_C0\",\"transform_C0\",\"transform_C0\",\"transform_C-1\",\"transform_C0\",\"transform_C0\",\"transform_C0\",\"transform_C0\",\"transform_C0\",\"transform_C0\",\"transform_C0\",\"transform_C0\",\"transform_C0\",\"transform_C0\",\"transform_C0\",\"transform_C0\",\"transform_C1\",\"transform_C1\",\"transform_C0\",\"transform_C0\",\"transform_C0\",\"transform_C0\",\"transform_C0\",\"transform_C0\",\"transform_C0\",\"transform_C0\",\"transform_C0\",\"transform_C0\",\"transform_C1\",\"transform_C0\",\"transform_C0\",\"transform_C0\",\"transform_C0\",\"transform_C0\",\"transform_C1\",\"transform_C0\",\"transform_C0\",\"transform_C0\",\"transform_C0\",\"transform_C0\",\"transform_C0\",\"transform_C0\",\"transform_C0\",\"transform_C0\",\"transform_C0\",\"transform_C0\",\"transform_C0\",\"transform_C0\",\"transform_C0\",\"transform_C0\",\"transform_C0\",\"transform_C0\",\"transform_C1\",\"transform_C0\",\"transform_C0\",\"transform_C0\",\"transform_C0\",\"transform_C1\",\"transform_C0\",\"transform_C0\",\"transform_C0\",\"transform_C0\",\"transform_C0\",\"transform_C1\",\"transform_C0\",\"transform_C0\",\"transform_C2\",\"transform_C1\",\"transform_C1\",\"transform_C0\",\"transform_C0\",\"transform_C0\",\"transform_C-1\",\"transform_C1\",\"transform_C1\",\"transform_C0\",\"transform_C1\",\"transform_C0\",\"transform_C0\",\"transform_C1\",\"transform_C0\",\"transform_C0\",\"transform_C1\",\"transform_C0\",\"transform_C0\",\"transform_C0\",\"transform_C0\",\"transform_C0\",\"transform_C0\",\"transform_C0\",\"transform_C0\",\"transform_C0\",\"transform_C0\",\"transform_C0\",\"transform_C0\",\"transform_C0\",\"transform_C0\",\"transform_C0\",\"transform_C0\",\"transform_C0\",\"transform_C0\",\"transform_C0\",\"transform_C0\",\"transform_C0\",\"transform_C1\",\"transform_C0\",\"transform_C0\",\"transform_C0\",\"transform_C0\",\"transform_C0\",\"transform_C0\",\"transform_C0\",\"transform_C1\",\"transform_C1\",\"transform_C0\",\"transform_C0\",\"transform_C1\",\"transform_C0\",\"transform_C0\",\"transform_C0\",\"transform_C0\",\"transform_C0\",\"transform_C1\",\"transform_C0\",\"transform_C1\",\"transform_C0\",\"transform_C0\",\"transform_C1\",\"transform_C0\",\"transform_C0\",\"transform_C0\",\"transform_C0\",\"transform_C0\",\"transform_C0\",\"transform_C0\",\"transform_C0\",\"transform_C0\",\"transform_C0\",\"transform_C3\",\"transform_C1\",\"transform_C0\",\"transform_C0\",\"transform_C0\",\"transform_C0\",\"transform_C0\",\"transform_C0\",\"transform_C0\",\"transform_C0\",\"transform_C0\",\"transform_C1\",\"transform_C0\",\"transform_C0\",\"transform_C0\",\"transform_C1\",\"transform_C1\",\"transform_C0\",\"transform_C0\",\"transform_C0\",\"transform_C1\",\"transform_C0\",\"transform_C0\",\"transform_C0\",\"transform_C0\",\"transform_C0\",\"transform_C2\",\"transform_C0\",\"transform_C1\",\"transform_C1\",\"transform_C0\",\"transform_C0\",\"transform_C0\",\"transform_C-1\",\"transform_C3\",\"transform_C0\",\"transform_C0\",\"transform_C1\",\"transform_C0\",\"transform_C0\",\"transform_C0\",\"transform_C0\",\"transform_C1\",\"transform_C0\",\"transform_C0\",\"transform_C0\",\"transform_C0\",\"transform_C0\",\"transform_C0\",\"transform_C0\",\"transform_C0\",\"transform_C1\",\"transform_C1\",\"transform_C1\",\"transform_C0\",\"transform_C1\",\"transform_C0\",\"transform_C0\",\"transform_C0\",\"transform_C1\",\"transform_C0\",\"transform_C1\",\"transform_C0\",\"transform_C0\",\"transform_C0\",\"transform_C0\",\"transform_C2\",\"transform_C0\",\"transform_C0\",\"transform_C0\",\"transform_C0\",\"transform_C0\",\"transform_C-1\",\"transform_C1\",\"transform_C0\",\"transform_C0\",\"transform_C0\",\"transform_C0\",\"transform_C0\",\"transform_C0\",\"transform_C1\",\"transform_C0\",\"transform_C0\",\"transform_C0\",\"transform_C0\",\"transform_C0\",\"transform_C1\",\"transform_C0\",\"transform_C0\",\"transform_C0\",\"transform_C0\",\"transform_C0\",\"transform_C1\",\"transform_C0\",\"transform_C1\",\"transform_C0\",\"transform_C0\",\"transform_C0\",\"transform_C0\",\"transform_C0\",\"transform_C0\",\"transform_C0\",\"transform_C0\",\"transform_C1\",\"transform_C0\",\"transform_C0\",\"transform_C0\",\"transform_C0\",\"transform_C0\",\"transform_C0\"],\"radius\":[0.1,0.1,0.1,0.1,0.1,0.1,0.1,0.1,0.1,0.1,0.1,0.1,0.1,0.1,0.1,0.1,0.1,0.1,0.1,0.1,0.1,0.1,0.1,0.1,0.1,0.1,0.1,0.1,0.1,0.1,0.1,0.1,0.1,0.1,0.1,0.1,0.1,0.1,0.1,0.1,0.1,0.1,0.1,0.1,0.1,0.1,0.1,0.1,0.1,0.1,0.1,0.1,0.1,0.1,0.1,0.1,0.1,0.1,0.1,0.1,0.1,0.1,0.1,0.1,0.1,0.1,0.1,0.1,0.1,0.1,0.1,0.1,0.1,0.1,0.1,0.1,0.1,0.1,0.1,0.1,0.1,0.1,0.1,0.1,0.1,0.1,0.1,0.1,0.1,0.1,0.1,0.1,0.1,0.1,0.1,0.1,0.1,0.1,0.1,0.1,0.1,0.1,0.1,0.1,0.1,0.1,0.1,0.1,0.1,0.1,0.1,0.1,0.1,0.1,0.1,0.1,0.1,0.1,0.1,0.1,0.1,0.1,0.1,0.1,0.1,0.1,0.1,0.1,0.1,0.1,0.1,0.1,0.1,0.1,0.1,0.1,0.1,0.1,0.1,0.1,0.1,0.1,0.1,0.1,0.1,0.1,0.1,0.1,0.1,0.1,0.1,0.1,0.1,0.1,0.1,0.1,0.1,0.1,0.1,0.1,0.1,0.1,0.1,0.1,0.1,0.1,0.1,0.1,0.1,0.1,0.1,0.1,0.1,0.1,0.1,0.1,0.1,0.1,0.1,0.1,0.1,0.1,0.1,0.1,0.1,0.1,0.1,0.1,0.1,0.1,0.1,0.1,0.1,0.1,0.1,0.1,0.1,0.1,0.1,0.1,0.1,0.1,0.1,0.1,0.1,0.1,0.1,0.1,0.1,0.1,0.1,0.1,0.1,0.1,0.1,0.1,0.1,0.1,0.1,0.1,0.1,0.1,0.1,0.1,0.1,0.1,0.1,0.1,0.1,0.1,0.1,0.1,0.1,0.1,0.1,0.1,0.1,0.1,0.1,0.1,0.1,0.1,0.1,0.1,0.1,0.1,0.1,0.1,0.1,0.1,0.1,0.1,0.1,0.1,0.1,0.1,0.1,0.1,0.1,0.1,0.1,0.1,0.1,0.1,0.1,0.1,0.1,0.1,0.1,0.1,0.1,0.1,0.1,0.1,0.1,0.1,0.1,0.1,0.1,0.1,0.1,0.1,0.1,0.1,0.1,0.1,0.1,0.1,0.1,0.1,0.1,0.1,0.1,0.1,0.1,0.1,0.1,0.1,0.1,0.1,0.1,0.1,0.1,0.1,0.1,0.1,0.1,0.1,0.1,0.1,0.1,0.1,0.1,0.1,0.1,0.1,0.1,0.1,0.1,0.1,0.1,0.1,0.1,0.1,0.1,0.1,0.1,0.1,0.1,0.1,0.1,0.1,0.1,0.1,0.1,0.1,0.1,0.1,0.1,0.1,0.1,0.1,0.1,0.1,0.1,0.1,0.1,0.1,0.1,0.1,0.1,0.1,0.1,0.1,0.1,0.1,0.1,0.1,0.1,0.1,0.1,0.1,0.1,0.1,0.1,0.1,0.1,0.1,0.1,0.1,0.1,0.1,0.1,0.1,0.1,0.1,0.1,0.1,0.1,0.1,0.1,0.1,0.1,0.1,0.1,0.1,0.1,0.1,0.1,0.1,0.1,0.1,0.1,0.1,0.1,0.1,0.1,0.1,0.1,0.1,0.1,0.1,0.1,0.1,0.1,0.1,0.1,0.1,0.1,0.1,0.1,0.1,0.1,0.1,0.1,0.1,0.1,0.1,0.1,0.1,0.1,0.1,0.1,0.1,0.1,0.1,0.1,0.1,0.1,0.1,0.1,0.1,0.1,0.1,0.1,0.1,0.1,0.1,0.1,0.1,0.1,0.1,0.1,0.1,0.1,0.1,0.1,0.1,0.1,0.1,0.1,0.1,0.1,0.1,0.1,0.1,0.1,0.1,0.1,0.1,0.1,0.1,0.1,0.1,0.1,0.1,0.1,0.1,0.1,0.1,0.1,0.1,0.1,0.1,0.1,0.1,0.1,0.1,0.1,0.1,0.1,0.1,0.1,0.1,0.1,0.1,0.1,0.1,0.1,0.1,0.1,0.1,0.1,0.1,0.1,0.1,0.1,0.1,0.1,0.1,0.1,0.1,0.1,0.1,0.1,0.1,0.1,0.1,0.1,0.1,0.1,0.1,0.1,0.1,0.1,0.1,0.1,0.1,0.1,0.1,0.1,0.1,0.1,0.1,0.1,0.1,0.1,0.1,0.1,0.1,0.1,0.1,0.1,0.1,0.1,0.1,0.1,0.1,0.1,0.1,0.1,0.1,0.1,0.1,0.1,0.1,0.1,0.1,0.1,0.1,0.1,0.1,0.1,0.1,0.1,0.1,0.1,0.1,0.1,0.1,0.1,0.1,0.1,0.1,0.1,0.1,0.1,0.1,0.1,0.1,0.1,0.1,0.1,0.1,0.1,0.1,0.1,0.1,0.1,0.1,0.1,0.1,0.1,0.1,0.1,0.1,0.1,0.1,0.1,0.1,0.1,0.1,0.1,0.1,0.1,0.1,0.1,0.1,0.1,0.1,0.1,0.1,0.1,0.1,0.1,0.1,0.1,0.1,0.1,0.1,0.1,0.1,0.1,0.1,0.1,0.1,0.1,0.1,0.1,0.1,0.1,0.1,0.1,0.1,0.1,0.1,0.1,0.1,0.1,0.1,0.1,0.1,0.1,0.1,0.1,0.1,0.1,0.1,0.1,0.1,0.1,0.1,0.1,0.1,0.1,0.1,0.1,0.1,0.1,0.1,0.1,0.1,0.1,0.1,0.1,0.1,0.1,0.1,0.1,0.1,0.1,0.1,0.1,0.1,0.1,0.1,0.1,0.1,0.1,0.1,0.1,0.1,0.1,0.1,0.1,0.1,0.1,0.1,0.1,0.1,0.1,0.1,0.1,0.1,0.1,0.1,0.1,0.1,0.1,0.1,0.1,0.1,0.1,0.1,0.1,0.1,0.1,0.1,0.1,0.1,0.1,0.1,0.1,0.1,0.1,0.1,0.1,0.1,0.1,0.1,0.1,0.1,0.1,0.1,0.1,0.1,0.1,0.1,0.1,0.1,0.1,0.1,0.1,0.1,0.1,0.1,0.1,0.1,0.1,0.1,0.1,0.1,0.1,0.1,0.1,0.1,0.1,0.1,0.1,0.1,0.1,0.1,0.1,0.1,0.1,0.1,0.1,0.1,0.1,0.1,0.1,0.1,0.1,0.1,0.1,0.1,0.1,0.1,0.1,0.1,0.1,0.1,0.1,0.1,0.1,0.1,0.1,0.1,0.1,0.1,0.1,0.1,0.1,0.1,0.1,0.1,0.1,0.1,0.1,0.1,0.1,0.1,0.1,0.1,0.1,0.1,0.1,0.1,0.1,0.1,0.1,0.1,0.1,0.1,0.1,0.1,0.1,0.1,0.1,0.1,0.05,0.05,0.05,0.05,0.05,0.05,0.05,0.05,0.05,0.05,0.05,0.05,0.05,0.05,0.05,0.05,0.05,0.05,0.05,0.05,0.05,0.05,0.05,0.05,0.05,0.05,0.05,0.05,0.05,0.05,0.05,0.05,0.05,0.05,0.05,0.05,0.05,0.05,0.05,0.05,0.05,0.05,0.05,0.05,0.05,0.05,0.05,0.05,0.05,0.05,0.05,0.05,0.05,0.05,0.05,0.05,0.05,0.05,0.05,0.05,0.05,0.05,0.05,0.05,0.05,0.05,0.05,0.05,0.05,0.05,0.05,0.05,0.05,0.05,0.05,0.05,0.05,0.05,0.05,0.05,0.05,0.05,0.05,0.05,0.05,0.05,0.05,0.05,0.05,0.05,0.05,0.05,0.05,0.05,0.05,0.05,0.05,0.05,0.05,0.05,0.05,0.05,0.05,0.05,0.05,0.05,0.05,0.05,0.05,0.05,0.05,0.05,0.05,0.05,0.05,0.05,0.05,0.05,0.05,0.05,0.05,0.05,0.05,0.05,0.05,0.05,0.05,0.05,0.05,0.05,0.05,0.05,0.05,0.05,0.05,0.05,0.05,0.05,0.05,0.05,0.05,0.05,0.05,0.05,0.05,0.05,0.05,0.05,0.05,0.05,0.05,0.05,0.05,0.05,0.05,0.05,0.05,0.05,0.05,0.05,0.05,0.05,0.05,0.05,0.05,0.05,0.05,0.05,0.05,0.05,0.05,0.05,0.05,0.05,0.05,0.05,0.05,0.05,0.05,0.05,0.05,0.05,0.05,0.05,0.05,0.05,0.05,0.05,0.05,0.05,0.05,0.05,0.05,0.05,0.05,0.05,0.05,0.05,0.05,0.05,0.05,0.05,0.05,0.05,0.05,0.05,0.05,0.05,0.05,0.05,0.05,0.05,0.05,0.05,0.05,0.05,0.05,0.05,0.05,0.05,0.05,0.05,0.05,0.05,0.05,0.05,0.05,0.05,0.05,0.05,0.05,0.05,0.05,0.05,0.05,0.05,0.05,0.05,0.05,0.05,0.05,0.05,0.05,0.05,0.05,0.05,0.05,0.05,0.05,0.05,0.05,0.05,0.05,0.05,0.05,0.05,0.05,0.05,0.05,0.05,0.05,0.05,0.05,0.05,0.05,0.05,0.05,0.05,0.05,0.05,0.05,0.05,0.05,0.05,0.05,0.05,0.05,0.05,0.05,0.05,0.05,0.05,0.05,0.05,0.05,0.05,0.05,0.05,0.05,0.05,0.05,0.05,0.05,0.05,0.05,0.05,0.05,0.05,0.05,0.05,0.05,0.05,0.05,0.05,0.05,0.05,0.05,0.05,0.05,0.05,0.05,0.05,0.05,0.05,0.05,0.05,0.05,0.05,0.05,0.05,0.05,0.05,0.05,0.05,0.05,0.05,0.05,0.05,0.05,0.05,0.05,0.05,0.05,0.05,0.05,0.05,0.05,0.05,0.05,0.05,0.05,0.05,0.05,0.05,0.05,0.05,0.05,0.05,0.05,0.05,0.05,0.05,0.05,0.05,0.05,0.05,0.05,0.05,0.05,0.05,0.05,0.05,0.05,0.05,0.05,0.05,0.05,0.05,0.05,0.05,0.05,0.05,0.05,0.05,0.05,0.05,0.05,0.05,0.05,0.05,0.05,0.05,0.05,0.05,0.05,0.05,0.05,0.05,0.05,0.05,0.05,0.05,0.05,0.05,0.05,0.05,0.05,0.05,0.05,0.05],\"x\":{\"__ndarray__\":\"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\",\"dtype\":\"float32\",\"order\":\"little\",\"shape\":[1200]},\"y\":{\"__ndarray__\":\"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\",\"dtype\":\"float32\",\"order\":\"little\",\"shape\":[1200]}},\"selected\":{\"id\":\"1519\"},\"selection_policy\":{\"id\":\"1518\"}},\"id\":\"1420\",\"type\":\"ColumnDataSource\"},{\"attributes\":{},\"id\":\"1443\",\"type\":\"WheelZoomTool\"},{\"attributes\":{\"callback\":null,\"tooltips\":[[\"(x,y)\",\"(@x, @y)\"],[\"label\",\"@labels\"]]},\"id\":\"1440\",\"type\":\"HoverTool\"},{\"attributes\":{},\"id\":\"1448\",\"type\":\"RedoTool\"},{\"attributes\":{},\"id\":\"1449\",\"type\":\"ResetTool\"},{\"attributes\":{\"axis\":{\"id\":\"1432\"},\"ticker\":null},\"id\":\"1435\",\"type\":\"Grid\"},{\"attributes\":{\"data_source\":{\"id\":\"1420\"},\"glyph\":{\"id\":\"1471\"},\"hover_glyph\":null,\"muted_glyph\":null,\"nonselection_glyph\":{\"id\":\"1472\"},\"view\":{\"id\":\"1474\"}},\"id\":\"1473\",\"type\":\"GlyphRenderer\"},{\"attributes\":{},\"id\":\"1450\",\"type\":\"SaveTool\"},{\"attributes\":{\"overlay\":{\"id\":\"1453\"}},\"id\":\"1451\",\"type\":\"BoxSelectTool\"},{\"attributes\":{},\"id\":\"1441\",\"type\":\"CrosshairTool\"},{\"attributes\":{},\"id\":\"1424\",\"type\":\"DataRange1d\"},{\"attributes\":{\"source\":{\"id\":\"1420\"}},\"id\":\"1474\",\"type\":\"CDSView\"},{\"attributes\":{},\"id\":\"1516\",\"type\":\"BasicTickFormatter\"},{\"attributes\":{},\"id\":\"1437\",\"type\":\"BasicTicker\"},{\"attributes\":{},\"id\":\"1515\",\"type\":\"AllLabels\"},{\"attributes\":{\"text\":\"SNN clusters\"},\"id\":\"1422\",\"type\":\"Title\"},{\"attributes\":{},\"id\":\"1519\",\"type\":\"Selection\"},{\"attributes\":{\"fill_alpha\":0.5,\"fill_color\":\"lightgrey\",\"level\":\"overlay\",\"line_alpha\":1.0,\"line_color\":\"black\",\"line_dash\":[4,4],\"line_width\":2,\"syncable\":false,\"xs_units\":\"screen\",\"ys_units\":\"screen\"},\"id\":\"1455\",\"type\":\"PolyAnnotation\"},{\"attributes\":{},\"id\":\"1430\",\"type\":\"LinearScale\"},{\"attributes\":{},\"id\":\"1513\",\"type\":\"BasicTickFormatter\"},{\"attributes\":{},\"id\":\"1444\",\"type\":\"ZoomInTool\"},{\"attributes\":{\"overlay\":{\"id\":\"1455\"}},\"id\":\"1452\",\"type\":\"LassoSelectTool\"},{\"attributes\":{},\"id\":\"1447\",\"type\":\"UndoTool\"},{\"attributes\":{\"axis_label\":\"UMAP1\",\"formatter\":{\"id\":\"1516\"},\"major_label_policy\":{\"id\":\"1515\"},\"ticker\":{\"id\":\"1433\"}},\"id\":\"1432\",\"type\":\"LinearAxis\"},{\"attributes\":{},\"id\":\"1433\",\"type\":\"BasicTicker\"},{\"attributes\":{\"bottom_units\":\"screen\",\"fill_alpha\":0.5,\"fill_color\":\"lightgrey\",\"left_units\":\"screen\",\"level\":\"overlay\",\"line_alpha\":1.0,\"line_color\":\"black\",\"line_dash\":[4,4],\"line_width\":2,\"right_units\":\"screen\",\"syncable\":false,\"top_units\":\"screen\"},\"id\":\"1453\",\"type\":\"BoxAnnotation\"},{\"attributes\":{\"active_multi\":null,\"tools\":[{\"id\":\"1440\"},{\"id\":\"1441\"},{\"id\":\"1442\"},{\"id\":\"1443\"},{\"id\":\"1444\"},{\"id\":\"1445\"},{\"id\":\"1446\"},{\"id\":\"1447\"},{\"id\":\"1448\"},{\"id\":\"1449\"},{\"id\":\"1450\"},{\"id\":\"1451\"},{\"id\":\"1452\"}]},\"id\":\"1456\",\"type\":\"Toolbar\"},{\"attributes\":{\"axis\":{\"id\":\"1436\"},\"dimension\":1,\"ticker\":null},\"id\":\"1439\",\"type\":\"Grid\"},{\"attributes\":{},\"id\":\"1512\",\"type\":\"AllLabels\"},{\"attributes\":{},\"id\":\"1442\",\"type\":\"PanTool\"},{\"attributes\":{\"fill_alpha\":{\"value\":0.1},\"fill_color\":{\"field\":\"fill_color\"},\"line_alpha\":{\"value\":0.1},\"line_color\":{\"field\":\"fill_color\"},\"line_width\":{\"value\":0},\"radius\":{\"field\":\"radius\"},\"x\":{\"field\":\"x\"},\"y\":{\"field\":\"y\"}},\"id\":\"1472\",\"type\":\"Circle\"},{\"attributes\":{},\"id\":\"1426\",\"type\":\"DataRange1d\"},{\"attributes\":{\"overlay\":{\"id\":\"1454\"}},\"id\":\"1446\",\"type\":\"BoxZoomTool\"},{\"attributes\":{\"axis_label\":\"UMAP2\",\"formatter\":{\"id\":\"1513\"},\"major_label_policy\":{\"id\":\"1512\"},\"ticker\":{\"id\":\"1437\"}},\"id\":\"1436\",\"type\":\"LinearAxis\"},{\"attributes\":{},\"id\":\"1445\",\"type\":\"ZoomOutTool\"},{\"attributes\":{\"fill_alpha\":{\"field\":\"fill_alpha\"},\"fill_color\":{\"field\":\"fill_color\"},\"line_color\":{\"field\":\"fill_color\"},\"line_width\":{\"value\":0},\"radius\":{\"field\":\"radius\"},\"x\":{\"field\":\"x\"},\"y\":{\"field\":\"y\"}},\"id\":\"1471\",\"type\":\"Circle\"},{\"attributes\":{\"bottom_units\":\"screen\",\"fill_alpha\":0.5,\"fill_color\":\"lightgrey\",\"left_units\":\"screen\",\"level\":\"overlay\",\"line_alpha\":1.0,\"line_color\":\"black\",\"line_dash\":[4,4],\"line_width\":2,\"right_units\":\"screen\",\"syncable\":false,\"top_units\":\"screen\"},\"id\":\"1454\",\"type\":\"BoxAnnotation\"}],\"root_ids\":[\"1421\"]},\"title\":\"Bokeh Application\",\"version\":\"2.3.3\"}};\n",
       "  var render_items = [{\"docid\":\"8ce37911-4f71-4ab9-80de-dfecbe1b5749\",\"root_ids\":[\"1421\"],\"roots\":{\"1421\":\"b2a874b0-bc79-4ecf-a2bd-e5a6adfb49c9\"}}];\n",
       "  root.Bokeh.embed.embed_items_notebook(docs_json, render_items);\n",
       "\n",
       "  }\n",
       "  if (root.Bokeh !== undefined) {\n",
       "    embed_document(root);\n",
       "  } else {\n",
       "    var attempts = 0;\n",
       "    var timer = setInterval(function(root) {\n",
       "      if (root.Bokeh !== undefined) {\n",
       "        clearInterval(timer);\n",
       "        embed_document(root);\n",
       "      } else {\n",
       "        attempts++;\n",
       "        if (attempts > 100) {\n",
       "          clearInterval(timer);\n",
       "          console.log(\"Bokeh: ERROR: Unable to run BokehJS code because BokehJS library is missing\");\n",
       "        }\n",
       "      }\n",
       "    }, 10, root)\n",
       "  }\n",
       "})(window);"
      ],
      "application/vnd.bokehjs_exec.v0+json": ""
     },
     "metadata": {
      "application/vnd.bokehjs_exec.v0+json": {
       "id": "1421"
      }
     },
     "output_type": "display_data"
    },
    {
     "name": "stdout",
     "output_type": "stream",
     "text": [
      "doing differential expression analysis on the clusters..\n",
      "running differential expression on 5 clusters\n",
      "running limmapy on the samples\n",
      "you need to have R installed with the limma library installed\n",
      "3.2.1\n"
     ]
    }
   ],
   "source": [
    "my_alligner.transform(CCLE_expression.iloc[:400], CCLE_annotation.iloc[:400])"
   ]
  },
  {
   "cell_type": "code",
   "execution_count": null,
   "metadata": {},
   "outputs": [],
   "source": [
    "my_alligner.save('temp/demo/')"
   ]
  },
  {
   "cell_type": "code",
   "execution_count": null,
   "metadata": {},
   "outputs": [],
   "source": [
    "my_alligner.plot()"
   ]
  }
 ],
 "metadata": {
  "kernelspec": {
   "display_name": "Python 3",
   "language": "python",
   "name": "python3"
  },
  "language_info": {
   "codemirror_mode": {
    "name": "ipython",
    "version": 3
   },
   "file_extension": ".py",
   "mimetype": "text/x-python",
   "name": "python",
   "nbconvert_exporter": "python",
   "pygments_lexer": "ipython3",
   "version": "3.7.3"
  },
  "latex_envs": {
   "LaTeX_envs_menu_present": true,
   "autoclose": false,
   "autocomplete": true,
   "bibliofile": "biblio.bib",
   "cite_by": "apalike",
   "current_citInitial": 1,
   "eqLabelWithNumbers": true,
   "eqNumInitial": 1,
   "hotkeys": {
    "equation": "Ctrl-E",
    "itemize": "Ctrl-I"
   },
   "labels_anchors": false,
   "latex_user_defs": false,
   "report_style_numbering": false,
   "user_envs_cfg": false
  },
  "toc": {
   "base_numbering": 1,
   "nav_menu": {},
   "number_sections": true,
   "sideBar": true,
   "skip_h1_title": false,
   "title_cell": "Table of Contents",
   "title_sidebar": "Contents",
   "toc_cell": false,
   "toc_position": {},
   "toc_section_display": true,
   "toc_window_display": false
  },
  "varInspector": {
   "cols": {
    "lenName": 16,
    "lenType": 16,
    "lenVar": 40
   },
   "kernels_config": {
    "python": {
     "delete_cmd_postfix": "",
     "delete_cmd_prefix": "del ",
     "library": "var_list.py",
     "varRefreshCmd": "print(var_dic_list())"
    },
    "r": {
     "delete_cmd_postfix": ") ",
     "delete_cmd_prefix": "rm(",
     "library": "var_list.r",
     "varRefreshCmd": "cat(var_dic_list()) "
    }
   },
   "types_to_exclude": [
    "module",
    "function",
    "builtin_function_or_method",
    "instance",
    "_Feature"
   ],
   "window_display": false
  }
 },
 "nbformat": 4,
 "nbformat_minor": 2
}
